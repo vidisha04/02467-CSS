{
 "cells": [
  {
   "cell_type": "code",
   "execution_count": 41,
   "id": "48f8cabd",
   "metadata": {},
   "outputs": [],
   "source": [
    "import pandas as pd\n",
    "import  numpy as np \n",
    "import networkx as nx \n",
    "import seaborn as sns\n",
    "from tqdm.notebook import tqdm\n",
    "import netwulf\n",
    "from networkx.readwrite import json_graph\n",
    "import json\n",
    "import matplotlib.pyplot as plt\n",
    "import seaborn as sns\n",
    "from collections import Counter"
   ]
  },
  {
   "cell_type": "code",
   "execution_count": 42,
   "id": "575c0652",
   "metadata": {},
   "outputs": [],
   "source": [
    "reviews = pd.read_csv('rotten_tomatoes_critic_reviews.csv')\n",
    "movies = pd.read_csv('rotten_tomatoes_movies.csv')"
   ]
  },
  {
   "cell_type": "code",
   "execution_count": 43,
   "id": "2ca579f4",
   "metadata": {},
   "outputs": [
    {
     "data": {
      "text/plain": [
       "Index(['rotten_tomatoes_link', 'movie_title', 'movie_info',\n",
       "       'critics_consensus', 'content_rating', 'genres', 'directors', 'authors',\n",
       "       'actors', 'original_release_date', 'streaming_release_date', 'runtime',\n",
       "       'production_company', 'tomatometer_status', 'tomatometer_rating',\n",
       "       'tomatometer_count', 'audience_status', 'audience_rating',\n",
       "       'audience_count', 'tomatometer_top_critics_count',\n",
       "       'tomatometer_fresh_critics_count', 'tomatometer_rotten_critics_count'],\n",
       "      dtype='object')"
      ]
     },
     "execution_count": 43,
     "metadata": {},
     "output_type": "execute_result"
    }
   ],
   "source": [
    "movies.columns"
   ]
  },
  {
   "cell_type": "code",
   "execution_count": 44,
   "id": "6547211c",
   "metadata": {},
   "outputs": [],
   "source": [
    "movies['original_release_date'] = pd.to_datetime(movies['original_release_date'])"
   ]
  },
  {
   "cell_type": "code",
   "execution_count": 45,
   "id": "91883832",
   "metadata": {},
   "outputs": [
    {
     "data": {
      "text/html": [
       "<div>\n",
       "<style scoped>\n",
       "    .dataframe tbody tr th:only-of-type {\n",
       "        vertical-align: middle;\n",
       "    }\n",
       "\n",
       "    .dataframe tbody tr th {\n",
       "        vertical-align: top;\n",
       "    }\n",
       "\n",
       "    .dataframe thead th {\n",
       "        text-align: right;\n",
       "    }\n",
       "</style>\n",
       "<table border=\"1\" class=\"dataframe\">\n",
       "  <thead>\n",
       "    <tr style=\"text-align: right;\">\n",
       "      <th></th>\n",
       "      <th>rotten_tomatoes_link</th>\n",
       "      <th>movie_title</th>\n",
       "      <th>movie_info</th>\n",
       "      <th>critics_consensus</th>\n",
       "      <th>content_rating</th>\n",
       "      <th>genres</th>\n",
       "      <th>directors</th>\n",
       "      <th>authors</th>\n",
       "      <th>actors</th>\n",
       "      <th>original_release_date</th>\n",
       "      <th>...</th>\n",
       "      <th>production_company</th>\n",
       "      <th>tomatometer_status</th>\n",
       "      <th>tomatometer_rating</th>\n",
       "      <th>tomatometer_count</th>\n",
       "      <th>audience_status</th>\n",
       "      <th>audience_rating</th>\n",
       "      <th>audience_count</th>\n",
       "      <th>tomatometer_top_critics_count</th>\n",
       "      <th>tomatometer_fresh_critics_count</th>\n",
       "      <th>tomatometer_rotten_critics_count</th>\n",
       "    </tr>\n",
       "  </thead>\n",
       "  <tbody>\n",
       "    <tr>\n",
       "      <th>17707</th>\n",
       "      <td>m/zoot_suit</td>\n",
       "      <td>Zoot Suit</td>\n",
       "      <td>Mexican-American gangster Henry Reyna (Daniel ...</td>\n",
       "      <td>NaN</td>\n",
       "      <td>R</td>\n",
       "      <td>Drama, Musical &amp; Performing Arts</td>\n",
       "      <td>Luis Valdez</td>\n",
       "      <td>Luis Valdez</td>\n",
       "      <td>Daniel Valdez, Edward James Olmos, Charles Aid...</td>\n",
       "      <td>1981-10-02</td>\n",
       "      <td>...</td>\n",
       "      <td>MCA Universal Home Video</td>\n",
       "      <td>Rotten</td>\n",
       "      <td>56.0</td>\n",
       "      <td>9.0</td>\n",
       "      <td>Upright</td>\n",
       "      <td>74.0</td>\n",
       "      <td>1195.0</td>\n",
       "      <td>2</td>\n",
       "      <td>5</td>\n",
       "      <td>4</td>\n",
       "    </tr>\n",
       "    <tr>\n",
       "      <th>17708</th>\n",
       "      <td>m/zootopia</td>\n",
       "      <td>Zootopia</td>\n",
       "      <td>From the largest elephant to the smallest shre...</td>\n",
       "      <td>The brilliantly well-rounded Zootopia offers a...</td>\n",
       "      <td>PG</td>\n",
       "      <td>Action &amp; Adventure, Animation, Comedy</td>\n",
       "      <td>Byron Howard, Rich Moore, Jared Bush</td>\n",
       "      <td>Jared Bush, Phil Johnston</td>\n",
       "      <td>J.K. Simmons, Kristen Bell, Octavia Spencer, A...</td>\n",
       "      <td>2016-03-04</td>\n",
       "      <td>...</td>\n",
       "      <td>Walt Disney Animation Studios</td>\n",
       "      <td>Certified-Fresh</td>\n",
       "      <td>98.0</td>\n",
       "      <td>291.0</td>\n",
       "      <td>Upright</td>\n",
       "      <td>92.0</td>\n",
       "      <td>101511.0</td>\n",
       "      <td>50</td>\n",
       "      <td>285</td>\n",
       "      <td>7</td>\n",
       "    </tr>\n",
       "    <tr>\n",
       "      <th>17709</th>\n",
       "      <td>m/zorba_the_greek</td>\n",
       "      <td>Zorba the Greek</td>\n",
       "      <td>Traveling to inspect an abandoned mine his fat...</td>\n",
       "      <td>NaN</td>\n",
       "      <td>NR</td>\n",
       "      <td>Action &amp; Adventure, Art House &amp; International,...</td>\n",
       "      <td>NaN</td>\n",
       "      <td>NaN</td>\n",
       "      <td>Anthony Quinn, Alan Bates, Irene Papas, Lila K...</td>\n",
       "      <td>1964-12-17</td>\n",
       "      <td>...</td>\n",
       "      <td>Fox</td>\n",
       "      <td>Fresh</td>\n",
       "      <td>80.0</td>\n",
       "      <td>10.0</td>\n",
       "      <td>Upright</td>\n",
       "      <td>86.0</td>\n",
       "      <td>7146.0</td>\n",
       "      <td>0</td>\n",
       "      <td>8</td>\n",
       "      <td>2</td>\n",
       "    </tr>\n",
       "    <tr>\n",
       "      <th>17710</th>\n",
       "      <td>m/zulu</td>\n",
       "      <td>Zulu</td>\n",
       "      <td>In 1879, the Zulu nation hands colonial Britis...</td>\n",
       "      <td>Zulu patiently establishes a cast of colorful ...</td>\n",
       "      <td>PG</td>\n",
       "      <td>Classics, Drama</td>\n",
       "      <td>Cy Endfield, Cyril Endfield</td>\n",
       "      <td>Cy Endfield, John Prebble</td>\n",
       "      <td>Stanley Baker, Jack Hawkins, Ulla Jacobsson, J...</td>\n",
       "      <td>1964-06-17</td>\n",
       "      <td>...</td>\n",
       "      <td>Paramount Pictures</td>\n",
       "      <td>Fresh</td>\n",
       "      <td>96.0</td>\n",
       "      <td>23.0</td>\n",
       "      <td>Upright</td>\n",
       "      <td>91.0</td>\n",
       "      <td>30193.0</td>\n",
       "      <td>6</td>\n",
       "      <td>22</td>\n",
       "      <td>1</td>\n",
       "    </tr>\n",
       "    <tr>\n",
       "      <th>17711</th>\n",
       "      <td>m/zulu_dawn</td>\n",
       "      <td>Zulu Dawn</td>\n",
       "      <td>Sir Henry Bartle Frere's (John Mills) vastly o...</td>\n",
       "      <td>NaN</td>\n",
       "      <td>PG</td>\n",
       "      <td>Action &amp; Adventure, Art House &amp; International,...</td>\n",
       "      <td>Douglas Hickox</td>\n",
       "      <td>Cy Endfield, Anthony Storey</td>\n",
       "      <td>Burt Lancaster, Peter O'Toole, Simon Ward, Joh...</td>\n",
       "      <td>1979-12-14</td>\n",
       "      <td>...</td>\n",
       "      <td>Tango Entertainment</td>\n",
       "      <td>Rotten</td>\n",
       "      <td>50.0</td>\n",
       "      <td>8.0</td>\n",
       "      <td>Upright</td>\n",
       "      <td>62.0</td>\n",
       "      <td>4469.0</td>\n",
       "      <td>0</td>\n",
       "      <td>4</td>\n",
       "      <td>4</td>\n",
       "    </tr>\n",
       "  </tbody>\n",
       "</table>\n",
       "<p>5 rows × 22 columns</p>\n",
       "</div>"
      ],
      "text/plain": [
       "      rotten_tomatoes_link      movie_title  \\\n",
       "17707          m/zoot_suit        Zoot Suit   \n",
       "17708           m/zootopia         Zootopia   \n",
       "17709    m/zorba_the_greek  Zorba the Greek   \n",
       "17710               m/zulu             Zulu   \n",
       "17711          m/zulu_dawn        Zulu Dawn   \n",
       "\n",
       "                                              movie_info  \\\n",
       "17707  Mexican-American gangster Henry Reyna (Daniel ...   \n",
       "17708  From the largest elephant to the smallest shre...   \n",
       "17709  Traveling to inspect an abandoned mine his fat...   \n",
       "17710  In 1879, the Zulu nation hands colonial Britis...   \n",
       "17711  Sir Henry Bartle Frere's (John Mills) vastly o...   \n",
       "\n",
       "                                       critics_consensus content_rating  \\\n",
       "17707                                                NaN              R   \n",
       "17708  The brilliantly well-rounded Zootopia offers a...             PG   \n",
       "17709                                                NaN             NR   \n",
       "17710  Zulu patiently establishes a cast of colorful ...             PG   \n",
       "17711                                                NaN             PG   \n",
       "\n",
       "                                                  genres  \\\n",
       "17707                   Drama, Musical & Performing Arts   \n",
       "17708              Action & Adventure, Animation, Comedy   \n",
       "17709  Action & Adventure, Art House & International,...   \n",
       "17710                                    Classics, Drama   \n",
       "17711  Action & Adventure, Art House & International,...   \n",
       "\n",
       "                                  directors                      authors  \\\n",
       "17707                           Luis Valdez                  Luis Valdez   \n",
       "17708  Byron Howard, Rich Moore, Jared Bush    Jared Bush, Phil Johnston   \n",
       "17709                                   NaN                          NaN   \n",
       "17710           Cy Endfield, Cyril Endfield    Cy Endfield, John Prebble   \n",
       "17711                        Douglas Hickox  Cy Endfield, Anthony Storey   \n",
       "\n",
       "                                                  actors  \\\n",
       "17707  Daniel Valdez, Edward James Olmos, Charles Aid...   \n",
       "17708  J.K. Simmons, Kristen Bell, Octavia Spencer, A...   \n",
       "17709  Anthony Quinn, Alan Bates, Irene Papas, Lila K...   \n",
       "17710  Stanley Baker, Jack Hawkins, Ulla Jacobsson, J...   \n",
       "17711  Burt Lancaster, Peter O'Toole, Simon Ward, Joh...   \n",
       "\n",
       "      original_release_date  ...             production_company  \\\n",
       "17707            1981-10-02  ...       MCA Universal Home Video   \n",
       "17708            2016-03-04  ...  Walt Disney Animation Studios   \n",
       "17709            1964-12-17  ...                            Fox   \n",
       "17710            1964-06-17  ...             Paramount Pictures   \n",
       "17711            1979-12-14  ...            Tango Entertainment   \n",
       "\n",
       "       tomatometer_status tomatometer_rating tomatometer_count  \\\n",
       "17707              Rotten               56.0               9.0   \n",
       "17708     Certified-Fresh               98.0             291.0   \n",
       "17709               Fresh               80.0              10.0   \n",
       "17710               Fresh               96.0              23.0   \n",
       "17711              Rotten               50.0               8.0   \n",
       "\n",
       "       audience_status  audience_rating audience_count  \\\n",
       "17707          Upright             74.0         1195.0   \n",
       "17708          Upright             92.0       101511.0   \n",
       "17709          Upright             86.0         7146.0   \n",
       "17710          Upright             91.0        30193.0   \n",
       "17711          Upright             62.0         4469.0   \n",
       "\n",
       "       tomatometer_top_critics_count  tomatometer_fresh_critics_count  \\\n",
       "17707                              2                                5   \n",
       "17708                             50                              285   \n",
       "17709                              0                                8   \n",
       "17710                              6                               22   \n",
       "17711                              0                                4   \n",
       "\n",
       "       tomatometer_rotten_critics_count  \n",
       "17707                                 4  \n",
       "17708                                 7  \n",
       "17709                                 2  \n",
       "17710                                 1  \n",
       "17711                                 4  \n",
       "\n",
       "[5 rows x 22 columns]"
      ]
     },
     "execution_count": 45,
     "metadata": {},
     "output_type": "execute_result"
    }
   ],
   "source": [
    "movies.tail(5)"
   ]
  },
  {
   "cell_type": "code",
   "execution_count": 46,
   "id": "3f40b8b3",
   "metadata": {},
   "outputs": [
    {
     "name": "stdout",
     "output_type": "stream",
     "text": [
      "Total number of movies: 17712\n",
      "Total number of reviews: 1130017\n"
     ]
    }
   ],
   "source": [
    "ds = f'Total number of movies: {len(movies)}\\nTotal number of reviews: {len(reviews)}'\n",
    "print(ds)"
   ]
  },
  {
   "cell_type": "code",
   "execution_count": 47,
   "id": "b397d45c",
   "metadata": {},
   "outputs": [],
   "source": [
    "movies['actors'] = movies['actors'].apply(lambda x: str(x).split(','))"
   ]
  },
  {
   "cell_type": "markdown",
   "id": "cb975ff2",
   "metadata": {},
   "source": [
    "### Create a new variable called gender\n",
    "This will ad a list of the genders for the actors, the genders are in the same order as the actors. We will utilize the gender guesser api to do this.  "
   ]
  },
  {
   "cell_type": "code",
   "execution_count": 48,
   "id": "3643427b",
   "metadata": {},
   "outputs": [],
   "source": [
    "import gender_guesser.detector as gender\n",
    "d = gender.Detector()"
   ]
  },
  {
   "cell_type": "code",
   "execution_count": 49,
   "id": "bdd88c64",
   "metadata": {},
   "outputs": [],
   "source": [
    "pd.options.mode.chained_assignment = None\n",
    "movies['actor_genders'] = ' '\n",
    "for idx,row in movies.iterrows():\n",
    "    \n",
    "    genders = []\n",
    "    for actor in row['actors']:\n",
    "        if actor == '' or actor == ' ':\n",
    "            continue\n",
    "        actor = actor.split(' ')\n",
    "        if actor[0] == ' ' or actor[0] == '':\n",
    "            actor_first_name = actor[1] \n",
    "        else: \n",
    "            actor_first_name = actor[0]\n",
    "        gender = d.get_gender(actor_first_name)\n",
    "        genders.append(gender)\n",
    "    \n",
    "    movies.iloc[idx,-1] = ','.join(genders)\n",
    "movies['actor_genders'] = movies['actor_genders'].apply(lambda x: x.split(','))"
   ]
  },
  {
   "cell_type": "markdown",
   "id": "c0f1430e",
   "metadata": {},
   "source": [
    "### Crate variable called male and female count "
   ]
  },
  {
   "cell_type": "code",
   "execution_count": 50,
   "id": "298990fa",
   "metadata": {},
   "outputs": [],
   "source": [
    "movies['male_count'] = movies['actor_genders'].apply(lambda x: sum([1 if g == 'male' or g == 'mostly_male' else 0 for g in x]))\n",
    "movies['female_count'] = movies['actor_genders'].apply(lambda x: sum([1 if g == 'female' or g == 'mostly_female' else 0 for g in x]))"
   ]
  },
  {
   "cell_type": "code",
   "execution_count": 51,
   "id": "07dfc4cc",
   "metadata": {},
   "outputs": [],
   "source": [
    "movies['dominant_gender'] = movies.apply(lambda x: 'male' if x['male_count'] > x['female_count'] else 'female', axis = 1)"
   ]
  },
  {
   "cell_type": "code",
   "execution_count": 53,
   "id": "b53eb034",
   "metadata": {},
   "outputs": [
    {
     "data": {
      "text/plain": [
       "<Axes: xlabel='audience_rating', ylabel='Percent'>"
      ]
     },
     "execution_count": 53,
     "metadata": {},
     "output_type": "execute_result"
    },
    {
     "data": {
      "image/png": "[encoded data removed]",
      "text/plain": [
       "<Figure size 1000x1000 with 2 Axes>"
      ]
     },
     "metadata": {},
     "output_type": "display_data"
    }
   ],
   "source": [
    "fig,ax = plt.subplots(2,1,figsize = (10,10))\n",
    "plt.tight_layout()\n",
    "sns.histplot(data = movies,\n",
    "             x = 'tomatometer_rating',\n",
    "             hue = 'dominant_gender',\n",
    "             kde=True,\n",
    "             stat ='percent',\n",
    "             ax = ax[0])\n",
    "\n",
    "sns.histplot(data = movies,\n",
    "             x = 'audience_rating',\n",
    "             hue = 'dominant_gender',\n",
    "             kde = True,\n",
    "             stat ='percent',\n",
    "             ax = ax[1])\n",
    "#fig.suptitle('Comparing audience vs. critics')"
   ]
  },
  {
   "cell_type": "markdown",
   "id": "b0302e9d",
   "metadata": {},
   "source": [
    "#### How many men and females in the data-set?\n"
   ]
  },
  {
   "cell_type": "code",
   "execution_count": 18,
   "id": "a1454d20",
   "metadata": {},
   "outputs": [
    {
     "name": "stdout",
     "output_type": "stream",
     "text": [
      "Ammount of male actors: 264733\n",
      "Ammount of female actors: 121697\n"
     ]
    }
   ],
   "source": [
    "s = f'Ammount of male actors: {movies.male_count.sum()}\\nAmmount of female actors: {movies.female_count.sum()}'\n",
    "print(s)"
   ]
  },
  {
   "cell_type": "code",
   "execution_count": null,
   "id": "37391d2e",
   "metadata": {},
   "outputs": [],
   "source": []
  },
  {
   "cell_type": "markdown",
   "id": "54ab897f",
   "metadata": {},
   "source": [
    "### Constructing the graph\n",
    "Here we will construct the graph, with each node being a movie connected by the actors. The movies will be indexed by the unique rotten tomatoes link, since some movies contains remakes, of old movies and thus they still have the same title.\n",
    "\n",
    "The weighted edgelist is created such, that the weights of the edges are equal to the size of the set of the actors shared by two movies. "
   ]
  },
  {
   "cell_type": "code",
   "execution_count": 19,
   "id": "9318a634",
   "metadata": {},
   "outputs": [],
   "source": [
    "def get_weighted_edge_list(movies_df):\n",
    "    '''\n",
    "    movies: A pandas dataframe containing the movie data-set from rotten tomatoes\n",
    "    return: returns a weighted edgelist to which can be read by networkx, each edge is\n",
    "    represented as: (Movie1,Movie2,weight) where the weight indicates how many actors appear\n",
    "    in both movies. \n",
    "    '''\n",
    "    # convert the list of actors for each movie into a set\n",
    "    movies_df['actors_set'] = movies_df['actors'].apply(set)\n",
    "    \n",
    "    # create an empty DataFrame to store the edge list\n",
    "    edge_list = []#pd.DataFrame(columns=['movie1', 'movie2', 'weight'])\n",
    "    actors = {}\n",
    "    # compare each pair of movies in the DataFrame\n",
    "    for i in tqdm(range(len(movies_df))):\n",
    "        for j in range(i + 1, len(movies_df)):\n",
    "            # find the actors that are shared between the two movies\n",
    "            shared_actors = movies_df.loc[i, 'actors_set'].intersection(movies_df.loc[j, 'actors_set'])\n",
    "            if shared_actors:\n",
    "                # create an edge between the two movies and set the weight to the number of shared actors\n",
    "                #edge_list.append()\n",
    "                edge_list.append((\n",
    "                    movies_df.loc[i, 'rotten_tomatoes_link'],\n",
    "                    movies_df.loc[j, 'rotten_tomatoes_link'],\n",
    "                    len(shared_actors)\n",
    "                ))\n",
    "                actors[(movies_df.loc[i, 'rotten_tomatoes_link'],\n",
    "                        movies_df.loc[j, 'rotten_tomatoes_link'])] = shared_actors\n",
    "                \n",
    "    return edge_list,actors"
   ]
  },
  {
   "cell_type": "code",
   "execution_count": 20,
   "id": "e3159510",
   "metadata": {
    "collapsed": true
   },
   "outputs": [
    {
     "data": {
      "application/vnd.jupyter.widget-view+json": {
       "model_id": "25d3cea01b954e9cb8d188ecd5965a34",
       "version_major": 2,
       "version_minor": 0
      },
      "text/plain": [
       "  0%|          | 0/17712 [00:00<?, ?it/s]"
      ]
     },
     "metadata": {},
     "output_type": "display_data"
    },
    {
     "ename": "KeyboardInterrupt",
     "evalue": "",
     "output_type": "error",
     "traceback": [
      "\u001b[0;31m---------------------------------------------------------------------------\u001b[0m",
      "\u001b[0;31mKeyboardInterrupt\u001b[0m                         Traceback (most recent call last)",
      "Cell \u001b[0;32mIn[20], line 1\u001b[0m\n\u001b[0;32m----> 1\u001b[0m weighted_edge_list,actors \u001b[38;5;241m=\u001b[39m \u001b[43mget_weighted_edge_list\u001b[49m\u001b[43m(\u001b[49m\u001b[43mmovies\u001b[49m\u001b[43m)\u001b[49m\n",
      "Cell \u001b[0;32mIn[19], line 18\u001b[0m, in \u001b[0;36mget_weighted_edge_list\u001b[0;34m(movies_df)\u001b[0m\n\u001b[1;32m     15\u001b[0m \u001b[38;5;28;01mfor\u001b[39;00m i \u001b[38;5;129;01min\u001b[39;00m tqdm(\u001b[38;5;28mrange\u001b[39m(\u001b[38;5;28mlen\u001b[39m(movies_df))):\n\u001b[1;32m     16\u001b[0m     \u001b[38;5;28;01mfor\u001b[39;00m j \u001b[38;5;129;01min\u001b[39;00m \u001b[38;5;28mrange\u001b[39m(i \u001b[38;5;241m+\u001b[39m \u001b[38;5;241m1\u001b[39m, \u001b[38;5;28mlen\u001b[39m(movies_df)):\n\u001b[1;32m     17\u001b[0m         \u001b[38;5;66;03m# find the actors that are shared between the two movies\u001b[39;00m\n\u001b[0;32m---> 18\u001b[0m         shared_actors \u001b[38;5;241m=\u001b[39m \u001b[43mmovies_df\u001b[49m\u001b[38;5;241;43m.\u001b[39;49m\u001b[43mloc\u001b[49m\u001b[43m[\u001b[49m\u001b[43mi\u001b[49m\u001b[43m,\u001b[49m\u001b[43m \u001b[49m\u001b[38;5;124;43m'\u001b[39;49m\u001b[38;5;124;43mactors_set\u001b[39;49m\u001b[38;5;124;43m'\u001b[39;49m\u001b[43m]\u001b[49m\u001b[38;5;241m.\u001b[39mintersection(movies_df\u001b[38;5;241m.\u001b[39mloc[j, \u001b[38;5;124m'\u001b[39m\u001b[38;5;124mactors_set\u001b[39m\u001b[38;5;124m'\u001b[39m])\n\u001b[1;32m     19\u001b[0m         \u001b[38;5;28;01mif\u001b[39;00m shared_actors:\n\u001b[1;32m     20\u001b[0m             \u001b[38;5;66;03m# create an edge between the two movies and set the weight to the number of shared actors\u001b[39;00m\n\u001b[1;32m     21\u001b[0m             \u001b[38;5;66;03m#edge_list.append()\u001b[39;00m\n\u001b[1;32m     22\u001b[0m             edge_list\u001b[38;5;241m.\u001b[39mappend((\n\u001b[1;32m     23\u001b[0m                 movies_df\u001b[38;5;241m.\u001b[39mloc[i, \u001b[38;5;124m'\u001b[39m\u001b[38;5;124mrotten_tomatoes_link\u001b[39m\u001b[38;5;124m'\u001b[39m],\n\u001b[1;32m     24\u001b[0m                 movies_df\u001b[38;5;241m.\u001b[39mloc[j, \u001b[38;5;124m'\u001b[39m\u001b[38;5;124mrotten_tomatoes_link\u001b[39m\u001b[38;5;124m'\u001b[39m],\n\u001b[1;32m     25\u001b[0m                 \u001b[38;5;28mlen\u001b[39m(shared_actors)\n\u001b[1;32m     26\u001b[0m             ))\n",
      "File \u001b[0;32m/Library/Frameworks/Python.framework/Versions/3.10/lib/python3.10/site-packages/pandas/core/indexing.py:1063\u001b[0m, in \u001b[0;36m_LocationIndexer.__getitem__\u001b[0;34m(self, key)\u001b[0m\n\u001b[1;32m   1061\u001b[0m check_deprecated_indexers(key)\n\u001b[1;32m   1062\u001b[0m \u001b[38;5;28;01mif\u001b[39;00m \u001b[38;5;28mtype\u001b[39m(key) \u001b[38;5;129;01mis\u001b[39;00m \u001b[38;5;28mtuple\u001b[39m:\n\u001b[0;32m-> 1063\u001b[0m     key \u001b[38;5;241m=\u001b[39m \u001b[38;5;28;43mtuple\u001b[39;49m\u001b[43m(\u001b[49m\u001b[38;5;28;43mlist\u001b[39;49m\u001b[43m(\u001b[49m\u001b[43mx\u001b[49m\u001b[43m)\u001b[49m\u001b[43m \u001b[49m\u001b[38;5;28;43;01mif\u001b[39;49;00m\u001b[43m \u001b[49m\u001b[43mis_iterator\u001b[49m\u001b[43m(\u001b[49m\u001b[43mx\u001b[49m\u001b[43m)\u001b[49m\u001b[43m \u001b[49m\u001b[38;5;28;43;01melse\u001b[39;49;00m\u001b[43m \u001b[49m\u001b[43mx\u001b[49m\u001b[43m \u001b[49m\u001b[38;5;28;43;01mfor\u001b[39;49;00m\u001b[43m \u001b[49m\u001b[43mx\u001b[49m\u001b[43m \u001b[49m\u001b[38;5;129;43;01min\u001b[39;49;00m\u001b[43m \u001b[49m\u001b[43mkey\u001b[49m\u001b[43m)\u001b[49m\n\u001b[1;32m   1064\u001b[0m     key \u001b[38;5;241m=\u001b[39m \u001b[38;5;28mtuple\u001b[39m(com\u001b[38;5;241m.\u001b[39mapply_if_callable(x, \u001b[38;5;28mself\u001b[39m\u001b[38;5;241m.\u001b[39mobj) \u001b[38;5;28;01mfor\u001b[39;00m x \u001b[38;5;129;01min\u001b[39;00m key)\n\u001b[1;32m   1065\u001b[0m     \u001b[38;5;28;01mif\u001b[39;00m \u001b[38;5;28mself\u001b[39m\u001b[38;5;241m.\u001b[39m_is_scalar_access(key):\n",
      "File \u001b[0;32m/Library/Frameworks/Python.framework/Versions/3.10/lib/python3.10/site-packages/pandas/core/indexing.py:1063\u001b[0m, in \u001b[0;36m<genexpr>\u001b[0;34m(.0)\u001b[0m\n\u001b[1;32m   1061\u001b[0m check_deprecated_indexers(key)\n\u001b[1;32m   1062\u001b[0m \u001b[38;5;28;01mif\u001b[39;00m \u001b[38;5;28mtype\u001b[39m(key) \u001b[38;5;129;01mis\u001b[39;00m \u001b[38;5;28mtuple\u001b[39m:\n\u001b[0;32m-> 1063\u001b[0m     key \u001b[38;5;241m=\u001b[39m \u001b[38;5;28mtuple\u001b[39m(\u001b[38;5;28mlist\u001b[39m(x) \u001b[38;5;28;01mif\u001b[39;00m is_iterator(x) \u001b[38;5;28;01melse\u001b[39;00m x \u001b[38;5;28;01mfor\u001b[39;00m x \u001b[38;5;129;01min\u001b[39;00m key)\n\u001b[1;32m   1064\u001b[0m     key \u001b[38;5;241m=\u001b[39m \u001b[38;5;28mtuple\u001b[39m(com\u001b[38;5;241m.\u001b[39mapply_if_callable(x, \u001b[38;5;28mself\u001b[39m\u001b[38;5;241m.\u001b[39mobj) \u001b[38;5;28;01mfor\u001b[39;00m x \u001b[38;5;129;01min\u001b[39;00m key)\n\u001b[1;32m   1065\u001b[0m     \u001b[38;5;28;01mif\u001b[39;00m \u001b[38;5;28mself\u001b[39m\u001b[38;5;241m.\u001b[39m_is_scalar_access(key):\n",
      "\u001b[0;31mKeyboardInterrupt\u001b[0m: "
     ]
    }
   ],
   "source": [
    "weighted_edge_list,actors = get_weighted_edge_list(movies)"
   ]
  },
  {
   "cell_type": "code",
   "execution_count": 58,
   "id": "fa980f1f",
   "metadata": {},
   "outputs": [],
   "source": [
    "G = nx.Graph()\n",
    "G.add_weighted_edges_from(weighted_edge_list)"
   ]
  },
  {
   "cell_type": "markdown",
   "id": "ca489299",
   "metadata": {},
   "source": [
    "#### Add the actors set as attributes to each edge\n",
    "As an edge attribute the set of shared actos are addded. This can prove usefull if the graph is to be inverted to the bigraph. "
   ]
  },
  {
   "cell_type": "code",
   "execution_count": 61,
   "id": "f5ab371a",
   "metadata": {},
   "outputs": [],
   "source": [
    "for mov1,mov2 in G.edges:\n",
    "    try:\n",
    "        G[mov1][mov2]['Actors'] = list(actors[(mov1,mov2)])\n",
    "    except:\n",
    "        G[mov1][mov2]['Actors'] = list(actors[(mov2,mov1)])"
   ]
  },
  {
   "cell_type": "code",
   "execution_count": 62,
   "id": "2a1efdbe",
   "metadata": {},
   "outputs": [],
   "source": [
    "data = json_graph.node_link_data(G)\n",
    "# save the data to a JSON file\n",
    "with open('graph_tomato_link.json', 'w') as f:\n",
    "    json.dump(data, f)"
   ]
  },
  {
   "cell_type": "markdown",
   "id": "439db5d5",
   "metadata": {},
   "source": [
    "### Load the graph in from a json file "
   ]
  },
  {
   "cell_type": "code",
   "execution_count": 2,
   "id": "608ff680",
   "metadata": {},
   "outputs": [
    {
     "data": {
      "text/plain": [
       "17018"
      ]
     },
     "execution_count": 2,
     "metadata": {},
     "output_type": "execute_result"
    }
   ],
   "source": [
    "with open('graph_tomato_link.json', 'r') as f:\n",
    "    data = json.load(f)\n",
    "\n",
    "G = json_graph.node_link_graph(data)\n",
    "len(G)"
   ]
  },
  {
   "cell_type": "markdown",
   "id": "1d6bc36a",
   "metadata": {},
   "source": [
    "#### Find giant connected component and use that"
   ]
  },
  {
   "cell_type": "code",
   "execution_count": 22,
   "id": "4919c25e",
   "metadata": {},
   "outputs": [
    {
     "data": {
      "text/plain": [
       "AtlasView({'m/10004352-going_the_distance': {'weight': 1, 'Actors': [' Christie Laing']}, 'm/10008849-married_life': {'weight': 1, 'Actors': [' Suzanne Ristic']}, 'm/10011582-TRON_legacy': {'weight': 2, 'Actors': [' Serinda Swan', ' Conrad Coates']}, 'm/10011815-hole': {'weight': 1, 'Actors': [' Merritt Patterson']}, 'm/10012039-lottery_ticket': {'weight': 1, 'Actors': [' Brandon T. Jackson']}, 'm/10012063-ghost_writer': {'weight': 1, 'Actors': [' Pierce Brosnan']}, 'm/10012150-high_school': {'weight': 1, 'Actors': [' Max Van Ville']}, 'm/1005199-dangerous_liaisons': {'weight': 1, 'Actors': [' Uma Thurman']}, 'm/1017641-risky_business': {'weight': 1, 'Actors': [' Joe Pantoliano']}, 'm/1018009-running_scared': {'weight': 1, 'Actors': [' Joe Pantoliano']}, 'm/1019743-squeeze': {'weight': 1, 'Actors': [' Joe Pantoliano']}, 'm/1028561-where_the_heart_is': {'weight': 1, 'Actors': [' Uma Thurman']}, 'm/1034067-switch': {'weight': 1, 'Actors': [' Catherine Keener']}, 'm/1034131-field': {'weight': 1, 'Actors': [' Sean Bean']}, 'm/1037177-deceived': {'weight': 1, 'Actors': [' Conrad Coates']}, 'm/1045706-calendar_girl': {'weight': 1, 'Actors': [' Joe Pantoliano']}, 'm/1046129-fugitive': {'weight': 1, 'Actors': [' Joe Pantoliano']}, 'm/1062483-bad_boys': {'weight': 1, 'Actors': [' Joe Pantoliano']}, 'm/1066712-to_die_for': {'weight': 1, 'Actors': [' Conrad Coates']}, 'm/1076620-anna_karenina': {'weight': 1, 'Actors': [' Sean Bean']}, 'm/1077027-batman_and_robin': {'weight': 1, 'Actors': [' Uma Thurman']}, 'm/1083326-les_miserables': {'weight': 1, 'Actors': [' Uma Thurman']}, 'm/1083436-1083436-out_of_sight': {'weight': 1, 'Actors': [' Catherine Keener']}, 'm/1083461-avengers': {'weight': 1, 'Actors': [' Uma Thurman']}, 'm/1083659-rounders': {'weight': 1, 'Actors': [' Melina Kanakaredes']}, 'm/1097242-screwed': {'weight': 1, 'Actors': [' Deejay Jackson']}, 'm/10_years': {'weight': 1, 'Actors': [' Rosario Dawson']}, 'm/1110008-sidewalks_of_new_york': {'weight': 1, 'Actors': [' Rosario Dawson']}, 'm/1110048-pornographer': {'weight': 1, 'Actors': [' Bonita Friedericy']}, 'm/1118700-adaptation': {'weight': 1, 'Actors': [' Catherine Keener']}, 'm/1119037-nicholas_nickleby': {'weight': 1, 'Actors': [' Kevin Mckidd']}, 'm/1123000-carrie': {'weight': 1, 'Actors': [' Chelan Simmons']}, 'm/1126175-house_of_the_dead': {'weight': 1, 'Actors': [' Ona Grauer']}, 'm/1127652-big_empty': {'weight': 1, 'Actors': [' Sean Bean']}, 'm/1133964-king_arthur': {'weight': 1, 'Actors': [' Ray Winstone']}, 'm/1151898-capote': {'weight': 1, 'Actors': [' Catherine Keener']}, 'm/1152276-rent': {'weight': 1, 'Actors': [' Rosario Dawson']}, 'm/1154157-big_mommas_house_2': {'weight': 1, 'Actors': [' Max Van Ville']}, 'm/1156283-doogal': {'weight': 1, 'Actors': [' Ray Winstone']}, 'm/1158195-marie_antoinette': {'weight': 1, 'Actors': [' Steve Coogan']}, 'm/1158918-sleeping_dogs_lie': {'weight': 1, 'Actors': [' Bonita Friedericy']}, 'm/1169203-invisible': {'weight': 1, 'Actors': [' Tania Saulnier']}, 'm/1189344-lovely_bones': {'weight': 1, 'Actors': [' Jake Abel']}, 'm/1194209-elegy': {'weight': 2, 'Actors': [' Julian Richings', ' Tania Saulnier']}, 'm/1198658-i_love_you_beth_cooper': {'weight': 2, 'Actors': [' Marie Avgeropoulos', ' Violet Columbus']}, 'm/1202110-tooth_fairy': {'weight': 3, 'Actors': [' Deejay Jackson', ' Brandon T. Jackson', ' Maya Washington']}, 'm/1211619-remember_me': {'weight': 1, 'Actors': [' Pierce Brosnan']}, 'm/13-2010': {'weight': 1, 'Actors': [' Ray Winstone']}, 'm/15_minutes': {'weight': 1, 'Actors': [' Melina Kanakaredes']}, 'm/20000_days_on_earth': {'weight': 1, 'Actors': [' Ray Winstone']}, 'm/2012': {'weight': 1, 'Actors': [' John Stewart']}, 'm/21_jump_street_2011': {'weight': 1, 'Actors': [' Valerie Tian']}, 'm/25th_hour': {'weight': 1, 'Actors': [' Rosario Dawson']}, 'm/40_days_and_40_nights': {'weight': 2, 'Actors': [' Stefanie von Pfetten', ' Dylan Neal']}, 'm/40_year_old_virgin': {'weight': 1, 'Actors': [' Catherine Keener']}, 'm/5050_2011': {'weight': 4, 'Actors': [\" Luisa D'Oliveira\", ' Marie Avgeropoulos', ' Sarah Smyth', ' Andrea Brooks']}, 'm/8_mile': {'weight': 1, 'Actors': [' Brandon T. Jackson']}, 'm/8mm': {'weight': 1, 'Actors': [' Catherine Keener']}, 'm/a_guide_to_recognizing_your_saints': {'weight': 1, 'Actors': [' Rosario Dawson']}, 'm/a_guy_thing': {'weight': 2, 'Actors': [' Keith Dallas', ' Deejay Jackson']}, 'm/a_late_quartet': {'weight': 1, 'Actors': [' Catherine Keener']}, 'm/a_mans_story_2011': {'weight': 1, 'Actors': [' Ray Winstone']}, 'm/a_summer_in_genoa': {'weight': 1, 'Actors': [' Catherine Keener']}, 'm/about_last_night': {'weight': 1, 'Actors': [' Catherine Keener']}, 'm/accidental_love': {'weight': 1, 'Actors': [' Catherine Keener']}, 'm/acod': {'weight': 1, 'Actors': [' Valerie Tian']}, 'm/adventures_of_baron_munchausen': {'weight': 1, 'Actors': [' Uma Thurman']}, 'm/adventures_of_pluto_nash': {'weight': 2, 'Actors': [' Rosario Dawson', ' Joe Pantoliano']}, 'm/against_the_sun': {'weight': 1, 'Actors': [' Jake Abel']}, 'm/agent_cody_banks': {'weight': 1, 'Actors': [' Deejay Jackson']}, 'm/agnes_browne': {'weight': 1, 'Actors': [' Ray Winstone']}, 'm/air-bud-golden-receiver': {'weight': 1, 'Actors': [' Suzanne Ristic']}, 'm/akeelah_and_the_bee': {'weight': 1, 'Actors': [' Bonita Friedericy']}, 'm/alexander': {'weight': 1, 'Actors': [' Rosario Dawson']}, 'm/ali': {'weight': 1, 'Actors': [' Brandon T. Jackson']}, 'm/alien_raiders': {'weight': 1, 'Actors': [' Bonita Friedericy']}, 'm/alien_trespass': {'weight': 1, 'Actors': [' Sarah Smyth']}, 'm/all_eyez_on_me_2017': {'weight': 1, 'Actors': [' Annie Ilonzeh']}, 'm/almost_friends': {'weight': 1, 'Actors': [' Jake Abel']}, 'm/alpha_2018': {'weight': 1, 'Actors': [' Natassia Malthe']}, 'm/alvin_and_the_chipmunks_chipwrecked_2011': {'weight': 1, 'Actors': [\" Luisa D'Oliveira\"]}, 'm/anon': {'weight': 1, 'Actors': [' Conrad Coates']}, 'm/another': {'weight': 1, 'Actors': [' Maria Olsen']}, 'm/any_day': {'weight': 1, 'Actors': [' Sean Bean']}, 'm/around_the_world_in_80_days': {'weight': 1, 'Actors': [' Steve Coogan']}, 'm/babys_day_out': {'weight': 1, 'Actors': [' Joe Pantoliano']}, 'm/bad_boys_for_life': {'weight': 1, 'Actors': [' Joe Pantoliano']}, 'm/bad_boys_ii': {'weight': 1, 'Actors': [' Joe Pantoliano']}, 'm/bad_santa': {'weight': 1, 'Actors': [' Max Van Ville']}, 'm/bad_times_at_the_el_royale': {'weight': 1, 'Actors': [' Sarah Smyth']}, 'm/ballad_of_jack_and_rose': {'weight': 1, 'Actors': [' Catherine Keener']}, 'm/battle_of_shaker_heights': {'weight': 1, 'Actors': [' Max Van Ville']}, 'm/baywatch_2017': {'weight': 1, 'Actors': [' Alexandra Daddario']}, 'm/be_cool': {'weight': 1, 'Actors': [' Uma Thurman']}, 'm/beautiful_girls': {'weight': 1, 'Actors': [' Uma Thurman']}, 'm/bedrooms_and_hallways': {'weight': 1, 'Actors': [' Kevin Mckidd']}, 'm/begin_again_2013': {'weight': 1, 'Actors': [' Catherine Keener']}, 'm/being_john_malkovich': {'weight': 1, 'Actors': [' Catherine Keener']}, 'm/bel_ami_2011': {'weight': 1, 'Actors': [' Uma Thurman']}, 'm/bereavement': {'weight': 1, 'Actors': [' Alexandra Daddario']}, 'm/big_mommas_like_father_like_son': {'weight': 1, 'Actors': [' Brandon T. Jackson']}, 'm/black-and-white1999': {'weight': 1, 'Actors': [' Joe Pantoliano']}, 'm/bound': {'weight': 1, 'Actors': [' Joe Pantoliano']}, 'm/bowling_for_columbine': {'weight': 1, 'Actors': [' Brandon T. Jackson']}, 'm/box_of_moonlight': {'weight': 1, 'Actors': [' Catherine Keener']}, 'm/brave_2012': {'weight': 1, 'Actors': [' Kevin Mckidd']}, 'm/breaking_and_entering': {'weight': 1, 'Actors': [' Ray Winstone']}, 'm/brothers_grimm': {'weight': 1, 'Actors': [' Uma Thurman']}, 'm/bunraku': {'weight': 1, 'Actors': [' Kevin Mckidd']}, 'm/burnt': {'weight': 1, 'Actors': [' Uma Thurman']}, 'm/burying_the_ex_2015': {'weight': 1, 'Actors': [' Alexandra Daddario']}, 'm/captain_phillips': {'weight': 1, 'Actors': [' Catherine Keener']}, 'm/case_39': {'weight': 1, 'Actors': [' Deejay Jackson']}, 'm/catchfire': {'weight': 1, 'Actors': [' Catherine Keener']}, 'm/cats_2019': {'weight': 1, 'Actors': [' Ray Winstone']}, 'm/cats_and_dogs': {'weight': 1, 'Actors': [' Joe Pantoliano']}, 'm/cats_and_dogs_the_revenge_of_kitty_galore': {'weight': 2, 'Actors': [' Keith Dallas', ' Joe Pantoliano']}, 'm/catwoman': {'weight': 1, 'Actors': [' Ona Grauer']}, 'm/cavemen_2013': {'weight': 1, 'Actors': [' Alexis Knapp']}, 'm/ceremony_2010': {'weight': 1, 'Actors': [' Uma Thurman']}, 'm/cesar_chavez_an_american_hero': {'weight': 1, 'Actors': [' Rosario Dawson']}, 'm/charlie_st_cloud': {'weight': 1, 'Actors': [' Valerie Tian']}, 'm/chelsea_walls': {'weight': 2, 'Actors': [' Rosario Dawson', ' Uma Thurman']}, 'm/christmas_with_the_kranks': {'weight': 1, 'Actors': [' Bonita Friedericy']}, 'm/chronicles_of_narnia_lion_witch_wardrobe': {'weight': 1, 'Actors': [' Ray Winstone']}, 'm/chumscrubber': {'weight': 1, 'Actors': [' Max Van Ville']}, 'm/claim': {'weight': 1, 'Actors': [' Julian Richings']}, 'm/clerks_2': {'weight': 1, 'Actors': [' Rosario Dawson']}, 'm/coffee_and_cigarettes': {'weight': 1, 'Actors': [' Steve Coogan']}, 'm/cold_mountain': {'weight': 1, 'Actors': [' Ray Winstone']}, 'm/collaborator': {'weight': 1, 'Actors': [' Julian Richings']}, 'm/come_and_find_me': {'weight': 1, 'Actors': [' Valerie Tian']}, 'm/come_to_daddy': {'weight': 1, 'Actors': [' Ona Grauer']}, 'm/congo': {'weight': 1, 'Actors': [' Joe Pantoliano']}, 'm/couples_retreat': {'weight': 1, 'Actors': [' Alexis Knapp']}, 'm/covenant': {'weight': 1, 'Actors': [' Sarah Smyth']}, 'm/creature_2011': {'weight': 1, 'Actors': [' Serinda Swan']}, 'm/critical_care': {'weight': 1, 'Actors': [' Conrad Coates']}, 'm/cube': {'weight': 1, 'Actors': [' Julian Richings']}, 'm/cyrus': {'weight': 1, 'Actors': [' Catherine Keener']}, 'm/dangerous_beauty': {'weight': 1, 'Actors': [' Melina Kanakaredes']}, 'm/dare': {'weight': 1, 'Actors': [' Matthew Garrick']}, 'm/daredevil': {'weight': 1, 'Actors': [' Joe Pantoliano']}, 'm/dark_river_2018': {'weight': 1, 'Actors': [' Sean Bean']}, 'm/day_the_earth_stood_still': {'weight': 1, 'Actors': [' Brandon T. Jackson']}, 'm/daydream_nation': {'weight': 1, 'Actors': [' Luke Camilleri']}, 'm/dcu_justice_league_the_flashpoint_paradox': {'weight': 1, 'Actors': [' Kevin Mckidd']}, 'm/dead_hooker_in_a_trunk': {'weight': 1, 'Actors': [' Loyd Bateman']}, 'm/dead_silence': {'weight': 1, 'Actors': [' Julian Richings']}, 'm/death_proof': {'weight': 1, 'Actors': [' Rosario Dawson']}, 'm/death_race_2': {'weight': 1, 'Actors': [' Sean Bean']}, 'm/death_to_smoochy': {'weight': 1, 'Actors': [' Catherine Keener']}, 'm/delovely': {'weight': 1, 'Actors': [' Kevin Mckidd']}, 'm/departed': {'weight': 1, 'Actors': [' Ray Winstone']}, 'm/despicable_me_2': {'weight': 1, 'Actors': [' Steve Coogan']}, 'm/despicable_me_3': {'weight': 1, 'Actors': [' Steve Coogan']}, 'm/detroit_rock_city': {'weight': 1, 'Actors': [' Julian Richings']}, 'm/disneynature_oceans': {'weight': 1, 'Actors': [' Pierce Brosnan']}, 'm/disturbing_behavior': {'weight': 2, 'Actors': [' Deejay Jackson', ' Natassia Malthe']}, 'm/doa_dead_or_alive': {'weight': 1, 'Actors': [' Natassia Malthe']}, 'm/dog_soldiers': {'weight': 1, 'Actors': [' Kevin Mckidd']}, 'm/dont_say_a_word': {'weight': 1, 'Actors': [' Sean Bean']}, 'm/down_a_dark_hall': {'weight': 1, 'Actors': [' Uma Thurman']}, 'm/down_to_you': {'weight': 1, 'Actors': [' Rosario Dawson']}, 'm/drillbit_taylor': {'weight': 1, 'Actors': [' Valerie Tian']}, 'm/dunston_checks_in': {'weight': 1, 'Actors': [' Joe Pantoliano']}, 'm/dying_laughing': {'weight': 1, 'Actors': [' Steve Coogan']}, 'm/eagle_eye': {'weight': 1, 'Actors': [' Rosario Dawson']}, 'm/edge_of_darkness': {'weight': 1, 'Actors': [' Ray Winstone']}, 'm/ejecta': {'weight': 1, 'Actors': [' Julian Richings']}, 'm/elektra': {'weight': 1, 'Actors': [' Natassia Malthe']}, 'm/ella_enchanted': {'weight': 1, 'Actors': [' Steve Coogan']}, 'm/eloise': {'weight': 1, 'Actors': [' Brandon T. Jackson']}, 'm/elysium_2013': {'weight': 1, 'Actors': [' Ona Grauer']}, 'm/empire_of_the_sun': {'weight': 1, 'Actors': [' Joe Pantoliano']}, 'm/enough_said_2013': {'weight': 1, 'Actors': [' Catherine Keener']}, 'm/equilibrium': {'weight': 1, 'Actors': [' Sean Bean']}, 'm/every_day_2010': {'weight': 1, 'Actors': [' Stan Carp']}, 'm/explicit_ills': {'weight': 1, 'Actors': [' Rosario Dawson']}, 'm/fantastic_four': {'weight': 1, 'Actors': [' Deejay Jackson']}, 'm/fantastic_four_2_rise_of_the_silver_surfer': {'weight': 2, 'Actors': [' Suzanne Ristic', ' Valerie Tian']}, 'm/fast_and_furious': {'weight': 1, 'Actors': [' Brandon T. Jackson']}, 'm/feast_of_the_seven_fishes': {'weight': 1, 'Actors': [' Joe Pantoliano']}, 'm/fifty_shades_darker': {'weight': 1, 'Actors': [' Dylan Neal']}, 'm/fifty_shades_of_grey': {'weight': 1, 'Actors': [' Dylan Neal']}, 'm/final_analysis': {'weight': 1, 'Actors': [' Uma Thurman']}, 'm/final_destination_2': {'weight': 1, 'Actors': [' John Stewart']}, 'm/final_destination_3': {'weight': 1, 'Actors': [' Chelan Simmons']}, 'm/final_score_2018': {'weight': 1, 'Actors': [' Pierce Brosnan']}, 'm/final_terror': {'weight': 1, 'Actors': [' Joe Pantoliano']}, 'm/finding_amanda': {'weight': 1, 'Actors': [' Steve Coogan']}, 'm/fire_with_fire_2012': {'weight': 1, 'Actors': [' Rosario Dawson']}, 'm/firewall': {'weight': 1, 'Actors': [' Ona Grauer']}, 'm/flash_of_genius': {'weight': 1, 'Actors': [' Jake Abel']}, 'm/flightplan': {'weight': 1, 'Actors': [' Sean Bean']}, 'm/fools_gold_2008': {'weight': 1, 'Actors': [' Ray Winstone']}, 'm/for_petes_sake_1974': {'weight': 1, 'Actors': [' Joe Pantoliano']}, 'm/frank_millers_sin_city_a_dame_to_kill_for': {'weight': 1, 'Actors': [' Rosario Dawson']}, 'm/friends_with_money': {'weight': 1, 'Actors': [' Catherine Keener']}, 'm/full_frontal': {'weight': 1, 'Actors': [' Catherine Keener']}, 'm/gattaca': {'weight': 1, 'Actors': [' Uma Thurman']}, 'm/get_a_job_2016': {'weight': 1, 'Actors': [' Brandon T. Jackson']}, 'm/get_out': {'weight': 1, 'Actors': [' Catherine Keener']}, 'm/gimme_shelter_2014': {'weight': 1, 'Actors': [' Rosario Dawson']}, 'm/girl_in_progress_2012': {'weight': 2, 'Actors': [' Mario Casoria', ' Richard Harmon']}, 'm/godzilla_2014': {'weight': 1, 'Actors': [' Deejay Jackson']}, 'm/goldeneye': {'weight': 1, 'Actors': [' Sean Bean']}, 'm/good_kill': {'weight': 1, 'Actors': [' Jake Abel']}, 'm/good_luck_chuck': {'weight': 1, 'Actors': [' Chelan Simmons']}, 'm/goonies': {'weight': 1, 'Actors': [' Joe Pantoliano']}, 'm/grace_unplugged': {'weight': 1, 'Actors': [' Zane Holtz']}, 'm/greed_2020': {'weight': 1, 'Actors': [' Steve Coogan']}, 'm/hall_pass': {'weight': 1, 'Actors': [' Alexandra Daddario']}, 'm/halloween_2007': {'weight': 1, 'Actors': [' Max Van Ville']}, 'm/halloween_resurrection': {'weight': 1, 'Actors': [' Natassia Malthe']}, 'm/hamlet_2': {'weight': 1, 'Actors': [' Catherine Keener']}, 'm/hannibal_rising': {'weight': 1, 'Actors': [' Kevin Mckidd']}, 'm/happy_anniversary_2018': {'weight': 1, 'Actors': [' Joe Pantoliano']}, 'm/happy_endings': {'weight': 1, 'Actors': [' Steve Coogan']}, 'm/happy_gilmore': {'weight': 1, 'Actors': [' Deejay Jackson']}, 'm/hard_core_logo': {'weight': 1, 'Actors': [' Julian Richings']}, 'm/harry_potter_and_the_prisoner_of_azkaban': {'weight': 1, 'Actors': [' Violet Columbus']}, 'm/haunted_world_of_el_superbeasto': {'weight': 1, 'Actors': [' Rosario Dawson']}, 'm/he_got_game': {'weight': 1, 'Actors': [' Rosario Dawson']}, 'm/hideous_kinky': {'weight': 1, 'Actors': [' Kevin Mckidd']}, 'm/holes': {'weight': 1, 'Actors': [' Zane Holtz']}, 'm/holmes_and_watson_2018': {'weight': 1, 'Actors': [' Steve Coogan']}, 'm/home_sweet_hell': {'weight': 1, 'Actors': [' Kevin Mckidd']}, 'm/horns': {'weight': 1, 'Actors': [' John Stewart']}, 'm/hot_fuzz': {'weight': 1, 'Actors': [' Steve Coogan']}, 'm/house_of_sand_and_fog': {'weight': 1, 'Actors': [' Bonita Friedericy']}, 'm/how_she_move': {'weight': 1, 'Actors': [' Conrad Coates']}, 'm/hugo': {'weight': 1, 'Actors': [' Ray Winstone']}, 'm/hunter_killer': {'weight': 1, 'Actors': [' Zane Holtz']}, 'm/i_am_number_four': {'weight': 1, 'Actors': [' Jake Abel']}, 'm/i_dont_know_how_she_does_it': {'weight': 1, 'Actors': [' Pierce Brosnan']}, 'm/i_spy': {'weight': 1, 'Actors': [' Keith Dallas']}, 'm/i_still_see_you': {'weight': 1, 'Actors': [' Richard Harmon']}, 'm/if_i_stay': {'weight': 1, 'Actors': [' Elisa King']}, 'm/in-the-name-of-the-king-a-dungeon-siege-tale': {'weight': 1, 'Actors': [' Tania Saulnier']}, 'm/in_the_loop': {'weight': 1, 'Actors': [' Steve Coogan']}, 'm/incredibles_2': {'weight': 1, 'Actors': [' Catherine Keener']}, 'm/indian_in_the_cupboard': {'weight': 1, 'Actors': [' Steve Coogan']}, 'm/indiana_jones_and_the_kingdom_of_the_crystal_skull': {'weight': 1, 'Actors': [' Ray Winstone']}, 'm/indignation': {'weight': 1, 'Actors': ['Logan Lerman']}, 'm/interpreter': {'weight': 1, 'Actors': [' Catherine Keener']}, 'm/into_the_wild': {'weight': 1, 'Actors': [' Catherine Keener']}, 'm/irreplaceable_you': {'weight': 1, 'Actors': [' Steve Coogan']}, 'm/jack_and_jill_vs_the_world': {'weight': 1, 'Actors': [' Julian Richings']}, 'm/janes_journey_2010': {'weight': 1, 'Actors': [' Pierce Brosnan']}, 'm/jay_and_silent_bob_reboot': {'weight': 1, 'Actors': [' Rosario Dawson']}, 'm/jennifers_body': {'weight': 1, 'Actors': [' Valerie Tian']}, 'm/jinn_2014': {'weight': 1, 'Actors': [' Serinda Swan']}, 'm/john_tucker_must_die': {'weight': 1, 'Actors': [' Chelan Simmons']}, 'm/johnny_be_good': {'weight': 1, 'Actors': [' Uma Thurman']}, 'm/johnny_suede': {'weight': 1, 'Actors': [' Catherine Keener']}, 'm/josie_and_the_pussycats': {'weight': 1, 'Actors': [' Rosario Dawson']}, 'm/juno': {'weight': 1, 'Actors': [' Valerie Tian']}, 'm/jupiter_ascending_2014': {'weight': 1, 'Actors': [' Sean Bean']}, 'm/just_getting_started': {'weight': 1, 'Actors': [' Joe Pantoliano']}, 'm/justice_league_dark_apokolips_war': {'weight': 1, 'Actors': [' Rosario Dawson']}, 'm/justice_league_throne_of_atlantis': {'weight': 1, 'Actors': [' Rosario Dawson']}, 'm/k9_pi': {'weight': 1, 'Actors': [' Deejay Jackson']}, 'm/kid_cannabis': {'weight': 1, 'Actors': [' Merritt Patterson']}, 'm/killshot': {'weight': 1, 'Actors': [' Rosario Dawson']}, 'm/king_of_thieves_2019': {'weight': 1, 'Actors': [' Ray Winstone']}, 'm/kingdom_of_heaven': {'weight': 1, 'Actors': [' Kevin Mckidd']}, 'm/kingsglaive_final_fantasy_xv_2016': {'weight': 1, 'Actors': [' Sean Bean']}, 'm/la_bamba': {'weight': 1, 'Actors': [' Joe Pantoliano']}, 'm/ladies_and_gentlemen_the_fabulous_stains': {'weight': 1, 'Actors': [' Ray Winstone']}, 'm/lake_placid': {'weight': 1, 'Actors': [' Natassia Malthe']}, 'm/larry_the_cable_guy_health_inspector': {'weight': 1, 'Actors': [' Joe Pantoliano']}, 'm/last_legion': {'weight': 1, 'Actors': [' Kevin Mckidd']}, 'm/lawnmower_man': {'weight': 1, 'Actors': [' Pierce Brosnan']}, 'm/liberty_stands_still': {'weight': 1, 'Actors': [' Keith Dallas']}, 'm/life_on_the_line_2016': {'weight': 1, 'Actors': [' Deejay Jackson']}, 'm/light_it_up': {'weight': 1, 'Actors': [' Rosario Dawson']}, 'm/little_children': {'weight': 1, 'Actors': [' Stan Carp']}, 'm/little_men_2016': {'weight': 1, 'Actors': [' Stan Carp']}, 'm/living_in_oblivion': {'weight': 1, 'Actors': [' Catherine Keener']}, 'm/lizzie_mcguire_movie': {'weight': 1, 'Actors': [' Ona Grauer']}, 'm/london-boulevard': {'weight': 1, 'Actors': [' Ray Winstone']}, 'm/long_kiss_goodnight': {'weight': 1, 'Actors': [' Melina Kanakaredes']}, 'm/look_whos_talking': {'weight': 1, 'Actors': [' Deejay Jackson']}, 'm/loosies': {'weight': 1, 'Actors': [' Joe Pantoliano']}, 'm/lost_boys_the_tribe': {'weight': 1, 'Actors': [' Sarah Smyth']}, 'm/lost_in_america_2020': {'weight': 1, 'Actors': [' Rosario Dawson']}, 'm/lost_transmissions': {'weight': 1, 'Actors': [' Alexandra Daddario']}, 'm/love_affair_1994': {'weight': 1, 'Actors': [' Pierce Brosnan']}, 'm/love_and_mercy': {'weight': 1, 'Actors': [' Jake Abel']}, 'm/love_happens': {'weight': 2, 'Actors': [' Deejay Jackson', ' Tom Pickett']}, 'm/love_in_the_time_of_money': {'weight': 1, 'Actors': [' Rosario Dawson']}, 'm/love_marilyn': {'weight': 1, 'Actors': [' Uma Thurman']}, 'm/mad_dog_and_glory': {'weight': 1, 'Actors': [' Uma Thurman']}, 'm/made_of_honor': {'weight': 1, 'Actors': [' Kevin Mckidd']}, 'm/mamma_mia': {'weight': 1, 'Actors': [' Pierce Brosnan']}, 'm/mamma_mia_here_we_go_again': {'weight': 1, 'Actors': [' Pierce Brosnan']}, 'm/manhattan_night': {'weight': 1, 'Actors': [' Stan Carp']}, 'm/marmaduke': {'weight': 2, 'Actors': [' Keith Dallas', ' Steve Coogan']}, 'm/mars_attacks': {'weight': 1, 'Actors': [' Pierce Brosnan']}, 'm/matrix': {'weight': 1, 'Actors': [' Joe Pantoliano']}, 'm/max': {'weight': 1, 'Actors': [' Kevin Mckidd']}, 'm/mean_season': {'weight': 1, 'Actors': [' Joe Pantoliano']}, 'm/meet_dave': {'weight': 1, 'Actors': [' Janine Edwards']}, 'm/memento': {'weight': 1, 'Actors': [' Joe Pantoliano']}, 'm/men_in_black_ii': {'weight': 1, 'Actors': [' Rosario Dawson']}, 'm/midnight_run': {'weight': 1, 'Actors': [' Joe Pantoliano']}, 'm/minions': {'weight': 1, 'Actors': [' Steve Coogan']}, 'm/mirror_crackd': {'weight': 1, 'Actors': [' Pierce Brosnan']}, 'm/mirror_has_two_faces': {'weight': 1, 'Actors': [' Pierce Brosnan']}, 'm/mirror_mirror_2012': {'weight': 1, 'Actors': [' Sean Bean']}, 'm/misery_loves_comedy': {'weight': 1, 'Actors': [' Steve Coogan']}, 'm/mission_impossible_ghost_protocol': {'weight': 1, 'Actors': [' Keith Dallas']}, 'm/month_by_the_lake': {'weight': 1, 'Actors': [' Uma Thurman']}, 'm/moonlight_and_valentino': {'weight': 1, 'Actors': [' Julian Richings']}, 'm/movie_43': {'weight': 1, 'Actors': [' Uma Thurman']}, 'm/mr_woodcock': {'weight': 1, 'Actors': [' Max Van Ville']}, 'm/mrs_doubtfire': {'weight': 1, 'Actors': [' Pierce Brosnan']}, 'm/national_treasure': {'weight': 1, 'Actors': [' Sean Bean']}, 'm/nausicaa_of_the_valley_of_the_wind': {'weight': 1, 'Actors': [' Uma Thurman']}, 'm/needful_things': {'weight': 1, 'Actors': [' Deejay Jackson']}, 'm/next': {'weight': 1, 'Actors': [' Bonita Friedericy']}, 'm/night_at_the_museum': {'weight': 1, 'Actors': [' Steve Coogan']}, 'm/night_at_the_museum_2': {'weight': 1, 'Actors': [' Steve Coogan']}, 'm/night_at_the_museum_secret_of_the_tomb': {'weight': 1, 'Actors': [' Steve Coogan']}, 'm/night_hunter_2019': {'weight': 1, 'Actors': [' Alexandra Daddario']}, 'm/nine_months': {'weight': 1, 'Actors': [' Violet Columbus']}, 'm/no_escape_2015': {'weight': 1, 'Actors': [' Pierce Brosnan']}, 'm/noah_2014': {'weight': 1, 'Actors': [' Ray Winstone']}, 'm/north_country': {'weight': 1, 'Actors': [' Sean Bean']}, 'm/northern_soul': {'weight': 1, 'Actors': [' Steve Coogan']}, 'm/nostalgia_2018': {'weight': 1, 'Actors': [' Catherine Keener']}, 'm/november_criminals': {'weight': 1, 'Actors': [' Catherine Keener']}, 'm/open_range': {'weight': 1, 'Actors': [' Julian Richings']}, 'm/operation_endgame': {'weight': 1, 'Actors': [' Brandon T. Jackson']}, 'm/other_guys': {'weight': 1, 'Actors': [' Steve Coogan']}, 'm/our_idiot_brother': {'weight': 1, 'Actors': [' Steve Coogan']}, 'm/paranormal_activity_3': {'weight': 1, 'Actors': [' Maria Olsen']}, 'm/patch_town_2014': {'weight': 1, 'Actors': [' Julian Richings']}, 'm/patriot_games': {'weight': 1, 'Actors': [' Sean Bean']}, 'm/paycheck': {'weight': 2, 'Actors': [' Deejay Jackson', ' Uma Thurman']}, 'm/peace_love_and_misunderstanding': {'weight': 1, 'Actors': [' Catherine Keener']}, 'm/percy_jackson_sea_of_monsters': {'weight': 4, 'Actors': [' Alexandra Daddario', ' Jake Abel', ' Brandon T. Jackson', 'Logan Lerman']}, 'm/perfect_score': {'weight': 1, 'Actors': [' Deejay Jackson']}, 'm/philomena': {'weight': 1, 'Actors': [' Steve Coogan']}, 'm/pitch_perfect': {'weight': 1, 'Actors': [' Alexis Knapp']}, 'm/pitch_perfect_2': {'weight': 1, 'Actors': [' Alexis Knapp']}, 'm/pitch_perfect_3': {'weight': 1, 'Actors': [' Alexis Knapp']}, 'm/pixels': {'weight': 1, 'Actors': [' Sean Bean']}, 'm/playing_for_keeps_2012': {'weight': 1, 'Actors': [' Uma Thurman']}, 'm/pleasure_of_your_company': {'weight': 1, 'Actors': [' Joe Pantoliano']}, 'm/point_break_2013': {'weight': 1, 'Actors': [' Ray Winstone']}, 'm/polar_2019': {'weight': 1, 'Actors': [' Julian Richings']}, 'm/producers_the_movie_musical': {'weight': 1, 'Actors': [' Uma Thurman']}, 'm/project_x_2011': {'weight': 1, 'Actors': [' Alexis Knapp']}, 'm/proposition': {'weight': 1, 'Actors': [' Ray Winstone']}, 'm/puerto_ricans_in_paris': {'weight': 1, 'Actors': [' Rosario Dawson']}, 'm/pulp_fiction': {'weight': 1, 'Actors': [' Uma Thurman']}, 'm/quadrophenia': {'weight': 1, 'Actors': [' Ray Winstone']}, 'm/quest_for_camelot': {'weight': 1, 'Actors': [' Pierce Brosnan']}, 'm/racing_stripes': {'weight': 1, 'Actors': [' Joe Pantoliano']}, 'm/ramona_and_beezus': {'weight': 1, 'Actors': [' Tom Pickett']}, 'm/rango': {'weight': 1, 'Actors': [' Ray Winstone']}, 'm/ratchet_and_clank': {'weight': 1, 'Actors': [' Rosario Dawson']}, 'm/raze_2013': {'weight': 1, 'Actors': [' Rosario Dawson']}, 'm/ready_to_rumble': {'weight': 1, 'Actors': [' Joe Pantoliano']}, 'm/red_riding_1983': {'weight': 1, 'Actors': [' Sean Bean']}, 'm/riding-the-bullet': {'weight': 1, 'Actors': [' Keith Dallas']}, 'm/ripleys_game': {'weight': 1, 'Actors': [' Ray Winstone']}, 'm/roll_bounce': {'weight': 1, 'Actors': [' Brandon T. Jackson']}, 'm/romeo_must_die': {'weight': 1, 'Actors': [' Keith Dallas']}, 'm/ronin': {'weight': 1, 'Actors': [' Sean Bean']}, 'm/ruby_sparks': {'weight': 1, 'Actors': [' Steve Coogan']}, 'm/rules_dont_apply': {'weight': 1, 'Actors': [' Steve Coogan']}, 'm/san_andreas': {'weight': 1, 'Actors': [' Alexandra Daddario']}, 'm/savages_2012': {'weight': 1, 'Actors': [' Uma Thurman']}, 'm/saw_4': {'weight': 1, 'Actors': [' Julian Richings']}, 'm/saw_ii': {'weight': 1, 'Actors': [' Conrad Coates']}, 'm/say_it_isnt_so': {'weight': 1, 'Actors': [' Keith Dallas']}, 'm/scary_movie_3': {'weight': 1, 'Actors': [' Deejay Jackson']}, 'm/scream-4': {'weight': 1, 'Actors': [' Marielle Jaffe']}, 'm/sentinel': {'weight': 1, 'Actors': [' Conrad Coates']}, 'm/septic_man_2014': {'weight': 1, 'Actors': [' Julian Richings']}, 'm/seraphim_falls': {'weight': 1, 'Actors': [' Pierce Brosnan']}, 'm/serpico': {'weight': 1, 'Actors': [' John Stewart']}, 'm/seven_pounds': {'weight': 1, 'Actors': [' Rosario Dawson']}, 'm/sex-drugs-rock-roll-2009': {'weight': 1, 'Actors': [' Ray Winstone']}, 'm/sgt-peppers-lonely-hearts-club-band': {'weight': 1, 'Actors': [' John Stewart']}, 'm/shaggy_dog': {'weight': 1, 'Actors': [' Janine Edwards']}, 'm/shattered_glass': {'weight': 1, 'Actors': [' Rosario Dawson']}, 'm/shepherds_and_butchers': {'weight': 1, 'Actors': [' Steve Coogan']}, 'm/shes_the_man': {'weight': 1, 'Actors': [' Deejay Jackson']}, 'm/shoot_em_up': {'weight': 1, 'Actors': [' Julian Richings']}, 'm/sicario_day_of_the_soldado': {'weight': 1, 'Actors': [' Catherine Keener']}, 'm/silent_hill': {'weight': 1, 'Actors': [' Sean Bean']}, 'm/silent_hill_revelation': {'weight': 1, 'Actors': [' Sean Bean']}, 'm/simone_2002': {'weight': 1, 'Actors': [' Catherine Keener']}, 'm/simpatico': {'weight': 1, 'Actors': [' Catherine Keener']}, 'm/sin_city': {'weight': 1, 'Actors': [' Rosario Dawson']}, 'm/skinwalkers': {'weight': 1, 'Actors': [' Natassia Malthe']}, 'm/sleepover': {'weight': 1, 'Actors': [' Max Van Ville']}, 'm/slither': {'weight': 2, 'Actors': [' Tania Saulnier', ' Deejay Jackson']}, 'm/snakes_on_a_plane': {'weight': 1, 'Actors': [' Keith Dallas']}, 'm/snitch_2013': {'weight': 1, 'Actors': [' Melina Kanakaredes']}, 'm/snow_white_and_the_huntsman': {'weight': 1, 'Actors': [' Ray Winstone']}, 'm/so_goes_the_nation': {'weight': 1, 'Actors': [' Joe Pantoliano']}, 'm/so_undercover': {'weight': 1, 'Actors': [' Alexis Knapp']}, 'm/soldiers_of_fortune_2012': {'weight': 1, 'Actors': [' Sean Bean']}, 'm/soloist': {'weight': 1, 'Actors': [' Catherine Keener']}, 'm/someone_great': {'weight': 1, 'Actors': [' Rosario Dawson']}, 'm/southbound': {'weight': 1, 'Actors': [' Maria Olsen']}, 'm/squanto_a_warriors_tale': {'weight': 1, 'Actors': [' Julian Richings']}, 'm/squid_and_the_whale': {'weight': 1, 'Actors': [' Alexandra Daddario']}, 'm/star_trek_beyond': {'weight': 1, 'Actors': [' Jarod Joseph']}, 'm/starry_eyes': {'weight': 1, 'Actors': [' Maria Olsen']}, 'm/stormy_monday': {'weight': 1, 'Actors': [' Sean Bean']}, 'm/strange_wilderness': {'weight': 1, 'Actors': [' Jake Abel']}, 'm/super_babies_baby_geniuses_2': {'weight': 1, 'Actors': [' Stefanie von Pfetten']}, 'm/superman_man_of_steel': {'weight': 1, 'Actors': [' Julian Richings']}, 'm/survival_of_the_dead': {'weight': 1, 'Actors': [' Julian Richings']}, 'm/survivor_2015': {'weight': 1, 'Actors': [' Pierce Brosnan']}, 'm/synecdoche_new_york': {'weight': 1, 'Actors': [' Catherine Keener']}, 'm/tales_from_the_crypt_presents_bordello_of_blood': {'weight': 1, 'Actors': [' Tom Pickett']}, 'm/tape': {'weight': 1, 'Actors': [' Uma Thurman']}, 'm/the-amateurs': {'weight': 1, 'Actors': [' Joe Pantoliano']}, 'm/the-croods': {'weight': 1, 'Actors': [' Catherine Keener']}, 'm/the_9th_life_of_louis_drax': {'weight': 1, 'Actors': [' Luke Camilleri']}, 'm/the_age_of_adaline': {'weight': 2, 'Actors': [' Deejay Jackson', ' Richard Harmon']}, 'm/the_anomaly': {'weight': 1, 'Actors': [' Alexis Knapp']}, 'm/the_baytown_outlaws': {'weight': 1, 'Actors': [' Serinda Swan']}, 'm/the_big_year': {'weight': 1, 'Actors': [' Deejay Jackson']}, 'm/the_captive_2014': {'weight': 1, 'Actors': [' Rosario Dawson']}, 'm/the_choice': {'weight': 1, 'Actors': [' Alexandra Daddario']}, 'm/the_death_of_superman': {'weight': 1, 'Actors': [' Rosario Dawson']}, 'm/the_death_of_superman_reign_of_the_supermen_double_feature': {'weight': 1, 'Actors': [' Rosario Dawson']}, 'm/the_dinner_2017': {'weight': 1, 'Actors': [' Steve Coogan']}, 'm/the_foreigner_2017': {'weight': 1, 'Actors': [' Pierce Brosnan']}, 'm/the_gunman_2015': {'weight': 1, 'Actors': [' Ray Winstone']}, 'm/the_host_2013': {'weight': 1, 'Actors': [' Jake Abel']}, 'm/the_house_that_jack_built_2018': {'weight': 1, 'Actors': [' Uma Thurman']}, 'm/the_identical': {'weight': 1, 'Actors': [' Joe Pantoliano']}, 'm/the_imaginarium_of_doctor_parnassus': {'weight': 1, 'Actors': [' John Stewart']}, 'm/the_layover': {'weight': 1, 'Actors': [' Alexandra Daddario']}, 'm/the_lego_batman_movie': {'weight': 1, 'Actors': [' Rosario Dawson']}, 'm/the_long_good_friday': {'weight': 1, 'Actors': [' Pierce Brosnan']}, 'm/the_lord_of_the_rings_the_fellowship_of_the_ring': {'weight': 1, 'Actors': [' Sean Bean']}, 'm/the_lord_of_the_rings_the_return_of_the_king': {'weight': 1, 'Actors': [' Sean Bean']}, 'm/the_lords_of_salem': {'weight': 1, 'Actors': [' Bonita Friedericy']}, 'm/the_martian': {'weight': 1, 'Actors': [' Sean Bean']}, 'm/the_moth_diaries': {'weight': 1, 'Actors': [' Valerie Tian']}, 'm/the_oranges_2011': {'weight': 1, 'Actors': [' Catherine Keener']}, 'm/the_perfect_match_2016': {'weight': 1, 'Actors': [' Joe Pantoliano']}, 'm/the_perks_of_being_a_wallflower': {'weight': 2, 'Actors': [' Zane Holtz', 'Logan Lerman']}, 'm/the_real_blonde': {'weight': 1, 'Actors': [' Catherine Keener']}, 'm/the_red_violin': {'weight': 1, 'Actors': [' Julian Richings']}, 'm/the_rundown': {'weight': 1, 'Actors': [' Rosario Dawson']}, 'm/the_secret_life_of_pets': {'weight': 1, 'Actors': [' Steve Coogan']}, 'm/the_three_musketeers_2011': {'weight': 1, 'Actors': ['Logan Lerman']}, 'm/the_traveler_2010': {'weight': 1, 'Actors': [' Dylan Neal']}, 'm/the_vanishing_of_sidney_hall': {'weight': 1, 'Actors': ['Logan Lerman']}, 'm/the_very_thought_of_you': {'weight': 1, 'Actors': [' Ray Winstone']}, 'm/the_wannabe': {'weight': 1, 'Actors': [' Stan Carp']}, 'm/the_wicker_man_2006': {'weight': 1, 'Actors': [' Tania Saulnier']}, 'm/the_witch_2016': {'weight': 1, 'Actors': [' Julian Richings']}, 'm/the_young_messiah': {'weight': 1, 'Actors': [' Sean Bean']}, 'm/this_christmas': {'weight': 1, 'Actors': [' Brandon T. Jackson']}, 'm/this_girls_life': {'weight': 1, 'Actors': [' Rosario Dawson']}, 'm/this_means_war': {'weight': 3, 'Actors': [' John Stewart', ' Natassia Malthe', ' Conrad Coates']}, 'm/thomas_crown_affair_the': {'weight': 1, 'Actors': [' Pierce Brosnan']}, 'm/three_of_hearts': {'weight': 1, 'Actors': [' Joe Pantoliano']}, 'm/thunderstruck_2012': {'weight': 1, 'Actors': [' Brandon T. Jackson']}, 'm/tinkerbell_and_the_legend_of_the_neverbeast': {'weight': 1, 'Actors': [' Rosario Dawson']}, 'm/tomorrow_youre_gone': {'weight': 1, 'Actors': [' Ray Winstone']}, 'm/top_five': {'weight': 1, 'Actors': [' Rosario Dawson']}, 'm/toy_story_that_time_forgot': {'weight': 1, 'Actors': [' Kevin Mckidd']}, 'm/tracers': {'weight': 1, 'Actors': [' Marie Avgeropoulos']}, 'm/trainspotting': {'weight': 1, 'Actors': [' Kevin Mckidd']}, 'm/trance_2013': {'weight': 1, 'Actors': [' Rosario Dawson']}, 'm/tropic_thunder': {'weight': 2, 'Actors': [' Steve Coogan', ' Brandon T. Jackson']}, 'm/troy': {'weight': 1, 'Actors': [' Sean Bean']}, 'm/trust_2010': {'weight': 1, 'Actors': [' Catherine Keener']}, 'm/truth_about_cats_and_dogs': {'weight': 1, 'Actors': [' Uma Thurman']}, 'm/tucker_and_dale_vs_evil': {'weight': 2, 'Actors': [' Christie Laing', ' Chelan Simmons']}, 'm/tulip_fever': {'weight': 1, 'Actors': [' Kevin Mckidd']}, 'm/unbroken_path_to_redemption': {'weight': 1, 'Actors': [' Merritt Patterson']}, 'm/underclassman': {'weight': 1, 'Actors': [' Keith Dallas']}, 'm/unfinished_life': {'weight': 1, 'Actors': [' Rob Hayter']}, 'm/unforgettable_2017': {'weight': 1, 'Actors': [' Rosario Dawson']}, 'm/unstoppable-2010': {'weight': 1, 'Actors': [' Rosario Dawson']}, 'm/untitled': {'weight': 1, 'Actors': [' Stan Carp']}, 'm/urban_legend': {'weight': 1, 'Actors': [' Julian Richings']}, 'm/urge': {'weight': 1, 'Actors': [' Alexis Knapp']}, 'm/us_marshals': {'weight': 1, 'Actors': [' Joe Pantoliano']}, 'm/used_people': {'weight': 1, 'Actors': [' Joe Pantoliano']}, 'm/valentine': {'weight': 1, 'Actors': [' G. Patrick Currie']}, 'm/vampires_suck': {'weight': 1, 'Actors': [' Zane Holtz']}, 'm/vatel': {'weight': 1, 'Actors': [' Uma Thurman']}, 'm/vikingdom': {'weight': 1, 'Actors': [' Natassia Malthe']}, 'm/walking_tall': {'weight': 1, 'Actors': [' John Stewart']}, 'm/war_dogs_2016': {'weight': 1, 'Actors': [' Rosario Dawson']}, 'm/war_requiem': {'weight': 1, 'Actors': [' Sean Bean']}, 'm/whaledreamers': {'weight': 1, 'Actors': [' Pierce Brosnan']}, 'm/what_just_happened': {'weight': 1, 'Actors': [' Catherine Keener']}, 'm/what_maisie_knew_2012': {'weight': 1, 'Actors': [' Steve Coogan']}, 'm/when_we_first_met': {'weight': 1, 'Actors': [' Alexandra Daddario']}, 'm/where_the_wild_things_are': {'weight': 1, 'Actors': [' Catherine Keener']}, 'm/white_noise': {'weight': 1, 'Actors': [' Suzanne Ristic']}, 'm/wind_chill': {'weight': 1, 'Actors': [' Chelan Simmons']}, 'm/wolves': {'weight': 1, 'Actors': [' Merritt Patterson']}, 'm/wonder_woman_2009': {'weight': 1, 'Actors': [' Rosario Dawson']}, 'm/wonder_woman_bloodlines': {'weight': 1, 'Actors': [' Rosario Dawson']}, 'm/words_and_pictures': {'weight': 1, 'Actors': [' Valerie Tian']}, 'm/wrong_turn': {'weight': 1, 'Actors': [' Julian Richings']}, 'm/wrong_turn_2': {'weight': 1, 'Actors': [' John Stewart']}, 'm/x_men_3_the_last_stand': {'weight': 1, 'Actors': [' Julian Richings']}, 'm/x_men_apocalypse': {'weight': 1, 'Actors': [' Conrad Coates']}, 'm/your_friends_and_neighbors': {'weight': 1, 'Actors': [' Catherine Keener']}, 'm/zandalee': {'weight': 1, 'Actors': [' Joe Pantoliano']}, 'm/zipper': {'weight': 1, 'Actors': [' Ray Winstone']}, 'm/zombieland_double_tap': {'weight': 1, 'Actors': [' Rosario Dawson']}, 'm/zookeeper': {'weight': 1, 'Actors': [' Rosario Dawson']}})"
      ]
     },
     "execution_count": 22,
     "metadata": {},
     "output_type": "execute_result"
    }
   ],
   "source": [
    "G['m/0814255']"
   ]
  },
  {
   "cell_type": "code",
   "execution_count": 23,
   "id": "41406e37",
   "metadata": {},
   "outputs": [
    {
     "data": {
      "text/html": [
       "<div>\n",
       "<style scoped>\n",
       "    .dataframe tbody tr th:only-of-type {\n",
       "        vertical-align: middle;\n",
       "    }\n",
       "\n",
       "    .dataframe tbody tr th {\n",
       "        vertical-align: top;\n",
       "    }\n",
       "\n",
       "    .dataframe thead th {\n",
       "        text-align: right;\n",
       "    }\n",
       "</style>\n",
       "<table border=\"1\" class=\"dataframe\">\n",
       "  <thead>\n",
       "    <tr style=\"text-align: right;\">\n",
       "      <th></th>\n",
       "      <th>rotten_tomatoes_link</th>\n",
       "      <th>movie_title</th>\n",
       "      <th>movie_info</th>\n",
       "      <th>critics_consensus</th>\n",
       "      <th>content_rating</th>\n",
       "      <th>genres</th>\n",
       "      <th>directors</th>\n",
       "      <th>authors</th>\n",
       "      <th>actors</th>\n",
       "      <th>original_release_date</th>\n",
       "      <th>...</th>\n",
       "      <th>audience_rating</th>\n",
       "      <th>audience_count</th>\n",
       "      <th>tomatometer_top_critics_count</th>\n",
       "      <th>tomatometer_fresh_critics_count</th>\n",
       "      <th>tomatometer_rotten_critics_count</th>\n",
       "      <th>actor_genders</th>\n",
       "      <th>male_count</th>\n",
       "      <th>female_count</th>\n",
       "      <th>dominant_gender</th>\n",
       "      <th>actors_set</th>\n",
       "    </tr>\n",
       "  </thead>\n",
       "  <tbody>\n",
       "    <tr>\n",
       "      <th>0</th>\n",
       "      <td>m/0814255</td>\n",
       "      <td>Percy Jackson &amp; the Olympians: The Lightning T...</td>\n",
       "      <td>Always trouble-prone, the life of teenager Per...</td>\n",
       "      <td>Though it may seem like just another Harry Pot...</td>\n",
       "      <td>PG</td>\n",
       "      <td>Action &amp; Adventure, Comedy, Drama, Science Fic...</td>\n",
       "      <td>Chris Columbus</td>\n",
       "      <td>Craig Titley, Chris Columbus, Rick Riordan</td>\n",
       "      <td>[Logan Lerman,  Brandon T. Jackson,  Alexandra...</td>\n",
       "      <td>2010-02-12</td>\n",
       "      <td>...</td>\n",
       "      <td>53.0</td>\n",
       "      <td>254421.0</td>\n",
       "      <td>43</td>\n",
       "      <td>73</td>\n",
       "      <td>76</td>\n",
       "      <td>[mostly_male, male, female, male, male, male, ...</td>\n",
       "      <td>42</td>\n",
       "      <td>37</td>\n",
       "      <td>male</td>\n",
       "      <td>{ Elisa King,  Jade Pawluk,  David L. Smith,  ...</td>\n",
       "    </tr>\n",
       "    <tr>\n",
       "      <th>1</th>\n",
       "      <td>m/0878835</td>\n",
       "      <td>Please Give</td>\n",
       "      <td>Kate (Catherine Keener) and her husband Alex (...</td>\n",
       "      <td>Nicole Holofcener's newest might seem slight i...</td>\n",
       "      <td>R</td>\n",
       "      <td>Comedy</td>\n",
       "      <td>Nicole Holofcener</td>\n",
       "      <td>Nicole Holofcener</td>\n",
       "      <td>[Catherine Keener,  Amanda Peet,  Oliver Platt...</td>\n",
       "      <td>2010-04-30</td>\n",
       "      <td>...</td>\n",
       "      <td>64.0</td>\n",
       "      <td>11574.0</td>\n",
       "      <td>44</td>\n",
       "      <td>123</td>\n",
       "      <td>19</td>\n",
       "      <td>[female, female, male, female, female, female,...</td>\n",
       "      <td>2</td>\n",
       "      <td>6</td>\n",
       "      <td>female</td>\n",
       "      <td>{Catherine Keener,  Ann Morgan Guilbert,  Oliv...</td>\n",
       "    </tr>\n",
       "    <tr>\n",
       "      <th>2</th>\n",
       "      <td>m/10</td>\n",
       "      <td>10</td>\n",
       "      <td>A successful, middle-aged Hollywood songwriter...</td>\n",
       "      <td>Blake Edwards' bawdy comedy may not score a pe...</td>\n",
       "      <td>R</td>\n",
       "      <td>Comedy, Romance</td>\n",
       "      <td>Blake Edwards</td>\n",
       "      <td>Blake Edwards</td>\n",
       "      <td>[Dudley Moore,  Bo Derek,  Julie Andrews,  Rob...</td>\n",
       "      <td>1979-10-05</td>\n",
       "      <td>...</td>\n",
       "      <td>53.0</td>\n",
       "      <td>14684.0</td>\n",
       "      <td>2</td>\n",
       "      <td>16</td>\n",
       "      <td>8</td>\n",
       "      <td>[male, male, female, male, mostly_female, most...</td>\n",
       "      <td>22</td>\n",
       "      <td>19</td>\n",
       "      <td>male</td>\n",
       "      <td>{ Dee Wallace,  Owen Sullivan,  Deborah Rush, ...</td>\n",
       "    </tr>\n",
       "  </tbody>\n",
       "</table>\n",
       "<p>3 rows × 27 columns</p>\n",
       "</div>"
      ],
      "text/plain": [
       "  rotten_tomatoes_link                                        movie_title  \\\n",
       "0            m/0814255  Percy Jackson & the Olympians: The Lightning T...   \n",
       "1            m/0878835                                        Please Give   \n",
       "2                 m/10                                                 10   \n",
       "\n",
       "                                          movie_info  \\\n",
       "0  Always trouble-prone, the life of teenager Per...   \n",
       "1  Kate (Catherine Keener) and her husband Alex (...   \n",
       "2  A successful, middle-aged Hollywood songwriter...   \n",
       "\n",
       "                                   critics_consensus content_rating  \\\n",
       "0  Though it may seem like just another Harry Pot...             PG   \n",
       "1  Nicole Holofcener's newest might seem slight i...              R   \n",
       "2  Blake Edwards' bawdy comedy may not score a pe...              R   \n",
       "\n",
       "                                              genres          directors  \\\n",
       "0  Action & Adventure, Comedy, Drama, Science Fic...     Chris Columbus   \n",
       "1                                             Comedy  Nicole Holofcener   \n",
       "2                                    Comedy, Romance      Blake Edwards   \n",
       "\n",
       "                                      authors  \\\n",
       "0  Craig Titley, Chris Columbus, Rick Riordan   \n",
       "1                           Nicole Holofcener   \n",
       "2                               Blake Edwards   \n",
       "\n",
       "                                              actors original_release_date  \\\n",
       "0  [Logan Lerman,  Brandon T. Jackson,  Alexandra...            2010-02-12   \n",
       "1  [Catherine Keener,  Amanda Peet,  Oliver Platt...            2010-04-30   \n",
       "2  [Dudley Moore,  Bo Derek,  Julie Andrews,  Rob...            1979-10-05   \n",
       "\n",
       "   ... audience_rating  audience_count tomatometer_top_critics_count  \\\n",
       "0  ...            53.0        254421.0                            43   \n",
       "1  ...            64.0         11574.0                            44   \n",
       "2  ...            53.0         14684.0                             2   \n",
       "\n",
       "  tomatometer_fresh_critics_count  tomatometer_rotten_critics_count  \\\n",
       "0                              73                                76   \n",
       "1                             123                                19   \n",
       "2                              16                                 8   \n",
       "\n",
       "                                       actor_genders male_count  female_count  \\\n",
       "0  [mostly_male, male, female, male, male, male, ...         42            37   \n",
       "1  [female, female, male, female, female, female,...          2             6   \n",
       "2  [male, male, female, male, mostly_female, most...         22            19   \n",
       "\n",
       "   dominant_gender                                         actors_set  \n",
       "0             male  { Elisa King,  Jade Pawluk,  David L. Smith,  ...  \n",
       "1           female  {Catherine Keener,  Ann Morgan Guilbert,  Oliv...  \n",
       "2             male  { Dee Wallace,  Owen Sullivan,  Deborah Rush, ...  \n",
       "\n",
       "[3 rows x 27 columns]"
      ]
     },
     "execution_count": 23,
     "metadata": {},
     "output_type": "execute_result"
    }
   ],
   "source": [
    "movies.head(3)"
   ]
  },
  {
   "cell_type": "code",
   "execution_count": 26,
   "id": "dfa0276d",
   "metadata": {},
   "outputs": [],
   "source": [
    "movies = movies.set_index('rotten_tomatoes_link')"
   ]
  },
  {
   "cell_type": "code",
   "execution_count": 44,
   "id": "6d5c3a93",
   "metadata": {},
   "outputs": [],
   "source": [
    "# loop through each node in the graph\n",
    "remove = []\n",
    "for node in G.nodes():\n",
    "    # get the corresponding data from the dataframe\n",
    "    data = movies.loc[node, 'original_release_date']\n",
    "    if str(type(data)) == \"<class 'pandas.core.series.Series'>\": \n",
    "        data = data[0]\n",
    "    # check if the data is above the year 2005\n",
    "    if data.year > 1980:\n",
    "        # if it is, keep the node in the graph\n",
    "        continue\n",
    "    else:\n",
    "        # if it is not, remove the node from the graph\n",
    "        remove.append(node)\n",
    "\n",
    "G.remove_nodes_from(remove)"
   ]
  },
  {
   "cell_type": "code",
   "execution_count": 212,
   "id": "6a9c5ac4",
   "metadata": {},
   "outputs": [],
   "source": [
    "s = max(nx.connected_components(G), key=len)\n",
    "G = G.subgraph(s)"
   ]
  },
  {
   "cell_type": "code",
   "execution_count": 323,
   "id": "a6b9e3fa",
   "metadata": {},
   "outputs": [
    {
     "data": {
      "text/plain": [
       "(13511, 1006428)"
      ]
     },
     "execution_count": 323,
     "metadata": {},
     "output_type": "execute_result"
    }
   ],
   "source": [
    "len(G),G.number_of_edges()"
   ]
  },
  {
   "cell_type": "markdown",
   "id": "c3307e03",
   "metadata": {},
   "source": [
    "### Vizualise with netwulf"
   ]
  },
  {
   "cell_type": "code",
   "execution_count": 187,
   "id": "8f87412d",
   "metadata": {},
   "outputs": [
    {
     "data": {
      "text/plain": [
       "(None, None)"
      ]
     },
     "execution_count": 187,
     "metadata": {},
     "output_type": "execute_result"
    }
   ],
   "source": [
    "# visualize the graph using netwulf\n",
    "netwulf.visualize(G)"
   ]
  },
  {
   "cell_type": "markdown",
   "id": "8eb6871f",
   "metadata": {},
   "source": [
    "## Add the gender of the actors to as node attributes"
   ]
  },
  {
   "cell_type": "code",
   "execution_count": 45,
   "id": "1888f25b",
   "metadata": {},
   "outputs": [],
   "source": [
    "for idx,edge in enumerate(G.edges()):\n",
    "    \n",
    "    actors = G[edge[0]][edge[1]]['Actors']\n",
    "    genders = []\n",
    "    for actor in actors:\n",
    "        if actor == '' or actor == ' ':\n",
    "            continue\n",
    "        actor = actor.split(' ')\n",
    "        if actor[0] == ' ' or actor[0] == '':\n",
    "            actor_first_name = actor[1] \n",
    "        else: \n",
    "            actor_first_name = actor[0]\n",
    "        gender = d.get_gender(actor_first_name)\n",
    "        genders.append(gender)\n",
    "    \n",
    "    G[edge[0]][edge[1]]['actor_genders'] = genders"
   ]
  },
  {
   "cell_type": "markdown",
   "id": "7b0cdcbc",
   "metadata": {},
   "source": [
    "### Check that the atributes has been set correctly"
   ]
  },
  {
   "cell_type": "code",
   "execution_count": 46,
   "id": "34efc197",
   "metadata": {},
   "outputs": [
    {
     "name": "stdout",
     "output_type": "stream",
     "text": [
      "0\n",
      "('m/0814255', 'm/10004352-going_the_distance')\n",
      "{'weight': 1, 'Actors': [' Christie Laing'], 'actor_genders': ['mostly_female']}\n",
      "1\n",
      "('m/0814255', 'm/10008849-married_life')\n",
      "{'weight': 1, 'Actors': [' Suzanne Ristic'], 'actor_genders': ['female']}\n",
      "2\n",
      "('m/0814255', 'm/10011582-TRON_legacy')\n",
      "{'weight': 2, 'Actors': [' Serinda Swan', ' Conrad Coates'], 'actor_genders': ['unknown', 'male']}\n",
      "3\n",
      "('m/0814255', 'm/10011815-hole')\n",
      "{'weight': 1, 'Actors': [' Merritt Patterson'], 'actor_genders': ['male']}\n",
      "4\n",
      "('m/0814255', 'm/10012039-lottery_ticket')\n",
      "{'weight': 1, 'Actors': [' Brandon T. Jackson'], 'actor_genders': ['male']}\n"
     ]
    }
   ],
   "source": [
    "for i,edge in enumerate(G.edges()):\n",
    "    print(i)\n",
    "    print(edge)\n",
    "    print(G[edge[0]][edge[1]])\n",
    "    if i > 3: \n",
    "        break"
   ]
  },
  {
   "cell_type": "markdown",
   "id": "952aea31",
   "metadata": {},
   "source": [
    "### Set a node atribute for director gender and most common actor gender"
   ]
  },
  {
   "cell_type": "code",
   "execution_count": 47,
   "id": "c487f192",
   "metadata": {},
   "outputs": [],
   "source": [
    "def is_pd_series(x):\n",
    "    if str(type(x)) == \"<class 'pandas.core.series.Series'>\":\n",
    "        return True\n",
    "    else:\n",
    "        return False"
   ]
  },
  {
   "cell_type": "markdown",
   "id": "617b1f29",
   "metadata": {},
   "source": [
    "#### Creating a dictionary containing the attributes \n",
    "Now a dictionary of dictionaries will be created containing the attributes, that is to be set on the nodes. \n",
    "\n",
    "The following attributes will be added to the nodes: \n",
    "- Movie title \n",
    "- Tomato meter rating\n",
    "- Audience rating \n",
    "- Genders \n",
    "- Genres\n",
    "-  Production companies\n",
    "- Content rating\n"
   ]
  },
  {
   "cell_type": "code",
   "execution_count": 48,
   "id": "efe060cf",
   "metadata": {},
   "outputs": [],
   "source": [
    "att = {}\n",
    "Nan_directors = []\n",
    "most_freq = lambda List: max(set(List), key = List.count)\n",
    "for node in G.nodes():\n",
    "    \n",
    "    #Extract the relevant collumns\n",
    "    title = movies.loc[node]['movie_title']\n",
    "    tomato_rating = movies.loc[node]['tomatometer_rating']\n",
    "    audience_rating = movies.loc[node]['audience_rating']\n",
    "    genders = movies.loc[node]['actor_genders']\n",
    "    genres =  movies.loc[node]['genres']\n",
    "    production_company = movies.loc[node]['production_company']\n",
    "    content_rating = movies.loc[node]['content_rating']\n",
    "    directors = [movies.loc[node]['directors']]\n",
    "    original_release_date = movies.loc[node]['original_release_date']\n",
    "    \n",
    "    if str(directors[0]) == 'nan':\n",
    "        directors = ['nan']\n",
    "    #elif \n",
    "    \n",
    "    #Get the most common genders\n",
    "    director_genders = [d.get_gender(director.split(' ')[0]) for director in directors]\n",
    "    most_freq_director_gender = most_freq(director_genders)\n",
    "    \n",
    "    #Change the most frequent to male or female\n",
    "    if most_freq_director_gender == 'mostly_male':\n",
    "        most_freq_director_gender = 'male'\n",
    "    elif most_freq_director_gender == 'mostly_female':\n",
    "        most_freq_director_gender = 'female'\n",
    "    elif str(type(most_freq_director_gender)) != \"<class 'str'>\":\n",
    "        print(str(type(most_freq_director_gender)))\n",
    "    \n",
    "    most_freq_actor_gender = most_freq(genders)\n",
    "    \n",
    "    att[node] = {'title': title,\n",
    "                 'tomato_rating':tomato_rating if str(tomato_rating) != 'nan' else 0,\n",
    "                 'audience_rating':audience_rating if str(audience_rating) != 'nan' else 0,\n",
    "                 'genders':genders,\n",
    "                 'production_company': production_company,\n",
    "                 'most_freq_actor_gender': most_freq_actor_gender,\n",
    "                 'most_freq_director_gender': most_freq_director_gender,\n",
    "                 'genre':genres,\n",
    "                 'content_rating': content_rating,\n",
    "                 'original_release_date': original_release_date.strftime('%Y-%m-%d %H:%M:%S')}"
   ]
  },
  {
   "cell_type": "code",
   "execution_count": 49,
   "id": "82d10ace",
   "metadata": {
    "scrolled": true
   },
   "outputs": [],
   "source": [
    "nx.set_node_attributes(G,att)"
   ]
  },
  {
   "cell_type": "code",
   "execution_count": 50,
   "id": "6be4d92d",
   "metadata": {},
   "outputs": [
    {
     "data": {
      "text/plain": [
       "'2010-02-12 00:00:00'"
      ]
     },
     "execution_count": 50,
     "metadata": {},
     "output_type": "execute_result"
    }
   ],
   "source": [
    "G.nodes['m/0814255']['original_release_date']"
   ]
  },
  {
   "cell_type": "code",
   "execution_count": 3,
   "id": "9583d492",
   "metadata": {},
   "outputs": [
    {
     "ename": "NameError",
     "evalue": "name 'G' is not defined",
     "output_type": "error",
     "traceback": [
      "\u001b[0;31m---------------------------------------------------------------------------\u001b[0m",
      "\u001b[0;31mNameError\u001b[0m                                 Traceback (most recent call last)",
      "Cell \u001b[0;32mIn[3], line 1\u001b[0m\n\u001b[0;32m----> 1\u001b[0m data \u001b[38;5;241m=\u001b[39m nx\u001b[38;5;241m.\u001b[39mnode_link_data(\u001b[43mG\u001b[49m)\n\u001b[1;32m      2\u001b[0m filename \u001b[38;5;241m=\u001b[39m \u001b[38;5;124m'\u001b[39m\u001b[38;5;124mgraph_with_att.json\u001b[39m\u001b[38;5;124m'\u001b[39m\n\u001b[1;32m      3\u001b[0m \u001b[38;5;28;01mwith\u001b[39;00m \u001b[38;5;28mopen\u001b[39m(filename, \u001b[38;5;124m'\u001b[39m\u001b[38;5;124mw\u001b[39m\u001b[38;5;124m'\u001b[39m) \u001b[38;5;28;01mas\u001b[39;00m file:\n",
      "\u001b[0;31mNameError\u001b[0m: name 'G' is not defined"
     ]
    }
   ],
   "source": [
    "data = nx.node_link_data(G)\n",
    "filename = 'graph_with_att.json'\n",
    "with open(filename, 'w') as file:\n",
    "    json.dump(data, file, indent=4)"
   ]
  },
  {
   "cell_type": "markdown",
   "id": "d018cb26",
   "metadata": {},
   "source": [
    "### Now we can answer the question: Does directors of the same gender tend to hire the same actors?\n",
    "In order to do so, the assortivity with respect to the gender of the director is found. "
   ]
  },
  {
   "cell_type": "code",
   "execution_count": 19,
   "id": "87f01845",
   "metadata": {},
   "outputs": [],
   "source": [
    "from networkx.algorithms.assortativity import attribute_assortativity_coefficient"
   ]
  },
  {
   "cell_type": "code",
   "execution_count": 330,
   "id": "cf3ba31b",
   "metadata": {},
   "outputs": [
    {
     "name": "stdout",
     "output_type": "stream",
     "text": [
      "Attribute assortativity: 0.033\n"
     ]
    }
   ],
   "source": [
    "# calculate the attribute assortativity\n",
    "assortativity = attribute_assortativity_coefficient(G, 'most_freq_director_gender')\n",
    "print(f\"Attribute assortativity: {assortativity:.3f}\")"
   ]
  },
  {
   "cell_type": "markdown",
   "id": "4d82861b",
   "metadata": {},
   "source": [
    "### Now do the same for the gender of the actors\n",
    "The calculation of this coeficient will answer if a gender dominates a cast, are they then also often appearing in other gender dominated casts in other movies? \n",
    "\n",
    "##### Note \n",
    "This one is a bit weird it gives wastly different results if we run on the entire graph or just thresholded giant connected component for some reason"
   ]
  },
  {
   "cell_type": "code",
   "execution_count": 331,
   "id": "12333724",
   "metadata": {},
   "outputs": [
    {
     "name": "stdout",
     "output_type": "stream",
     "text": [
      "Attribute assortativity: 0.272\n"
     ]
    }
   ],
   "source": [
    "# calculate the attribute assortativity\n",
    "assortativity = attribute_assortativity_coefficient(G, 'most_freq_actor_gender')\n",
    "print(f\"Attribute assortativity: {assortativity:.3f}\")"
   ]
  },
  {
   "cell_type": "code",
   "execution_count": 332,
   "id": "4ddad29d",
   "metadata": {},
   "outputs": [
    {
     "name": "stdout",
     "output_type": "stream",
     "text": [
      "Attribute assortativity: 0.008\n"
     ]
    }
   ],
   "source": [
    "# calculate the attribute assortativity\n",
    "assortativity = attribute_assortativity_coefficient(G, 'production_company')\n",
    "print(f\"Attribute assortativity: {assortativity:.3f}\")"
   ]
  },
  {
   "cell_type": "markdown",
   "id": "b1121fb2",
   "metadata": {},
   "source": [
    "#### Assortivity with respect to rating\n",
    "The data-set consists of two types of ratings, one which is made by the general public and one which is made by actual movie critics. One thing that was hypothesised before conducting the test was that movie critics would be less biased due to their more professional knowledge of movies, where as the general audience generaly speaking tends to be more affected by seeing familiar faces. \n",
    "\n",
    "The reason numeric assortivity would tell something about this hypothesis, is that movies with high reviews tend to often connect with other highly reviewed movies, they share the actors between, meaning if assortivity is found between movies with respect to rating, it would point towards bias against certain actors.\n",
    "*This could lead to an argument about correlation vs. causation, however in this case the naive approach will be assumed*"
   ]
  },
  {
   "cell_type": "code",
   "execution_count": 333,
   "id": "d8effdc6",
   "metadata": {},
   "outputs": [
    {
     "data": {
      "text/plain": [
       "0.09511000686187794"
      ]
     },
     "execution_count": 333,
     "metadata": {},
     "output_type": "execute_result"
    }
   ],
   "source": [
    "nx.numeric_assortativity_coefficient(G,'tomato_rating')"
   ]
  },
  {
   "cell_type": "code",
   "execution_count": 334,
   "id": "c5666362",
   "metadata": {},
   "outputs": [
    {
     "data": {
      "text/plain": [
       "0.038686129193401725"
      ]
     },
     "execution_count": 334,
     "metadata": {},
     "output_type": "execute_result"
    }
   ],
   "source": [
    "nx.numeric_assortativity_coefficient(G,'audience_rating')"
   ]
  },
  {
   "cell_type": "markdown",
   "id": "001c9d28",
   "metadata": {},
   "source": [
    "This means that actually quite opposite of the original hypothesis, the audience tends to be less biased against certain actors, than the movie critics are. While the correlation of the movie critics might not be really high, it is noteworhely higher than the correlation coefficient of the audience rating. "
   ]
  },
  {
   "cell_type": "markdown",
   "id": "691b108c",
   "metadata": {},
   "source": [
    "#### Degree assortivity "
   ]
  },
  {
   "cell_type": "code",
   "execution_count": 335,
   "id": "13f43b28",
   "metadata": {},
   "outputs": [
    {
     "data": {
      "text/plain": [
       "0.11406807990466936"
      ]
     },
     "execution_count": 335,
     "metadata": {},
     "output_type": "execute_result"
    }
   ],
   "source": [
    "nx.degree_assortativity_coefficient(G)"
   ]
  },
  {
   "cell_type": "markdown",
   "id": "303012b5",
   "metadata": {},
   "source": [
    "### Evolution over time \n",
    "One thing that is often claimed by the movie industry is their progress towards a more gender equal structure. The validity of these claims can be testet by getting the subgraph for each year, and analysing that. "
   ]
  },
  {
   "cell_type": "code",
   "execution_count": 336,
   "id": "3f6a28ff",
   "metadata": {
    "scrolled": true
   },
   "outputs": [],
   "source": [
    "def subgraph_by_year(G, year):\n",
    "    \"\"\"\n",
    "    Returns a subgraph of G containing only the nodes with an 'original_release_date'\n",
    "    attribute in the specified year.\n",
    "    \"\"\"\n",
    "    # Create a dictionary mapping node names to release dates\n",
    "    release_dates = {n: G.nodes[n]['original_release_date'] for n in G.nodes()}\n",
    "    \n",
    "    # Create a list of nodes that have an 'original_release_date' in the specified year\n",
    "    year_nodes = [n for n in release_dates if release_dates[n].year == year]\n",
    "    \n",
    "    # Create a subgraph containing only the nodes in year_nodes\n",
    "    subgraph = G.subgraph(year_nodes)\n",
    "    \n",
    "    return subgraph"
   ]
  },
  {
   "cell_type": "code",
   "execution_count": 367,
   "id": "b95eb38c",
   "metadata": {},
   "outputs": [],
   "source": [
    "# Define the range of years to compute degree assortativity for\n",
    "years = range(1990, 2021)\n",
    "\n",
    "# Create an empty list to store the degree assortativity values for each year\n",
    "assortativity_values = []\n",
    "assortativity_values_gender = []\n",
    "\n",
    "# Compute the degree assortativity for each year and store the results in assortativity_values\n",
    "for year in years:\n",
    "    subgraph = subgraph_by_year(G, year)\n",
    "    assortativity = nx.degree_assortativity_coefficient(subgraph)\n",
    "    assortativity_values.append(assortativity)\n",
    "    assortativity_gender = attribute_assortativity_coefficient(subgraph, 'most_freq_actor_gender')\n",
    "\n",
    "    assortativity_values_gender.append(assortativity_gender)\n",
    "\n",
    "# Create a pandas dataframe with the year and assortativity values\n",
    "df = pd.DataFrame({'Year': years, 'Assortativity': assortativity_values})\n",
    "df_gender = pd.DataFrame({'Year': years, 'Assortativity_gender': assortativity_values_gender})"
   ]
  },
  {
   "cell_type": "code",
   "execution_count": 371,
   "id": "3a7451b3",
   "metadata": {},
   "outputs": [
    {
     "data": {
      "image/png": "[encoded data removed]",
      "text/plain": [
       "<Figure size 1000x500 with 1 Axes>"
      ]
     },
     "metadata": {},
     "output_type": "display_data"
    }
   ],
   "source": [
    "plt.subplots(1,1,figsize = [10,5])\n",
    "sns.barplot(data = df_gender, x ='Year', y = 'Assortativity_gender')\n",
    "plt.xlabel('Year')\n",
    "plt.ylabel('Attribute Assortativity-gender')\n",
    "plt.title('Gender Assortativity by Year')\n",
    "plt.xticks(rotation=45)\n",
    "plt.show()"
   ]
  },
  {
   "cell_type": "code",
   "execution_count": 363,
   "id": "64aa16c2",
   "metadata": {},
   "outputs": [
    {
     "data": {
      "image/png": "[encoded data removed]",
      "text/plain": [
       "<Figure size 1000x500 with 1 Axes>"
      ]
     },
     "metadata": {},
     "output_type": "display_data"
    }
   ],
   "source": [
    "# Create a barplot of the degree assortativity values by year using seaborn's barplot() function\n",
    "plt.subplots(1,1,figsize = [10,5])\n",
    "sns.set(style=\"whitegrid\")\n",
    "sns.barplot(x='Year', y='Assortativity', data=df)\n",
    "plt.xlabel('Year')\n",
    "plt.ylabel('Degree Assortativity')\n",
    "plt.title('Degree Assortativity by Year')\n",
    "plt.xticks(rotation=45)\n",
    "plt.show()"
   ]
  },
  {
   "cell_type": "markdown",
   "id": "7568c7c7",
   "metadata": {},
   "source": [
    "### Find and viz degree distribution of G"
   ]
  },
  {
   "cell_type": "code",
   "execution_count": 257,
   "id": "0bcce185",
   "metadata": {},
   "outputs": [
    {
     "data": {
      "image/png": "[encoded data removed]",
      "text/plain": [
       "<Figure size 640x480 with 1 Axes>"
      ]
     },
     "metadata": {},
     "output_type": "display_data"
    }
   ],
   "source": [
    "# get the degree of each node\n",
    "degrees = [G.degree(node) for node in G.nodes()]\n",
    "sns.set_theme()\n",
    "# plot the degree distribution as a histogram\n",
    "sns.histplot(degrees, bins=range(max(degrees)+2))\n",
    "plt.xlabel('Degree')\n",
    "plt.ylabel('Frequency')\n",
    "plt.title('Degree Distribution')\n",
    "plt.show()"
   ]
  },
  {
   "cell_type": "code",
   "execution_count": 376,
   "id": "581235e8",
   "metadata": {},
   "outputs": [],
   "source": [
    "movies = movies.reset_index()"
   ]
  },
  {
   "cell_type": "code",
   "execution_count": 377,
   "id": "a59b103b",
   "metadata": {},
   "outputs": [
    {
     "data": {
      "text/html": [
       "<div>\n",
       "<style scoped>\n",
       "    .dataframe tbody tr th:only-of-type {\n",
       "        vertical-align: middle;\n",
       "    }\n",
       "\n",
       "    .dataframe tbody tr th {\n",
       "        vertical-align: top;\n",
       "    }\n",
       "\n",
       "    .dataframe thead th {\n",
       "        text-align: right;\n",
       "    }\n",
       "</style>\n",
       "<table border=\"1\" class=\"dataframe\">\n",
       "  <thead>\n",
       "    <tr style=\"text-align: right;\">\n",
       "      <th></th>\n",
       "      <th>rotten_tomatoes_link</th>\n",
       "      <th>movie_title</th>\n",
       "      <th>movie_info</th>\n",
       "      <th>critics_consensus</th>\n",
       "      <th>content_rating</th>\n",
       "      <th>genres</th>\n",
       "      <th>directors</th>\n",
       "      <th>authors</th>\n",
       "      <th>actors</th>\n",
       "      <th>original_release_date</th>\n",
       "      <th>...</th>\n",
       "      <th>audience_rating</th>\n",
       "      <th>audience_count</th>\n",
       "      <th>tomatometer_top_critics_count</th>\n",
       "      <th>tomatometer_fresh_critics_count</th>\n",
       "      <th>tomatometer_rotten_critics_count</th>\n",
       "      <th>actor_genders</th>\n",
       "      <th>male_count</th>\n",
       "      <th>female_count</th>\n",
       "      <th>actors_set</th>\n",
       "      <th>dominant_gender</th>\n",
       "    </tr>\n",
       "  </thead>\n",
       "  <tbody>\n",
       "    <tr>\n",
       "      <th>0</th>\n",
       "      <td>m/0814255</td>\n",
       "      <td>Percy Jackson &amp; the Olympians: The Lightning T...</td>\n",
       "      <td>Always trouble-prone, the life of teenager Per...</td>\n",
       "      <td>Though it may seem like just another Harry Pot...</td>\n",
       "      <td>PG</td>\n",
       "      <td>Action &amp; Adventure, Comedy, Drama, Science Fic...</td>\n",
       "      <td>Chris Columbus</td>\n",
       "      <td>Craig Titley, Chris Columbus, Rick Riordan</td>\n",
       "      <td>[Logan Lerman,  Brandon T. Jackson,  Alexandra...</td>\n",
       "      <td>2010-02-12</td>\n",
       "      <td>...</td>\n",
       "      <td>53.0</td>\n",
       "      <td>254421.0</td>\n",
       "      <td>43</td>\n",
       "      <td>73</td>\n",
       "      <td>76</td>\n",
       "      <td>[mostly_male, male, female, male, male, male, ...</td>\n",
       "      <td>42</td>\n",
       "      <td>37</td>\n",
       "      <td>{ Melina Kanakaredes,  Ray Winstone,  Marielle...</td>\n",
       "      <td>male</td>\n",
       "    </tr>\n",
       "    <tr>\n",
       "      <th>1</th>\n",
       "      <td>m/0878835</td>\n",
       "      <td>Please Give</td>\n",
       "      <td>Kate (Catherine Keener) and her husband Alex (...</td>\n",
       "      <td>Nicole Holofcener's newest might seem slight i...</td>\n",
       "      <td>R</td>\n",
       "      <td>Comedy</td>\n",
       "      <td>Nicole Holofcener</td>\n",
       "      <td>Nicole Holofcener</td>\n",
       "      <td>[Catherine Keener,  Amanda Peet,  Oliver Platt...</td>\n",
       "      <td>2010-04-30</td>\n",
       "      <td>...</td>\n",
       "      <td>64.0</td>\n",
       "      <td>11574.0</td>\n",
       "      <td>44</td>\n",
       "      <td>123</td>\n",
       "      <td>19</td>\n",
       "      <td>[female, female, male, female, female, female,...</td>\n",
       "      <td>2</td>\n",
       "      <td>6</td>\n",
       "      <td>{ Rebecca Hall,  Kevin Corrigan,  Amanda Peet,...</td>\n",
       "      <td>female</td>\n",
       "    </tr>\n",
       "    <tr>\n",
       "      <th>2</th>\n",
       "      <td>m/10</td>\n",
       "      <td>10</td>\n",
       "      <td>A successful, middle-aged Hollywood songwriter...</td>\n",
       "      <td>Blake Edwards' bawdy comedy may not score a pe...</td>\n",
       "      <td>R</td>\n",
       "      <td>Comedy, Romance</td>\n",
       "      <td>Blake Edwards</td>\n",
       "      <td>Blake Edwards</td>\n",
       "      <td>[Dudley Moore,  Bo Derek,  Julie Andrews,  Rob...</td>\n",
       "      <td>1979-10-05</td>\n",
       "      <td>...</td>\n",
       "      <td>53.0</td>\n",
       "      <td>14684.0</td>\n",
       "      <td>2</td>\n",
       "      <td>16</td>\n",
       "      <td>8</td>\n",
       "      <td>[male, male, female, male, mostly_female, most...</td>\n",
       "      <td>22</td>\n",
       "      <td>19</td>\n",
       "      <td>{ Sam Jones III,  Marcy Hanson,  Denise Crosby...</td>\n",
       "      <td>male</td>\n",
       "    </tr>\n",
       "    <tr>\n",
       "      <th>3</th>\n",
       "      <td>m/1000013-12_angry_men</td>\n",
       "      <td>12 Angry Men (Twelve Angry Men)</td>\n",
       "      <td>Following the closing arguments in a murder tr...</td>\n",
       "      <td>Sidney Lumet's feature debut is a superbly wri...</td>\n",
       "      <td>NR</td>\n",
       "      <td>Classics, Drama</td>\n",
       "      <td>Sidney Lumet</td>\n",
       "      <td>Reginald Rose</td>\n",
       "      <td>[Martin Balsam,  John Fiedler,  Lee J. Cobb,  ...</td>\n",
       "      <td>1957-04-13</td>\n",
       "      <td>...</td>\n",
       "      <td>97.0</td>\n",
       "      <td>105386.0</td>\n",
       "      <td>6</td>\n",
       "      <td>54</td>\n",
       "      <td>0</td>\n",
       "      <td>[male, male, mostly_male, unknown, male, male,...</td>\n",
       "      <td>15</td>\n",
       "      <td>0</td>\n",
       "      <td>{ Jack Klugman,  Joseph Sweeney,  Rudy Bond,  ...</td>\n",
       "      <td>male</td>\n",
       "    </tr>\n",
       "    <tr>\n",
       "      <th>4</th>\n",
       "      <td>m/1000079-20000_leagues_under_the_sea</td>\n",
       "      <td>20,000 Leagues Under The Sea</td>\n",
       "      <td>In 1866, Professor Pierre M. Aronnax (Paul Luk...</td>\n",
       "      <td>One of Disney's finest live-action adventures,...</td>\n",
       "      <td>G</td>\n",
       "      <td>Action &amp; Adventure, Drama, Kids &amp; Family</td>\n",
       "      <td>Richard Fleischer</td>\n",
       "      <td>Earl Felton</td>\n",
       "      <td>[James Mason,  Kirk Douglas,  Paul Lukas,  Pet...</td>\n",
       "      <td>1954-01-01</td>\n",
       "      <td>...</td>\n",
       "      <td>74.0</td>\n",
       "      <td>68918.0</td>\n",
       "      <td>5</td>\n",
       "      <td>24</td>\n",
       "      <td>3</td>\n",
       "      <td>[male, male, male, male, male, male, male, mal...</td>\n",
       "      <td>14</td>\n",
       "      <td>1</td>\n",
       "      <td>{ Carleton Young,  Esmeralda,  Bob Wilke,  Ted...</td>\n",
       "      <td>male</td>\n",
       "    </tr>\n",
       "  </tbody>\n",
       "</table>\n",
       "<p>5 rows × 27 columns</p>\n",
       "</div>"
      ],
      "text/plain": [
       "                    rotten_tomatoes_link  \\\n",
       "0                              m/0814255   \n",
       "1                              m/0878835   \n",
       "2                                   m/10   \n",
       "3                 m/1000013-12_angry_men   \n",
       "4  m/1000079-20000_leagues_under_the_sea   \n",
       "\n",
       "                                         movie_title  \\\n",
       "0  Percy Jackson & the Olympians: The Lightning T...   \n",
       "1                                        Please Give   \n",
       "2                                                 10   \n",
       "3                    12 Angry Men (Twelve Angry Men)   \n",
       "4                       20,000 Leagues Under The Sea   \n",
       "\n",
       "                                          movie_info  \\\n",
       "0  Always trouble-prone, the life of teenager Per...   \n",
       "1  Kate (Catherine Keener) and her husband Alex (...   \n",
       "2  A successful, middle-aged Hollywood songwriter...   \n",
       "3  Following the closing arguments in a murder tr...   \n",
       "4  In 1866, Professor Pierre M. Aronnax (Paul Luk...   \n",
       "\n",
       "                                   critics_consensus content_rating  \\\n",
       "0  Though it may seem like just another Harry Pot...             PG   \n",
       "1  Nicole Holofcener's newest might seem slight i...              R   \n",
       "2  Blake Edwards' bawdy comedy may not score a pe...              R   \n",
       "3  Sidney Lumet's feature debut is a superbly wri...             NR   \n",
       "4  One of Disney's finest live-action adventures,...              G   \n",
       "\n",
       "                                              genres          directors  \\\n",
       "0  Action & Adventure, Comedy, Drama, Science Fic...     Chris Columbus   \n",
       "1                                             Comedy  Nicole Holofcener   \n",
       "2                                    Comedy, Romance      Blake Edwards   \n",
       "3                                    Classics, Drama       Sidney Lumet   \n",
       "4           Action & Adventure, Drama, Kids & Family  Richard Fleischer   \n",
       "\n",
       "                                      authors  \\\n",
       "0  Craig Titley, Chris Columbus, Rick Riordan   \n",
       "1                           Nicole Holofcener   \n",
       "2                               Blake Edwards   \n",
       "3                               Reginald Rose   \n",
       "4                                 Earl Felton   \n",
       "\n",
       "                                              actors original_release_date  \\\n",
       "0  [Logan Lerman,  Brandon T. Jackson,  Alexandra...            2010-02-12   \n",
       "1  [Catherine Keener,  Amanda Peet,  Oliver Platt...            2010-04-30   \n",
       "2  [Dudley Moore,  Bo Derek,  Julie Andrews,  Rob...            1979-10-05   \n",
       "3  [Martin Balsam,  John Fiedler,  Lee J. Cobb,  ...            1957-04-13   \n",
       "4  [James Mason,  Kirk Douglas,  Paul Lukas,  Pet...            1954-01-01   \n",
       "\n",
       "   ... audience_rating  audience_count tomatometer_top_critics_count  \\\n",
       "0  ...            53.0        254421.0                            43   \n",
       "1  ...            64.0         11574.0                            44   \n",
       "2  ...            53.0         14684.0                             2   \n",
       "3  ...            97.0        105386.0                             6   \n",
       "4  ...            74.0         68918.0                             5   \n",
       "\n",
       "  tomatometer_fresh_critics_count  tomatometer_rotten_critics_count  \\\n",
       "0                              73                                76   \n",
       "1                             123                                19   \n",
       "2                              16                                 8   \n",
       "3                              54                                 0   \n",
       "4                              24                                 3   \n",
       "\n",
       "                                       actor_genders male_count  female_count  \\\n",
       "0  [mostly_male, male, female, male, male, male, ...         42            37   \n",
       "1  [female, female, male, female, female, female,...          2             6   \n",
       "2  [male, male, female, male, mostly_female, most...         22            19   \n",
       "3  [male, male, mostly_male, unknown, male, male,...         15             0   \n",
       "4  [male, male, male, male, male, male, male, mal...         14             1   \n",
       "\n",
       "                                          actors_set  dominant_gender  \n",
       "0  { Melina Kanakaredes,  Ray Winstone,  Marielle...             male  \n",
       "1  { Rebecca Hall,  Kevin Corrigan,  Amanda Peet,...           female  \n",
       "2  { Sam Jones III,  Marcy Hanson,  Denise Crosby...             male  \n",
       "3  { Jack Klugman,  Joseph Sweeney,  Rudy Bond,  ...             male  \n",
       "4  { Carleton Young,  Esmeralda,  Bob Wilke,  Ted...             male  \n",
       "\n",
       "[5 rows x 27 columns]"
      ]
     },
     "execution_count": 377,
     "metadata": {},
     "output_type": "execute_result"
    }
   ],
   "source": [
    "movies.head()"
   ]
  },
  {
   "cell_type": "markdown",
   "id": "79315caa",
   "metadata": {},
   "source": [
    "### Inverting the problem ie. create the bi-graph \n",
    "The entire problem can be thought of in another way, where the actors appear as nodes, and where the edges are movies in which they both appeared. "
   ]
  },
  {
   "cell_type": "code",
   "execution_count": 14,
   "id": "5648d120",
   "metadata": {},
   "outputs": [],
   "source": [
    "# Create an empty graph\n",
    "G_bi = nx.Graph()\n",
    "\n",
    "# Create a dictionary to store the count of movies for each pair of actors\n",
    "actor_pairs = {}\n",
    "\n",
    "# Iterate over the rows of the DataFrame\n",
    "for _, row in movies.iterrows():\n",
    "    movie = row['rotten_tomatoes_link']\n",
    "    actors = row['actors']\n",
    "    \n",
    "    # Update the count of movies for each pair of actors\n",
    "    if str(actors) == 'nan':\n",
    "        continue\n",
    "    for i in range(len(actors)):\n",
    "        for j in range(i + 1, len(actors)):\n",
    "            actor1 = actors[i]\n",
    "            actor2 = actors[j]\n",
    "            \n",
    "            # Increase the count of movies for the actor pair\n",
    "            if (actor1, actor2) in actor_pairs:\n",
    "                actor_pairs[(actor1, actor2)] += 1\n",
    "            else:\n",
    "                actor_pairs[(actor1, actor2)] = 1\n",
    "\n",
    "# Add weighted edges between the actors based on the count of movies\n",
    "for (actor1, actor2), count in actor_pairs.items():\n",
    "    G_bi.add_edge(actor1, actor2, weight=count)"
   ]
  },
  {
   "cell_type": "code",
   "execution_count": 15,
   "id": "b411d4d3",
   "metadata": {},
   "outputs": [
    {
     "data": {
      "text/plain": [
       "(209697, 8573136)"
      ]
     },
     "execution_count": 15,
     "metadata": {},
     "output_type": "execute_result"
    }
   ],
   "source": [
    "len(G_bi),len(G_bi.edges())"
   ]
  },
  {
   "cell_type": "code",
   "execution_count": 16,
   "id": "93c33042",
   "metadata": {},
   "outputs": [],
   "source": [
    "# Add the gender as an attribute to the graph\n",
    "remove = []\n",
    "for node in G_bi.nodes():\n",
    "    n = node.split(' ')\n",
    "    if (n[0] == '' or n[0] == ' ') and len(n) > 1:\n",
    "        name = n[1]\n",
    "    elif n[0] != '' or n[0] != ' ':\n",
    "        name = n[0]\n",
    "    elif len(n) == 1:\n",
    "        remove.append(node)\n",
    "        continue\n",
    "    gender = d.get_gender(name)\n",
    "    \n",
    "    #Change the most frequent to male or female\n",
    "    if gender == 'mostly_male':\n",
    "        gender = 'male'\n",
    "    elif gender == 'mostly_female':\n",
    "        gender = 'female'\n",
    "    elif gender == 'unknown' or gender == 'andy':\n",
    "        remove.append(node)\n",
    "        continue\n",
    "    \n",
    "    if gender == 'andy':\n",
    "        print(node)\n",
    "    \n",
    "    G_bi.nodes[node]['gender'] = gender\n",
    "    \n",
    "G_bi.remove_nodes_from(remove)"
   ]
  },
  {
   "cell_type": "code",
   "execution_count": 17,
   "id": "93fde343",
   "metadata": {},
   "outputs": [
    {
     "data": {
      "text/plain": [
       "(182611, 6896652)"
      ]
     },
     "execution_count": 17,
     "metadata": {},
     "output_type": "execute_result"
    }
   ],
   "source": [
    "len(G_bi),len(G_bi.edges())"
   ]
  },
  {
   "cell_type": "code",
   "execution_count": 20,
   "id": "85ca938e",
   "metadata": {},
   "outputs": [
    {
     "name": "stdout",
     "output_type": "stream",
     "text": [
      "Attribute assortativity: 0.052\n"
     ]
    }
   ],
   "source": [
    "# calculate the attribute assortativity\n",
    "assortativity = attribute_assortativity_coefficient(G_bi, 'gender')\n",
    "print(f\"Attribute assortativity: {assortativity:.3f}\")"
   ]
  },
  {
   "cell_type": "code",
   "execution_count": 21,
   "id": "67dcb847",
   "metadata": {},
   "outputs": [
    {
     "data": {
      "text/plain": [
       "0.08273384835398773"
      ]
     },
     "execution_count": 21,
     "metadata": {},
     "output_type": "execute_result"
    }
   ],
   "source": [
    "nx.degree_assortativity_coefficient(G_bi)"
   ]
  },
  {
   "cell_type": "code",
   "execution_count": 471,
   "id": "11450338",
   "metadata": {},
   "outputs": [],
   "source": [
    "def get_top_10_actors(graph):\n",
    "    \"\"\"\n",
    "    Returns the top 10 most connected actors based on degree centrality in the graph.\n",
    "    \"\"\"\n",
    "    # Calculate the degree centrality for each actor\n",
    "    degree_centrality = nx.degree_centrality(graph)\n",
    "    \n",
    "    # Sort the actors based on degree centrality in descending order\n",
    "    sorted_actors = sorted(degree_centrality, key=degree_centrality.get, reverse=True)\n",
    "    \n",
    "    # Return the top 10 most connected actors\n",
    "    top_10_actors = sorted_actors[:10]\n",
    "    return top_10_actors"
   ]
  },
  {
   "cell_type": "code",
   "execution_count": 472,
   "id": "e7ed872d",
   "metadata": {},
   "outputs": [
    {
     "data": {
      "text/plain": [
       "[' Samuel L. Jackson',\n",
       " ' Richard Schiff',\n",
       " ' Richard Jenkins',\n",
       " ' Keith David',\n",
       " ' Steve Buscemi',\n",
       " ' John Goodman',\n",
       " ' Morgan Freeman',\n",
       " ' Christopher Walken',\n",
       " ' Stanley Tucci',\n",
       " ' Mike Starr']"
      ]
     },
     "execution_count": 472,
     "metadata": {},
     "output_type": "execute_result"
    }
   ],
   "source": [
    "get_top_10_actors(G_bi)"
   ]
  },
  {
   "cell_type": "code",
   "execution_count": 473,
   "id": "2c43e13c",
   "metadata": {},
   "outputs": [],
   "source": [
    "def get_top_10_female_actors(graph):\n",
    "    \"\"\"\n",
    "    Returns the top 10 most connected actors of the given gender based on degree centrality in the graph.\n",
    "    \"\"\"\n",
    "    # Calculate the degree centrality for each actor\n",
    "    degree_centrality = nx.degree_centrality(graph)\n",
    "    \n",
    "    # Filter actors based on gender\n",
    "    filtered_actors = [actor for actor in degree_centrality if graph.nodes[actor]['gender'] == 'female']\n",
    "    \n",
    "    # Sort the actors based on degree centrality in descending order\n",
    "    sorted_actors = sorted(filtered_actors, key=degree_centrality.get, reverse=True)\n",
    "    \n",
    "    # Return the top 10 most connected actors\n",
    "    top_10_actors = sorted_actors[:10]\n",
    "    return top_10_actors"
   ]
  },
  {
   "cell_type": "code",
   "execution_count": 475,
   "id": "36155790",
   "metadata": {},
   "outputs": [
    {
     "data": {
      "text/plain": [
       "[' Susan Sarandon',\n",
       " ' Laurence Fishburne',\n",
       " ' Tracey Walter',\n",
       " ' Joan Cusack',\n",
       " ' Lin Shaye',\n",
       " ' Marisa Tomei',\n",
       " ' Colleen Camp',\n",
       " ' Kathy Bates',\n",
       " ' Allison Janney',\n",
       " ' Elizabeth Banks']"
      ]
     },
     "execution_count": 475,
     "metadata": {},
     "output_type": "execute_result"
    }
   ],
   "source": [
    "get_top_10_female_actors(G_bi)"
   ]
  },
  {
   "cell_type": "code",
   "execution_count": 478,
   "id": "bb2dd705",
   "metadata": {},
   "outputs": [
    {
     "data": {
      "image/png": "[encoded data removed]",
      "text/plain": [
       "<Figure size 640x480 with 1 Axes>"
      ]
     },
     "metadata": {},
     "output_type": "display_data"
    }
   ],
   "source": [
    "# Compute the degree of each node\n",
    "degrees = dict(G_bi.degree())\n",
    "\n",
    "# Create a dataframe with the degree and gender information\n",
    "data = {'Degree': list(degrees.values()), 'Gender': [G_bi.nodes[node]['gender'] for node in G_bi.nodes]}\n",
    "df = pd.DataFrame(data)\n",
    "\n",
    "# Create a histogram of the degree distribution, hued by gender\n",
    "sns.histplot(data=df, x='Degree', hue='Gender', bins=50,kde = True)\n",
    "\n",
    "# Set plot labels and title\n",
    "plt.xlabel('Degree')\n",
    "plt.ylabel('Count')\n",
    "plt.title('Degree Distribution of Nodes')\n",
    "\n",
    "# Show the plot\n",
    "plt.show()"
   ]
  },
  {
   "cell_type": "code",
   "execution_count": 4,
   "id": "1f457a6a",
   "metadata": {},
   "outputs": [
    {
     "data": {
      "text/plain": [
       "13511"
      ]
     },
     "execution_count": 4,
     "metadata": {},
     "output_type": "execute_result"
    }
   ],
   "source": [
    "with open('graph_with_att.json', 'r') as f:\n",
    "    data = json.load(f)\n",
    "G = json_graph.node_link_graph(data)\n",
    "len(G)"
   ]
  },
  {
   "cell_type": "code",
   "execution_count": null,
   "id": "ab8d0dd1",
   "metadata": {},
   "outputs": [],
   "source": []
  },
  {
   "cell_type": "markdown",
   "id": "b141fe65",
   "metadata": {},
   "source": [
    "## Visualize the top actors network"
   ]
  },
  {
   "cell_type": "code",
   "execution_count": 28,
   "id": "a669ff67",
   "metadata": {
    "collapsed": true
   },
   "outputs": [
    {
     "ename": "KeyboardInterrupt",
     "evalue": "",
     "output_type": "error",
     "traceback": [
      "\u001b[0;31m---------------------------------------------------------------------------\u001b[0m",
      "\u001b[0;31mKeyboardInterrupt\u001b[0m                         Traceback (most recent call last)",
      "Cell \u001b[0;32mIn[28], line 5\u001b[0m\n\u001b[1;32m      3\u001b[0m \u001b[38;5;28;01mif\u001b[39;00m \u001b[38;5;124m\"\u001b[39m\u001b[38;5;124m \u001b[39m\u001b[38;5;124m\"\u001b[39m \u001b[38;5;129;01min\u001b[39;00m node:\n\u001b[1;32m      4\u001b[0m     new_node \u001b[38;5;241m=\u001b[39m node\u001b[38;5;241m.\u001b[39mreplace(\u001b[38;5;124m\"\u001b[39m\u001b[38;5;124m \u001b[39m\u001b[38;5;124m\"\u001b[39m, \u001b[38;5;124m\"\u001b[39m\u001b[38;5;124m\"\u001b[39m, \u001b[38;5;241m1\u001b[39m)\n\u001b[0;32m----> 5\u001b[0m     G_bi \u001b[38;5;241m=\u001b[39m \u001b[43mnx\u001b[49m\u001b[38;5;241;43m.\u001b[39;49m\u001b[43mrelabel_nodes\u001b[49m\u001b[43m(\u001b[49m\u001b[43mG_bi\u001b[49m\u001b[43m,\u001b[49m\u001b[43m \u001b[49m\u001b[43m{\u001b[49m\u001b[43mnode\u001b[49m\u001b[43m:\u001b[49m\u001b[43m \u001b[49m\u001b[43mnew_node\u001b[49m\u001b[43m}\u001b[49m\u001b[43m)\u001b[49m\n",
      "File \u001b[0;32m/Library/Frameworks/Python.framework/Versions/3.10/lib/python3.10/site-packages/networkx/relabel.py:122\u001b[0m, in \u001b[0;36mrelabel_nodes\u001b[0;34m(G, mapping, copy)\u001b[0m\n\u001b[1;32m    119\u001b[0m m \u001b[38;5;241m=\u001b[39m {n: mapping(n) \u001b[38;5;28;01mfor\u001b[39;00m n \u001b[38;5;129;01min\u001b[39;00m G} \u001b[38;5;28;01mif\u001b[39;00m callable(mapping) \u001b[38;5;28;01melse\u001b[39;00m mapping\n\u001b[1;32m    121\u001b[0m \u001b[38;5;28;01mif\u001b[39;00m copy:\n\u001b[0;32m--> 122\u001b[0m     \u001b[38;5;28;01mreturn\u001b[39;00m \u001b[43m_relabel_copy\u001b[49m\u001b[43m(\u001b[49m\u001b[43mG\u001b[49m\u001b[43m,\u001b[49m\u001b[43m \u001b[49m\u001b[43mm\u001b[49m\u001b[43m)\u001b[49m\n\u001b[1;32m    123\u001b[0m \u001b[38;5;28;01melse\u001b[39;00m:\n\u001b[1;32m    124\u001b[0m     \u001b[38;5;28;01mreturn\u001b[39;00m _relabel_inplace(G, m)\n",
      "File \u001b[0;32m/Library/Frameworks/Python.framework/Versions/3.10/lib/python3.10/site-packages/networkx/relabel.py:215\u001b[0m, in \u001b[0;36m_relabel_copy\u001b[0;34m(G, mapping)\u001b[0m\n\u001b[1;32m    213\u001b[0m     H\u001b[38;5;241m.\u001b[39madd_edges_from(new_edges)\n\u001b[1;32m    214\u001b[0m \u001b[38;5;28;01melse\u001b[39;00m:\n\u001b[0;32m--> 215\u001b[0m     \u001b[43mH\u001b[49m\u001b[38;5;241;43m.\u001b[39;49m\u001b[43madd_edges_from\u001b[49m\u001b[43m(\u001b[49m\n\u001b[1;32m    216\u001b[0m \u001b[43m        \u001b[49m\u001b[43m(\u001b[49m\u001b[43mmapping\u001b[49m\u001b[38;5;241;43m.\u001b[39;49m\u001b[43mget\u001b[49m\u001b[43m(\u001b[49m\u001b[43mn1\u001b[49m\u001b[43m,\u001b[49m\u001b[43m \u001b[49m\u001b[43mn1\u001b[49m\u001b[43m)\u001b[49m\u001b[43m,\u001b[49m\u001b[43m \u001b[49m\u001b[43mmapping\u001b[49m\u001b[38;5;241;43m.\u001b[39;49m\u001b[43mget\u001b[49m\u001b[43m(\u001b[49m\u001b[43mn2\u001b[49m\u001b[43m,\u001b[49m\u001b[43m \u001b[49m\u001b[43mn2\u001b[49m\u001b[43m)\u001b[49m\u001b[43m,\u001b[49m\u001b[43m \u001b[49m\u001b[43md\u001b[49m\u001b[38;5;241;43m.\u001b[39;49m\u001b[43mcopy\u001b[49m\u001b[43m(\u001b[49m\u001b[43m)\u001b[49m\u001b[43m)\u001b[49m\n\u001b[1;32m    217\u001b[0m \u001b[43m        \u001b[49m\u001b[38;5;28;43;01mfor\u001b[39;49;00m\u001b[43m \u001b[49m\u001b[43m(\u001b[49m\u001b[43mn1\u001b[49m\u001b[43m,\u001b[49m\u001b[43m \u001b[49m\u001b[43mn2\u001b[49m\u001b[43m,\u001b[49m\u001b[43m \u001b[49m\u001b[43md\u001b[49m\u001b[43m)\u001b[49m\u001b[43m \u001b[49m\u001b[38;5;129;43;01min\u001b[39;49;00m\u001b[43m \u001b[49m\u001b[43mG\u001b[49m\u001b[38;5;241;43m.\u001b[39;49m\u001b[43medges\u001b[49m\u001b[43m(\u001b[49m\u001b[43mdata\u001b[49m\u001b[38;5;241;43m=\u001b[39;49m\u001b[38;5;28;43;01mTrue\u001b[39;49;00m\u001b[43m)\u001b[49m\n\u001b[1;32m    218\u001b[0m \u001b[43m    \u001b[49m\u001b[43m)\u001b[49m\n\u001b[1;32m    219\u001b[0m H\u001b[38;5;241m.\u001b[39mgraph\u001b[38;5;241m.\u001b[39mupdate(G\u001b[38;5;241m.\u001b[39mgraph)\n\u001b[1;32m    220\u001b[0m \u001b[38;5;28;01mreturn\u001b[39;00m H\n",
      "File \u001b[0;32m/Library/Frameworks/Python.framework/Versions/3.10/lib/python3.10/site-packages/networkx/classes/graph.py:965\u001b[0m, in \u001b[0;36mGraph.add_edges_from\u001b[0;34m(self, ebunch_to_add, **attr)\u001b[0m\n\u001b[1;32m    927\u001b[0m \u001b[38;5;28;01mdef\u001b[39;00m \u001b[38;5;21madd_edges_from\u001b[39m(\u001b[38;5;28mself\u001b[39m, ebunch_to_add, \u001b[38;5;241m*\u001b[39m\u001b[38;5;241m*\u001b[39mattr):\n\u001b[1;32m    928\u001b[0m \u001b[38;5;250m    \u001b[39m\u001b[38;5;124;03m\"\"\"Add all the edges in ebunch_to_add.\u001b[39;00m\n\u001b[1;32m    929\u001b[0m \n\u001b[1;32m    930\u001b[0m \u001b[38;5;124;03m    Parameters\u001b[39;00m\n\u001b[0;32m   (...)\u001b[0m\n\u001b[1;32m    963\u001b[0m \u001b[38;5;124;03m    >>> G.add_edges_from([(3, 4), (1, 4)], label=\"WN2898\")\u001b[39;00m\n\u001b[1;32m    964\u001b[0m \u001b[38;5;124;03m    \"\"\"\u001b[39;00m\n\u001b[0;32m--> 965\u001b[0m     \u001b[38;5;28;01mfor\u001b[39;00m e \u001b[38;5;129;01min\u001b[39;00m ebunch_to_add:\n\u001b[1;32m    966\u001b[0m         ne \u001b[38;5;241m=\u001b[39m \u001b[38;5;28mlen\u001b[39m(e)\n\u001b[1;32m    967\u001b[0m         \u001b[38;5;28;01mif\u001b[39;00m ne \u001b[38;5;241m==\u001b[39m \u001b[38;5;241m3\u001b[39m:\n",
      "File \u001b[0;32m/Library/Frameworks/Python.framework/Versions/3.10/lib/python3.10/site-packages/networkx/relabel.py:215\u001b[0m, in \u001b[0;36m<genexpr>\u001b[0;34m(.0)\u001b[0m\n\u001b[1;32m    213\u001b[0m     H\u001b[38;5;241m.\u001b[39madd_edges_from(new_edges)\n\u001b[1;32m    214\u001b[0m \u001b[38;5;28;01melse\u001b[39;00m:\n\u001b[0;32m--> 215\u001b[0m     H\u001b[38;5;241m.\u001b[39madd_edges_from(\n\u001b[1;32m    216\u001b[0m         (mapping\u001b[38;5;241m.\u001b[39mget(n1, n1), mapping\u001b[38;5;241m.\u001b[39mget(n2, n2), d\u001b[38;5;241m.\u001b[39mcopy())\n\u001b[1;32m    217\u001b[0m         \u001b[38;5;28;01mfor\u001b[39;00m (n1, n2, d) \u001b[38;5;129;01min\u001b[39;00m G\u001b[38;5;241m.\u001b[39medges(data\u001b[38;5;241m=\u001b[39m\u001b[38;5;28;01mTrue\u001b[39;00m)\n\u001b[1;32m    218\u001b[0m     )\n\u001b[1;32m    219\u001b[0m H\u001b[38;5;241m.\u001b[39mgraph\u001b[38;5;241m.\u001b[39mupdate(G\u001b[38;5;241m.\u001b[39mgraph)\n\u001b[1;32m    220\u001b[0m \u001b[38;5;28;01mreturn\u001b[39;00m H\n",
      "File \u001b[0;32m/Library/Frameworks/Python.framework/Versions/3.10/lib/python3.10/site-packages/networkx/classes/reportviews.py:849\u001b[0m, in \u001b[0;36mEdgeDataView.__iter__\u001b[0;34m(self)\u001b[0m\n\u001b[1;32m    847\u001b[0m \u001b[38;5;28;01mfor\u001b[39;00m n, nbrs \u001b[38;5;129;01min\u001b[39;00m \u001b[38;5;28mself\u001b[39m\u001b[38;5;241m.\u001b[39m_nodes_nbrs():\n\u001b[1;32m    848\u001b[0m     \u001b[38;5;28;01mfor\u001b[39;00m nbr, dd \u001b[38;5;129;01min\u001b[39;00m nbrs\u001b[38;5;241m.\u001b[39mitems():\n\u001b[0;32m--> 849\u001b[0m         \u001b[38;5;28;01mif\u001b[39;00m nbr \u001b[38;5;129;01mnot\u001b[39;00m \u001b[38;5;129;01min\u001b[39;00m seen:\n\u001b[1;32m    850\u001b[0m             \u001b[38;5;28;01myield\u001b[39;00m \u001b[38;5;28mself\u001b[39m\u001b[38;5;241m.\u001b[39m_report(n, nbr, dd)\n\u001b[1;32m    851\u001b[0m     seen[n] \u001b[38;5;241m=\u001b[39m \u001b[38;5;241m1\u001b[39m\n",
      "\u001b[0;31mKeyboardInterrupt\u001b[0m: "
     ]
    }
   ],
   "source": [
    "# Loop through the nodes and remove the first whitespace in the name if there is one\n",
    "for node in G_bi.nodes():\n",
    "    if \" \" in node:\n",
    "        new_node = node.replace(\" \", \"\", 1)\n",
    "        G_bi = nx.relabel_nodes(G_bi, {node: new_node})"
   ]
  },
  {
   "cell_type": "code",
   "execution_count": 39,
   "id": "6c089e26",
   "metadata": {},
   "outputs": [],
   "source": [
    "node_degrees = G_bi.degree()\n",
    "\n",
    "# Sort the nodes based on their degrees in descending order\n",
    "sorted_nodes = sorted(node_degrees, key=lambda x: x[1], reverse=True)\n",
    "\n",
    "# Select the top \"x\" nodes with the highest degrees\n",
    "x = 200# Number of nodes to include in the subgraph\n",
    "top_nodes = [node for node, _ in sorted_nodes[:x]]\n",
    "\n",
    "# Create a subgraph containing only the selected nodes and their adjacent edges\n",
    "subgraph = G_bi.subgraph(top_nodes)"
   ]
  },
  {
   "cell_type": "code",
   "execution_count": 40,
   "id": "f52bf14c",
   "metadata": {},
   "outputs": [
    {
     "data": {
      "text/plain": [
       "(None, None)"
      ]
     },
     "execution_count": 40,
     "metadata": {},
     "output_type": "execute_result"
    }
   ],
   "source": [
    "netwulf.visualize(subgraph)"
   ]
  },
  {
   "cell_type": "code",
   "execution_count": 31,
   "id": "0e2a7122",
   "metadata": {},
   "outputs": [
    {
     "data": {
      "text/plain": [
       "NodeView(())"
      ]
     },
     "execution_count": 31,
     "metadata": {},
     "output_type": "execute_result"
    }
   ],
   "source": [
    "subgraph.nodes()"
   ]
  },
  {
   "cell_type": "code",
   "execution_count": 32,
   "id": "1889afa7",
   "metadata": {},
   "outputs": [
    {
     "data": {
      "text/plain": [
       "[' Samuel L. Jackson',\n",
       " ' Richard Schiff',\n",
       " ' Richard Jenkins',\n",
       " ' Keith David',\n",
       " ' Steve Buscemi',\n",
       " ' John Goodman',\n",
       " ' Morgan Freeman',\n",
       " ' Christopher Walken',\n",
       " ' Stanley Tucci',\n",
       " ' Mike Starr']"
      ]
     },
     "execution_count": 32,
     "metadata": {},
     "output_type": "execute_result"
    }
   ],
   "source": [
    "top_nodes"
   ]
  },
  {
   "cell_type": "code",
   "execution_count": null,
   "id": "cf01f6dc",
   "metadata": {},
   "outputs": [],
   "source": []
  }
 ],
 "metadata": {
  "kernelspec": {
   "display_name": "Python 3 (ipykernel)",
   "language": "python",
   "name": "python3"
  },
  "language_info": {
   "codemirror_mode": {
    "name": "ipython",
    "version": 3
   },
   "file_extension": ".py",
   "mimetype": "text/x-python",
   "name": "python",
   "nbconvert_exporter": "python",
   "pygments_lexer": "ipython3",
   "version": "3.10.9"
  }
 },
 "nbformat": 4,
 "nbformat_minor": 5
}
