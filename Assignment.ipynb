{
 "cells": [
  {
   "cell_type": "markdown",
   "id": "56a82182",
   "metadata": {},
   "source": [
    "GitHub: https://github.com/vidisha04/02467-CSS.git\n",
    "Group Members:\n",
    "* Vidisha Sinha: s204081\n",
    "* Mads Andersen: s204137"
   ]
  },
  {
   "cell_type": "markdown",
   "source": [
    "# Part 1 - Webscraping the 2019 poster and oral presentations\n",
    "Now we hav to scrape the two sessions both the oral and poster, at the same time the following questions will be answered:\n",
    "1) Inspect the HTML of the pages above and use web-scraping to get the set of participants in 2019. Share your code and add comments to guide us through it.\n",
    "2) How many unique researchers you got in 2019?\n",
    "3) Explain one or two decisions you took during the web-scraping exercise, for 2019 or any other year. Why did you take this choice? How might your decision impact the final number of authors?"
   ],
   "metadata": {
    "collapsed": false
   }
  },
  {
   "cell_type": "code",
   "execution_count": 3,
   "id": "234ad699",
   "metadata": {},
   "outputs": [],
   "source": [
    "#Imports\n",
    "import requests\n",
    "from bs4 import BeautifulSoup\n",
    "import pandas as pd\n",
    "import time\n",
    "from tqdm.notebook import tqdm\n",
    "import json"
   ]
  },
  {
   "cell_type": "markdown",
   "source": [
    "### Scraping the oral presentations\n",
    "For this session it can be seen from the html that each presentation is marked with the <br> tag, for finding every presentation the ``soup.findall()´´  function can be used."
   ],
   "metadata": {
    "collapsed": false
   }
  },
  {
   "cell_type": "code",
   "execution_count": 2,
   "outputs": [
    {
     "name": "stdout",
     "output_type": "stream",
     "text": [
      "[<strong>Rooms per track during main conference</strong>, ' Keynotes', ' Track A', ' Track B (except 1B on Thu)', ' Track C', ' Track D (except 1D & 2D on Thu)', ' Track E', ' Track F', ' – Thursday July 18, 11:00 – 12:30 ', <em>Chair: Ziv Epstein</em>, '11:00 – 11:15 – Jieyu Ding, Qiusi Sun, Jingwen Zhang. Classifying and Understanding the Semantic Structures of Vaccine Misinformation on Twitter', '11:15 – 11:30 – Mahmoudreza Babaei, Juhi Kulshrestha, Abhijnan Chakraborty, Elissa M. Redmiles, Meeyoung Cha, Krishna Gummadi. Analyzing Biases in Perception of Truth in News Stories and Their Implications for Fact Checking', '11:30 – 11:45 – Alexandre Bovet, Hernan Makse. Dynamics and influence of misinformation and traditional fact-based news in Twitter', '11:45 – 12:00 – Ziv Epstein, Mohsen Mosleh, Antonio Arechar, Gordon Pennycook, David Rand. Primed for accuracy: A cognitive approach to fighting misinformation on Twitter', '12:00 – 12:15 – Sunandan Chakraborty, Tarunima Prabhakar, Joyojeet Pal –', 'Dissecting Fake News: Understanding the Dynamics of False Information spread in India', ' – Thursday July 18, 11:00 – 12:30 ', <em>Chair: Milan Janosov</em>, '11:00 – 11:15 – Kangsan Lee, Jaehyuk Park, Yong-Yeol Ahn. Valuing Art: Professional vs. Algorithm', '11:15 – 11:30 – Milan Janosov, Federico Battiston, Gerardo Iñiguez, Federico Musciotto. Success and mentorship in electronic music', '11:30 – 11:45 – Sophie Cho, Michael Mauskapf. Unpacking the Ecological Dynamics of Cultural Products: Evidence from Popular Music', '11:45 – 12:00 – Susumu Nagayama, Hitoshi Mitsuhashi. Expandable and Extendable Root Concepts', '12:00 – 12:15 – Ramona Roller, Frank Schweitzer. Network regression reveals factors driving the letter communication of 16th century reformators', ' – Thursday July 18, 11:00 – 12:30 ', <em>Chair: Pietro Panzarasa </em>, '11:00 – 11:15 – Chao Min, Yi Bu, Jianjun Sun, Ying Ding. Is scientific novelty reflected in citation patterns?', '11:15 – 11:30 – Frank van der Wouden, Gianluca Carnabuci, Hyejin Youn. What lies in the “adjacent possible”? Why some knowledge combinations are more likely to drive innovation than others', '11:30 – 11:45 – George Richardson, Juan Mateos-Garcia. Detecting Innovation Through Combination', '11:45 – 12:00 – Milad Abbasiharofteh, Tom Broekel. Still in the Shadow of the Wall: the Case of the Berlin Biotech Sector', '12:00 – 12:15 – Benjamin Meindl, Morgan R. Frank, Joana Mendonça. Patents as a proxy for technological impact on the future of work', ' – Thursday July 18, 11:00 – 12:30 ', <em>Chair: Milena Tsvetkova</em>, '11:00 – 11:15 – Eszter Bokanyi, Aniko Hannak. Simulating income distribution inequalities in ride-sharing services', '11:15 – 11:30 – Tarik Roukny, Benjamin Vandermarliere, Milan van den Heuvel, Koen Schoors. The wealth origins of income mobility', '11:30 – 11:45 – Yannick Léo, Eric Fleury, Carlos Sarraute, Márton Karsai. Socioeconomic inequalities and their consequences on network formation and purchase behaviour', '11:45 – 12:00 – Jaime Oliver, Marta Rivera-Alba, Diego Pérez, Antonio Molins, Edgar Morales Ramírez, Ricardo Buera Corchón. Elasticity divergence across socioeconomic levels: evidence from Mexico', '12:00 – 12:15 – Judith Kas, Rense Corten, Arnout van de Rijt. Digital discrimination – the role of reputation systems', ' – Thursday July 18, 11:00 – 12:30 ', <em>Chair: Joris Broere</em>, '11:00 – 11:15 – Joris Broere, Vincent Buskens, Henk Stoof, Angel Sánchez. Network effects on coordination in asymmetric games', '11:15 – 11:30 – Pradip Swarnakar, Satyam Mukherjee. Dynamics of collaboration: A social network analysis of non-state actors in United Nations climate change side-event meetings', '11:30 – 11:45 – Hendrik Nunner, Chris Janssen, Wojtek Przepiorka. The role of reinforcement learning in the emergence of conventions: Simulation experiments with the volunteer’s dilemma', '11:45 – 12:00 – Yan Leng, Xiaowen Dong, Alex Pentland. Learning Network Structure in Linear Quadratic Games', '12:00 – 12:15 – Daniele Guariso, Omar Guerrero, Ulrich Matter. Uncovering Hidden Cooperation in the UNGA', ' – Thursday July 18, 11:00 – 12:30 ', <em>Chair: Robert West </em>, '11:00 – 11:15 – Joseph D. O Brien, Ioannis K. Dassios, James P. Gleeson. Spreading of Memes on Multiplex Networks', '11:15 – 11:30 – Manoel Horta Ribeiro, Kristina Gligoric, Robert West. Message Distortion in Information Cascades', '11:30 – 11:45 – Chico Camargo, Scott Hale. Null models for opinion dynamics', '11:45 – 12:00 – Chathika Gunaratne, Chathurani Senevirathna, Chathura Jayalath, Nisha Baral, William Rand, Ivan Garibay –', 'A Multi-Action Cascade Model of Conversation', '12:00 – 12:15 – Balazs Lengyel, Riccardo Di Clemente, János Kertész, Marta González. The role of geography in the complex diffusion of innovations', ' – Thursday July 18, 16:30 – 18:00 ', <em>Chair: Rense Corten</em>, '16:30 – 16:45 – Ronald Robertson, Christo Wilson, David Lazer. Fake News and Information Seeking during the 2018 U.S. Congressional Elections', '16:45 – 17:00 – Lorien Jasny, Dana Fisher, Philip Leifeld, Tim Henrichsen. Comparing Elite Attitudes on Climate Change from Multiple Data Sources: Survey, Policy Documents, and Twitter', '17:00 – 17:15 – Stiene Praet, Peter Van Aelst, David Martens. Predictive modeling on Facebook likes to gain insights in voter profiles in a multi-party system', '17:15 – 17:30 – Quinten Meertens, Arnout van Delden, Sander Scholtus, Frank Takes. Bias Correction for Predicting Election Outcomes with Social Media Data', '17:30 – 17:45 – Emre Calisir, Marco Brambilla. Analysis of On-line Debate on Long-Running Political Phenomena: the Case of the Brexit Referendum', ' – Thursday July 18, 16:30 – 18:00 ', <em>Chair: Chao Min </em>, '16:30 – 16:45 – Bedoor Alshebli, Talal Rahwan, Wei Lee Woon. The Preeminence of Ethnic Diversity in Scientific Collaboration', '16:45 – 17:00 – Aliakbar Akbaritabar, Flaminio Squazzoni. Quantitative sociology of academic work', '17:00 – 17:15 – Bedoor Alshebli, Kinga Makovi, Talal Rahwan. Age Diversity Increases Scientific Impact', '17:15 – 17:30 – Jichao Li, Yian Yin, Santo Fortunato, Dashun Wang. Nobel laureates in science revisited: Patterns of productivity, collaboration, and impact', '17:30 – 17:45 – Lu Liu, Yang Wang, Roberta Sinatra, C. Lee Giles, Chaoming Song, Dashun Wang. Hot streaks in artistic, cultural and scientific careers', ' – Thursday July 18, 16:30 – 18:00 ', <em>Chair: Kayla de la Haye</em>, '16:30 – 16:45 – Zijian Wang, Scott Hale, David Adelani, Przemyslaw Grabowicz, Timo Hartmann, Fabian Flöck, David Jurgens. Demographic Inference and Representative Population Estimates from Multilingual Social Media Data', '16:45 – 17:00 – Thomas Baudin, Robert Stelter. The Rural Exodus and the Rise of Europe', '17:00 – 17:15 – Daniel Ciganda, Nicolas Todd. Micro-level Dynamics Behind the Recuperation of Fertility at Higher Development Levels: A Computational Modelling Approach', '17:15 – 17:30 – Ravi Bhavnani, Karsten Donnay, Mirko Reul. Modeling the Subnational Risk of Acute Malnutrition in Conflict-Affected Settings', '17:30 – 17:45 – Abigail Horn, Hanno Friedrich, Kayla de la Haye. Integrating human mobility data and network models of the food supply to trace foodborne disease outbreak sources', ' – Thursday July 18, 16:30 – 18:00 ', <em>Chair: Maria Bolsinova</em>, '16:30 – 16:45 – Mohsen Mosleh, Gordon Pennycook, David Rand. Digital Fingerprints of Cognitive Reflection', '16:45 – 17:00 – No presentation: Ming Yin, Duncan Watts. Human Complex Problem Solving: The Case of Constraint Satisfaction Optimization Problems', '17:00 – 17:15 – Marco De Nadai, Angelo Cardoso, Antonio Lima, Bruno Lepri, Nuria Oliver. Apps, Places and People: strategies, limitations and trade-offs in the physical and digital worlds', '17:15 – 17:30 – Alexandra Olteanu, Fernando Diaz, Gabriella Kazai, Luke Stark, Mohamed Musbah. What Makes Automated Suggestions Problematic? A Broader Viewpoint', '17:30 – 17:45 – Maria Bolsinova, Matthieu Brinkhuis, Abe Hofman, Han van der Maas, Gunter Maris. Urning: a rating system', ' – Thursday July 18, 16:30 – 18:00 ', <em>Chair: Johannes Wachs</em>, '16:30 – 16:45 – Sanja Hajdinjak, Marcella Morris, Tyler Amos. Migration Policy Framing in Elite Discourse – Evidence from Canada and the US', '16:45 – 17:00 – Anna Shirokanova, Olga Silyutina. Shifts and Continuities in the Discourse on Internet Regulation in Russia', '17:00 – 17:15 – Johannes Wachs, Taha Yasseri, Balazs Lengyel, Janos Kertesz. Community Social Structure and Corruption', '17:15 – 17:30 – Isak Ladegaard. Open Secrecy: How Shocks and Creative Problem-Solving Brought Illegal Markets out of the Shadow', '17:30 – 17:45 – No Presentation', ' – Thursday July 18, 16:30 – 18:00 ', <em>Chair: David Schoch</em>, '16:30 – 16:45 – Anna Di Natale, David Garcia. Subcritical Social Impact and Sentiment in Twitter', '16:45 – 17:00 – Kiran Garimella, Robert West. Analyzing and Modeling Individual Impact on Social Media', '17:00 – 17:15 – Kristina Gligoric, Ashton Anderson, Robert West. Effects of Conciseness in Social Media', '17:15 – 17:30 – Felix Victor Münch, Ben Thies, Cornelius Puschmann, Axel Bruns. Mining Influencers in the German Twittersphere', '17:30 – 17:45 – Jan Overgoor, Bogdan State, Lada Adamic. The structure of U.S. college networks on Facebook', ' – Friday July 19, 10:50 – 12:20 ', <em>Chair: Sandra Gonzalez-Bailon</em>, '10:50 – 11:05 – Jisun An, Gianmarco De Francisci Morales, Haewoon Kwak, Yelena Mejova. Modeling Gun Culture in United States: Demographics, Networks, Ideologies', '11:05 – 11:20 – Adam Pah, John Hagan, Luis Amaral. Findings of systematic mass shooting imitation in American schools are an aggregation and data artifact', '11:20 – 11:35 – Johannes Gruber. Troublemakers in the streets? A framing analysis of newspaper coverage of protests in the UK 1992-2016', '11:35 – 11:50 – Erdem Yörük, Ali Hürriyetoğlu, Çağrı Yoltar, Fırat Duruşan. Validity and Generalizability in Automated Protest Information Collection', '11:50 – 12:05 – No Presentation', ' – Friday July 19, 10:50 – 12:20 ', <em>Chair: Duncan Watts</em>, '10:50 – 11:05 – Amit Sharma, Jake Hofman, Duncan Watts. Replication and reliability in computational social science', '11:05 – 11:20 – No presentation: Youyou Wu, Yang Yang, Brian Uzzi. A Machine and Human Intelligence Approach to the Replication Problem in Science', '11:20 – 11:35 – Forough Poursabzi-Sangdeh, Dan Goldstein, Jake Hofman, Jennifer Wortman Vaughan, Hanna Wallach. Manipulating and Measuring Model Interpretability', '11:35 – 11:50 – Jake Hofman, Dan Goldstein, Jessica Hullman. The effect of (not) presenting effect sizes: How the standard way of presenting scientific results leads to overestimation of treatment effects', '11:50 – 12:05 – Chung-Hong Chan, Joseph Bajjalieh, Loretta Auvil, Hartmut Wessler,Scott Althaus, Kasper Welbers, Wouter van Atteveldt. Using ‘off-the-shelf’ sentiment dictionaries without revalidation: a p-hacking experiment', ' – Friday July 19, 10:50 – 12:20 ', <em>Chair: Rense Corten</em>, '10:50 – 11:05 – Ching Jin, Chaoming Song, Johannes Bjelland, Geoffrey Canright, Dashun Wang. Emergence of Scaling in Complex Substitutive Systems', '11:05 – 11:20 – Yohsuke Murase, Janos Török, Hang-Hyun Jo, Kimmo Kaski, Janos Kertesz. Agent Based Modeling of the Network of Social Interactions', '11:20 – 11:35 – Alexandru-Ionut Babeanu, Jorinde van de Vis, Diego Garlaschelli. When cultural dynamics meets the real world: the reduced relevance of social influence simulations', '11:35 – 11:50 – Ivan Garibay, Madeline Schiappa, Georgios Anagnostopoulos, Christina Bouwens, Stephen M. Fiore, Heather Keathley, Alexander Mantzaris, John T. Murphy, William Rand, Anastasia Salter, Mel Stanfill, Gita Sukthankar, Nisha Baral, Anamaria Berea, Chathika Gunaratne , Neda B. Hajiakhoond , Gabriel Fair , Jasser Jasser, Chathura Jayalath, Ece Mutlu, Olivia Newton, Amirarsalan Rajabi, Samaneh Saadat, Steve R. Scheinert, Chathurani Senevirathna, Rachel Winter, Xi Zhang. Deep Agent: Computational Social Science Centered Simulation of Online Information Environments', '11:50 – 12:05 – Qiusi Sun, Martin Hilbert. A Computational Mechanics Approach to Trolling and its Contagion', ' – Friday July 19, 10:50 – 12:20 ', <em>Chair: David Rozado</em>, '10:50 – 11:05 – Dimitrios Milioris. Document Clustering via Joint Complexity', '11:05 – 11:20 – Marc-Etienne Brunet, Ashton Anderson, Richard Zemel. Investigating the Composition of Documents Affecting Bias in Word Embeddings', '11:20 – 11:35 – Philippa Shoemark, Farhana Ferdousi Liza, Scott Hale, Dong Nguyen, Barbara McGillivray. Systematic Comparison of Semantic Change Detection Approaches with Word Embeddings', '11:35 – 11:50 – Zoltán Kmetty, Júlia Koltai, Tamás Rudas. The presence of social structure in online texts based on word embedding NLP models', '11:50 – 12:05 – David Rozado. Using word embeddings to analyze how universities conceptualize the term “diversity” in their online institutional presence', ' – Friday July 19, 10:50 – 12:20 ', <em>Chair: Morgan Frank</em>, '10:50 – 11:05 – Lukas Fervers, Janina Beckmann, Joachim Piepenburg, Marita Jacob. Pull out all the stops: Combining survey and field experiment with machine learning methods to analyse the role of risk aversion for occuptional choice.', '11:05 – 11:20 – Takanori Nishida, Yoshiki Ishikawa. Dynamic Network Signatures of Job Change: Evidence from a Large Business Social Network', '11:20 – 11:35 – Esteban Moro, Morgan Frank, Alex Rutherford, Manuel Cebrian, Iyad Rahwan. Universal resilience of labor markets', '11:35 – 11:50 – Hee Youn Kwon, Lijun Sun, Morgan Frank, Hyejin Youn, Cesar Hidalgo, Iyad Rahwan. Industrial Topics in Urban Labor System', '11:50 – 12:05 – Morgan Frank, Esteban Moro, Alex Rutherford, Iyad Rahwan –', 'The hidden constraints on worker mobility: how workplace skills determine a worker’s next move', ' – Friday July 19, 10:50 – 12:20 ', <em>Chair: Milena Tsvetkova </em>, '10:50 – 11:05 – Christos Nicolaides, Dean Eckles. Social Influence and Habits in Exercise: A Field Experiment', '11:05 – 11:20 – William Cai, Johan Ugander. Experience-Driven Peer Effects: Evidence from a Large Scale Natural Experiment', '11:20 – 11:35 – Abhishek Samantray,Massimo Riccaboni. Peer influence of production and consumption behaviour in an online social network of collective learning', '11:35 – 11:50 – Yan Leng, Tara Sowrirajan, Alex Pentland. Measuring heterogeneous social influence within and across homophilous communities', '11:50 – 12:05 – Johan Koskinen, Galina Daraganova –', 'Bayesian Analysis of Social Influence', ' – Friday July 19, 16:30 – 18:00 ', <em>Chair: Rebekah Tromble</em>, '16:30 – 16:45 – Philipp Lorenz-Spreen, Bjarke Mørch Mønsted, Philipp Hövel, Sune Lehmann. The acceleration of collective attention', '16:45 – 17:00 – Cristian Candia Vallejos, Cristian Jara Figueroa, Carlos Rodriguez Sickert, Albert Laszlo Barabasi, Cesar Hidalgo. The Universal Decay of Collective Memory and Attention', '17:00 – 17:15 – Rebekah Tromble, Dong Nguyen. A New Dataset for Evaluating the Quality of Online News', '17:15 – 17:30 – Charles Howland, Duncan Watts, David Rothschild, Marcel Wittich, Jennifer Allen, Melissa Ellamil, Markus Mobius. The Invisible Gorilla: TV news consumption vastly outweighs online for most Americans', '17:30 – 17:45 – Subhayan Mukerjee. Networked News Reading Publics: Using Networks to Understand News Consumption in India', ' – Friday July 19, 16:30 – 18:00 ', <em>Chair: Ridhi Kashyap </em>, '16:30 – 16:45 – Stefan Wojcik, Shawnna Mullenax. Looks Can Be Confirming: The Effects of Gendered Candidate Appearance on Vote Choice', '16:45 – 17:00 – Anna May, Aniko Hannak, Gabor Bekes. Dissecting the Gender Gap in Entrepreneurial Ambitions and Success', '17:00 – 17:15 – Peter Barbrook-Johnson, Andrew King, Sait Bayrakdar. An agent-based model of LGBTQI workplace inequality', '17:15 – 17:30 – Ridhi Kashyap, Florianne Verkroost, Reham Al Tamime, Masoomali Fatehkia, Ingmar Weber. Measuring global gender inequality indicators with large-scale online advertising data', '17:30 – 17:45 – Pasquale De Meo, Iacopo Pozzana, Ylli Prifti, Alessandro Provetti. The dynamics of recommendation in high-trust personal care services', ' – Friday July 19, 16:30 – 18:00 ', <em>Chair: Kirk Bansak</em>, '16:30 – 16:45 – Theresa Gessler, Johannes Wachs, Gergő Tóth. No country for asylum seekers? How short-term exposure to refugees influences attitudes and voting behavior in Hungary', '16:45 – 17:00 – Jaehyuk Park, Ian Wood, Yizhi Jing, Azadeh Nematzadeh, Souvik Ghosh, Michael Conover, Yong-Yeol Ahn. Global labor flow network reveals the hierarchical organization and dynamics of geo-industrial clusters inthe world economy', '17:00 – 17:15 – Laszlo Lorincz, Brigitta Németh. Network effects in internal migration', '17:15 – 17:30 – No presentation (cancelled). Elizabeth Dekeyser – Local governments and Native Attitudes Toward Immigration', '17:30 – 17:45 – Yerka Freire-Vidal, Eduardo Graells-Garrido. Characterization of Local Attitudes Toward Immigration Using Social Media', ' – Friday July 19, 16:30 – 18:00 ', <em>Chair: Henry Smart III</em>, '16:30 – 16:45 – Alejandro Noriega Campero, Michiel Bakker, Bernardo Garcia Bulle, Alex Pentland. Active Fairness in Algorithmic Decision-Making', '16:45 – 17:00 – Lisa Merten, Nadia Metoui, Mykola Makhortykh, Damian Trilling, Judith Moeller.\\xa0', 'News won’t find me? Exploring potential digital inequalities in social media news use', '17:00 – 17:15 – Daniele Romanini, Sune Lehmann Jørgensen, Mikko Kivelä. Privacy and Anonymization of Neighborhoods in Social Networks', '17:15 – 17:30 – Marcin Waniek, Kai Zhou, Yevgeniy Vorobeychik, Esteban Moro, Tomasz P. Michalak, Talal Rahwan. Individuals Can Hide Their Own Relationships from Link Prediction Algorithms', '17:30 – 17:45 – Henry Smart Iii. Operationalizing a Conceptual Model of Colorism in Local Policing', ' – Friday July 19, 16:30 – 18:00 ', <em>Chair: Johan Koskinen</em>, '16:30 – 16:45 – Telmo Menezes, Camille Roth. Families of Generative Processes for Social Networks', '16:45 – 17:00 – George Vega Yon, Kayla de la Haye. Exact Statistics and Semiparametric Tests for Small Network Data', '17:00 – 17:15 – Vincent Antonio Traag, Ludo Waltman, Nees Jan Van Eck. From Louvain to Leiden: guaranteeing well-connected communities', '17:15 – 17:30 – Edwin de Jonge, Jan van de Laan. Overlap in a large and real co-worker, family and neighbor network', '17:30 – 17:45 – Luca Maria Aiello, Sebastian Deri, Jérémie Rappaz, Daniele Quercia. The Human Perception of Social Relationships', ' – Friday July 19, 16:30 – 18:00 ', <em>Chair: Rense Corten</em>, '16:30 – 16:45 – Lushi Chen, Walid Magdy, Maria Wolters. Online Community Engagement when Talking About Infidelity: The Case of Reddit', '16:45 – 17:00 – Isaac Waller, Ashton Anderson. Identifying the Cultural Geometry of Online Communities', '17:00 – 17:15 – Daniel Larremore, Swapnil Gavade, Elizabeth Bruch. Structured Hierarchy in Online Dating Networks: 20,000 Leagues Under the City', '17:15 – 17:30 – Martin Hilbert, David Darmon – Patterns of Algorithmification: How Dumb and Predictable Bots Make Organization More Complex and Unpredictable', '17:30 – 17:45 – Nikolas Zöller, Jonathan H. Morgan, Tobias Schröder. Group interaction on Github: a typology', ' – Saturday July 20, 10:50 – 12:20 ', <em>Chair: David Schoch </em>, '10:50 – 11:05 – Subhayan Mukerjee, Kokil Jaidka, Yphtach Lelkes. Echo Chambers and Affective Polarization: A Twitter Field Experiment', '11:05 – 11:20 – Pei Zhou, Yupeng Gu, Mason A. Porter, Yizhou Sun. Automated Detection of Politically-Polarized Words in Online Discussions', '11:20 – 11:35 – David Schoch. Analyzing Political Engagement on Reddit: From left vs. far-left to left vs. far-right', '11:35 – 11:50 – Uma Maheswari Gollapudi, Rahul Arulkumaran, Manikumar Perla, Sai Hitesh Jonnalagadda, Dr. Amitava Das, Sunny Rai. Understanding User Vulnerability Towards Radicalization On Twitter', '11:50 – 12:05 – Marco Schmitt, Alina Vogelgesang, Stella Neumann, Oliver Hohlfeldt, Jennifer Fest, Helge Reelfs. Discerning context from the temporal analysis of polarized online networks –The Case of Twitter on #chemnitz', ' – Saturday July 20, 10:50 – 12:20 ', <em>Chair: Bedoor AlShebli </em>, '10:50 – 11:05 – (Moved to 3D Text Analysis) Ivan Smirnov. When magic outperforms horoscopes: predicting students’ academic performance from their short texts on social media', '11:05 – 11:20 – Cristian Candia Vallejos, Sara Encanaçao, Flavio Pinheiro –', 'The Higher Education Space, Connecting Degree Programs from Individuals’ Choices', '11:20 – 11:35 – Alejandro Espinosa-Rada. Micro-explanations for multilevel scientific networks: A stochastic actor-oriented model in a scientific discipline', '11:35 – 11:50 – Ching Jin, Binglu Wang, Chaoming Song, Johannes Bjelland, Geoffrey Canright, Brian Uzzi, Dashun Wang. Preferential Abandonment induces Structural Collapse in Robust Networks: Evidence from Scientific Fields and Technology Products', '11:50 – 12:05 – Yian Yin, Yang Wang, James Evans, Dashun Wang. Quantifying Dynamics of Failures across Science, Startups, and Security', ' – Saturday July 20, 10:50 – 12:20 ', <em>Chair: Aniko Hannak </em>, '10:50 – 11:05 – Anna May, Johannes Wachs, Aniko Hannak. Gender Differences in Participation and Reward on Stack Overflow', '11:05 – 11:20 – Muyang Li, Zhifan Luo. Can New Media Become the ‘New Equalizer’?: Evaluate Social Media’s Impact on Gender Stereotype in China', '11:20 – 11:35 – Alina Arseniev-Koehler. Gender Equal or Gender Neutral? Gender Connotations in Gender Fair Language', '11:35 – 11:50 – Petter Törnberg. Gender advertising on Instagram: Studying gender performance through Big Data photographs', '11:50 – 12:05 – Adam Hughes, Onyi Lam, Stefan Wojcik. Auditing Gender Bias in Image Search Algorithms', ' – Saturday July 20, 10:50 – 12:20 ', <em>Chair: Milena Tsvetkova</em>, '10:50 – 11:05 – Milena Tsvetkova, Oana Vuculescu, Claudia Wagner. The Effect of Visibility of Endowment Heterogeneity and Wealth on Inequality', '11:05 – 11:20 – Yuan Yuan, Dean Eckles, Alex Pentland. Does Prosocial Contagion Increase Inequality? A Large-Scale Online Field Experiment', '11:20 – 11:35 – Fabrizio Germano, Gomez Vicenç, Gael Le Mens. The Few-get-richer: A Surprising Consequence of Popularity-based Rankings', '11:35 – 11:50 – Sandro Lera, Nate Dwyer, Alex Pentland. Fair, Stable Exchange Networks through Quenched Merchant Location and Idiosyncratic Trading Costs', '11:50 – 12:05 – Andreia Sofia Teixeira, Francisco C. Santos, Alexandre P Francisco, Fernando P. Santos. For a fair world, which nodes should have the last word in multiplayer ultimatum bargaining?', ' – Saturday July 20, 10:50 – 12:20 ', <em>Chair: Rense Corten</em>, '10:50 – 11:05 – Abdullah Almaatouq, Ming Yin, Duncan Watts –', 'Optimal Team Construction for a Complex Task', '11:05 – 11:20 – Jeremy Burke, Ramon Gras, Oren Lederman, Sandy Pentland, Fiona Murray. Impact of Architectural Space Typologies and Human Interaction Patterns on the Performance of Startup Teams operating in Entrepreneurship Incubator Centers: The Case of MIT DeltaV Program at the MIT Martin Trust Center', '11:20 – 11:35 – Abigail Jacobs, Duncan Watts. When does network structure matter? A comparative study of informal network structure in firms', '11:35 – 11:50 – Andrea Cavicchini. The external influences on organizational culture: CEO awards and biased perceptions of organizational culture', '11:50 – 12:05 – Kyriacos Vitalis, Christos Nicolaides, George Pallis, Dimosthenis Stefanidis, Nicos Nicolaou, Marios Dikaiakos. The role of online social networking on founders’ economic success', ' – Saturday July 20, 10:50 – 12:20 ', <em>Chair: Kayla de la Haye</em>, '10:50 – 11:05 – Adina Nerghes, Ju-Sung Lee. A socio-semantic study of positions and perspectives on the European refugee crisis in Twitter', '11:05 – 11:20 – Aleksandra Nenko, Marina Petrova. Emotional Network of the City Public Space: a Framework for Research and Evidence based on PPGIS Data', '11:20 – 11:35 – Bernard Koch, Daniele Silvestro, Jacob G. Foster. The Birth and Death of Cultural Things: Explaining Cultural Change Through Bayesian Analysis of Diversification Rates', '11:35 – 11:50 – Nina Savela, David Garcia, Max Pellert, Atte Oksanen. The influence of social context and terminology on emotions expressed in robot-related social media conversations', '11:50 – 12:05 – Marijn ten Thij, Johan Bollen, Luis M. Rocha. Detecting eigenmoods in individual human emotions.', ' – Saturday July 20, 13:30 – 15:00 ', <em>Chair: David Garcia </em>, '13:30 – 13:45 – Flavio Pinheiro, Vítor V. Vasconcelos, Simon A. Levin. From Consensus to Polarization of Opinions in Complex Contagion', '13:45 – 14:00 – Simon Schweighofer, Frank Schweitzer, David Garcia. A Balance Model of Opinion Hyperpolarization', '14:00 – 14:15 – Fredrik Jansson, Pontus Strimling, Irina Vartanova, Kimmo Eriksson. Moral Foundations and Opinion Change', '14:15 – 14:30 – Akira Ishii, Yasuko Kawahata. New opinion dynamics theory considering trust and distrust in human relations and mass media effects', '14:30 – 14:45 – Samin Aref, Zachary Neal. Analyzing the impact of polarization and bipartisanship on legislative effectiveness through balance and partitioning of signed networks', ' – Saturday July 20, 13:30 – 15:00 ', <em>Chair: Dashun Wang </em>, '13:30 – 13:45 – Riccardo Gallotti, Manlio De Domenico. Collective effects of individual decisions – the case of the Nobel Prize', '13:45 – 14:00 – Ching Jin, Yifang Ma, Brian Uzzi. The Midas Touch: Quantifying the Impact of Awards on Scientific Developments', '14:00 – 14:15 – Ali Faqeeh, Filippo Radicchi, James Gleeson. Which cited papers are more important to a manuscript? Analysis of citation patterns in open access manuscripts', '14:15 – 14:30 – Lovro Šubelj, Ludo Waltman, Vincent Antonio Traag, Nees Jan Van Eck. Intermediacy of publications', '14:30 – 14:45 – Shubhanshu Mishra, Brent D. Fegley, Jana Diesner, Vetle I. Torvik. Self-citation is the hallmark of productive authors, of any gender', ' – Saturday July 20, 13:30 – 15:00 ', <em>Chair: Scott Hale</em>, '13:30 – 13:45 – Chico Camargo, Jonathan Bright, Scott Hale. Diagnosing the Performance of Human Mobility Models Using Volunteered Geographic Information', '13:45 – 14:00 – Christa Brelsford, Rudy Arthur, Hywel Williams. Regional Delineation from Twitter', '14:00 – 14:15 – Andrea Ballatore, Alexandra Pang, Iacopo Pozzana, Ylli Prifti, Alessandro Provetti. Geo-referencing as a connector between user reviews and urban environment quality', '14:15 – 14:30 – Yifan Qian, Luca Verginer, Massimo Riccaboni, Pietro Panzarasa –', 'Measuring the Social Diversity of Cities in Mobility and Scientific Collaboration Networks', '14:30 – 14:45 – Lisette Espín-Noboa, Florian Lemmerich, Simon Walk, Markus Strohmaier, Mark Musen. HopRank: How Semantic Structure Influences Teleportation in PageRank', ' – Saturday July 20, 13:30 – 15:00 ', <em>Chair: Rense Corten</em>, '13:30 – 13:45 – Arnout van de Rijt, Vincenz Frey. Social Influence Undermines the Wisdom of the Crowd in Sequential Decision-Making', '13:45 – 14:00 – Jesse Shore, Alice Jang, Ethan Bernstein. Social network centralization and collective intelligence: a randomized experiment', '14:00 – 14:15 – Kirill Martynov, Kiran Garimella, Robert West. Crowdsourced Estimation of Human Height and Weight', '14:15 – 14:30 – Niccolo Pescetelli, Alex Rutherford, Iyad Rahwan. Divide and Forecast: When is Diversity Good for Collective Intelligence?', '14:30 – 14:45 – Gian Maria Campedelli. On Terrorism Memory and Predictability via Graph-Derived Multivariate Time Series: Integrating Meta-Networks and Deep Learning', ' – Saturday July 20, 13:30 – 15:00 ', <em>Chair: Ashton Anderson</em>, '13:30 – 13:45 – Gabriela Molina León, Hendrik Heuer, Andreas Breiter. Co-creation in Computational Social Science: Lessons learned', '13:45 – 14:00 – George Lifchits, Ashton Anderson, Jake Hofman, Daniel Goldstein, Duncan Watts. The Importance of Studying Failures When Predicting Success', '14:00 – 14:15 – Jakob Jünger. A brief history of APIs. How do social media providers shape the opportunities and limitations of online research?', '14:15 – 14:30 – Aleksandra Urman, Clara Christner, Silke Adam, Michaela Maier. Online tracking tools for research purposes: A critical review of existing approaches', '14:30 – 14:45 – Sicheng Dai, Márton Karsai, Hélène Bouchet, Eric Fleury, Jean-Pierre Chevrot, Aurelie Nardy. Interaction reconstruction methods for large-scale RFID social experiments', '14:45 – 15:00 – Justin Chun-Ting Ho –', ' – Saturday July 20, 13:30 – 15:00 ', <em>Chair: Eelke Heemskerk</em>, '13:30 – 13:45 – No presentation: Eelke Heemskerk, Dafne van Kuppevelt, Frank Takes.\\xa0', 'Community Structure Dynamics as Early Warning Signals for Corporate Elite (Dis)Integration', '13:45 – 14:00 – Takayuki Mizuno, Mitsuhiro Odaka. Indirect dominance detection on a global shareholding network', '14:00 – 14:15 – Dieter Wang. Extracting mutual fund manager tastes using collaborative filtering methods', '14:15 – 14:30 – Javier Garcia-Bernardo. Now You See Me: Geography of professional tax services', '14:30 – 14:45 – Simone Centellegher, Giovanna Miritello, Daniel Villatoro, Devyani Parameshwar, Bruno Lepri, Nuria Oliver. Understanding and predicting Mobile Money adoption and use']\n"
     ]
    }
   ],
   "source": [
    "url = \"https://2019.ic2s2.org/oral-presentations/\"\n",
    "response = requests.get(url)\n",
    "\n",
    "soup = BeautifulSoup(response.text, \"html.parser\")\n",
    "\n",
    "researchers = soup.find_all(\"br\")\n",
    "researchers = [i.previous_sibling for i in researchers]\n",
    "\n",
    "print(researchers)\n",
    "researchers = researchers[9:] #Some tags in the beginning are included which can simply be cut out"
   ],
   "metadata": {
    "collapsed": false
   }
  },
  {
   "cell_type": "markdown",
   "source": [
    "Now some formatting have to be doen by splitting on punctuations \".\" and dashes \"-\". Also in the last line of the code block we have to go from list of lists to just one list, simutaniously one can remove any whitespaces that may occur in befor each author."
   ],
   "metadata": {
    "collapsed": false
   }
  },
  {
   "cell_type": "code",
   "execution_count": 3,
   "outputs": [],
   "source": [
    "d = [str(i).split('.') for i in researchers]\n",
    "d = [i[0] for i in d]\n",
    "d = [i.split(' – ') for i in d]\n",
    "\n",
    "dt = []\n",
    "for i in d:\n",
    "  for j in i:\n",
    "    if ':' not in j and j != '':\n",
    "      dt.append(j)\n",
    "\n",
    "d = [i.split(',') for i in dt]\n",
    "d = [item[1:] if item[0] == ' ' else item for sublist in d for item in sublist]\n",
    "d = list(set(d)) # In order to remove duplicates a set of the list can be used"
   ],
   "metadata": {
    "collapsed": false
   }
  },
  {
   "cell_type": "code",
   "execution_count": 4,
   "outputs": [
    {
     "data": {
      "text/plain": "477"
     },
     "execution_count": 4,
     "metadata": {},
     "output_type": "execute_result"
    }
   ],
   "source": [
    "len(d) #Check the length of the author list"
   ],
   "metadata": {
    "collapsed": false
   }
  },
  {
   "cell_type": "markdown",
   "source": [
    "Now check if it looks right. We see that some titles are in the author data-set, because of this we can make the assumption that if any \"author-name\" is longer than 4 words we take it as a title."
   ],
   "metadata": {
    "collapsed": false
   }
  },
  {
   "cell_type": "code",
   "execution_count": 5,
   "outputs": [],
   "source": [
    "oral_presenters = d.copy()"
   ],
   "metadata": {
    "collapsed": false
   }
  },
  {
   "cell_type": "code",
   "execution_count": 6,
   "outputs": [],
   "source": [
    "name_length = lambda x: len(x.split(' '))\n",
    "\n",
    "oral_presenters = [name for name in oral_presenters if name_length(name) < 4]"
   ],
   "metadata": {
    "collapsed": false
   }
  },
  {
   "cell_type": "markdown",
   "source": [
    "Now check if the list again"
   ],
   "metadata": {
    "collapsed": false
   }
  },
  {
   "cell_type": "markdown",
   "source": [
    "### Scraping the poster session\n",
    "For this html "
   ],
   "metadata": {
    "collapsed": false
   }
  },
  {
   "cell_type": "code",
   "execution_count": 8,
   "outputs": [
    {
     "name": "stdout",
     "output_type": "stream",
     "text": [
      "['Program Program overviewAll keynotes & panelsAll oral presentationsAll poster presentationsAll tutorials', 'Warmup General informationJob FairDatathon', 'Attending / Local info Presenter informationList of delegatesRegistration———–Conference VenueTransportationAccommodationSocial EventsChild care', 'Organizers Conference ChairsProgram CommitteePrevious Editions', 'Frank Peter Pijpers\\xa0Hypothesis testing of causality between time series', 'Martin Lukac and André Grow\\xa0Recruiting mechanisms on online labour markets: an agent-based model', 'Kiran Garimella, Gianmarco De Francisci Morales, Aristides Gionis and Michael Mathioudakis\\xa0Political Discourse on Social Media: Echo Chambers, Gatekeepers, and the Price of Bipartisanship', 'Eaman Jahani, Peter Krafft, Yoshihiko Suhara, Esteban Moro and Alex Pentland\\xa0ScamCoins, S*** Posters, and the Search for the Next Bitcoin TM : Collective Sensemaking in Cryptocurrency Discussions', 'Gabriel Murray\\xa0Predicting Small Group Interaction Dynamics with Social Network Analysis', 'Ivan Smirnov and Sofia Dokuka\\xa0CSS Actually: exploring the computational social science community, its areas of interest, social structure and gender imbalance', 'Zhen Zhu, Bart Baesens and Xu Wang\\xa0On the Optimal Marketing Aggressiveness Level of C2C Sellers in Social Media: Evidence from China', 'Yifan Qian and Pietro Panzarasa\\xa0Intra- and inter-brokerage in social networks', 'Zhifan Luo\\xa0“Freewheeling Generals” and Inter-Elites Consensus in the U.S.: Evidence from Computer-Assisted Text Analysis', 'Annie Haakenstad, Margaret McConnell and Stephane Verguet\\xa0Modeling healthcare-seeking to estimate catastrophic health expenditure by disease', 'Hannes Rosenbusch, Ilse Pit, Florian Wanders\\xa0The Semantic Scale Network: An Online Tool to Detect Semantic Overlap and Redundancies of Measurement Scales in the Social Sciences', 'Mi Jin Lee, Eun Lee, Deok-Sun Lee and Sang Hoon Lee\\xa0Uncovering hidden mutual importance in networks via information entropy', 'André Grow and Jan Van Bavel\\xa0The Gender Cliff in the Relative Contribution to the Household Income: Insights from Modelling Marriage Markets in 27 European Countries', 'Valerie Hase, Kimon Kieslich, Katherine Engelke and Jing Zeng\\xa0The Best of Two Worlds? Combining Automated and Manual Content Analysis to Assess Media Coverage', 'Sjoerd Hooijmaaijers and Gert Buiten\\xa0Estimating the Dutch interfirm trade network', 'Francesco Granella\\xa0Pairwise speech distance in the U.S. Congress: a perspective on polarization', 'Jeroen Bruggeman\\xa0Cooperation for Public Goods Driven by Noise', 'Philipp Kling\\xa0Methodological Problems with Commercial User-Panels for Research on Social Media', 'Andrew Rosenberg\\xa0A Percolation Model of International Migration', 'Jan van der Laan and Edwin de Jonge\\xa0Measuring segregation using a network of the Dutch population', 'Anton Boichenko\\xa0Values in Rap: Topic Modelling of Russian Hip-Hop Stage', 'Yoosoon An\\xa0A Complexity Approach to North Korea Famine in 1990s : By Using Agent-Based Model', 'Huimin Xu, Lingfei Wu and Cheng-Jun Wang\\xa0The Hidden Shape of Stories Reveals Positivity Bias and Gender Bias', 'Zachary Steinert-Threlkeld and Jungseock Joo\\xa0Measuring The Effect of Violence and Cleavages on Social Movement Outcomes with Geolocated Twitter Images', 'Toshiya Saito and Takayuki Mizuno\\xa0Quantifying trends in innovative fields via Poisson-gamma dynamical systems', 'Emily Bello-Pardo, Carly Knight, Jeff Lockhart, Stan Oklobdzija, Iacopo Pozzana, Martijn Schoonvelde and Carsten Schwemmer\\xa0The Politics of Social Media Images: Potentials and Biases of Image Recognition Algorithms for Studying Congressional Behavior', 'Alessandro Cossard, Gianmarco De Francisci Morales, Yelena Mejova and Daniela Paolotti\\xa0Mapping the Anti-Vaccination Debate in Italy', 'Nicolas Cointe, Amineh Ghorbani and Caspar Chorus\\xa0Goal recognition, obfuscation-based decision making and cooperation', 'Nadezhda Sokolova and Mikhail Sokolov\\xa0Network approach to the analysis of taste: high-brow culture as a bridge across cultural holes', 'Marta Rivera-Alba, Alberto Sánchez-Carralero, Jaime Oliver and Luis C. Reyes\\xa0Housing as a sophisticated good based on the complexity of its consumers in Spain', 'Guy Laban\\xa0What Makes it Human? Users’ perceptions of agents’ animacy and intelligence', 'Bianca Kang and Ringo Ho\\xa0Do I stay? Exploring factors related to repeated advice-seeking on a relationship advice forum', 'Ryo Hamawaki, Junichi Ozaki, Kiyoshi Izumi, Takashi Shimada, Hiroyasu Matsushima and Hiroki Sakaji\\xa0Analysis of Investment Effect using MultiplexNetwork Simulation of Banks and Firms', 'Sahil Loomba, Till Hoffmann and Nick Jones\\xa0The Social Access Statistic: Linking Social Connectivity to Health Outcomes', 'Gergő Tóth, Johannes Wachs, Ákos Jakobi, Riccardo Di Clemente, Bence Ságvári, János Kertész and Balazs Lengyel\\xa0Urban structure conditions network effects on income inequality', 'Daniela Gawehns, Guida Veiga and Matthijs van Leeuwen\\xa0Focus on dynamics: a proof of principle in exploratory data mining of face-to-face interactions', 'Yoshiki Ishikawa and Takanori Nishida\\xa0Deep roots of the international differences in subjective well-being', 'Elisa Oertel\\xa0Who is the true influencer in the coexistence of science and society?', 'Peter Ejbye-Ernst, Marie Lindegaard and Wim Bernasco\\xa0A CCTV-based analysis of situational factors influencing third-party aggressiveness in interpersonal conflicts', 'Maxime Stauffer, Igor Krawczuk and Nora Ammann\\xa0Modelling collective decision-making in policy networks', 'Kieran Mepham, András Vörös and Christoph Stadtfeld\\xa0The joint dynamics of social networks and political opinions: A bipartite network approach to the study of opinion clustering', 'Masanori Takano, Fumiaki Taka, Soichiro Morishita, Tomosato Nishi and Yuki Ogawa\\xa0Expressing Modern/Oldfashioned Racism against Zainichi Koreans in Japan depending on News Contents of Internet Television', 'Jeroen van Den Ochtend, Raluca Gui, Markus Meierer and René Algesheimer\\xa0Social Influence in the Presence of Homophily: Method-Comparison Across Multiple Scenarios', 'Adrien Benamira, Benjamin Devillers, Etienne Lesot, Ayush K. Rai, Manal Saadi and Fragkiskos Malliaros\\xa0Semi-Supervised Learning and Graph Neural Networks for Fake News Detection', 'Lorena Cano-Orón\\xa0Could we study national public opinion through the SERP?', 'Dimitra Liotsiou and Philip Howard\\xa0Measuring the Influence of Online Misinformation: A Hierarchy of Social Media Data', 'Martyn Harris, Mark Levene, Dan Levene and Dell Zhang\\xa0The Samtla holographic search and browsing interface for cultural heritage photogrammetry models', 'Guanghua Chi, Bogdan State, Lada Adamic and Joshua Blumenstock\\xa0Who Ties the World Together?', 'Neda Paryab, Alexander Sachs, Andrew Li, Meiyappan Nagappan and Jesse Hoey\\xa0Relating Values and Social Network Structure', 'Javier Alvarez-Galvez and Victor Suarez-Lledo\\xa0Using Agent Based Modeling to Understand the Emergence and Reproduction of Social Inequalities in Health.', 'Dhruv Sapra and Aniket Alam\\xa0Empowering Citizenship through Social Network Analysis: A Case Study from Indian Politics', 'Evgenia Dolgova, Zuzana Sasovova and Michaela Schippers\\xa0On getting ahead: The role of proactive personality in the co-evolution of perceptions of competence and friendship', 'Alexandre Leroux and Matteo Gagliolo\\xa0Public sphere and echo chambers in Belgian media discussion threads', 'Abeer Aldayel and Walid Magdy\\xa0It is more than what you Say! Leveraging User Online Activity for Improved Stance', 'Frederico Francisco and Joana Gonçalves-Sá\\xa0A little knowledge is a dangerous thing: excess confidence explains negative attitudes towards science', 'Radim Hladik\\xa0Heed My Words: Topics and Citations', 'Peter Davis and Roy Lay-Yee\\xa0SociaLab: A Census-based Simulation Tool for Policy Inquiry', 'Chunying Wen, Ming Xiao, Xin Sui and Yimeng Yang\\xa0Place Communication on Social Media: the Case of Beijing – Based on Multi-feature Fusion Topic Sentiment Analysis', 'Arseny Rasov, Viacheslav A. Shibaev and Ivan Yamshchikov\\xa0Text classification for monolingual political manifestos', 'Anne Cornelia Kroon, Damian Trilling, Antske Fokkens, Felicia Loecherbach, Judith Moeller, Mariken A.C.G. van der Velden and Wouter Van Atteveldt\\xa0Improving automated content analysis with news-specific word embeddings for medium-resourced languages', 'Itto Kornecki, Nuno Araujo and Trivik Verma\\xa0Commuting patterns and outliers in London public transit: a narrative of unequal access', 'Yuki M. Asano and Gesa Biermann\\xa0Patterns in Online Recipe Data Reveal Rising Adoption and Retention of Meat-Free Diets', 'Vsevolod Suschevskiy, Ilya Musabirov, Denis Bulygin and Ekaterina Marchenko\\xa0Network Analysis of Global Transfers in Dota 2', 'Diego Fregolente Mendes de Oliveira and Kevin S. Chan\\xa0Sorting information by quality as a mechanism to hinder the system’s discriminative power', 'Eszter Bokanyi, Dániel Kondor and Gabor Vattay\\xa0Scaling in Words on Twitter', 'Douglas Guilbeault, Joshua Becker and Samuel Woolley\\xa0Nuance Matters: Collective Intelligence Dynamics in the Spread of Misinformation', 'Luca Verginer, Massimo Riccaboni, Pietro Panzarasa and Xiancheng Li\\xa0A Network Approach to uncovering researchers’ expertise: Evidence from the MEDLINE corpus', 'Sébastien Lerique and Camille Roth\\xa0Evolution of stories in a large-scale online experiment: bridging psycholinguistics and cultural evolution', 'Demetris Avraam, Christos Nicolaides,Luis Cueto-Felgueroso, Marta C. Gonzalez, Ruben Juanes\\xa0Hand-hygiene mitigation strategies against global disease spreading through the air-transportation network', 'Aleksandra Aloric, Javier Garcia-Bernardo, Peter Krafft, Allison Morgan, Zohar Neu and Andrea Santoro\\xa0Collective Information Processing in Human Rumor-Spreading Networks', 'Masashi Miura, Haruhiko Maenami and Shingo Takahashi\\xa0Game-Based Situation Prototypingfor Collaborative Social Modeling', 'Jianliang Yang, Lin Wang, Chenghua Guan, Alex Pentland and Xiangfei Yuan\\xa0Predicting People Movements between Cities Based on Economic and Transportation Features', 'Qiankun Zhong and Seth Frey\\xa0Institutional isomorphism and homophily effects of self-governing online communities', 'Svetlana Zhuchkova and Aleksei Rotmistrov\\xa0New Approach to Topic Modeling: Optimal Scaling, PCA and Rotation', 'Mykola Makhortykh, Jaron Harambam and Dimitrios Bountouridis\\xa0We are what we click: Understanding time- and content-based habits of online news readers', 'Zahra Sheikhbahaee and Isabel Valera\\xa0Attribute Prediction and Link Recommendation using a Bayesian Nonparametric Model', 'Xiaoyu Zhang\\xa0Sexual Harrassment at workplace: Mining Unequal Culture based on Glassdoor Company Reviews', 'Anupama Aggarwal, Claudia Wagner, Fabian Flöck, Ali Aghelmaleki and Julian Kohne\\xa0Generating a Corpus of Sexist Content through Gamification and Automatic Detection of Sexism', 'Tobias Buchmann and Patrick Wolf\\xa0Classifying European research networks', 'Maayan Levinson, Yuval Benjamini and Liat Ayalon\\xa0The Making of a Place: Social Networks in Long Term Care Institutions for Older Adults', 'Frank Peter Pijpers\\xa0The Dutch enterprise population as a complex dynamical system', 'Kiran Garimella, Gianmarco De Francisci Morales, Aristides Gionis and Michael Mathioudakis\\xa0Reducing Polarization by Connecting Opposing Views', 'Gabriel Murray\\xa0Connecting Small Group Affect and Social Network Centrality Measures', 'Sofia Dokuka, Maksim Tsvetovat, Kate Furman and Alex Furman\\xa0Peer Rank Score: Meritocratic Approach for the Individual Performance Evaluation', 'Zhen Zhu and Lingqing Jiang\\xa0Branching Out the Babytree: The Effects of Dual Peer Group Membership on Social Support During Pregnancy in Online Communities', 'Yifan Qian, Paul Expert, Pietro Panzarasa and Mauricio Barahona\\xa0Linking the classification performance of Graph Convolutional Networks with the alignment of graphs and features', 'Martin Lukac\\xa0Probing causal inference in the face of interference: simulations of social networks', 'Eaman Jahani, Alex Pentland and Dean Eckles\\xa0Network Inequality: Measuring Network Susceptibility to Inequality', 'Daniele Rama, Michele Tizzoni, Yelena Mejova, Kyriaki Kalimeri and Ingmar Weber\\xa0Urban-Rural Inequalities through Facebook Ads', 'Jan Overgoor, Austin Benson and Johan Ugander\\xa0Choosing to grow a graph:modeling network formation as discrete choice', 'Lisette Espín-Noboa, Fariba Karimi, Claudia Wagner and Kristina Lerman\\xa0Data-driven discrimination in relational classification', 'Je Hoon Chae, Sang Yup Lee\\xa0News Framing of Refugee Issue in South Korea: Application of Topic Model', 'Armin Mertens, Franziska Pradel, Ayjeren Rozyjumayeva and Jens Wäckerle\\xa0Gendered Political Communication on Twitter', 'Luce le Gorrec, Sandrine Mouysset and Daniel Ruiz\\xa0Doubly-stochastic scaling of adjacency matrices for community detection', 'Silke Adam, Michaela Maier, Viktor Aigenseer, Aleksandra Urman and Clara Christner\\xa0WebTrack – tracking users’ online information behavior while screen-scraping content', 'Selin Köksal and Chiara Allegri\\xa0What can lyrics tell us about cultural identity? Evidence from a text analysis', 'Ana Alonso-Curbelo\\xa0A Computerised Content Analysis of Language (ab)Use in Politics: The Case of Donald Trump', 'Milan van den Heuvel, Benjamin Vandermarliere and Koen Schoors\\xa0The asymmetric response of consumption to income changes and the effect of liquid wealth', 'Kokil Jaidka\\xa0Does social media use improve community health and well-being? Evidence for U.S. counties', 'Sandra Wankmüller\\xa0Scaling Based on Classification: IRT Models as an Aggregating Technique in Ensemble Learning for Text Documents', 'Yasuhiro Kitakami and Tomo Ogawa\\xa0Development and prospect of MAS simulator artisoc', 'Reham Al Tamime, Ridhi Kashyap, Ingmar Weber and Masoomali Fatehkia\\xa0Monitoring Digital Gender Inequality using Facebook and Google Advertising Audience Estimates', 'Hugo de Vos, Suzan Verberne and Bernard Steunenberg\\xa0Longitudinal Analysis of Legislative Processes', 'Ellie Yang, Dhavan Shah, Douglas Mcleod, William Sethares, Zhongkai Sun, Steve Guo and Xinyi Wang\\xa0Classification algorithms for modeling categorical dependent variables: A study of online health information seeking', 'Henri Kauhanen and George Walkden\\xa0Detecting constant rates of change in language: an a priori Monte Carlo power analysis', 'Wenjun Liao and Chenghua Lin\\xa0Deep Ensemble Learning for News Stance Detection', 'Satyam Mukherjee and Tarun Jain\\xa0Impact of Social Network Structure on the User Innovation: Evidence from Stackoverflow.com', 'Wojtek Przepiorka and Andreas Diekmann\\xa0Heterogeneous groups overcome the diffusion of responsibility problemin social norm enforcement', 'Ulf Liebe, Jennifer Gewinner and Andreas Diekmann\\xa0Choosing Green Energy. A Social Dilemma With a Solution', 'Janos Kertesz, Alina Sirbu, Fosca Gianotti and Dino Pedreschi\\xa0Algorithmic bias amplifies opinion polarization: A bounded confidence model', 'Kayla de la Haye, Brooke M. Bell, George G. Vega Yon, Abu Sayeed Mondol, Ridwan Alam, Meiyi Ma, Ifat Emi, John Lach, John Stankovic and Donna Spruijt-Metz\\xa0Detecting Eating Mimicry in Families', 'Bruno Toshio Sugano and Kazutoshi Sasahara\\xa0Quantifying Starbucksness From Social Media: A Case of Tabelog', 'Wim Bernasco\\xa0Human Mobility and Crime Locations', 'Masoomali Fatehkia, Isabelle Tingzon, Vedran Sekara, Stephanie Sy, Manuel Garcia-Herranz and Ingmar Weber\\xa0Mapping Socioeconomic Indicators Using Social Media Advertising Data', 'Guangqing Chi, Junjun Yin, Jennifer Van Hook, Eric Plutzer and Heng Xu\\xa0Twitter Demographics: Exploring the Generalizability of Twitter Data for Population Research', 'Nan Zhang and Heng Xu\\xa0How Much Choice is Too Much? A Machine Learning Based Meta-Analysis of Choice Overload', 'Kleber A. Oliveira, Felipe M. Cardoso, Andre Santanche, James P. Gleeson and Ali Faqeeh\\xa0Topical Homophily in Twitter Meme Diffusion', 'Gerrit Jan de Bruin, Cor Veenman, Jaap van Den Herik and Frank Takes\\xa0Understanding truck co-driving behaviour using network analysis', 'Lorenzo Lucchini, Sara Tonelli and Bruno Lepri\\xa0Understanding cultural attractiveness using historical migratory data', 'Max Pellert, Simon Schweighofer and David Garcia\\xa0Emotional expression dynamics in social media', 'Martijn Schoonvelde, Gijs Schumacher and Christian Pipal\\xa0Validating the Joint Sentiment Topic Model and the reversed Joint Sentiment Topic Model on Political Text', 'Pablo Lozano, Sergey Gavrilets and Angel Sanchez\\xa0Hierarchies can arise spontaneously in egalitarian societies', 'Jennifer Allen, David Rothschild, Duncan Watts, Charles Howland, Markus Mobius, Marcel Wittich and Melissa Ellamil\\xa0No news is bad news: studying the relative prevalence of fake, mainstream, and non-news', 'Giorgia Ramponi, Mattia Gasparini and Marco Brambilla\\xa0Community Detection on Social Network: Social Relations vs. Generated Content', 'Juhi Kulshrestha, Motahhare Eslami, Johnnatan Messias, Muhammad Bilal Zafar, Saptarshi Ghosh, Krishna Gummadi and Karrie Karahalios\\xa0Quantifying Search Bias: Investigating Political Bias in Social Media \\\\& Web Search', 'Kostas Stathoulopoulos\\xa0An analysis of the informal knowledge network in Sub-Saharan Africa.', 'Iraklis Moutidis, Rudy Arthur and Hywel Williams\\xa0Decoding the coding community: Identifying Technology-Based User Groups in Stack Overflow.', 'Amir Ebrahimi Fard, Haye Hazenberg, Jeroen van den Hoven, Scott Cunningham, Emily Sullivan, Mark Alfano and Roel Faber\\xa0Digital Disinformation in the Dutch Democracy', 'Vadim Voskresenskii\\xa0Networks of European Right-Wing Online Groups on Russian Social Media', 'Lilia Perfeito, Paulo Almeida and Joana Gonçalves-Sá\\xa0New tools for an old problem: using computational techniques to examine gender differences in political discourse', 'Joana Gonçalves-Sá and Cláudio Vieira\\xa0Online vs. Offline: Using the Pandemic Influenza to Understand Different Drivers Behind Human Behaviour', 'Benjamin Meindl and Joana Mendonça\\xa0Text mining to identify technologies of the fourth industrial revolution', 'Mahmoudreza Babaei, Juhi Kulshrestha, Abhijnan Chakraborty, Fabricio Benevenuto, Krishna Gummadi and Adrian Weller\\xa0Purple Feed: Identifying Non-Divisive News Posts on Social Media', 'Zoya Khan, Priyam Bansal, Mansi Sharma and Rishabh Kaushal\\xa0Are Online Users with Us ? Deep Representation Learning for Political Stance Detection', 'Kasper Welbers, Wouter van Atteveldt, Chung-Hong Chan, Hartmut Wessler and Scott Althaus\\xa0Media portrayal of terrorist events: Using computational text analysis to link news items to the Global Terrorism Database.', 'Zeph M. C. van Berlo\\xa0Let’s talk about our emojis', 'Marius Sältzer and Samuel Mueller\\xa0Bad News Travel Well – Incentives for Politicians to Polarize on Twitter', 'Alberto Antonioni, María Pereda, Katherine A. Cronin, Marco Tomassini and Anxo Sanchez\\xa0Collaborative hierarchy maintains cooperation in asymmetric games', 'Kyriaki Kalimeri, Mariano Gastón Beiró, Alessandra Urbinati, Andrea Bonanomi, Alessandro Rosina and Ciro Cattuto\\xa0Employing Social Media to Understand Human Values and Attitudes towards Vaccination', 'Alla Loseva and Daniel Alexandrov\\xa0The Evolution of Computational Social Science Field: Bibliometric Mapping', 'Tyler Amos, Tyler Amos and Tyler Amos\\xa0Applications of Audio Data to Describe Affect in Online Debates on Migration and Multiculturalism', 'Daniel Straulino, Chengcheng Li, Sid Ravinutala and Neave O’Clery\\xa0Inferring Crop Complexity via Machine Learning', 'Graham McNeill and Scott Hale\\xa0Viz-Blocks: A Lightweight Interface for Building Visualizations and Documents', 'Isabella Loaiza, Morgan Frank and Alex ‘Sandy’ Pentland\\xa0Cheap Signals, Trade, and Costly Consequences', 'Parizad Bahardoost\\xa0The Strength of Weak Ties in the Political Networks', 'Moritz Müller\\xa0Who cares about regulation? EU agencies and their social media audiences', 'Daniel J. Flynn and Seth Frey\\xa0Shooting friends and missing enemies: comparing partisan polarization in classifier error sensitivity versus policy preferences', 'Seth Frey, Bryan Bruns and Curtis Atkisson\\xa0Institutional evolution as a dynamic over the space of games', 'Stefano Balietti, Duncan Watts and Lise Getoor\\xa0Shifting Attitudes Toward Wealth Redistribution: Is It All a Matter of Trust?', 'Khyati Mahajan and Samira Shaikh\\xa0Analyzing Emoji Usage across Two Social Media Platforms during the Charlottesville Protests', 'Yibei Chen and Shaojing Sun\\xa0Morality and Emotion: Mining Social Media Data with DDR Method', 'Shen Yan, Homa Hosseinmardi, Hsien-Te Kao, Shrikanth Narayanan, Kristina Lerman and Emilio Ferrara\\xa0Gender Disparity Under Biosignal Modeling', 'Andreia Sofia Teixeira, Francisco C. Santos and Alexandre P Francisco\\xa0The Origins of Social Balance in Signed Networks', 'Chathura Jayalath, Chathika Gunaratne, Chathurani Senevirathna and Ivan Garibay\\xa0A Path Dependent Equivalence of the Independent Cascade Model and the Linear Threshold Model', 'Diliara Valeeva\\xa0Who is who in the core of the global business elite network', 'Clemens Harten\\xa0Decision-Making in Enterprise Risk Management as Distributed Cognition']\n"
     ]
    }
   ],
   "source": [
    "url = \"https://2019.ic2s2.org/posters/\"\n",
    "response = requests.get(url)\n",
    "\n",
    "soup = BeautifulSoup(response.text, \"html.parser\")\n",
    "\n",
    "researchers = soup.find_all(\"li\")\n",
    "researchers = [i.text.strip().replace(\"\\n\", \"\").replace(\"\\t\", \"\") for i in researchers if i.find(\"span\")]\n",
    "\n",
    "print(researchers)"
   ],
   "metadata": {
    "collapsed": false
   }
  },
  {
   "cell_type": "code",
   "execution_count": 9,
   "outputs": [],
   "source": [
    "d = [i.split('\\xa0')[0] for i in researchers][4:]\n",
    "d = [i.split('and') for i in d]\n",
    "d = [item for sublist in d for item in sublist]\n",
    "d = [i.split(',') for i in d]\n",
    "d = [item for sublist in d for item in sublist if item != '']\n",
    "# One last clean up for empty spaces in the end or beginnig of a word\n",
    "d = [name[1:] if name[0] == ' ' else name for name in d]\n",
    "# Do the same for the names ending with white space\n",
    "d = [name[:-1] if len(name) >1 and name[-1] == ' ' else name for name in d]\n",
    "d = list(set(d))"
   ],
   "metadata": {
    "collapsed": false
   }
  },
  {
   "cell_type": "code",
   "execution_count": 10,
   "outputs": [
    {
     "data": {
      "text/plain": "443"
     },
     "execution_count": 10,
     "metadata": {},
     "output_type": "execute_result"
    }
   ],
   "source": [
    "#Get the length of the list\n",
    "len(d)"
   ],
   "metadata": {
    "collapsed": false
   }
  },
  {
   "cell_type": "markdown",
   "source": [
    "# Part 2: Getting data from the Semantic Scholar API"
   ],
   "metadata": {
    "collapsed": false
   }
  },
  {
   "cell_type": "markdown",
   "source": [
    "First load the id's which was saved into json file, and then convert it to a dictionary. Note that if the author could not be found it was simply marked it with not found, so first that will have to be sorted out of the data."
   ],
   "metadata": {
    "collapsed": false
   }
  },
  {
   "cell_type": "code",
   "execution_count": 2,
   "outputs": [],
   "source": [
    "author_database = pd.read_json('/Users/madsandersen/CompSocialScience/02467-CSS/all_authors.json', typ='series').to_dict()"
   ],
   "metadata": {
    "collapsed": false
   }
  },
  {
   "cell_type": "markdown",
   "source": [
    "### Get the papper and the the other required entrances\n",
    "We choose to do a subset due to resource limitations. However the code demonstrates how the querying could be done, given enough time. Note that there is a 100 request limitation per 5 min, which is why a counter is initialized and incremented everytime a request is made to the server. When the limitation is reached the time module is used to make the loop wait for 5 minutes. To be on the safe side the number of requests is set to 95 and 10 seconds are added to the timer pause.\n",
    "\n",
    "Exercises which needs to be solved\n",
    "1) Share the number of authors you will use as starting point in this exercises. Add a comment clarifying how many IC2S2 editions you included and if the collaborators were included or not.\n",
    "2) Share the code you have used to solve the exercise above. (See code cell below)\n",
    "3) How long is your final Author dataframe? How long is your final Paper dataframe?\n"
   ],
   "metadata": {
    "collapsed": false
   }
  },
  {
   "cell_type": "markdown",
   "source": [
    "### 1)\n",
    "The data-base of authors which was created, was 112,000 authors in total so this is all the authors from IC2S2 and all of their collaborators in other projects. For this exercise only a subset of size xx were considered, in order to keep the running time reasonable."
   ],
   "metadata": {
    "collapsed": false
   }
  },
  {
   "cell_type": "markdown",
   "source": [
    "### 2) Code for generating data-sets\n",
    "The following code cells generates the 3 data-sets. Above each there is a short description of what the code does."
   ],
   "metadata": {
    "collapsed": false
   }
  },
  {
   "cell_type": "markdown",
   "source": [
    "In the first part og this, 3 dataframes are generated and the number of authors being quried for is specified in a variable. Note that that for the \"Author_dataset\", the author id is created as an index, this is just to keep it more manageable and can easily be converted to a column if needed."
   ],
   "metadata": {
    "collapsed": false
   }
  },
  {
   "cell_type": "code",
   "execution_count": 23,
   "outputs": [],
   "source": [
    "n_authors = 10000\n",
    "Author_dataset = pd.DataFrame(index = list(author_database.keys())[:n_authors],columns = ['name','aliases','citationCount','field'])\n",
    "Ad_fields = ['name','aliases','citationCount','field']\n",
    "\n",
    "Paper_dataset = pd.DataFrame(columns = ['paperId','title','year','DOI','citationCount','fields','authorIds'])\n",
    "Abstract_dataset = pd.DataFrame(columns = ['paperId','abstract'])"
   ],
   "metadata": {
    "collapsed": false
   }
  },
  {
   "cell_type": "markdown",
   "source": [
    "The function below is a helper function for creating paper dataset, and also the abstract dataset. It loops through the collection of papers given to it, and distributes the information into the correct dataframes. Beyond this it checks if the paper already exists in the data-set such that replicas are avoided. Some of the fields do need to have an option for a none value, since the api will not return anything if the field does not exist for the author. For the author ids a list is made of all the authors, and the it is joined into a single string. This so that it becomes easier to parse to a dataframe, and since the id's are seperated with a \",\" it is easy to get a list of them when working with the dataframe using the .split() string method.\n",
    "Another thing to mention is the fact that a dataframe is created for each row, and then appended to the final dataset."
   ],
   "metadata": {
    "collapsed": false
   }
  },
  {
   "cell_type": "code",
   "execution_count": 24,
   "outputs": [],
   "source": [
    "def write_paper_data(papers,Abstract_dataset,Paper_dataset):\n",
    "  #print('test')\n",
    "   #### Paper dataset\n",
    "  d = {}\n",
    "  a = {}\n",
    "  for i,paper in enumerate(papers):\n",
    "    if paper['paperId'] not in Paper_dataset['paperId']:\n",
    "      d['paperId'] = paper['paperId']\n",
    "      d['title'] = paper['title']\n",
    "      d['year'] = paper['year']\n",
    "      d['DOI'] = paper['externalIds']['DOI'] if 'DOI' in paper['externalIds'].keys() else None\n",
    "      d['citationCount'] = paper['citationCount']\n",
    "      d['fields'] = [r['s2FieldsOfStudy'][0]['category'] if len(r['s2FieldsOfStudy']) != 0 else None for r in papers]\n",
    "      d['authorIds'] = ','.join([au['authorId'] for au in paper['authors'] if au['authorId'] in author_database.keys()])\n",
    "      df = pd.DataFrame([d])\n",
    "      Paper_dataset = pd.concat([Paper_dataset,df])\n",
    "\n",
    "    # Create the abstract data-set\n",
    "    if paper['paperId'] not in Abstract_dataset['paperId']:\n",
    "      a['paperId'] = paper['paperId']\n",
    "      a['abstract'] = paper['abstract']\n",
    "      df1 = pd.DataFrame([a])\n",
    "      Abstract_dataset = pd.concat([Abstract_dataset,df1])\n",
    "\n",
    "  return Paper_dataset.copy(),Abstract_dataset.copy()\n",
    "    #df['authorIds'] = df.apply(lambda x: [author['authorId'] for author in x['authorIds']],axis = 1)\n",
    "    #Paper_dataset = pd.concat([Paper_dataset,df])"
   ],
   "metadata": {
    "collapsed": false
   }
  },
  {
   "cell_type": "markdown",
   "source": [
    "The code bellow is where the query takes place, first of the fields are defined ie. what should be quired for. Next thing is to loop through all authors being considered, the query is done using their author id, the returned object is then converted into a json object so that it can be accessed as a dictionary. most of the required fields is just copy pasting them into the dataframe. However for the citation count, each authors paper has to be iterated and the citation count can be done as sum of the list of citation counts. For the most frequent field of study, all the fields of studies the author has been involved in, is made in to a list, and the most frequent element in that list is found. One more thing about the code is that is saves the dataframes to csv every 95 queries, at the same time it sleeps for 1 second in order to avoid exceeding the request limit from the api.\n",
    "\n",
    "Note:\n",
    "Our group got an api key for 100 req/sec for the semanthic scholar api. It cant be distributed so either paste in your own api-key or delete the lines with headers and as an argument in the request call. Also this limits the request frequency to 100 per 5 min, so in the time.sleep() it should wait for 5 min (see the last lines of code)."
   ],
   "metadata": {
    "collapsed": false
   }
  },
  {
   "cell_type": "code",
   "execution_count": null,
   "outputs": [
    {
     "data": {
      "text/plain": "  0%|          | 0/10000 [00:00<?, ?it/s]",
      "application/vnd.jupyter.widget-view+json": {
       "version_major": 2,
       "version_minor": 0,
       "model_id": "cd57b302d17242a580f8e69fe0f980a7"
      }
     },
     "metadata": {},
     "output_type": "display_data"
    },
    {
     "name": "stdout",
     "output_type": "stream",
     "text": [
      "Exception caught for author:2149106755\n",
      "Exception caught for author:40025432\n",
      "Exception caught for author:144935248\n",
      "Exception caught for author:39647400\n"
     ]
    },
    {
     "ename": "KeyboardInterrupt",
     "evalue": "",
     "output_type": "error",
     "traceback": [
      "\u001B[0;31m---------------------------------------------------------------------------\u001B[0m",
      "\u001B[0;31mKeyboardInterrupt\u001B[0m                         Traceback (most recent call last)",
      "Cell \u001B[0;32mIn[26], line 19\u001B[0m\n\u001B[1;32m     17\u001B[0m headers \u001B[38;5;241m=\u001B[39m {\u001B[38;5;124m\"\u001B[39m\u001B[38;5;124mx-api-key\u001B[39m\u001B[38;5;124m\"\u001B[39m: \u001B[38;5;124m'\u001B[39m\u001B[38;5;124me3X5pFPRiu8cWqGesihE3877Nq1Iuf3l88bTUe4Z\u001B[39m\u001B[38;5;124m'\u001B[39m}\n\u001B[0;32m---> 19\u001B[0m r \u001B[38;5;241m=\u001B[39m \u001B[43mrequests\u001B[49m\u001B[38;5;241;43m.\u001B[39;49m\u001B[43mget\u001B[49m\u001B[43m(\u001B[49m\u001B[43mmy_url\u001B[49m\u001B[43m,\u001B[49m\u001B[43m \u001B[49m\u001B[43mparams\u001B[49m\u001B[38;5;241;43m=\u001B[39;49m\u001B[43mparams\u001B[49m\u001B[43m,\u001B[49m\u001B[43mheaders\u001B[49m\u001B[38;5;241;43m=\u001B[39;49m\u001B[43mheaders\u001B[49m\u001B[43m)\u001B[49m\u001B[38;5;241m.\u001B[39mjson()\n\u001B[1;32m     20\u001B[0m query_counter \u001B[38;5;241m+\u001B[39m\u001B[38;5;241m=\u001B[39m \u001B[38;5;241m1\u001B[39m\n",
      "File \u001B[0;32m~/Desktop/Projects/02467-CSS/lib/python3.10/site-packages/requests/api.py:73\u001B[0m, in \u001B[0;36mget\u001B[0;34m(url, params, **kwargs)\u001B[0m\n\u001B[1;32m     63\u001B[0m \u001B[38;5;250m\u001B[39m\u001B[38;5;124mr\u001B[39m\u001B[38;5;124;03m\"\"\"Sends a GET request.\u001B[39;00m\n\u001B[1;32m     64\u001B[0m \n\u001B[1;32m     65\u001B[0m \u001B[38;5;124;03m:param url: URL for the new :class:`Request` object.\u001B[39;00m\n\u001B[0;32m   (...)\u001B[0m\n\u001B[1;32m     70\u001B[0m \u001B[38;5;124;03m:rtype: requests.Response\u001B[39;00m\n\u001B[1;32m     71\u001B[0m \u001B[38;5;124;03m\"\"\"\u001B[39;00m\n\u001B[0;32m---> 73\u001B[0m \u001B[38;5;28;01mreturn\u001B[39;00m \u001B[43mrequest\u001B[49m\u001B[43m(\u001B[49m\u001B[38;5;124;43m\"\u001B[39;49m\u001B[38;5;124;43mget\u001B[39;49m\u001B[38;5;124;43m\"\u001B[39;49m\u001B[43m,\u001B[49m\u001B[43m \u001B[49m\u001B[43murl\u001B[49m\u001B[43m,\u001B[49m\u001B[43m \u001B[49m\u001B[43mparams\u001B[49m\u001B[38;5;241;43m=\u001B[39;49m\u001B[43mparams\u001B[49m\u001B[43m,\u001B[49m\u001B[43m \u001B[49m\u001B[38;5;241;43m*\u001B[39;49m\u001B[38;5;241;43m*\u001B[39;49m\u001B[43mkwargs\u001B[49m\u001B[43m)\u001B[49m\n",
      "File \u001B[0;32m~/Desktop/Projects/02467-CSS/lib/python3.10/site-packages/requests/api.py:59\u001B[0m, in \u001B[0;36mrequest\u001B[0;34m(method, url, **kwargs)\u001B[0m\n\u001B[1;32m     58\u001B[0m \u001B[38;5;28;01mwith\u001B[39;00m sessions\u001B[38;5;241m.\u001B[39mSession() \u001B[38;5;28;01mas\u001B[39;00m session:\n\u001B[0;32m---> 59\u001B[0m     \u001B[38;5;28;01mreturn\u001B[39;00m \u001B[43msession\u001B[49m\u001B[38;5;241;43m.\u001B[39;49m\u001B[43mrequest\u001B[49m\u001B[43m(\u001B[49m\u001B[43mmethod\u001B[49m\u001B[38;5;241;43m=\u001B[39;49m\u001B[43mmethod\u001B[49m\u001B[43m,\u001B[49m\u001B[43m \u001B[49m\u001B[43murl\u001B[49m\u001B[38;5;241;43m=\u001B[39;49m\u001B[43murl\u001B[49m\u001B[43m,\u001B[49m\u001B[43m \u001B[49m\u001B[38;5;241;43m*\u001B[39;49m\u001B[38;5;241;43m*\u001B[39;49m\u001B[43mkwargs\u001B[49m\u001B[43m)\u001B[49m\n",
      "File \u001B[0;32m~/Desktop/Projects/02467-CSS/lib/python3.10/site-packages/requests/sessions.py:587\u001B[0m, in \u001B[0;36mSession.request\u001B[0;34m(self, method, url, params, data, headers, cookies, files, auth, timeout, allow_redirects, proxies, hooks, stream, verify, cert, json)\u001B[0m\n\u001B[1;32m    586\u001B[0m send_kwargs\u001B[38;5;241m.\u001B[39mupdate(settings)\n\u001B[0;32m--> 587\u001B[0m resp \u001B[38;5;241m=\u001B[39m \u001B[38;5;28;43mself\u001B[39;49m\u001B[38;5;241;43m.\u001B[39;49m\u001B[43msend\u001B[49m\u001B[43m(\u001B[49m\u001B[43mprep\u001B[49m\u001B[43m,\u001B[49m\u001B[43m \u001B[49m\u001B[38;5;241;43m*\u001B[39;49m\u001B[38;5;241;43m*\u001B[39;49m\u001B[43msend_kwargs\u001B[49m\u001B[43m)\u001B[49m\n\u001B[1;32m    589\u001B[0m \u001B[38;5;28;01mreturn\u001B[39;00m resp\n",
      "File \u001B[0;32m~/Desktop/Projects/02467-CSS/lib/python3.10/site-packages/requests/sessions.py:701\u001B[0m, in \u001B[0;36mSession.send\u001B[0;34m(self, request, **kwargs)\u001B[0m\n\u001B[1;32m    700\u001B[0m \u001B[38;5;66;03m# Send the request\u001B[39;00m\n\u001B[0;32m--> 701\u001B[0m r \u001B[38;5;241m=\u001B[39m \u001B[43madapter\u001B[49m\u001B[38;5;241;43m.\u001B[39;49m\u001B[43msend\u001B[49m\u001B[43m(\u001B[49m\u001B[43mrequest\u001B[49m\u001B[43m,\u001B[49m\u001B[43m \u001B[49m\u001B[38;5;241;43m*\u001B[39;49m\u001B[38;5;241;43m*\u001B[39;49m\u001B[43mkwargs\u001B[49m\u001B[43m)\u001B[49m\n\u001B[1;32m    703\u001B[0m \u001B[38;5;66;03m# Total elapsed time of the request (approximately)\u001B[39;00m\n",
      "File \u001B[0;32m~/Desktop/Projects/02467-CSS/lib/python3.10/site-packages/requests/adapters.py:489\u001B[0m, in \u001B[0;36mHTTPAdapter.send\u001B[0;34m(self, request, stream, timeout, verify, cert, proxies)\u001B[0m\n\u001B[1;32m    488\u001B[0m \u001B[38;5;28;01mif\u001B[39;00m \u001B[38;5;129;01mnot\u001B[39;00m chunked:\n\u001B[0;32m--> 489\u001B[0m     resp \u001B[38;5;241m=\u001B[39m \u001B[43mconn\u001B[49m\u001B[38;5;241;43m.\u001B[39;49m\u001B[43murlopen\u001B[49m\u001B[43m(\u001B[49m\n\u001B[1;32m    490\u001B[0m \u001B[43m        \u001B[49m\u001B[43mmethod\u001B[49m\u001B[38;5;241;43m=\u001B[39;49m\u001B[43mrequest\u001B[49m\u001B[38;5;241;43m.\u001B[39;49m\u001B[43mmethod\u001B[49m\u001B[43m,\u001B[49m\n\u001B[1;32m    491\u001B[0m \u001B[43m        \u001B[49m\u001B[43murl\u001B[49m\u001B[38;5;241;43m=\u001B[39;49m\u001B[43murl\u001B[49m\u001B[43m,\u001B[49m\n\u001B[1;32m    492\u001B[0m \u001B[43m        \u001B[49m\u001B[43mbody\u001B[49m\u001B[38;5;241;43m=\u001B[39;49m\u001B[43mrequest\u001B[49m\u001B[38;5;241;43m.\u001B[39;49m\u001B[43mbody\u001B[49m\u001B[43m,\u001B[49m\n\u001B[1;32m    493\u001B[0m \u001B[43m        \u001B[49m\u001B[43mheaders\u001B[49m\u001B[38;5;241;43m=\u001B[39;49m\u001B[43mrequest\u001B[49m\u001B[38;5;241;43m.\u001B[39;49m\u001B[43mheaders\u001B[49m\u001B[43m,\u001B[49m\n\u001B[1;32m    494\u001B[0m \u001B[43m        \u001B[49m\u001B[43mredirect\u001B[49m\u001B[38;5;241;43m=\u001B[39;49m\u001B[38;5;28;43;01mFalse\u001B[39;49;00m\u001B[43m,\u001B[49m\n\u001B[1;32m    495\u001B[0m \u001B[43m        \u001B[49m\u001B[43massert_same_host\u001B[49m\u001B[38;5;241;43m=\u001B[39;49m\u001B[38;5;28;43;01mFalse\u001B[39;49;00m\u001B[43m,\u001B[49m\n\u001B[1;32m    496\u001B[0m \u001B[43m        \u001B[49m\u001B[43mpreload_content\u001B[49m\u001B[38;5;241;43m=\u001B[39;49m\u001B[38;5;28;43;01mFalse\u001B[39;49;00m\u001B[43m,\u001B[49m\n\u001B[1;32m    497\u001B[0m \u001B[43m        \u001B[49m\u001B[43mdecode_content\u001B[49m\u001B[38;5;241;43m=\u001B[39;49m\u001B[38;5;28;43;01mFalse\u001B[39;49;00m\u001B[43m,\u001B[49m\n\u001B[1;32m    498\u001B[0m \u001B[43m        \u001B[49m\u001B[43mretries\u001B[49m\u001B[38;5;241;43m=\u001B[39;49m\u001B[38;5;28;43mself\u001B[39;49m\u001B[38;5;241;43m.\u001B[39;49m\u001B[43mmax_retries\u001B[49m\u001B[43m,\u001B[49m\n\u001B[1;32m    499\u001B[0m \u001B[43m        \u001B[49m\u001B[43mtimeout\u001B[49m\u001B[38;5;241;43m=\u001B[39;49m\u001B[43mtimeout\u001B[49m\u001B[43m,\u001B[49m\n\u001B[1;32m    500\u001B[0m \u001B[43m    \u001B[49m\u001B[43m)\u001B[49m\n\u001B[1;32m    502\u001B[0m \u001B[38;5;66;03m# Send the request.\u001B[39;00m\n\u001B[1;32m    503\u001B[0m \u001B[38;5;28;01melse\u001B[39;00m:\n",
      "File \u001B[0;32m~/Desktop/Projects/02467-CSS/lib/python3.10/site-packages/urllib3/connectionpool.py:703\u001B[0m, in \u001B[0;36mHTTPConnectionPool.urlopen\u001B[0;34m(self, method, url, body, headers, retries, redirect, assert_same_host, timeout, pool_timeout, release_conn, chunked, body_pos, **response_kw)\u001B[0m\n\u001B[1;32m    702\u001B[0m \u001B[38;5;66;03m# Make the request on the httplib connection object.\u001B[39;00m\n\u001B[0;32m--> 703\u001B[0m httplib_response \u001B[38;5;241m=\u001B[39m \u001B[38;5;28;43mself\u001B[39;49m\u001B[38;5;241;43m.\u001B[39;49m\u001B[43m_make_request\u001B[49m\u001B[43m(\u001B[49m\n\u001B[1;32m    704\u001B[0m \u001B[43m    \u001B[49m\u001B[43mconn\u001B[49m\u001B[43m,\u001B[49m\n\u001B[1;32m    705\u001B[0m \u001B[43m    \u001B[49m\u001B[43mmethod\u001B[49m\u001B[43m,\u001B[49m\n\u001B[1;32m    706\u001B[0m \u001B[43m    \u001B[49m\u001B[43murl\u001B[49m\u001B[43m,\u001B[49m\n\u001B[1;32m    707\u001B[0m \u001B[43m    \u001B[49m\u001B[43mtimeout\u001B[49m\u001B[38;5;241;43m=\u001B[39;49m\u001B[43mtimeout_obj\u001B[49m\u001B[43m,\u001B[49m\n\u001B[1;32m    708\u001B[0m \u001B[43m    \u001B[49m\u001B[43mbody\u001B[49m\u001B[38;5;241;43m=\u001B[39;49m\u001B[43mbody\u001B[49m\u001B[43m,\u001B[49m\n\u001B[1;32m    709\u001B[0m \u001B[43m    \u001B[49m\u001B[43mheaders\u001B[49m\u001B[38;5;241;43m=\u001B[39;49m\u001B[43mheaders\u001B[49m\u001B[43m,\u001B[49m\n\u001B[1;32m    710\u001B[0m \u001B[43m    \u001B[49m\u001B[43mchunked\u001B[49m\u001B[38;5;241;43m=\u001B[39;49m\u001B[43mchunked\u001B[49m\u001B[43m,\u001B[49m\n\u001B[1;32m    711\u001B[0m \u001B[43m\u001B[49m\u001B[43m)\u001B[49m\n\u001B[1;32m    713\u001B[0m \u001B[38;5;66;03m# If we're going to release the connection in ``finally:``, then\u001B[39;00m\n\u001B[1;32m    714\u001B[0m \u001B[38;5;66;03m# the response doesn't need to know about the connection. Otherwise\u001B[39;00m\n\u001B[1;32m    715\u001B[0m \u001B[38;5;66;03m# it will also try to release it and we'll have a double-release\u001B[39;00m\n\u001B[1;32m    716\u001B[0m \u001B[38;5;66;03m# mess.\u001B[39;00m\n",
      "File \u001B[0;32m~/Desktop/Projects/02467-CSS/lib/python3.10/site-packages/urllib3/connectionpool.py:449\u001B[0m, in \u001B[0;36mHTTPConnectionPool._make_request\u001B[0;34m(self, conn, method, url, timeout, chunked, **httplib_request_kw)\u001B[0m\n\u001B[1;32m    445\u001B[0m         \u001B[38;5;28;01mexcept\u001B[39;00m \u001B[38;5;167;01mBaseException\u001B[39;00m \u001B[38;5;28;01mas\u001B[39;00m e:\n\u001B[1;32m    446\u001B[0m             \u001B[38;5;66;03m# Remove the TypeError from the exception chain in\u001B[39;00m\n\u001B[1;32m    447\u001B[0m             \u001B[38;5;66;03m# Python 3 (including for exceptions like SystemExit).\u001B[39;00m\n\u001B[1;32m    448\u001B[0m             \u001B[38;5;66;03m# Otherwise it looks like a bug in the code.\u001B[39;00m\n\u001B[0;32m--> 449\u001B[0m             \u001B[43msix\u001B[49m\u001B[38;5;241;43m.\u001B[39;49m\u001B[43mraise_from\u001B[49m\u001B[43m(\u001B[49m\u001B[43me\u001B[49m\u001B[43m,\u001B[49m\u001B[43m \u001B[49m\u001B[38;5;28;43;01mNone\u001B[39;49;00m\u001B[43m)\u001B[49m\n\u001B[1;32m    450\u001B[0m \u001B[38;5;28;01mexcept\u001B[39;00m (SocketTimeout, BaseSSLError, SocketError) \u001B[38;5;28;01mas\u001B[39;00m e:\n",
      "File \u001B[0;32m<string>:3\u001B[0m, in \u001B[0;36mraise_from\u001B[0;34m(value, from_value)\u001B[0m\n",
      "File \u001B[0;32m~/Desktop/Projects/02467-CSS/lib/python3.10/site-packages/urllib3/connectionpool.py:444\u001B[0m, in \u001B[0;36mHTTPConnectionPool._make_request\u001B[0;34m(self, conn, method, url, timeout, chunked, **httplib_request_kw)\u001B[0m\n\u001B[1;32m    443\u001B[0m \u001B[38;5;28;01mtry\u001B[39;00m:\n\u001B[0;32m--> 444\u001B[0m     httplib_response \u001B[38;5;241m=\u001B[39m \u001B[43mconn\u001B[49m\u001B[38;5;241;43m.\u001B[39;49m\u001B[43mgetresponse\u001B[49m\u001B[43m(\u001B[49m\u001B[43m)\u001B[49m\n\u001B[1;32m    445\u001B[0m \u001B[38;5;28;01mexcept\u001B[39;00m \u001B[38;5;167;01mBaseException\u001B[39;00m \u001B[38;5;28;01mas\u001B[39;00m e:\n\u001B[1;32m    446\u001B[0m     \u001B[38;5;66;03m# Remove the TypeError from the exception chain in\u001B[39;00m\n\u001B[1;32m    447\u001B[0m     \u001B[38;5;66;03m# Python 3 (including for exceptions like SystemExit).\u001B[39;00m\n\u001B[1;32m    448\u001B[0m     \u001B[38;5;66;03m# Otherwise it looks like a bug in the code.\u001B[39;00m\n",
      "File \u001B[0;32m/Library/Frameworks/Python.framework/Versions/3.10/lib/python3.10/http/client.py:1374\u001B[0m, in \u001B[0;36mHTTPConnection.getresponse\u001B[0;34m(self)\u001B[0m\n\u001B[1;32m   1373\u001B[0m \u001B[38;5;28;01mtry\u001B[39;00m:\n\u001B[0;32m-> 1374\u001B[0m     \u001B[43mresponse\u001B[49m\u001B[38;5;241;43m.\u001B[39;49m\u001B[43mbegin\u001B[49m\u001B[43m(\u001B[49m\u001B[43m)\u001B[49m\n\u001B[1;32m   1375\u001B[0m \u001B[38;5;28;01mexcept\u001B[39;00m \u001B[38;5;167;01mConnectionError\u001B[39;00m:\n",
      "File \u001B[0;32m/Library/Frameworks/Python.framework/Versions/3.10/lib/python3.10/http/client.py:318\u001B[0m, in \u001B[0;36mHTTPResponse.begin\u001B[0;34m(self)\u001B[0m\n\u001B[1;32m    317\u001B[0m \u001B[38;5;28;01mwhile\u001B[39;00m \u001B[38;5;28;01mTrue\u001B[39;00m:\n\u001B[0;32m--> 318\u001B[0m     version, status, reason \u001B[38;5;241m=\u001B[39m \u001B[38;5;28;43mself\u001B[39;49m\u001B[38;5;241;43m.\u001B[39;49m\u001B[43m_read_status\u001B[49m\u001B[43m(\u001B[49m\u001B[43m)\u001B[49m\n\u001B[1;32m    319\u001B[0m     \u001B[38;5;28;01mif\u001B[39;00m status \u001B[38;5;241m!=\u001B[39m CONTINUE:\n",
      "File \u001B[0;32m/Library/Frameworks/Python.framework/Versions/3.10/lib/python3.10/http/client.py:279\u001B[0m, in \u001B[0;36mHTTPResponse._read_status\u001B[0;34m(self)\u001B[0m\n\u001B[1;32m    278\u001B[0m \u001B[38;5;28;01mdef\u001B[39;00m \u001B[38;5;21m_read_status\u001B[39m(\u001B[38;5;28mself\u001B[39m):\n\u001B[0;32m--> 279\u001B[0m     line \u001B[38;5;241m=\u001B[39m \u001B[38;5;28mstr\u001B[39m(\u001B[38;5;28;43mself\u001B[39;49m\u001B[38;5;241;43m.\u001B[39;49m\u001B[43mfp\u001B[49m\u001B[38;5;241;43m.\u001B[39;49m\u001B[43mreadline\u001B[49m\u001B[43m(\u001B[49m\u001B[43m_MAXLINE\u001B[49m\u001B[43m \u001B[49m\u001B[38;5;241;43m+\u001B[39;49m\u001B[43m \u001B[49m\u001B[38;5;241;43m1\u001B[39;49m\u001B[43m)\u001B[49m, \u001B[38;5;124m\"\u001B[39m\u001B[38;5;124miso-8859-1\u001B[39m\u001B[38;5;124m\"\u001B[39m)\n\u001B[1;32m    280\u001B[0m     \u001B[38;5;28;01mif\u001B[39;00m \u001B[38;5;28mlen\u001B[39m(line) \u001B[38;5;241m>\u001B[39m _MAXLINE:\n",
      "File \u001B[0;32m/Library/Frameworks/Python.framework/Versions/3.10/lib/python3.10/socket.py:705\u001B[0m, in \u001B[0;36mSocketIO.readinto\u001B[0;34m(self, b)\u001B[0m\n\u001B[1;32m    704\u001B[0m \u001B[38;5;28;01mtry\u001B[39;00m:\n\u001B[0;32m--> 705\u001B[0m     \u001B[38;5;28;01mreturn\u001B[39;00m \u001B[38;5;28;43mself\u001B[39;49m\u001B[38;5;241;43m.\u001B[39;49m\u001B[43m_sock\u001B[49m\u001B[38;5;241;43m.\u001B[39;49m\u001B[43mrecv_into\u001B[49m\u001B[43m(\u001B[49m\u001B[43mb\u001B[49m\u001B[43m)\u001B[49m\n\u001B[1;32m    706\u001B[0m \u001B[38;5;28;01mexcept\u001B[39;00m timeout:\n",
      "File \u001B[0;32m/Library/Frameworks/Python.framework/Versions/3.10/lib/python3.10/ssl.py:1274\u001B[0m, in \u001B[0;36mSSLSocket.recv_into\u001B[0;34m(self, buffer, nbytes, flags)\u001B[0m\n\u001B[1;32m   1271\u001B[0m         \u001B[38;5;28;01mraise\u001B[39;00m \u001B[38;5;167;01mValueError\u001B[39;00m(\n\u001B[1;32m   1272\u001B[0m           \u001B[38;5;124m\"\u001B[39m\u001B[38;5;124mnon-zero flags not allowed in calls to recv_into() on \u001B[39m\u001B[38;5;132;01m%s\u001B[39;00m\u001B[38;5;124m\"\u001B[39m \u001B[38;5;241m%\u001B[39m\n\u001B[1;32m   1273\u001B[0m           \u001B[38;5;28mself\u001B[39m\u001B[38;5;241m.\u001B[39m\u001B[38;5;18m__class__\u001B[39m)\n\u001B[0;32m-> 1274\u001B[0m     \u001B[38;5;28;01mreturn\u001B[39;00m \u001B[38;5;28;43mself\u001B[39;49m\u001B[38;5;241;43m.\u001B[39;49m\u001B[43mread\u001B[49m\u001B[43m(\u001B[49m\u001B[43mnbytes\u001B[49m\u001B[43m,\u001B[49m\u001B[43m \u001B[49m\u001B[43mbuffer\u001B[49m\u001B[43m)\u001B[49m\n\u001B[1;32m   1275\u001B[0m \u001B[38;5;28;01melse\u001B[39;00m:\n",
      "File \u001B[0;32m/Library/Frameworks/Python.framework/Versions/3.10/lib/python3.10/ssl.py:1130\u001B[0m, in \u001B[0;36mSSLSocket.read\u001B[0;34m(self, len, buffer)\u001B[0m\n\u001B[1;32m   1129\u001B[0m \u001B[38;5;28;01mif\u001B[39;00m buffer \u001B[38;5;129;01mis\u001B[39;00m \u001B[38;5;129;01mnot\u001B[39;00m \u001B[38;5;28;01mNone\u001B[39;00m:\n\u001B[0;32m-> 1130\u001B[0m     \u001B[38;5;28;01mreturn\u001B[39;00m \u001B[38;5;28;43mself\u001B[39;49m\u001B[38;5;241;43m.\u001B[39;49m\u001B[43m_sslobj\u001B[49m\u001B[38;5;241;43m.\u001B[39;49m\u001B[43mread\u001B[49m\u001B[43m(\u001B[49m\u001B[38;5;28;43mlen\u001B[39;49m\u001B[43m,\u001B[49m\u001B[43m \u001B[49m\u001B[43mbuffer\u001B[49m\u001B[43m)\u001B[49m\n\u001B[1;32m   1131\u001B[0m \u001B[38;5;28;01melse\u001B[39;00m:\n",
      "\u001B[0;31mKeyboardInterrupt\u001B[0m: ",
      "\nDuring handling of the above exception, another exception occurred:\n",
      "\u001B[0;31mKeyboardInterrupt\u001B[0m                         Traceback (most recent call last)",
      "Cell \u001B[0;32mIn[26], line 39\u001B[0m\n\u001B[1;32m     37\u001B[0m   \u001B[38;5;28mprint\u001B[39m(\u001B[38;5;124mf\u001B[39m\u001B[38;5;124m\"\u001B[39m\u001B[38;5;124mException caught for author:\u001B[39m\u001B[38;5;132;01m{\u001B[39;00m\u001B[38;5;28mid\u001B[39m\u001B[38;5;132;01m}\u001B[39;00m\u001B[38;5;124m\"\u001B[39m)\n\u001B[1;32m     38\u001B[0m   exception_counter \u001B[38;5;241m+\u001B[39m\u001B[38;5;241m=\u001B[39m \u001B[38;5;241m1\u001B[39m\n\u001B[0;32m---> 39\u001B[0m   \u001B[43mtime\u001B[49m\u001B[38;5;241;43m.\u001B[39;49m\u001B[43msleep\u001B[49m\u001B[43m(\u001B[49m\u001B[38;5;241;43m1\u001B[39;49m\u001B[43m)\u001B[49m\n\u001B[1;32m     42\u001B[0m \u001B[38;5;28;01mif\u001B[39;00m query_counter \u001B[38;5;241m>\u001B[39m \u001B[38;5;241m95\u001B[39m:\n\u001B[1;32m     43\u001B[0m   \u001B[38;5;66;03m#Save to csv, this is done in each iteration as a back up, makes it a little slower but ensures that data aren't lost if/when kernel times out.\u001B[39;00m\n\u001B[1;32m     44\u001B[0m   Author_dataset\u001B[38;5;241m.\u001B[39mto_csv(\u001B[38;5;124m'\u001B[39m\u001B[38;5;124mAuthor_dataset.csv\u001B[39m\u001B[38;5;124m'\u001B[39m)\n",
      "\u001B[0;31mKeyboardInterrupt\u001B[0m: "
     ]
    }
   ],
   "source": [
    "#How many authors should be considered in the dataset\n",
    "# Init dataset\n",
    "data = {id: {} for id in list(author_database.keys())[:n_authors]}\n",
    "\n",
    "fields = f'name,aliases,papers.title,papers.abstract,papers.year,papers.s2FieldsOfStudy,papers.citationCount,papers.paperId,papers.externalIds,papers.authors'\n",
    "\n",
    "exception_counter = 0\n",
    "query_counter = 0\n",
    "total_queries = 0\n",
    "for id in tqdm(list(author_database.keys())[:n_authors]):\n",
    "  if id == 'not found':\n",
    "    continue\n",
    "\n",
    "  try:\n",
    "    my_url = f'https://api.semanticscholar.org/graph/v1/author/{id}?fields={fields}' #BASE_URL + VERSION + RESOURCE\n",
    "    params = {'authorId': id}\n",
    "    headers = {\"x-api-key\": 'e3X5pFPRiu8cWqGesihE3877Nq1Iuf3l88bTUe4Z'}\n",
    "\n",
    "    r = requests.get(my_url, params=params,headers=headers).json()\n",
    "    query_counter += 1\n",
    "    total_queries += 1\n",
    "\n",
    "    #############################Author_dataset##########################################\n",
    "    Author_dataset['name'][id] =  r['name']\n",
    "    Author_dataset['aliases'][id] = ','.join(r['aliases']) if r['aliases'] is not None else 'None'\n",
    "    Author_dataset['citationCount'][id] = sum([paper['citationCount'] for paper in r['papers']])\n",
    "\n",
    "    # Make a placeholder, so the most frequent can be determined:\n",
    "    data[id]['papers.s2FieldsOfStudy'] = [paper['s2FieldsOfStudy'][0]['category'] if len(paper['s2FieldsOfStudy']) != 0 else None for paper in r['papers']]\n",
    "    freq_field = max(set(data[id]['papers.s2FieldsOfStudy']), key = data[id]['papers.s2FieldsOfStudy'].count)\n",
    "    Author_dataset['field'][id] = freq_field\n",
    "\n",
    "    ###########################Paper_dataset ##########################################\n",
    "    Paper_dataset,Abstract_dataset = write_paper_data(r['papers'],Abstract_dataset,Paper_dataset)\n",
    "\n",
    "  except:\n",
    "    print(f\"Exception caught for author:{id}\")\n",
    "    exception_counter += 1\n",
    "    time.sleep(1)\n",
    "\n",
    "\n",
    "  if query_counter > 95:\n",
    "    #Save to csv, this is done in each iteration as a back up, makes it a little slower but ensures that data aren't lost if/when kernel times out.\n",
    "    Author_dataset.to_csv('Author_dataset.csv')\n",
    "    Paper_dataset.to_csv('Paper_dataset.csv')\n",
    "    Abstract_dataset.to_csv('Abstract_dataset.csv')\n",
    "\n",
    "    time.sleep(1)\n",
    "    query_counter = 0\n",
    "\n",
    "#save_path = f'data_{total_queries}.json'\n",
    "#with open(save_path, 'w') as f:\n",
    "#  json.dump(data, f, indent=4)"
   ],
   "metadata": {
    "collapsed": false,
    "pycharm": {
     "is_executing": true
    }
   }
  },
  {
   "cell_type": "markdown",
   "source": [
    "4068 authors"
   ],
   "metadata": {
    "collapsed": false
   }
  },
  {
   "cell_type": "markdown",
   "source": [
    "Read the csv file data-set created:"
   ],
   "metadata": {
    "collapsed": false
   }
  },
  {
   "cell_type": "code",
   "execution_count": 13,
   "outputs": [],
   "source": [
    "Author_dataset = pd.read_csv('/Users/madsandersen/CompSocialScience/02467-CSS/Author_dataset.csv')\n",
    "Author_dataset.columns = Author_dataset.columns.str.replace('Unnamed: 0','AuthorID')\n",
    "Paper_dataset = pd.read_csv('/Users/madsandersen/CompSocialScience/02467-CSS/Paper_dataset.csv')"
   ],
   "metadata": {
    "collapsed": false
   }
  },
  {
   "cell_type": "markdown",
   "source": [
    "### 3)\n",
    "The results below are from quering from 4068 authors in total\n",
    "###### Resulting lengths:\n",
    "The length of the final author dataframe is: xx\n",
    "The length of the final paper dataframe is: xx"
   ],
   "metadata": {
    "collapsed": false
   }
  },
  {
   "cell_type": "code",
   "execution_count": 15,
   "outputs": [
    {
     "name": "stdout",
     "output_type": "stream",
     "text": [
      "Length of the Paper-dataset: 219246\n",
      "Length of the Auhtor-dataset: 10000\n"
     ]
    }
   ],
   "source": [
    "pd_length = len(Paper_dataset['paperId'].unique())\n",
    "au_length = len(Author_dataset['AuthorID'].unique())\n",
    "print(f'Length of the Paper-dataset: {pd_length}')\n",
    "print(f'Length of the Auhtor-dataset: {au_length}')"
   ],
   "metadata": {
    "collapsed": false
   }
  },
  {
   "cell_type": "code",
   "execution_count": 14,
   "outputs": [
    {
     "data": {
      "text/plain": "       AuthorID                 name  \\\n0  3.228613e+07        Jonathan Zong   \n1  1.454267e+08         J. N. Matias   \n2  4.622519e+07         Josh Pollock   \n3  1.666685e+09        Dylan Wootton   \n4  2.795670e+06  Arvind Satyanarayan   \n\n                                             aliases  citationCount  \\\n0                                               None           40.0   \n1  J Nathan Matias,J. Nathan Matias,Jorge Nathan ...          606.0   \n2                                               None          108.0   \n3                                   Dylan R. Wootton           21.0   \n4                                               None         2498.0   \n\n              field  \n0               Art  \n1  Computer Science  \n2  Computer Science  \n3               Art  \n4  Computer Science  ",
      "text/html": "<div>\n<style scoped>\n    .dataframe tbody tr th:only-of-type {\n        vertical-align: middle;\n    }\n\n    .dataframe tbody tr th {\n        vertical-align: top;\n    }\n\n    .dataframe thead th {\n        text-align: right;\n    }\n</style>\n<table border=\"1\" class=\"dataframe\">\n  <thead>\n    <tr style=\"text-align: right;\">\n      <th></th>\n      <th>AuthorID</th>\n      <th>name</th>\n      <th>aliases</th>\n      <th>citationCount</th>\n      <th>field</th>\n    </tr>\n  </thead>\n  <tbody>\n    <tr>\n      <th>0</th>\n      <td>3.228613e+07</td>\n      <td>Jonathan Zong</td>\n      <td>None</td>\n      <td>40.0</td>\n      <td>Art</td>\n    </tr>\n    <tr>\n      <th>1</th>\n      <td>1.454267e+08</td>\n      <td>J. N. Matias</td>\n      <td>J Nathan Matias,J. Nathan Matias,Jorge Nathan ...</td>\n      <td>606.0</td>\n      <td>Computer Science</td>\n    </tr>\n    <tr>\n      <th>2</th>\n      <td>4.622519e+07</td>\n      <td>Josh Pollock</td>\n      <td>None</td>\n      <td>108.0</td>\n      <td>Computer Science</td>\n    </tr>\n    <tr>\n      <th>3</th>\n      <td>1.666685e+09</td>\n      <td>Dylan Wootton</td>\n      <td>Dylan R. Wootton</td>\n      <td>21.0</td>\n      <td>Art</td>\n    </tr>\n    <tr>\n      <th>4</th>\n      <td>2.795670e+06</td>\n      <td>Arvind Satyanarayan</td>\n      <td>None</td>\n      <td>2498.0</td>\n      <td>Computer Science</td>\n    </tr>\n  </tbody>\n</table>\n</div>"
     },
     "execution_count": 14,
     "metadata": {},
     "output_type": "execute_result"
    }
   ],
   "source": [
    "Author_dataset.head()"
   ],
   "metadata": {
    "collapsed": false
   }
  },
  {
   "cell_type": "code",
   "execution_count": 7,
   "outputs": [
    {
     "data": {
      "text/plain": "{'authorId': '2606408',\n 'name': 'Douglas Zytko',\n 'aliases': ['Doug Zytko'],\n 'papers': [{'paperId': '0755a4a766ad6e888297f24a26d3e6f5f0fb7af0',\n   'externalIds': {'DBLP': 'conf/cscw/DateyAZ22',\n    'DOI': '10.1145/3500868.3559472',\n    'CorpusId': 253385713},\n   'title': 'Repurposing AI in Dating Apps to Augment Women’s Strategies for Assessing Risk of Harm',\n   'abstract': 'In this paper we present emerging findings from an interview study with women in North America about how AI could be designed to prevent online dating-facilitated violence by augmenting their strategies for risk awareness. The study is motivated by gender disparities in harm through online dating, and the relative absence of dating app designs that prioritize women. Findings show that women are receptive to the notion of AI that augments their existing strategies for assessing risk of harm with meeting a particular user face-to-face. They outline various physical and non-physical harms that they attempt to reduce uncertainty about, and a range of data points as indicators of risk that could serve as the basis for a risk awareness AI model. Due to subjectivity in what is considered an indicator of risk, current findings suggest that risk awareness AI, if implemented, should allow women to train their own models.',\n   'year': 2022,\n   'citationCount': 0,\n   's2FieldsOfStudy': [{'category': 'Sociology', 'source': 's2-fos-model'}],\n   'authors': [{'authorId': '2190111822', 'name': 'Isha Datey'},\n    {'authorId': '10740485', 'name': 'H. Aljasim'},\n    {'authorId': '2606408', 'name': 'Douglas Zytko'}]},\n  {'paperId': '0968f56c131adf6477594c5623fb199ced49026e',\n   'externalIds': {'DBLP': 'journals/pacmhci/AljasimZ23',\n    'DOI': '10.1145/3567559',\n    'CorpusId': 255226763},\n   'title': \"Foregrounding Women's Safety in Mobile Social Matching and Dating Apps\",\n   'abstract': \"The design of social matching and dating apps has changed continually through the years, marked notably by a shift to mobile devices, and yet user safety has not historically been a driver of design despite mounting evidence of sexual and other harms. This paper presents a participatory design study with women-a demographic at disproportionate risk of harm through app-use-about how mobile social matching apps could be designed to foreground their safety. Findings indicate that participants want social matching apps to augment women's abilities for self-protection, reflected in three new app roles: 1) the cloaking device, through which the social matching app helps women dynamically manage visibility to geographically nearby users, 2) the informant, through which the app helps women predict risk of harm associated with a recommended social opportunity, and 3) the guardian, through which the app monitors a user's safety during face-to-face meetings and augments their response to risk.\",\n   'year': 2022,\n   'citationCount': 0,\n   's2FieldsOfStudy': [{'category': 'Computer Science',\n     'source': 's2-fos-model'}],\n   'authors': [{'authorId': '10740485', 'name': 'H. Aljasim'},\n    {'authorId': '2606408', 'name': 'Douglas Zytko'}]},\n  {'paperId': '2f8896ff610702cc1a50ffca9b5f9f006ad389dd',\n   'externalIds': {'DBLP': 'journals/corr/abs-2203-15120',\n    'ArXiv': '2203.15120',\n    'DOI': '10.48550/arXiv.2203.15120',\n    'CorpusId': 247779248},\n   'title': 'The...Tinderverse?: Opportunities and Challenges for User Safety in Extended Reality (XR) Dating Apps',\n   'abstract': 'Dating apps such as Tinder have announced plans for a dating metaverse: the incorporation of XR technologies into the online dating process to augment interactions between potential sexual partners across virtual and physical worlds. While the dating metaverse is still in conceptual stages we can forecast signi ﬁ cant harms that it may expose daters to given prior research into the frequency and severity of sexual harms facilitated by dating apps as well as harms within social VR environments. In this workshop paper we envision how XR could enrich virtual-to-physical interaction between potential sexual partners and outline harms that it will likely perpetuate as well. We then introduce our ongoing research to preempt such harms: a participatory design study with sexual violence experts and demographics at disproportionate risk of sexual violence to produce mitigative solutions to sexual violence perpetuated by XR-enabled dating apps.',\n   'year': 2022,\n   'citationCount': 1,\n   's2FieldsOfStudy': [{'category': 'Psychology', 'source': 's2-fos-model'}],\n   'authors': [{'authorId': '2160631137', 'name': 'Sarath S. Shanker'},\n    {'authorId': '2606408', 'name': 'Douglas Zytko'}]},\n  {'paperId': '3ae8ec111bbc6688b76b8e8182fa347c0e76f6f0',\n   'externalIds': {'DBLP': 'conf/chi/ZytkoWGBL22',\n    'DOI': '10.1145/3491101.3516506',\n    'CorpusId': 248420038},\n   'title': 'Participatory Design of AI Systems: Opportunities and Challenges Across Diverse Users, Relationships, and Application Domains',\n   'abstract': \"Participatory design (PD) for Artificially Intelligent (AI) systems has gained in popularity in recent years across multiple application domains, both within the private and public sectors. PD methods broadly enable stakeholders of diverse backgrounds to inform new use cases for AI and the design of AI-based technologies that directly impact people's lives. Such participation can be vital for mitigating adverse implications of AI on society that are becoming increasingly apparent and pursuing more positive impact, especially to vulnerable populations. This panel brings together researchers who have, or are, conducting participatory design of AI systems across diverse subject areas. The goal of the panel is to elucidate similarities and differences, as well as successes and challenges, in how PD methods can be applied to Artificially Intelligent systems in practical and meaningful ways. The panel serves as an opportunity for the HCI research community to collectively reflect on opportunities for PD of AI to facilitate collaboration amongst stakeholders, as well as persistent challenges to participatory AI design.\",\n   'year': 2022,\n   'citationCount': 5,\n   's2FieldsOfStudy': [{'category': 'Computer Science',\n     'source': 's2-fos-model'}],\n   'authors': [{'authorId': '2606408', 'name': 'Douglas Zytko'},\n    {'authorId': '34966245', 'name': 'P. Wisniewski'},\n    {'authorId': '2345714', 'name': 'Shion Guha'},\n    {'authorId': '144392313', 'name': 'E. Baumer'},\n    {'authorId': '2109517273', 'name': 'Min Kyung Lee'}]},\n  {'paperId': '3e5718d86e5921ca6d840d4c4afd9f24283c83a8',\n   'externalIds': {'ArXiv': '2201.02253', 'CorpusId': 247155193},\n   'title': 'Designing Social VR: A Collection of Design Choices Across Commercial and Research Applications',\n   'abstract': 'Social VR has experienced tremendous growth in the commercial space recently as an emerging technology for rich interactions themed around leisure, work, and relationship building. As a result, the state of social VR application design has become rapidly obfuscated, which complicates identi ﬁ cation of design trends and uncommon features that could inform future design, and hinders inclusion of new voices in this design space. To help address this problem, we present a taxonomy of social VR application design choices as informed by 44 commercial and prototypical applications. Our taxonomy was informed by multiple discovery strategies including literature review, search of VR-themed subreddits, and autobiographical landscape research. Th e taxonomy elucidates three design areas—the self, interaction, and the environment— and organizes 10 feature categories and 38 feature variations. Th e paper re ﬂ ects on how the taxonomy can support involvement of new designers, and considers possible expansion and use by researchers.',\n   'year': 2022,\n   'citationCount': 0,\n   's2FieldsOfStudy': [{'category': 'Computer Science',\n     'source': 's2-fos-model'}],\n   'authors': [{'authorId': '2149323596', 'name': 'Ryan Handley'},\n    {'authorId': '2149323863', 'name': 'Bert Guerra'},\n    {'authorId': '2149323582', 'name': 'Rukkmini Goli'},\n    {'authorId': '2606408', 'name': 'Douglas Zytko'}]},\n  {'paperId': '438c77a36476a612a58572dcf5406cf484cf8d69',\n   'externalIds': {'DBLP': 'journals/corr/abs-2204-00688',\n    'ArXiv': '2204.00688',\n    'DOI': '10.48550/arXiv.2204.00688',\n    'CorpusId': 247939624},\n   'title': 'Designing AI for Online-to-Offline Safety Risks with Young Women: The Context of Social Matching',\n   'abstract': 'In this position paper we draw attention to safety risks against youth and young adults that originate through the combination of online and in-person interaction, and opportunities for AI to address these risks. Our context of study is social matching systems (e.g., Tinder, Bumble), which are used by young adults for online-to-offline interaction with strangers, and which are correlated with sexual violence both online and in-person. The paper presents early insights from an ongoing participatory AI design study in which young women build directly explainable models for detecting risk associated with discovered social opportunities, and articulate what AI should do once risk has been detected. We seek to advocate for participatory AI design as a way to directly incorporate youth and young adults into the design of a safer Internet. We also draw attention to challenges with the method.',\n   'year': 2022,\n   'citationCount': 0,\n   's2FieldsOfStudy': [{'category': 'Psychology', 'source': 's2-fos-model'}],\n   'authors': [{'authorId': '2606408', 'name': 'Douglas Zytko'},\n    {'authorId': '10740485', 'name': 'H. Aljasim'}]},\n  {'paperId': '51b0a64b062c3a710502bce789cd6f7659c92111',\n   'externalIds': {'DBLP': 'journals/corr/abs-2203-10398',\n    'ArXiv': '2203.10398',\n    'DOI': '10.48550/arXiv.2203.10398',\n    'CorpusId': 247594378},\n   'title': 'Ethical Considerations When Constructing Participatory Design Protocols for Social Robots',\n   'abstract': 'Participatory design has emerged as a popular approach to foreground ethical considerations in social robots by incorporating anticipated users and stakeholders as designers. Here we draw attention to the ethics of participatory design as a method, distinct from the ethical considerations of the social robot being co-designed. More specifically, we consider the ethical concerns posed by the act of stakeholder participation the morals and values that should be explicitly considered when we, as researchers or practitioners, devise protocols for participatory design of social robots (“how” stakeholders participate). We use the case of robot-assisted sexual violence mitigation to exemplify ethical considerations of participatory design protocols such as risk of harm, exploitation, and reduction of stakeholder agency. To incorporate these and other ethical considerations in the creation of social robot participatory design protocols, we advocate letting stakeholders design their own form of participation by including them in the creation of participatory design sessions, structures, and processes.',\n   'year': 2022,\n   'citationCount': 0,\n   's2FieldsOfStudy': [{'category': 'Art', 'source': 's2-fos-model'}],\n   'authors': [{'authorId': '2606408', 'name': 'Douglas Zytko'},\n    {'authorId': '1867074', 'name': 'W. Louie'}]},\n  {'paperId': '62500a212f8f12de6d050f18687a15f1541bd28e',\n   'externalIds': {'DBLP': 'journals/corr/abs-2201-02253',\n    'CorpusId': 245827774},\n   'title': 'A Taxonomy of Social VR Design',\n   'abstract': 'Social VR has experienced tremendous growth in the commercial space recently as an emerging technology for rich interactions themed around leisure, work, and relationship building. As a result, the state of social VR application design has become rapidly obfuscated, which complicates identification of design trends and uncommon features that could inform future design, and hinders inclusion of new voices in this design space. To help address this problem, we present a taxonomy of social VR application design choices as informed by 44 commercial and prototypical applications. Our taxonomy was informed by multiple discovery strategies including literature review, search of VR-themed subreddits, and autobiographical landscape research. The taxonomy elucidates three design areas—the self, interaction, and the environment— and organizes 10 feature categories and 38 feature variations. The paper reflects on how the taxonomy in its current form can support involvement of new designers, and considers possible avenues for its expansion and use by researchers.',\n   'year': 2022,\n   'citationCount': 0,\n   's2FieldsOfStudy': [{'category': 'Computer Science',\n     'source': 's2-fos-model'}],\n   'authors': [{'authorId': '2149323596', 'name': 'Ryan Handley'},\n    {'authorId': '2149323863', 'name': 'Bert Guerra'},\n    {'authorId': '2149323582', 'name': 'Rukkmini Goli'},\n    {'authorId': '2606408', 'name': 'Douglas Zytko'}]},\n  {'paperId': '886cb95e1dcb33d4107fa0680798169311de3548',\n   'externalIds': {'ArXiv': '2204.00691',\n    'DBLP': 'journals/corr/abs-2204-00691',\n    'DOI': '10.48550/arXiv.2204.00691',\n    'CorpusId': 247939867},\n   'title': 'Human-AI Interaction for User Safety in Social Matching Apps: Involving Marginalized Users in Design',\n   'abstract': 'In this position paper we intend to advocate for participatory design methods and mobile social matching apps as ripe contexts for exploring novel human-AI interactions that benefit marginalized groups. Mobile social matching apps like Tinder and Bumble use AI to introduce users to each other for rapid face-to-face meetings. These user discoveries and subsequent interactions pose disproportionate risk of sexual violence and other harms to marginalized user demographics, specifically women and the LGBTQIA+ community. We want to extend the role of AI in these apps to keep users safe while they interact with strangers across online and offline modalities. To do this, we are using participatory design methods to empower women and LGBTQIA+ individuals to envision future human-AI interactions that prioritize their safety during social matching app-use. In one study, stakeholders identifying as LGBTQIA+ or women are redesigning dating apps to mediate exchange of sexual consent and therefore mitigate sexual violence. In the other study, women are designing multi-purpose, opportunistic social matching apps that foreground women’s safety.',\n   'year': 2022,\n   'citationCount': 0,\n   's2FieldsOfStudy': [{'category': 'Computer Science',\n     'source': 's2-fos-model'}],\n   'authors': [{'authorId': '2606408', 'name': 'Douglas Zytko'},\n    {'authorId': '1380206977', 'name': 'Nicholas Furlo'},\n    {'authorId': '10740485', 'name': 'H. Aljasim'}]},\n  {'paperId': 'b83a3552413813e8ce150e0f764b4f530d612b36',\n   'externalIds': {'DBLP': 'journals/pacmhci/ZytkoMTH22',\n    'DOI': '10.1145/3492849',\n    'CorpusId': 245934084},\n   'title': 'Dating Apps Are Used for More Than Dating',\n   'abstract': 'Use and design of dating apps has evolved in recent years to accommodate other interaction goals beyond dating, prompting some researchers to now refer to these apps as people-nearby applications (PNAs). With this expansion of use comes increased potential for misinterpretation of users\\' goals for meeting face-to-face, which can pose risks to user safety particularly when disparities in sexual expectations occur. We present a survey study (n=132) with users of several PNAs and with various motivations for PNA-use to understand how interaction goals are disclosed and detected. The study finds such practices to be far from consistent, with some appearing highly susceptible to misinterpretation such as purposely delaying self-presentation of interaction goals until meeting face-to-face, and implying sexual expectations through vague references to \"fun.\" We conclude by suggesting a modified version of the \"swiping\" feature in PNAs to facilitate consistent and overt self-presentation of interaction goals in ways that accommodate user tendencies discovered in the study.',\n   'year': 2022,\n   'citationCount': 1,\n   's2FieldsOfStudy': [{'category': 'Computer Science',\n     'source': 's2-fos-model'}],\n   'authors': [{'authorId': '2606408', 'name': 'Douglas Zytko'},\n    {'authorId': '2149926255', 'name': 'Nicholas Mullins'},\n    {'authorId': '2149926293', 'name': 'Shelnesha Taylor'},\n    {'authorId': '115694419', 'name': 'Richard H. Holler'}]},\n  {'paperId': 'df9d52a52b65e3b2e83df0b419369aebd2953c77',\n   'externalIds': {'DBLP': 'conf/cscw/ChanZ22',\n    'DOI': '10.1145/3500868.3559449',\n    'CorpusId': 253385649},\n   'title': 'An Online Memorial for Coping with Mass Shooting Tragedy by Combining Participatory Memory with Participatory Design of AI Use Cases',\n   'abstract': 'Mass shootings occur in America at an alarming rate. There is opportunity to intervene in this problem by designing technologies that support affected communities in processing gun violence tragedy. In this paper we report on the design of an online memorial for a mass shooting that affected our university’s local community. We demonstrate an alternative approach to online memorials that blends participatory memory with participatory design through remembrance artifacts that represent ideas for gun violence prevention technologies that could have prevented the tragedy and that may prevent future tragedies. We demonstrate participatory memory + design with our memorial called the OUrchive that supports retrospective and prospective reflection on the Oxford High School shooting through designing new use cases for AI to prevent mass shootings. Early community involvement suggests that the OUrchive supports personal reconciliation with tragedy by channeling trauma towards public discourse about potential solutions to gun violence.',\n   'year': 2022,\n   'citationCount': 0,\n   's2FieldsOfStudy': [{'category': 'Sociology', 'source': 's2-fos-model'}],\n   'authors': [{'authorId': '2190117630', 'name': 'Jonathan Chan'},\n    {'authorId': '2606408', 'name': 'Douglas Zytko'}]},\n  {'paperId': 'fde65235dc02a0253daa911adbb10f0a25887ff2',\n   'externalIds': {'DBLP': 'conf/cscw/ZytkoIZ22',\n    'DOI': '10.1145/3500868.3561201',\n    'CorpusId': 253385755},\n   'title': 'Consent: A Research and Design Lens for Human-Computer Interaction',\n   'abstract': 'Consent has become an important concept across multiple areas within HCI/CSCW, community advocacy work, and the tech industry, for understanding social computing problems and designing safe and agentic computer-mediated communication. Recent research has studied consent in various topics, such as online-to-offline interaction and harm, data privacy and security, research ethics, and human-robot interaction. The goal of this panel is to bring together researchers and practitioners to discuss how consent has been defined and studied within HCI and adjacent fields, and how cross-field discourse around consent can inform future work that pursues safe and equitable computing. We aim to introduce consent as a multifaceted research and design lens to the HCI and CSCW community and illuminate ways that consent can contribute to better understanding or re-imagination of contemporary research interests. Lastly, the panel aims to spark cross-field communication around consent to identify latent connections across research topics and foster synergistic collaborations.',\n   'year': 2022,\n   'citationCount': 1,\n   's2FieldsOfStudy': [{'category': 'Computer Science',\n     'source': 's2-fos-model'}],\n   'authors': [{'authorId': '2606408', 'name': 'Douglas Zytko'},\n    {'authorId': '1666528199', 'name': 'Jane Im'},\n    {'authorId': '32286134', 'name': 'Jonathan Zong'}]},\n  {'paperId': '05194725f575be4a2a514dd992af4e90e60f5704',\n   'externalIds': {'DBLP': 'journals/pacmhci/ZytkoFCA21',\n    'ArXiv': '2105.07333',\n    'DOI': '10.1145/3449288',\n    'CorpusId': 233354145},\n   'title': 'Computer-Mediated Consent to Sex',\n   'abstract': \"This paper reports an interview study about how consent to sexual activity is computer-mediated. The study's context of online dating is chosen due to the prevalence of sexual violence, or nonconsensual sexual activity, that is associated with dating app-use. Participants (n=19) represent a range of gender identities and sexual orientations, and predominantly used the dating app Tinder. Findings reveal two computer-mediated consent processes: consent signaling and affirmative consent. With consent signaling, users employed Tinder's interface to infer and imply agreement to sex without any explicit confirmation before making sexual advances in-person. With affirmative consent, users employed the interface to establish patterns of overt discourse around sex and consent across online and offline modalities. The paper elucidates shortcomings of both computer-mediated consent processes that leave users susceptible to sexual violence and envisions dating apps as potential sexual violence prevention solutions if deliberately designed to mediate consent exchange.\",\n   'year': 2021,\n   'citationCount': 7,\n   's2FieldsOfStudy': [{'category': 'Psychology', 'source': 's2-fos-model'}],\n   'authors': [{'authorId': '2606408', 'name': 'Douglas Zytko'},\n    {'authorId': '1380206977', 'name': 'Nicholas Furlo'},\n    {'authorId': '2080437050', 'name': 'B. Carlin'},\n    {'authorId': '2000981690', 'name': 'M. Archer'}]},\n  {'paperId': '29ab9849955a3e2f341aa00cdb38e4268048053c',\n   'externalIds': {'DBLP': 'journals/ijhci/MaZ21',\n    'MAG': '3131320189',\n    'DOI': '10.1080/10447318.2021.1886486',\n    'CorpusId': 233907898},\n   'title': 'Designing Immersive Stories for Health: Choosing Character Perspective Based on the Viewer’s Modality',\n   'abstract': 'ABSTRACT This study investigates how different character perspectives (a main vs. supporting character) impact story-consistent attitudes and beliefs and how that effect varies as a function of modality (mobile phone vs. VR headset) in an immersive story for preventing binge drinking. Results of a controlled experiment (N = 147) showed that participants assuming the perspective of a binge drinker (the main character) reported less negative attitudes toward binge drinking and less perceived severity of binge drinking than those assuming the perspective of a non-binge drinking friend (the supporting character). Moreover, participants who watched the story in VR headsets (vs. phones) reported greater perceived susceptibility of binge drinking. A moderated mediation effect was found, suggesting that psychological reactance significantly mediated the effect of perspective on attitudes when the immersive story was viewed in phones. This study highlights the importance of character perspective and viewer’s modality when designing immersive stories for health.',\n   'year': 2021,\n   'citationCount': 2,\n   's2FieldsOfStudy': [{'category': 'Psychology', 'source': 's2-fos-model'}],\n   'authors': [{'authorId': '13682766', 'name': 'Zexin Ma'},\n    {'authorId': '2606408', 'name': 'Douglas Zytko'}]},\n  {'paperId': '2cc3db01b05e64757817bdb9c67ab8c098c7a305',\n   'externalIds': {'DBLP': 'journals/corr/abs-2105-07333',\n    'CorpusId': 234773664},\n   'title': 'Computer-Mediated Consent to Sex: The Context of Tinder',\n   'abstract': None,\n   'year': 2021,\n   'citationCount': 11,\n   's2FieldsOfStudy': [],\n   'authors': [{'authorId': '2606408', 'name': 'Douglas Zytko'},\n    {'authorId': '1380206977', 'name': 'Nicholas Furlo'},\n    {'authorId': '2080437050', 'name': 'B. Carlin'},\n    {'authorId': '2000981690', 'name': 'M. Archer'}]},\n  {'paperId': '367a74f46dd5ed81f232f941e7d4fe2ed4934980',\n   'externalIds': {'DBLP': 'conf/cscw/FurloGFZ21',\n    'DOI': '10.1145/3462204.3481770',\n    'CorpusId': 239459657},\n   'title': 'Rethinking Dating Apps as Sexual Consent Apps: A New Use Case for AI-Mediated Communication',\n   'abstract': 'This paper reports a participatory design study about how dating apps could be designed to mediate sexual consent exchange and ultimately serve as scalable sexual violence prevention solutions. Participants (n=17) were dating app users identifying as LGBTQIA+ or women (demographics at disproportionate risk of sexual violence). Participants envisioned dating apps encouraging safer consent exchange practices by normalizing discussions around consent and sexual boundaries online, before meeting face-to-face with potential sex partners. The design ideas generated by the participants, which we coded as Consent Communication Progression, involved the dating app messaging interface using AI-driven conversation prompts. Such prompts would gradually progress messaging conversations towards topics of consent and sexual boundaries with an algorithm that tailors the prompts to specific users. Participants applied a consent lens when imagining human-AI interaction, in which conversation prompts would only be posted in the interface if the user first consented to the particular conversation occurring. Implications for future work are discussed.',\n   'year': 2021,\n   'citationCount': 4,\n   's2FieldsOfStudy': [{'category': 'Psychology', 'source': 's2-fos-model'}],\n   'authors': [{'authorId': '1380206977', 'name': 'Nicholas Furlo'},\n    {'authorId': '2057058919', 'name': 'Jacob Gleason'},\n    {'authorId': '2134560411', 'name': 'Karen Feun'},\n    {'authorId': '2606408', 'name': 'Douglas Zytko'}]},\n  {'paperId': 'bda1b7429ecf2aa66977f8cd9163e08e97f41c50',\n   'externalIds': {'DBLP': 'conf/cscw/BullAZ21',\n    'DOI': '10.1145/3462204.3481751',\n    'CorpusId': 239459593},\n   'title': \"Designing Opportunistic Social Matching Systems for Women's Safety During Face-to-Face Social Encounters\",\n   'abstract': \"This paper presents emerging findings from a participatory design study with women about how future designs of opportunistic social matching systems can foreground user safety. The study is motivated by a relative lack of focus on user safety in social matching systems (Tinder, Bumble, etc.) in light of advances to user discovery mechanisms that enable increasingly rapid face-to-face encounters. Findings highlight ways that social matching systems could support users’ safety after they have left home to pursue a social opportunity in the physical world. Co-designers envisioned a social matching system acting as a “guardian” that genuinely cares for, and monitors, the user's safety even if it cannot flawlessly mitigate harm. Rather than respond only after a definitive harm has occurred, co-designers expected the system to intervene earlier, during ambiguously unsafe or uncomfortable situations. The paper considers directions for future work in response to users’ expectations for how social matching systems should coordinate with trusted contacts to intervene in unsafe situations.\",\n   'year': 2021,\n   'citationCount': 3,\n   's2FieldsOfStudy': [{'category': 'Computer Science',\n     'source': 's2-fos-model'}],\n   'authors': [{'authorId': '152563753', 'name': 'C. Bull'},\n    {'authorId': '10740485', 'name': 'H. Aljasim'},\n    {'authorId': '2606408', 'name': 'Douglas Zytko'}]},\n  {'paperId': 'e7e21f817dbf76d1f5bb64f7b4e17b37b002e350',\n   'externalIds': {'DBLP': 'conf/iconference/ZytkoMGLT21',\n    'ArXiv': '2106.13921',\n    'DOI': '10.1007/978-3-030-71292-1_25',\n    'CorpusId': 232314115},\n   'title': 'Immersive Stories for Health Information: Design Considerations from Binge Drinking in VR',\n   'abstract': None,\n   'year': 2021,\n   'citationCount': 0,\n   's2FieldsOfStudy': [{'category': 'Medicine', 'source': 's2-fos-model'}],\n   'authors': [{'authorId': '2606408', 'name': 'Douglas Zytko'},\n    {'authorId': '13682766', 'name': 'Zexin Ma'},\n    {'authorId': '2057058919', 'name': 'Jacob Gleason'},\n    {'authorId': '2057058860', 'name': 'Nathaniel Lundquist'},\n    {'authorId': '2108226686', 'name': 'Medina Taylor'}]},\n  {'paperId': 'c110c3fb2d3f1c52a1496788d874ab4a4cdb2cd3',\n   'externalIds': {'MAG': '3093947449',\n    'DBLP': 'journals/pacmhci/ZytkoRFGJ20',\n    'DOI': '10.1145/3415208',\n    'CorpusId': 224805816},\n   'title': 'Supporting Women in Online Dating with a Messaging Interface that Improves their Face-to-Face Meeting Decisions',\n   'abstract': \"This paper presents a study of a messaging interface prototype for online dating intended to improve women's face-to-face meeting decisions, and therefore the capacity to manage the gendered risks involved with such meetings. The interface prompts users with discussion topics that are potentially more valuable for user evaluation than the impression management-motivated topics often chosen by men. These topics come in the form of first-date scenarios that messaging partners either agree or disagree on. Through a mixed-methods study utilizing speed dating events, daters used the interface to interact before meeting face-to-face. Results indicate that women's face-to-face meeting decisions improve when the interface prompts them to discuss scenarios involving agreement of opinion. Men's decisions are worsened by the same interface variant, potentially due to the displayed agreement being misinterpreted as a signal of compatibility. The study ultimately stresses that designs intended for women, and at-risk groups more broadly, must also be assessed with other user demographics-namely those that pose a risk-to identify unforeseen implications.\",\n   'year': 2020,\n   'citationCount': 6,\n   's2FieldsOfStudy': [{'category': 'Computer Science',\n     'source': 's2-fos-model'}],\n   'authors': [{'authorId': '2606408', 'name': 'Douglas Zytko'},\n    {'authorId': '51898740', 'name': 'Victor Regalado'},\n    {'authorId': '1380206977', 'name': 'Nicholas Furlo'},\n    {'authorId': '2246337', 'name': 'Sukeshini A. Grandhi'},\n    {'authorId': '144812959', 'name': 'Quentin Jones'}]},\n  {'paperId': '40d5912c494fa3253d5dd06437b33c648c99b63b',\n   'externalIds': {'DBLP': 'conf/cscw/ArcherZ19',\n    'MAG': '2984528354',\n    'DOI': '10.1145/3311957.3359459',\n    'CorpusId': 207959917},\n   'title': 'Social Matching Systems for Research Collaboration: A Profile Page Design for University Faculty',\n   'abstract': 'Social matching systems, while popular for dating and platonic connections, can also play a role in the workplace, particularly for initiating collaborations between professionals from traditionally disparate fields of practice. In this paper we present a profile page design to support university faculty in self-presenting to nonacademic partners in their local community for collaborative research opportunities, as informed by a focus group study. We then discuss preliminary insight from a survey to faculty prompting them to create their profile page and provide feedback on its design. The created profiles indicate that faculty embrace profile pictures as tools for conveying their expertise and resources rather than their physical appearance. Furthermore, functionality to link the profiles of users who are currently working together should be considered as a way to convey combined collaboration potential.',\n   'year': 2019,\n   'citationCount': 0,\n   's2FieldsOfStudy': [{'category': 'Computer Science',\n     'source': 's2-fos-model'}],\n   'authors': [{'authorId': '2000981690', 'name': 'M. Archer'},\n    {'authorId': '2606408', 'name': 'Douglas Zytko'}]},\n  {'paperId': 'e7d2c6314f48129d6e576ce3811a00b4f75af557',\n   'externalIds': {'DBLP': 'conf/chiplay/JonasSYAFZ19',\n    'MAG': '2981625223',\n    'DOI': '10.1145/3341215.3356271',\n    'CorpusId': 204836941},\n   'title': 'Towards a Taxonomy of Social VR Application Design',\n   'abstract': 'The number of social VR applications-or applications that support social interaction between users in virtual reality-has grown considerably in recent years. A consequence of this growth is that the state of social VR application design has become increasingly obfuscated, which complicates identification of design trends, best practices, and uncommon features that are perhaps worthy of wider adoption. To help address this problem, this paper presents a taxonomy of social VR application design choices as informed by 29 commercial and prototypical applications in the literature. Discussion of the taxonomy highlights novel features of research prototypes that could potentially enrich the social experience in commercially available applications. The paper concludes by considering how the taxonomy can guide future design of social VR applications, and next steps for refining the taxonomy.',\n   'year': 2019,\n   'citationCount': 43,\n   's2FieldsOfStudy': [{'category': 'Computer Science',\n     'source': 's2-fos-model'}],\n   'authors': [{'authorId': '1380207075', 'name': 'Marcel Jonas'},\n    {'authorId': '1387165660', 'name': 'Steven Said'},\n    {'authorId': '2111468414', 'name': 'Daniel Yu'},\n    {'authorId': '2068691572', 'name': 'Chris J. Aiello'},\n    {'authorId': '1380206977', 'name': 'Nicholas Furlo'},\n    {'authorId': '2606408', 'name': 'Douglas Zytko'}]},\n  {'paperId': 'e86bb957c089316fba5a9c43735bfa6d9ea42f4b',\n   'externalIds': {'DBLP': 'journals/pacmhci/ZytkoD19',\n    'MAG': '2991926983',\n    'DOI': '10.1145/3361117',\n    'CorpusId': 209168165},\n   'title': 'Designing a Social Matching System to Connect Academic Researchers with Local Community Collaborators',\n   'abstract': 'This paper reports on efforts to design a social matching system that instigates collaborative research across multiple fields of practice, in this instance: researchers from academia and organizations in their local geographic community. A qualitative study is presented about university researchers and the design of their profile pages for the system. Findings show that university researchers prefer profile page designs that enable them to demonstrate a willingness to adapt to non-academic partners, such as by de-emphasizing esoteric markers of expertise like scholarly publications and clarifying their resources and goals. Some also wish to circumvent potential bias by omitting information about their name, physical appearance, and academic department. However, these desired omissions raise questions about how to design for sufficient distinction between profile pages and the presentation of a unique professional identity. Implications are discussed for the design of social marching systems for collaboration.',\n   'year': 2019,\n   'citationCount': 2,\n   's2FieldsOfStudy': [{'category': 'Computer Science',\n     'source': 's2-fos-model'}],\n   'authors': [{'authorId': '2606408', 'name': 'Douglas Zytko'},\n    {'authorId': '108557591', 'name': 'Leanne DeVreugd'}]},\n  {'paperId': 'fc641689a7c58b2b930fc13e265e00bfc163f73e',\n   'externalIds': {'MAG': '2927537927',\n    'DBLP': 'conf/hicss/ZytkoRBJ19',\n    'DOI': '10.24251/HICSS.2019.025',\n    'CorpusId': 102351908},\n   'title': 'Bowling Together Again: Facilitating the Initiation of Collective Action through Awareness of Others',\n   'abstract': 'Often within communities there is sufficient interest in group-activities and yet they fail to occur because of insufficient individual initiative. This could be due to diffusion of responsibility or uncertainty about the availability of potential participants. Providing information about the number of interested individuals has conflicting implications, and hence an ambiguous impact on the likelihood of activities occurring. Our experiment examines the impact of providing information about community interest on activity initiation. Subjects (n=2000) were given information about the level of interest in a possible activity within their community and the ability to initiate its planning. Results indicate that displaying sufficient interest in an activity is positively associated with willingness to initiate planning. This suggests that Internet applications which 1) provide awareness of shared activity interest and 2) reduce effort required to initiate activity planning could boost collective action and improve community life.',\n   'year': 2019,\n   'citationCount': 2,\n   's2FieldsOfStudy': [{'category': 'Psychology', 'source': 's2-fos-model'}],\n   'authors': [{'authorId': '2606408', 'name': 'Douglas Zytko'},\n    {'authorId': '48943434', 'name': 'Stephen T. Ricken'},\n    {'authorId': '35094250', 'name': 'B. Butler'},\n    {'authorId': '144812959', 'name': 'Quentin Jones'}]},\n  {'paperId': '29eeae48a7c0fbde5baf7d5a3b7fe244d50be6f9',\n   'externalIds': {'MAG': '2921165772', 'CorpusId': 150921256},\n   'title': 'Supporting user evaluation of messaging interactions with potential romantic partners discovered online',\n   'abstract': 'SUPPORTING USER EVALUATION OF MESSAGING INTERACTIONS WITH POTENTIAL ROMANTIC PARTNERS DISCOVERED ONLINE',\n   'year': 2018,\n   'citationCount': 0,\n   's2FieldsOfStudy': [{'category': 'Art', 'source': 's2-fos-model'}],\n   'authors': [{'authorId': '2606408', 'name': 'Douglas Zytko'}]},\n  {'paperId': '90a593cba87005153d36fa4856e4295915cdcc8e',\n   'externalIds': {'DBLP': 'conf/cscw/ZytkoRGJ18',\n    'MAG': '2899300005',\n    'DOI': '10.1145/3272973.3274095',\n    'CorpusId': 53214652},\n   'title': 'Supporting Online Dating Decisions with a Prompted Discussion Interface',\n   'abstract': \"Online dating systems are popular tools for pursuing romance, yet first dates between online daters are commonly unenjoyable because of incompatibility signaled through face-to-face conversation. This paper presents the prompted discussion interface, which aims to inform online daters' expectations for face-to-face interactions by prompting them with messaging discussion topics that theoretically spur the expression of attraction-relevant traits. Preliminary findings are presented from a qualitative study (n=35) about user perceptions of the interface.\",\n   'year': 2018,\n   'citationCount': 3,\n   's2FieldsOfStudy': [{'category': 'Business', 'source': 's2-fos-model'}],\n   'authors': [{'authorId': '2606408', 'name': 'Douglas Zytko'},\n    {'authorId': '51898740', 'name': 'Victor Regalado'},\n    {'authorId': '2246337', 'name': 'Sukeshini A. Grandhi'},\n    {'authorId': '144812959', 'name': 'Quentin Jones'}]},\n  {'paperId': 'ca77479ea49594c39d25349d0b97688cd49d73f7',\n   'externalIds': {'DBLP': 'series/hci/ZytkoGJ18',\n    'MAG': '2884235667',\n    'DOI': '10.1007/978-3-319-68213-6_5',\n    'CorpusId': 52071076},\n   'title': 'The (Un)Enjoyable User Experience of Online Dating Systems',\n   'abstract': None,\n   'year': 2018,\n   'citationCount': 4,\n   's2FieldsOfStudy': [{'category': 'Psychology', 'source': 's2-fos-model'}],\n   'authors': [{'authorId': '2606408', 'name': 'Douglas Zytko'},\n    {'authorId': '2246337', 'name': 'Sukeshini A. Grandhi'},\n    {'authorId': '144812959', 'name': 'Quentin Jones'}]},\n  {'paperId': 'cf8a22fb8b3ef1e1d92f1dc1f1bc68b2bc307064',\n   'externalIds': {'MAG': '2899359524',\n    'DBLP': 'conf/cscw/ZytkoS18',\n    'DOI': '10.1145/3272973.3274096',\n    'CorpusId': 53217636},\n   'title': 'Encounter Opportunity Browsing: A New Approach to Opportunistic Social Matching',\n   'abstract': \"Opportunistic social matching is the concept of introducing individuals for various social interests when user-contexts are conducive to impromptu face-to-face meetings. Early prototypes have received positive feedback, yet they are susceptible to inaccurately reported match preferences and false-negative match recognition. This paper presents an alternative design for opportunistic social matching called the encounter opportunity browsing interface. The interface lets users indiscriminately browse and react to opportunities for social encounters nearby, which enables the gradual learning of users' match preferences. A preliminary qualitative assessment of the interface indicates that users seek trusted signals regarding the enjoyability of social encounter opportunities displayed.\",\n   'year': 2018,\n   'citationCount': 1,\n   's2FieldsOfStudy': [{'category': 'Computer Science',\n     'source': 's2-fos-model'}],\n   'authors': [{'authorId': '2606408', 'name': 'Douglas Zytko'},\n    {'authorId': '51912875', 'name': 'Dalvin Josias Sejour'}]},\n  {'paperId': 'f7ddf99394dcc7e0b17f0eb93430abaac5fc319b',\n   'externalIds': {'MAG': '2898834130',\n    'DBLP': 'conf/cscw/ZytkoRJ18',\n    'DOI': '10.1145/3272973.3274097',\n    'CorpusId': 53216955},\n   'title': 'Group-Activity Organizing Through an Awareness-of-Others Interface',\n   'abstract': \"Desires to engage in social group-activities (e.g., pick-up volleyball) are common, yet current technologies can leave users hesitant to assume the role of activity organizer because the return they will receive for their efforts is largely unknown. This paper presents a user interface that attempts to reduce barriers to social group-activity organization by informing users of nearby others who share an activity interest and providing tools to facilitate collective action. Preliminary research of the interface indicates a positive association between the visible number of individuals that share an activity interest and one's willingness to initiate organization of the activity. Ongoing research efforts informed by these results are discussed.\",\n   'year': 2018,\n   'citationCount': 3,\n   's2FieldsOfStudy': [{'category': 'Computer Science',\n     'source': 's2-fos-model'}],\n   'authors': [{'authorId': '2606408', 'name': 'Douglas Zytko'},\n    {'authorId': '48943434', 'name': 'Stephen T. Ricken'},\n    {'authorId': '144812959', 'name': 'Quentin Jones'}]},\n  {'paperId': '9037ea724784d6d7002519c8f9932c2cf0288f59',\n   'externalIds': {'MAG': '2611082785',\n    'DBLP': 'conf/chi/WohnPZ17',\n    'DOI': '10.1145/3027063.3053267',\n    'CorpusId': 27258149},\n   'title': 'Face to Face Matters: Communication Modality, Perceived Social Support, and Psychological Wellbeing',\n   'abstract': 'This study examines the relationship between psychological wellbeing and perceived social support received from friends, differentiating groups of friends based on the communication modality the individual uses to communicate with them. Three communication modalities were examined: friends that communicate 1) only face-to-face, 2) only through computer-mediated communication, or 3) both. Results from a survey (N= 283) indicate that sociability, a dimension of extraversion, moderates the effect of communication modality on perceived social support. Social support-regardless of modality-increases positive affect, but only support from friends communicated with face-to-face is associated with lower levels of loneliness and higher levels of life satisfaction in comparison to support received from friends that only communicate through mediated means.',\n   'year': 2017,\n   'citationCount': 11,\n   's2FieldsOfStudy': [{'category': 'Psychology', 'source': 's2-fos-model'}],\n   'authors': [{'authorId': '2379340', 'name': 'D. Y. Wohn'},\n    {'authorId': '2067858512', 'name': 'W. Peng'},\n    {'authorId': '2606408', 'name': 'Douglas Zytko'}]},\n  {'paperId': 'd3e88b5377ada54649597f00bedad267143ef81a',\n   'externalIds': {'MAG': '2611221450',\n    'DBLP': 'conf/chi/RobertsonADFMAB17',\n    'DOI': '10.1145/3027063.3051134',\n    'CorpusId': 387850},\n   'title': 'CHI 2017 Stories Overview',\n   'abstract': 'CHI Stories is a new venue introduced at CHI 2017. A diverse set of storytellers describe personal experiences that shaped who they are and how they came to the field of Human-Computer Interaction.',\n   'year': 2017,\n   'citationCount': 2,\n   's2FieldsOfStudy': [{'category': 'Art', 'source': 's2-fos-model'},\n    {'category': 'Education', 'source': 's2-fos-model'}],\n   'authors': [{'authorId': '2727971', 'name': 'Scott P. Robertson'},\n    {'authorId': '2471896', 'name': 'Nazanin Andalibi'},\n    {'authorId': '2943892', 'name': 'N. Diakopoulos'},\n    {'authorId': '35751319', 'name': 'Andrea Forte'},\n    {'authorId': '2748693', 'name': 'Misa Maruyama'},\n    {'authorId': '34845749', 'name': 'Nova Ahmed'},\n    {'authorId': '2704133', 'name': 'Hrvoje Benko'},\n    {'authorId': '35033331', 'name': 'S. Dray'},\n    {'authorId': '145373673', 'name': 'G. Fitzpatrick'},\n    {'authorId': '40462644', 'name': 'Rubaiat Habib'},\n    {'authorId': '28226629', 'name': 'B. Hartmann'},\n    {'authorId': '2691746', 'name': 'K. Holtzblatt'},\n    {'authorId': '2877985', 'name': 'Elizabeth Rosenzweig'},\n    {'authorId': '2066154864', 'name': 'Preethi Srinivas'},\n    {'authorId': '2606408', 'name': 'Douglas Zytko'}]},\n  {'paperId': '84b0e45ed55da53c4fa41b0fa663a3bc46f354d2',\n   'externalIds': {'DBLP': 'conf/group/ZytkoGJ16',\n    'MAG': '2547631329',\n    'DOI': '10.1145/2957276.2957287',\n    'CorpusId': 7497582},\n   'title': 'The Coaches Said...What?: Analysis of Online Dating Strategies Recommended by Dating Coaches',\n   'abstract': 'Despite the popularity of online dating systems, prior work indicates that online daters struggle to present and evaluate traits germane to attraction. However, the research community is largely unaware of successful online dating system-use strategies and how the knowledge of these strategies could inform system design. In this paper we begin to address this gap in knowledge with an interview study of online dating coaches who consider their advocated system-use strategies successful based on personal use and feedback from clients who implemented their strategies. Their advocated strategies entail keeping online evaluation intentionally minimal and persuading users to meet in-person as quickly as possible because current system designs stifle reliable evaluation of attraction-relevant traits online, notably personality. We discuss the implications of insights gathered from these strategies for online dating system design using theories relevant to romantic attraction.',\n   'year': 2016,\n   'citationCount': 19,\n   's2FieldsOfStudy': [{'category': 'Computer Science',\n     'source': 's2-fos-model'}],\n   'authors': [{'authorId': '2606408', 'name': 'Douglas Zytko'},\n    {'authorId': '2246337', 'name': 'Sukeshini A. Grandhi'},\n    {'authorId': '144812959', 'name': 'Quentin Jones'}]},\n  {'paperId': '8bad10c47955438a68e2c6ad382cb4e8719e9636',\n   'externalIds': {'DBLP': 'conf/chi/ZytkoGJ16',\n    'MAG': '2346712204',\n    'DOI': '10.1145/2851581.2892482',\n    'CorpusId': 15750900},\n   'title': \"Online Dating Coaches' User Evaluation Strategies\",\n   'abstract': \"Users of online dating systems want to evaluate each other to predict who they will be attracted to in-person. Prior research into evaluation of online dating profiles has shown how users struggle to evaluate physical attractiveness and demographic traits because of deception. Yet we have little knowledge about successful user evaluation strategies, or evaluation of other traits known to influence attraction like personality. We addressed these gaps in knowledge through an interview study of professional online dating coaches (n=27) to extract their self-proclaimed successful user evaluation strategies for 3 categories of traits derived from attraction literature: physical appearance, demographics & values, and personality. We then interpreted these strategies through the lens of theories germane to attraction--Nisbett and Wilson's theory of introspection, Asch's theory of person perception, and Signaling theory.\",\n   'year': 2016,\n   'citationCount': 8,\n   's2FieldsOfStudy': [{'category': 'Psychology', 'source': 's2-fos-model'}],\n   'authors': [{'authorId': '2606408', 'name': 'Douglas Zytko'},\n    {'authorId': '2246337', 'name': 'Sukeshini A. Grandhi'},\n    {'authorId': '144812959', 'name': 'Quentin Jones'}]},\n  {'paperId': 'b1f0dcadbef9184c8426c893e790a1304f0aa864',\n   'externalIds': {'MAG': '2547322730',\n    'DBLP': 'conf/group/Zytko16',\n    'DOI': '10.1145/2957276.2997030',\n    'CorpusId': 13056720},\n   'title': 'Enhancing Evaluation of Potential Romantic Partners Online',\n   'abstract': 'Online dating systems are a common way to discover romantic partners. Yet there persists a gap in knowledge regarding how users of these systems determine which potential partners are worthy of in-person meetings, as well as the outcomes of these in-person meeting decisions. The objective of this dissertation is two-fold: 1) to understand how online dating system users make decisions to meet or not meet potential romantic partners in-person, and 2) to understand how online dating system designs currently support--and could better support--predictions of initial in-person attraction to potential romantic partners.',\n   'year': 2016,\n   'citationCount': 2,\n   's2FieldsOfStudy': [{'category': 'Psychology', 'source': 's2-fos-model'}],\n   'authors': [{'authorId': '2606408', 'name': 'Douglas Zytko'}]},\n  {'paperId': '7c7f7f7ee338ae767105312e4830aaa183f8bb09',\n   'externalIds': {'DBLP': 'conf/chi/ZytkoGJ15',\n    'MAG': '1995415499',\n    'DOI': '10.1145/2702613.2732905',\n    'CorpusId': 61012},\n   'title': 'Frustrations with Pursuing Casual Encounters through Online Dating',\n   'abstract': \"Many users of online dating systems have a multitude of relationship goals including casual encounters. However, most studies of online dating systems have focused exclusively on users' abilities to find long-term relationships. This has restricted our understanding of how to design systems for users that have multiple relationship goals. To address this gap in understanding we explored how people use online dating systems in regards to casual encounters. We did this through an interview study with users of a popular online dating system in the USA and a study of online dating coaches who give behavioral advice specific to the pursuit of casual encounters. Findings highlight how users subtly disguise and probe for openness to casual encounters, while coaches try to overcome ambiguities in user intentions through a series of targeted dating methods.\",\n   'year': 2015,\n   'citationCount': 11,\n   's2FieldsOfStudy': [{'category': 'Computer Science',\n     'source': 's2-fos-model'}],\n   'authors': [{'authorId': '2606408', 'name': 'Douglas Zytko'},\n    {'authorId': '2246337', 'name': 'Sukeshini A. Grandhi'},\n    {'authorId': '144812959', 'name': 'Quentin Jones'}]},\n  {'paperId': 'a135347e622bdaf4f108cd1445e3af318358a330',\n   'externalIds': {'DBLP': 'conf/cscw/ZytkoLBEH15',\n    'MAG': '2165033442',\n    'DOI': '10.1145/2685553.2699335',\n    'CorpusId': 37541555},\n   'title': \"Online Dating as Pandora's Box: Methodological Issues for the CSCW Community\",\n   'abstract': 'As a socio-technical phenomenon, online dating has significant appeal to researchers interested in various aspects of human-computer interaction -- presentation of self in online environments; norms of disclosure and deception; and the extent to which technological design informs dynamics of human relationships. With these many facets of socio-technical practice come important and complex methodological questions, where both the sensitivity of the topic and the specific technologies being studied can introduce practical and ethical obstacles. This panel brings together scholars across human computer interaction, communication, information studies, and Internet studies to examine methodological issues that have arisen in their own work on online dating, with the objective of broadening these issues of ethics and methods to the wider CSCW community.',\n   'year': 2015,\n   'citationCount': 12,\n   's2FieldsOfStudy': [{'category': 'Business', 'source': 's2-fos-model'}],\n   'authors': [{'authorId': '2606408', 'name': 'Douglas Zytko'},\n    {'authorId': '2278978', 'name': 'Jessica Lingel'},\n    {'authorId': None, 'name': 'Jeremy P. Birnholtz'},\n    {'authorId': '1791021', 'name': 'N. Ellison'},\n    {'authorId': '1697703', 'name': 'J. Hancock'}]},\n  {'paperId': 'b46ef1e4d452224a38048a79a72c44dc37d746b5',\n   'externalIds': {'MAG': '2086641625',\n    'DBLP': 'conf/cscw/ZytkoFGHJ15',\n    'DOI': '10.1145/2675133.2675184',\n    'CorpusId': 13529170},\n   'title': 'Enhancing Evaluation of Potential Dates Online Through Paired Collaborative Activities',\n   'abstract': \"Online dating systems are the most common way people meet their marriage partners online. Nevertheless, online daters struggle to evaluate personality traits of potential partners using profile pages and private messaging in these systems. Meanwhile, Multiplayer Online Games (MOGs) have emerged as a popular way young people find romantic partners for relationships in the physical world. We conducted two interview studies -- one concerning evaluation behavior in online dating systems (n=41) and the other concerning collaborative activities in MOGs (n=35). Insights from these studies reveal the weaknesses in evaluation tools native to online dating and suggest that collaborative activities could potentially address evaluation challenges in online dating. The paper concludes with a discussion of a series of design concepts for online dating in order to improve users' abilities to evaluate their potential romantic partners for in-person meetings.\",\n   'year': 2015,\n   'citationCount': 17,\n   's2FieldsOfStudy': [{'category': 'Psychology', 'source': 's2-fos-model'}],\n   'authors': [{'authorId': '2606408', 'name': 'Douglas Zytko'},\n    {'authorId': '51182865', 'name': 'Guo Freeman'},\n    {'authorId': '2246337', 'name': 'Sukeshini A. Grandhi'},\n    {'authorId': '2961462', 'name': 'S. Herring'},\n    {'authorId': '144812959', 'name': 'Quentin Jones'}]},\n  {'paperId': '5cd459be3637acb24b3dfa518ae1e58aa83e7d48',\n   'externalIds': {'DBLP': 'conf/group/ZytkoGJ14',\n    'MAG': '1986592511',\n    'DOI': '10.1145/2660398.2660410',\n    'CorpusId': 1753915},\n   'title': 'Impression Management Struggles in Online Dating',\n   'abstract': \"Online dating systems are now widely used to search for romance and yet there is little research on how people use these systems to manage their impressions with potential romantic partners. To address this issue we conducted an interview study of 41 online dating users, revealing that-contrary to prior work-online daters largely do not want to intentionally deceive their online dating partners because they think such lies would quickly be discovered face-to-face. Nevertheless, bad first dates were a norm rather than an exception for this study's participants. In this paper we present various frustrations online daters associate with conveying and forming impressions of potential romantic partners before meeting face-to-face. We discuss the implications of these findings for the design of online dating systems.\",\n   'year': 2014,\n   'citationCount': 47,\n   's2FieldsOfStudy': [{'category': 'Psychology', 'source': 's2-fos-model'}],\n   'authors': [{'authorId': '2606408', 'name': 'Douglas Zytko'},\n    {'authorId': '2246337', 'name': 'Sukeshini A. Grandhi'},\n    {'authorId': '144812959', 'name': 'Quentin Jones'}]},\n  {'paperId': '76e015d642160303db73fc2ea6e497f3e4228dfd',\n   'externalIds': {'DBLP': 'conf/ecis/ZytkoGJ14',\n    'MAG': '72035222',\n    'CorpusId': 15392342},\n   'title': 'Impression Management and Formation in Online Dating Systems',\n   'abstract': 'Online dating systems are used by millions of people every year to find a romantic partner, yet many of these users report feeling frustrated by the online dating process. This paper presents an interview study in-progress of online dating system use. Findings from 35 users of a popular online dating system in the United States indicate that, contrary to previous research, users typically do not want to deceive their communication partners in order to appear more attractive. Rather, they try to convey the positive attributes they already possess through private communication methods such as sitenative e-mailing. Participants also indicate that primary frustrations with online dating stem from not knowing how other daters are interpreting them and why their conversations end abruptly. These findings suggest that some of the misrepresentation found in prior work may actually be unintentional misinterpretation. Together these findings call for additional feedback mechanisms in the design of online dating systems to inform users about their conveyed impressions.',\n   'year': 2014,\n   'citationCount': 8,\n   's2FieldsOfStudy': [{'category': 'Business', 'source': 's2-fos-model'}],\n   'authors': [{'authorId': '2606408', 'name': 'Douglas Zytko'},\n    {'authorId': '2246337', 'name': 'Sukeshini A. Grandhi'},\n    {'authorId': '144812959', 'name': 'Quentin Jones'}]},\n  {'paperId': '8c04602f6e3fc4efbababd0c5d6377d0686faa24',\n   'externalIds': {'DBLP': 'conf/cscw/ZytkoGJ14',\n    'MAG': '2053549457',\n    'DOI': '10.1145/2556420.2556487',\n    'CorpusId': 31652865},\n   'title': 'Impression management through communication in online dating',\n   'abstract': 'People use online dating systems to form and create impressions of potential romantic partners. While there is a wealth of research on the use of profile pages for impression management in online dating systems, there is little work on how other forms of communication in these systems are used for impression management. This paper reports preliminary results from a qualitative study with users of a popular online dating system. Early findings from 24 in-depth interviews indicate that primary frustrations with online dating stem from inadequate feedback about conveyed impressions and perceived limitations in forming impressions of others. We discuss the implications of these findings for improving the design of online dating systems.',\n   'year': 2014,\n   'citationCount': 19,\n   's2FieldsOfStudy': [{'category': 'Business', 'source': 's2-fos-model'}],\n   'authors': [{'authorId': '2606408', 'name': 'Douglas Zytko'},\n    {'authorId': '2246337', 'name': 'Sukeshini A. Grandhi'},\n    {'authorId': '144812959', 'name': 'Quentin Jones'}]},\n  {'paperId': 'f2038bf68e6856905dc6c662848df0aee01a7f2e',\n   'externalIds': {'DBLP': 'conf/group/RickenGZHJ14',\n    'MAG': '2017475213',\n    'DOI': '10.1145/2660398.2660421',\n    'CorpusId': 17419796},\n   'title': 'Anyone for Bowling?: Coalescing for Shared Activities',\n   'abstract': \"Despite the importance of individuals coming together for social group-activities (e.g. pick-up volleyball, chess clubs), the process by which such groups coalesce is poorly understood. Existing theories focus on adoption and contribution rates, group types, and the formation of group norms, as opposed to the processes involved in initial group coalescence. We address this gap in the literature through an interview study examining: 1) how well people's needs for social group activity engagement are being met; 2) the challenges they face in finding and participating in, and; 3) leading interest-based group activities. Our findings highlight how people-s needs are not being addressed by current technologies. In particular, they place a heavy burden on individuals to step forward into leadership positions where the return they will receive for their efforts is often unknown, or extremely limited. We discuss the implications of our findings for the design of interest-based group coalescing technology.\",\n   'year': 2014,\n   'citationCount': 6,\n   's2FieldsOfStudy': [{'category': 'Business', 'source': 's2-fos-model'}],\n   'authors': [{'authorId': '48943434', 'name': 'Stephen T. Ricken'},\n    {'authorId': '2246337', 'name': 'Sukeshini A. Grandhi'},\n    {'authorId': '2606408', 'name': 'Douglas Zytko'},\n    {'authorId': '1749200', 'name': 'S. R. Hiltz'},\n    {'authorId': '144812959', 'name': 'Quentin Jones'}]}]}"
     },
     "execution_count": 7,
     "metadata": {},
     "output_type": "execute_result"
    }
   ],
   "source": [
    "r #2606408"
   ],
   "metadata": {
    "collapsed": false
   }
  },
  {
   "cell_type": "code",
   "execution_count": 53,
   "outputs": [
    {
     "data": {
      "text/plain": "  0%|          | 0/10 [00:00<?, ?it/s]",
      "application/vnd.jupyter.widget-view+json": {
       "version_major": 2,
       "version_minor": 0,
       "model_id": "bb73e91949274ee59503a092e4549233"
      }
     },
     "metadata": {},
     "output_type": "display_data"
    },
    {
     "name": "stdout",
     "output_type": "stream",
     "text": [
      "a83becaa4816161192474f1c7c98aecbc015a374\n",
      "aba5722bc4b2bd5c694488a431a721fa79c2256d\n",
      "ac47d785610ab432b59375f4b1c2d97379050132\n",
      "fde65235dc02a0253daa911adbb10f0a25887ff2\n",
      "08764a956f31ea736cb95ea01727b1bc52747770\n",
      "342536c7d1d0369dff1e5e0f1d5876a8dc63042c\n",
      "ed13b13e317f6fba239711be728dd802d2c9047d\n",
      "bbb842e20bfb66c966683ace190eb8e42058c18c\n",
      "db0cd343ceb532ae48d1e0b3e701fd606d5ddfb5\n",
      "60553c277ed864f0db1181d0da55f943e0fe2bf2\n",
      "a820eb290d0cbe7bd9751fcb9b1f4eb92fffa947\n",
      "a83becaa4816161192474f1c7c98aecbc015a374\n",
      "1d0923487aa3834b7eb9fb6e39248144c1f51f0d\n",
      "2c7fdd8300e4e7720d8a117210ca26e62fd5c4f3\n",
      "7d87044328939b67073e4a28a0a063319cc7e1ea\n",
      "02d954ba9ac2b76b7ae8e8e582ecde521948cfcc\n",
      "47af5455b2f0ae8f7ae64c683153133a06cd48c2\n",
      "86f5799ee0e55fbdb6867d5880324cfbf286d20d\n",
      "879425fc9b8b78956eb6333b6969723e3ca9780e\n",
      "b00545a2731a3b5c06faee400dcad70472686a88\n",
      "b58b73e754c5f836890a5c06e2b018ff4ac7f99c\n",
      "fd4d5263e9b5d474c6f9ace8ecf22254159506f7\n",
      "bc954e2ec4e10ba2249178e236e3aac99afa11c5\n",
      "c828be2d531db58d919a1988e0dcd40dc4ac731b\n",
      "da8c2f7225bd5c1f3f8f9fa380f2a9544ab1c972\n",
      "e3420e846d7513978c8df8e9dce8382ce4d569cb\n",
      "07f7cd76a9631ccd4a084dbc4dd7a98c380a14c5\n",
      "338781e5236d5caf6254509bfa0f240ecf820872\n",
      "60ec8ad7b3ac8ca6be54b611c111ee744b0c37ab\n",
      "72ba1e10146e04f041950c67df7f8d6f9e034a69\n",
      "bbb842e20bfb66c966683ace190eb8e42058c18c\n",
      "2b47571f2ffaa5c8e493e3009eafea2f53e5819f\n",
      "8b45114912d2a2af13dce56880bc10b931039401\n",
      "e00e3cc53c1ed7d85a3757ea05fcafeaa72245b4\n",
      "0a11fb93ada453ec27c7fec63e69508e7e6201cd\n",
      "10470cec3daa3995207c9cef0e1a82e08844a73d\n",
      "2bde99745ed5650cc7c79117d2699da757c66ef9\n",
      "51e87fdd22ce8a71bbc4552fa61d4f3e97ece653\n",
      "b5aa67f72578c08bbce8853554a2a54284995511\n",
      "e3c09b235ca82f113837e89b43dcb0ed93ab1630\n",
      "31ae5e7e3a39dd7df835a5f5b9a608f6facc3693\n",
      "7ecc6da45b90ea62aaa7b759fb00055871066f28\n",
      "c09a4ac929b87097a0c841d09381faba82d65604\n",
      "dff46b474057183e9db033ed038aefb693f6b7c7\n",
      "6a51421fc903257a1be98f8b8ed56ed549dc4505\n",
      "a34917c5ef192f968f458671760acb50e06bf26a\n",
      "cee3a983d2d32d4f36b9d9e82d656a22b7863449\n",
      "e721e5ad768a5b590a40f7b9920381aa57b5c19d\n",
      "e0b99f03243c1f7f70a33fd13e772541fe13d587\n",
      "35dc0609a76986085ae4948727e849e11f4501bb\n",
      "84197a71f524d7781d4d64a7bb462f0816a6f697\n",
      "8380cdbdf6d9648c12fc2a8464692e06cf5b30a1\n",
      "3a62a5000a3ac2619c359676b918f9cefc0a3296\n",
      "aba5722bc4b2bd5c694488a431a721fa79c2256d\n",
      "16aa70837aa6930eda95c9929d538c9ae610c2e7\n",
      "82995a95781ef5b906a71a5378a9133341bca96b\n",
      "98d8a3053b6cc536c87e4745cbe683ae4ff861a9\n",
      "8f89061e799de7fac47bdbb532fcab9bc6e24d28\n",
      "904d4ba38f459420e57d22e87d9651d84c5a3c8b\n",
      "db0cd343ceb532ae48d1e0b3e701fd606d5ddfb5\n",
      "aba5722bc4b2bd5c694488a431a721fa79c2256d\n",
      "b463f7c11a64b8c4dab31b984579fab9137f2add\n",
      "a7959d00c3661f13a970a3dcc3ea5f32a0707468\n",
      "9ce1f9f141fde03118582b7ed2302fbc5951944b\n",
      "db0cd343ceb532ae48d1e0b3e701fd606d5ddfb5\n",
      "21aab13690c46c7da6add894bc91d1eef9b0c772\n",
      "4aa08e0cc16b231a63a564031dd83bc722160923\n",
      "aba5722bc4b2bd5c694488a431a721fa79c2256d\n",
      "ac47d785610ab432b59375f4b1c2d97379050132\n",
      "ce77b05294cefa89c459901e52974cdc55408229\n",
      "05e7884cc3e33710de529a82a79283007a290279\n",
      "0c0d2a64ced02ffe78341eaa65d1877d04be4245\n",
      "248edff3d8ab7b5ece5aaa03c1e95b4e2325d6d5\n",
      "25d6d7b14278b2cb2737ba44f64b785f8ae9f805\n",
      "83f66dfaf78dbb7d10aa914a8f2a790346923c6e\n",
      "c8c96fba43402ac5620312a558b592c0df2eb13f\n",
      "d6fa3acbb070132979165671c80344fd4c6f9450\n",
      "f8baa994d7ba756741dc21e2c9f709003a4454a0\n",
      "342536c7d1d0369dff1e5e0f1d5876a8dc63042c\n",
      "38a3119077a76f571072f72dd6126c4ee0670e55\n",
      "6099feb5eb536f3666614565b1bda5b701d40be2\n",
      "658c4f07d852fd17b51783c00480446fb003c985\n",
      "957141d5b289bf6f91b4bc5dd244952e672721d3\n",
      "9b2b7ab80aec3bf9863394a6fb52eebb89892e62\n",
      "d025eb44be382e35457e530c3308f41209660641\n",
      "ed13b13e317f6fba239711be728dd802d2c9047d\n",
      "1c41971ff895ed88697b72ade53f511e42c30d08\n",
      "1d5123c052786d02e15582f59288a053db248ca8\n",
      "32daeaf85f69fa8b05b7b08db0f0a2b7de5ab1ca\n",
      "5428431dff0913ecd79f56f43a89c60da85764c8\n",
      "6e98155a85d64e28f41655c2b7468a690551ae28\n",
      "7aded13499c445e40a842858c73cfdceafdd892d\n",
      "b03e4702c8427b2458234ff8f37358c68177ccbb\n",
      "bbeeca2efa2f5b3b0a280b880bb13e77ec5a8b53\n",
      "cf8890959e780188e34fc5f158e3e2ed89e159ed\n",
      "e5c082e4a8df4ea77787c9c5d42326787c914b61\n",
      "f38652c0e629f5c47f2d020c96d092f4b6e40823\n",
      "12a327895756710ad3ce4b78bc0143bbcad9a4b5\n",
      "21af4ed208ea3ecdb20b75aa27cddd0bfe683eec\n",
      "6b0d6ebefd0e958de9e25938c5d5a5d6b3698fe0\n",
      "ae73a9f746ff4cec129a3bbe29e5586099274970\n",
      "f3b851991e3490384100a2743aa800606990daeb\n",
      "97d8751f07a288e17aee3084764ddba3566b0b6b\n",
      "5a08bc9426c3caf5e56cd233fe96b2fd8d1903bf\n",
      "bab31ef6c37d54f0e1aa4666f0ccd4243354eb8f\n",
      "efa976a80b19185f8c6d035601ea7067d1a46949\n",
      "5c970abdb5574df473157d95fb063cc2fd04a9d9\n",
      "dd448ec6092393dc4648203844d3d81d5832a270\n",
      "5b322c010b6f9766dde4525dd5b4be3161d1ed64\n",
      "b90bad831de7b112b6759fbdff00209fe6aa0320\n",
      "dae2c3968fa06688cd99b2e024416dfcd50a36f7\n",
      "1fd72e4cc9648348583546af1d30806258f77972\n",
      "b312fb4f54e5bb7373664a2091cce634d38898b5\n",
      "1d15564a139275a45697709ef2823f2a744db8d8\n",
      "23785a792b91c96cea10b8ac0cf178f44fde4aef\n",
      "a0e4c8aac6198c1145a258f8ae796edf85b67bad\n",
      "bac4ab346ecf73372110fdd885dbeee29354c66b\n",
      "db0cd343ceb532ae48d1e0b3e701fd606d5ddfb5\n",
      "89529c0aa178de90a204a74ae8a6ebd933d74502\n",
      "ac47d785610ab432b59375f4b1c2d97379050132\n",
      "a618c99dc95afec58cc39376b94f5e4ddcf6509a\n",
      "c8c96fba43402ac5620312a558b592c0df2eb13f\n",
      "1d5123c052786d02e15582f59288a053db248ca8\n",
      "5e2c9503b2084964c885fe577301a67ec000bafa\n",
      "ac47d785610ab432b59375f4b1c2d97379050132\n",
      "0c0d2a64ced02ffe78341eaa65d1877d04be4245\n",
      "5b8ca56c8d24305def7c4d9024dc45228e985039\n",
      "1d5123c052786d02e15582f59288a053db248ca8\n",
      "6cd0901df96f953de7666fb715a3e7a8197ac865\n",
      "db65c33bd25bcb3fe54426ef5bd0041b84d87d4d\n",
      "6e782ee60abbd884b227842586cffa8fa451d072\n",
      "2fbf33dda19d6f937bd24152d1e59eb84ed0cb30\n",
      "ac47d785610ab432b59375f4b1c2d97379050132\n",
      "66d88ff9b0f1fb7b254c5137f9afc698c9b7bbfa\n",
      "a15cd58325eb7334786ba0de65f961f66965fd44\n",
      "ac47d785610ab432b59375f4b1c2d97379050132\n",
      "30940e845b23b76ecd079b2cf9a759fb69f0f5f1\n",
      "66055eee473d6ddbb53282e163af4c5ff934c682\n",
      "6d644784218d4921d4ead4207ab38e4599a4ea24\n",
      "afb9798e535c98feba5af4e46d674b415ca785ec\n",
      "0755a4a766ad6e888297f24a26d3e6f5f0fb7af0\n",
      "0968f56c131adf6477594c5623fb199ced49026e\n",
      "2f8896ff610702cc1a50ffca9b5f9f006ad389dd\n",
      "3ae8ec111bbc6688b76b8e8182fa347c0e76f6f0\n",
      "3e5718d86e5921ca6d840d4c4afd9f24283c83a8\n",
      "438c77a36476a612a58572dcf5406cf484cf8d69\n",
      "51b0a64b062c3a710502bce789cd6f7659c92111\n",
      "62500a212f8f12de6d050f18687a15f1541bd28e\n",
      "886cb95e1dcb33d4107fa0680798169311de3548\n",
      "b83a3552413813e8ce150e0f764b4f530d612b36\n",
      "df9d52a52b65e3b2e83df0b419369aebd2953c77\n",
      "fde65235dc02a0253daa911adbb10f0a25887ff2\n",
      "05194725f575be4a2a514dd992af4e90e60f5704\n",
      "29ab9849955a3e2f341aa00cdb38e4268048053c\n",
      "2cc3db01b05e64757817bdb9c67ab8c098c7a305\n",
      "367a74f46dd5ed81f232f941e7d4fe2ed4934980\n",
      "bda1b7429ecf2aa66977f8cd9163e08e97f41c50\n",
      "e7e21f817dbf76d1f5bb64f7b4e17b37b002e350\n",
      "c110c3fb2d3f1c52a1496788d874ab4a4cdb2cd3\n",
      "40d5912c494fa3253d5dd06437b33c648c99b63b\n",
      "e7d2c6314f48129d6e576ce3811a00b4f75af557\n",
      "e86bb957c089316fba5a9c43735bfa6d9ea42f4b\n",
      "fc641689a7c58b2b930fc13e265e00bfc163f73e\n",
      "29eeae48a7c0fbde5baf7d5a3b7fe244d50be6f9\n",
      "90a593cba87005153d36fa4856e4295915cdcc8e\n",
      "ca77479ea49594c39d25349d0b97688cd49d73f7\n",
      "cf8a22fb8b3ef1e1d92f1dc1f1bc68b2bc307064\n",
      "f7ddf99394dcc7e0b17f0eb93430abaac5fc319b\n",
      "9037ea724784d6d7002519c8f9932c2cf0288f59\n",
      "d3e88b5377ada54649597f00bedad267143ef81a\n",
      "84b0e45ed55da53c4fa41b0fa663a3bc46f354d2\n",
      "8bad10c47955438a68e2c6ad382cb4e8719e9636\n",
      "b1f0dcadbef9184c8426c893e790a1304f0aa864\n",
      "7c7f7f7ee338ae767105312e4830aaa183f8bb09\n",
      "a135347e622bdaf4f108cd1445e3af318358a330\n",
      "b46ef1e4d452224a38048a79a72c44dc37d746b5\n",
      "5cd459be3637acb24b3dfa518ae1e58aa83e7d48\n",
      "76e015d642160303db73fc2ea6e497f3e4228dfd\n",
      "8c04602f6e3fc4efbababd0c5d6377d0686faa24\n",
      "f2038bf68e6856905dc6c662848df0aee01a7f2e\n"
     ]
    }
   ],
   "source": [
    "for idx,id in enumerate(tqdm(list(author_database.keys())[:n_authors])):\n",
    "\n",
    "  ####Author dataset\n",
    "  Author_dataset['name'][id]= data[id]['name']\n",
    "  Author_dataset['aliases'][id]= data[id]['aliases']\n",
    "  Author_dataset['citationCount'][id]= sum(data[id]['papers.citationCount'])\n",
    "\n",
    "  #Most frequent field\n",
    "  field = max(set(data[id]['papers.s2FieldsOfStudy']), key = data[id]['papers.s2FieldsOfStudy'].count)\n",
    "  Author_dataset['field'][id] = field\n",
    "\n",
    "  #### Paper dataset\n",
    "  d = {}\n",
    "  a = {}\n",
    "  for i,paper in enumerate(data[id]['papers.paperId']):\n",
    "    d['paperId'] = paper\n",
    "    d['title'] = data[id]['papers.title'][i]\n",
    "    d['year'] = data[id]['papers.year'][i]\n",
    "    d['DOI'] = data[id]['papers.DOI'][i]\n",
    "    d['citationCount'] = data[id]['papers.citationCount'][i]\n",
    "    d['fields'] = data[id]['papers.s2FieldsOfStudy'][i]\n",
    "    d['authorIds'] = ','.join([a['authorId'] for a in data[id]['papers.Authors'][i] if a['authorId'] in author_database.keys()])\n",
    "    df = pd.DataFrame([d])\n",
    "    #df['authorIds'] = df.apply(lambda x: [author['authorId'] for author in x['authorIds']],axis = 1)\n",
    "    Paper_dataset = pd.concat([Paper_dataset,df])\n",
    "\n",
    "    # Create the abstract data-set\n",
    "    if paper not in Abstract_dataset['paperId']:\n",
    "      a['paperId'] = paper\n",
    "      a['abstract'] = data[id]['abstract'][i]\n",
    "      df1 = pd.DataFrame([a])\n",
    "      Abstract_dataset = pd.concat([Abstract_dataset,df1])"
   ],
   "metadata": {
    "collapsed": false
   }
  },
  {
   "cell_type": "code",
   "execution_count": null,
   "outputs": [],
   "source": [
    "#How many authors should be considered in the dataset\n",
    "# Init dataset\n",
    "data = {id: {} for id in list(author_database.keys())[:n_authors]}\n",
    "\n",
    "fields = f'name,aliases,papers.title,papers.abstract,papers.year,papers.s2FieldsOfStudy,papers.citationCount,papers.paperId,papers.externalIds,papers.authors'\n",
    "\n",
    "exception_counter = 0\n",
    "query_counter = 0\n",
    "total_queries = 0\n",
    "for id in tqdm(list(author_database.keys())[:n_authors]):\n",
    "  if id == 'not found':\n",
    "    continue\n",
    "\n",
    "  try:\n",
    "    my_url = f'https://api.semanticscholar.org/graph/v1/author/{id}?fields={fields}' #BASE_URL + VERSION + RESOURCE\n",
    "    params = {'authorId': id}\n",
    "    r = requests.get(my_url, params=params).json()\n",
    "    query_counter += 1\n",
    "    total_queries += 1\n",
    "\n",
    "    #Author_dataset\n",
    "    data[id]['name'] =  r['name']\n",
    "    data[id]['aliases'] = ','.join(r['aliases']) if r['aliases'] is not None else 'None'\n",
    "    data[id]['papers.title'] = [paper['title'] for paper in r['papers']]\n",
    "    data[id]['abstract'] = [paper['abstract'] for paper in r['papers']]\n",
    "    data[id]['papers.year'] = [paper['year'] for paper in r['papers']]\n",
    "    data[id]['papers.s2FieldsOfStudy'] = [paper['s2FieldsOfStudy'][0]['category'] if len(paper['s2FieldsOfStudy']) != 0 else None for paper in r['papers']]\n",
    "    data[id]['papers.citationCount'] = [paper['citationCount'] for paper in r['papers']]\n",
    "\n",
    "    data[id]['papers.paperId'] = [paper['paperId'] for paper in r['papers']]\n",
    "    data[id]['papers.DOI'] = [paper['externalIds']['DOI'] if 'DOI' in paper['externalIds'].keys() else 'None' for paper in r['papers']]\n",
    "    data[id]['papers.Authors'] = [paper['authors'] for paper in r['papers']]\n",
    "\n",
    "  except:\n",
    "    print(f\"Exception caught for author:{id}\")\n",
    "    exception_counter += 1\n",
    "    time.sleep(60*5+10)\n",
    "\n",
    "\n",
    "  if query_counter > 95:\n",
    "    time.sleep(60*5+10)\n",
    "    query_counter = 0\n",
    "\n",
    "save_path = f'data_{total_queries}.json'\n",
    "with open(save_path, 'w') as f:\n",
    "  json.dump(data, f, indent=4)"
   ],
   "metadata": {
    "collapsed": false
   }
  }
 ],
 "metadata": {
  "kernelspec": {
   "display_name": "Python 3 (ipykernel)",
   "language": "python",
   "name": "python3"
  },
  "language_info": {
   "codemirror_mode": {
    "name": "ipython",
    "version": 3
   },
   "file_extension": ".py",
   "mimetype": "text/x-python",
   "name": "python",
   "nbconvert_exporter": "python",
   "pygments_lexer": "ipython3",
   "version": "3.7.16"
  }
 },
 "nbformat": 4,
 "nbformat_minor": 5
}
