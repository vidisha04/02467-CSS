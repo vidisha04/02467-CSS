{
 "cells": [
  {
   "cell_type": "markdown",
   "id": "56a82182",
   "metadata": {},
   "source": [
    "GitHub: https://github.com/vidisha04/02467-CSS.git\n",
    "Group Members:\n",
    "* Vidisha Sinha: s204081\n",
    "* Mads Andersen: s204137"
   ]
  },
  {
   "cell_type": "markdown",
   "source": [
    "# Part 1 - Webscraping the 2019 poster and oral presentations\n",
    "Now we hav to scrape the two sessions both the oral and poster, at the same time the following questions will be answered:\n",
    "1) Inspect the HTML of the pages above and use web-scraping to get the set of participants in 2019. Share your code and add comments to guide us through it.\n",
    "2) How many unique researchers you got in 2019?\n",
    "3) Explain one or two decisions you took during the web-scraping exercise, for 2019 or any other year. Why did you take this choice? How might your decision impact the final number of authors?"
   ],
   "metadata": {
    "collapsed": false
   }
  },
  {
   "cell_type": "code",
   "execution_count": 126,
   "id": "234ad699",
   "metadata": {},
   "outputs": [],
   "source": [
    "#Imports\n",
    "import requests\n",
    "from bs4 import BeautifulSoup\n",
    "import pandas as pd\n",
    "import time\n",
    "from tqdm.notebook import tqdm\n",
    "import json"
   ]
  },
  {
   "cell_type": "markdown",
   "source": [
    "### Scraping the oral presentations\n",
    "For this session it can be seen from the html that each presentation is marked with the <br> tag, for finding every presentation the ``soup.findall()´´  function can be used."
   ],
   "metadata": {
    "collapsed": false
   }
  },
  {
   "cell_type": "code",
   "execution_count": 2,
   "outputs": [
    {
     "name": "stdout",
     "output_type": "stream",
     "text": [
      "[<strong>Rooms per track during main conference</strong>, ' Keynotes', ' Track A', ' Track B (except 1B on Thu)', ' Track C', ' Track D (except 1D & 2D on Thu)', ' Track E', ' Track F', ' – Thursday July 18, 11:00 – 12:30 ', <em>Chair: Ziv Epstein</em>, '11:00 – 11:15 – Jieyu Ding, Qiusi Sun, Jingwen Zhang. Classifying and Understanding the Semantic Structures of Vaccine Misinformation on Twitter', '11:15 – 11:30 – Mahmoudreza Babaei, Juhi Kulshrestha, Abhijnan Chakraborty, Elissa M. Redmiles, Meeyoung Cha, Krishna Gummadi. Analyzing Biases in Perception of Truth in News Stories and Their Implications for Fact Checking', '11:30 – 11:45 – Alexandre Bovet, Hernan Makse. Dynamics and influence of misinformation and traditional fact-based news in Twitter', '11:45 – 12:00 – Ziv Epstein, Mohsen Mosleh, Antonio Arechar, Gordon Pennycook, David Rand. Primed for accuracy: A cognitive approach to fighting misinformation on Twitter', '12:00 – 12:15 – Sunandan Chakraborty, Tarunima Prabhakar, Joyojeet Pal –', 'Dissecting Fake News: Understanding the Dynamics of False Information spread in India', ' – Thursday July 18, 11:00 – 12:30 ', <em>Chair: Milan Janosov</em>, '11:00 – 11:15 – Kangsan Lee, Jaehyuk Park, Yong-Yeol Ahn. Valuing Art: Professional vs. Algorithm', '11:15 – 11:30 – Milan Janosov, Federico Battiston, Gerardo Iñiguez, Federico Musciotto. Success and mentorship in electronic music', '11:30 – 11:45 – Sophie Cho, Michael Mauskapf. Unpacking the Ecological Dynamics of Cultural Products: Evidence from Popular Music', '11:45 – 12:00 – Susumu Nagayama, Hitoshi Mitsuhashi. Expandable and Extendable Root Concepts', '12:00 – 12:15 – Ramona Roller, Frank Schweitzer. Network regression reveals factors driving the letter communication of 16th century reformators', ' – Thursday July 18, 11:00 – 12:30 ', <em>Chair: Pietro Panzarasa </em>, '11:00 – 11:15 – Chao Min, Yi Bu, Jianjun Sun, Ying Ding. Is scientific novelty reflected in citation patterns?', '11:15 – 11:30 – Frank van der Wouden, Gianluca Carnabuci, Hyejin Youn. What lies in the “adjacent possible”? Why some knowledge combinations are more likely to drive innovation than others', '11:30 – 11:45 – George Richardson, Juan Mateos-Garcia. Detecting Innovation Through Combination', '11:45 – 12:00 – Milad Abbasiharofteh, Tom Broekel. Still in the Shadow of the Wall: the Case of the Berlin Biotech Sector', '12:00 – 12:15 – Benjamin Meindl, Morgan R. Frank, Joana Mendonça. Patents as a proxy for technological impact on the future of work', ' – Thursday July 18, 11:00 – 12:30 ', <em>Chair: Milena Tsvetkova</em>, '11:00 – 11:15 – Eszter Bokanyi, Aniko Hannak. Simulating income distribution inequalities in ride-sharing services', '11:15 – 11:30 – Tarik Roukny, Benjamin Vandermarliere, Milan van den Heuvel, Koen Schoors. The wealth origins of income mobility', '11:30 – 11:45 – Yannick Léo, Eric Fleury, Carlos Sarraute, Márton Karsai. Socioeconomic inequalities and their consequences on network formation and purchase behaviour', '11:45 – 12:00 – Jaime Oliver, Marta Rivera-Alba, Diego Pérez, Antonio Molins, Edgar Morales Ramírez, Ricardo Buera Corchón. Elasticity divergence across socioeconomic levels: evidence from Mexico', '12:00 – 12:15 – Judith Kas, Rense Corten, Arnout van de Rijt. Digital discrimination – the role of reputation systems', ' – Thursday July 18, 11:00 – 12:30 ', <em>Chair: Joris Broere</em>, '11:00 – 11:15 – Joris Broere, Vincent Buskens, Henk Stoof, Angel Sánchez. Network effects on coordination in asymmetric games', '11:15 – 11:30 – Pradip Swarnakar, Satyam Mukherjee. Dynamics of collaboration: A social network analysis of non-state actors in United Nations climate change side-event meetings', '11:30 – 11:45 – Hendrik Nunner, Chris Janssen, Wojtek Przepiorka. The role of reinforcement learning in the emergence of conventions: Simulation experiments with the volunteer’s dilemma', '11:45 – 12:00 – Yan Leng, Xiaowen Dong, Alex Pentland. Learning Network Structure in Linear Quadratic Games', '12:00 – 12:15 – Daniele Guariso, Omar Guerrero, Ulrich Matter. Uncovering Hidden Cooperation in the UNGA', ' – Thursday July 18, 11:00 – 12:30 ', <em>Chair: Robert West </em>, '11:00 – 11:15 – Joseph D. O Brien, Ioannis K. Dassios, James P. Gleeson. Spreading of Memes on Multiplex Networks', '11:15 – 11:30 – Manoel Horta Ribeiro, Kristina Gligoric, Robert West. Message Distortion in Information Cascades', '11:30 – 11:45 – Chico Camargo, Scott Hale. Null models for opinion dynamics', '11:45 – 12:00 – Chathika Gunaratne, Chathurani Senevirathna, Chathura Jayalath, Nisha Baral, William Rand, Ivan Garibay –', 'A Multi-Action Cascade Model of Conversation', '12:00 – 12:15 – Balazs Lengyel, Riccardo Di Clemente, János Kertész, Marta González. The role of geography in the complex diffusion of innovations', ' – Thursday July 18, 16:30 – 18:00 ', <em>Chair: Rense Corten</em>, '16:30 – 16:45 – Ronald Robertson, Christo Wilson, David Lazer. Fake News and Information Seeking during the 2018 U.S. Congressional Elections', '16:45 – 17:00 – Lorien Jasny, Dana Fisher, Philip Leifeld, Tim Henrichsen. Comparing Elite Attitudes on Climate Change from Multiple Data Sources: Survey, Policy Documents, and Twitter', '17:00 – 17:15 – Stiene Praet, Peter Van Aelst, David Martens. Predictive modeling on Facebook likes to gain insights in voter profiles in a multi-party system', '17:15 – 17:30 – Quinten Meertens, Arnout van Delden, Sander Scholtus, Frank Takes. Bias Correction for Predicting Election Outcomes with Social Media Data', '17:30 – 17:45 – Emre Calisir, Marco Brambilla. Analysis of On-line Debate on Long-Running Political Phenomena: the Case of the Brexit Referendum', ' – Thursday July 18, 16:30 – 18:00 ', <em>Chair: Chao Min </em>, '16:30 – 16:45 – Bedoor Alshebli, Talal Rahwan, Wei Lee Woon. The Preeminence of Ethnic Diversity in Scientific Collaboration', '16:45 – 17:00 – Aliakbar Akbaritabar, Flaminio Squazzoni. Quantitative sociology of academic work', '17:00 – 17:15 – Bedoor Alshebli, Kinga Makovi, Talal Rahwan. Age Diversity Increases Scientific Impact', '17:15 – 17:30 – Jichao Li, Yian Yin, Santo Fortunato, Dashun Wang. Nobel laureates in science revisited: Patterns of productivity, collaboration, and impact', '17:30 – 17:45 – Lu Liu, Yang Wang, Roberta Sinatra, C. Lee Giles, Chaoming Song, Dashun Wang. Hot streaks in artistic, cultural and scientific careers', ' – Thursday July 18, 16:30 – 18:00 ', <em>Chair: Kayla de la Haye</em>, '16:30 – 16:45 – Zijian Wang, Scott Hale, David Adelani, Przemyslaw Grabowicz, Timo Hartmann, Fabian Flöck, David Jurgens. Demographic Inference and Representative Population Estimates from Multilingual Social Media Data', '16:45 – 17:00 – Thomas Baudin, Robert Stelter. The Rural Exodus and the Rise of Europe', '17:00 – 17:15 – Daniel Ciganda, Nicolas Todd. Micro-level Dynamics Behind the Recuperation of Fertility at Higher Development Levels: A Computational Modelling Approach', '17:15 – 17:30 – Ravi Bhavnani, Karsten Donnay, Mirko Reul. Modeling the Subnational Risk of Acute Malnutrition in Conflict-Affected Settings', '17:30 – 17:45 – Abigail Horn, Hanno Friedrich, Kayla de la Haye. Integrating human mobility data and network models of the food supply to trace foodborne disease outbreak sources', ' – Thursday July 18, 16:30 – 18:00 ', <em>Chair: Maria Bolsinova</em>, '16:30 – 16:45 – Mohsen Mosleh, Gordon Pennycook, David Rand. Digital Fingerprints of Cognitive Reflection', '16:45 – 17:00 – No presentation: Ming Yin, Duncan Watts. Human Complex Problem Solving: The Case of Constraint Satisfaction Optimization Problems', '17:00 – 17:15 – Marco De Nadai, Angelo Cardoso, Antonio Lima, Bruno Lepri, Nuria Oliver. Apps, Places and People: strategies, limitations and trade-offs in the physical and digital worlds', '17:15 – 17:30 – Alexandra Olteanu, Fernando Diaz, Gabriella Kazai, Luke Stark, Mohamed Musbah. What Makes Automated Suggestions Problematic? A Broader Viewpoint', '17:30 – 17:45 – Maria Bolsinova, Matthieu Brinkhuis, Abe Hofman, Han van der Maas, Gunter Maris. Urning: a rating system', ' – Thursday July 18, 16:30 – 18:00 ', <em>Chair: Johannes Wachs</em>, '16:30 – 16:45 – Sanja Hajdinjak, Marcella Morris, Tyler Amos. Migration Policy Framing in Elite Discourse – Evidence from Canada and the US', '16:45 – 17:00 – Anna Shirokanova, Olga Silyutina. Shifts and Continuities in the Discourse on Internet Regulation in Russia', '17:00 – 17:15 – Johannes Wachs, Taha Yasseri, Balazs Lengyel, Janos Kertesz. Community Social Structure and Corruption', '17:15 – 17:30 – Isak Ladegaard. Open Secrecy: How Shocks and Creative Problem-Solving Brought Illegal Markets out of the Shadow', '17:30 – 17:45 – No Presentation', ' – Thursday July 18, 16:30 – 18:00 ', <em>Chair: David Schoch</em>, '16:30 – 16:45 – Anna Di Natale, David Garcia. Subcritical Social Impact and Sentiment in Twitter', '16:45 – 17:00 – Kiran Garimella, Robert West. Analyzing and Modeling Individual Impact on Social Media', '17:00 – 17:15 – Kristina Gligoric, Ashton Anderson, Robert West. Effects of Conciseness in Social Media', '17:15 – 17:30 – Felix Victor Münch, Ben Thies, Cornelius Puschmann, Axel Bruns. Mining Influencers in the German Twittersphere', '17:30 – 17:45 – Jan Overgoor, Bogdan State, Lada Adamic. The structure of U.S. college networks on Facebook', ' – Friday July 19, 10:50 – 12:20 ', <em>Chair: Sandra Gonzalez-Bailon</em>, '10:50 – 11:05 – Jisun An, Gianmarco De Francisci Morales, Haewoon Kwak, Yelena Mejova. Modeling Gun Culture in United States: Demographics, Networks, Ideologies', '11:05 – 11:20 – Adam Pah, John Hagan, Luis Amaral. Findings of systematic mass shooting imitation in American schools are an aggregation and data artifact', '11:20 – 11:35 – Johannes Gruber. Troublemakers in the streets? A framing analysis of newspaper coverage of protests in the UK 1992-2016', '11:35 – 11:50 – Erdem Yörük, Ali Hürriyetoğlu, Çağrı Yoltar, Fırat Duruşan. Validity and Generalizability in Automated Protest Information Collection', '11:50 – 12:05 – No Presentation', ' – Friday July 19, 10:50 – 12:20 ', <em>Chair: Duncan Watts</em>, '10:50 – 11:05 – Amit Sharma, Jake Hofman, Duncan Watts. Replication and reliability in computational social science', '11:05 – 11:20 – No presentation: Youyou Wu, Yang Yang, Brian Uzzi. A Machine and Human Intelligence Approach to the Replication Problem in Science', '11:20 – 11:35 – Forough Poursabzi-Sangdeh, Dan Goldstein, Jake Hofman, Jennifer Wortman Vaughan, Hanna Wallach. Manipulating and Measuring Model Interpretability', '11:35 – 11:50 – Jake Hofman, Dan Goldstein, Jessica Hullman. The effect of (not) presenting effect sizes: How the standard way of presenting scientific results leads to overestimation of treatment effects', '11:50 – 12:05 – Chung-Hong Chan, Joseph Bajjalieh, Loretta Auvil, Hartmut Wessler,Scott Althaus, Kasper Welbers, Wouter van Atteveldt. Using ‘off-the-shelf’ sentiment dictionaries without revalidation: a p-hacking experiment', ' – Friday July 19, 10:50 – 12:20 ', <em>Chair: Rense Corten</em>, '10:50 – 11:05 – Ching Jin, Chaoming Song, Johannes Bjelland, Geoffrey Canright, Dashun Wang. Emergence of Scaling in Complex Substitutive Systems', '11:05 – 11:20 – Yohsuke Murase, Janos Török, Hang-Hyun Jo, Kimmo Kaski, Janos Kertesz. Agent Based Modeling of the Network of Social Interactions', '11:20 – 11:35 – Alexandru-Ionut Babeanu, Jorinde van de Vis, Diego Garlaschelli. When cultural dynamics meets the real world: the reduced relevance of social influence simulations', '11:35 – 11:50 – Ivan Garibay, Madeline Schiappa, Georgios Anagnostopoulos, Christina Bouwens, Stephen M. Fiore, Heather Keathley, Alexander Mantzaris, John T. Murphy, William Rand, Anastasia Salter, Mel Stanfill, Gita Sukthankar, Nisha Baral, Anamaria Berea, Chathika Gunaratne , Neda B. Hajiakhoond , Gabriel Fair , Jasser Jasser, Chathura Jayalath, Ece Mutlu, Olivia Newton, Amirarsalan Rajabi, Samaneh Saadat, Steve R. Scheinert, Chathurani Senevirathna, Rachel Winter, Xi Zhang. Deep Agent: Computational Social Science Centered Simulation of Online Information Environments', '11:50 – 12:05 – Qiusi Sun, Martin Hilbert. A Computational Mechanics Approach to Trolling and its Contagion', ' – Friday July 19, 10:50 – 12:20 ', <em>Chair: David Rozado</em>, '10:50 – 11:05 – Dimitrios Milioris. Document Clustering via Joint Complexity', '11:05 – 11:20 – Marc-Etienne Brunet, Ashton Anderson, Richard Zemel. Investigating the Composition of Documents Affecting Bias in Word Embeddings', '11:20 – 11:35 – Philippa Shoemark, Farhana Ferdousi Liza, Scott Hale, Dong Nguyen, Barbara McGillivray. Systematic Comparison of Semantic Change Detection Approaches with Word Embeddings', '11:35 – 11:50 – Zoltán Kmetty, Júlia Koltai, Tamás Rudas. The presence of social structure in online texts based on word embedding NLP models', '11:50 – 12:05 – David Rozado. Using word embeddings to analyze how universities conceptualize the term “diversity” in their online institutional presence', ' – Friday July 19, 10:50 – 12:20 ', <em>Chair: Morgan Frank</em>, '10:50 – 11:05 – Lukas Fervers, Janina Beckmann, Joachim Piepenburg, Marita Jacob. Pull out all the stops: Combining survey and field experiment with machine learning methods to analyse the role of risk aversion for occuptional choice.', '11:05 – 11:20 – Takanori Nishida, Yoshiki Ishikawa. Dynamic Network Signatures of Job Change: Evidence from a Large Business Social Network', '11:20 – 11:35 – Esteban Moro, Morgan Frank, Alex Rutherford, Manuel Cebrian, Iyad Rahwan. Universal resilience of labor markets', '11:35 – 11:50 – Hee Youn Kwon, Lijun Sun, Morgan Frank, Hyejin Youn, Cesar Hidalgo, Iyad Rahwan. Industrial Topics in Urban Labor System', '11:50 – 12:05 – Morgan Frank, Esteban Moro, Alex Rutherford, Iyad Rahwan –', 'The hidden constraints on worker mobility: how workplace skills determine a worker’s next move', ' – Friday July 19, 10:50 – 12:20 ', <em>Chair: Milena Tsvetkova </em>, '10:50 – 11:05 – Christos Nicolaides, Dean Eckles. Social Influence and Habits in Exercise: A Field Experiment', '11:05 – 11:20 – William Cai, Johan Ugander. Experience-Driven Peer Effects: Evidence from a Large Scale Natural Experiment', '11:20 – 11:35 – Abhishek Samantray,Massimo Riccaboni. Peer influence of production and consumption behaviour in an online social network of collective learning', '11:35 – 11:50 – Yan Leng, Tara Sowrirajan, Alex Pentland. Measuring heterogeneous social influence within and across homophilous communities', '11:50 – 12:05 – Johan Koskinen, Galina Daraganova –', 'Bayesian Analysis of Social Influence', ' – Friday July 19, 16:30 – 18:00 ', <em>Chair: Rebekah Tromble</em>, '16:30 – 16:45 – Philipp Lorenz-Spreen, Bjarke Mørch Mønsted, Philipp Hövel, Sune Lehmann. The acceleration of collective attention', '16:45 – 17:00 – Cristian Candia Vallejos, Cristian Jara Figueroa, Carlos Rodriguez Sickert, Albert Laszlo Barabasi, Cesar Hidalgo. The Universal Decay of Collective Memory and Attention', '17:00 – 17:15 – Rebekah Tromble, Dong Nguyen. A New Dataset for Evaluating the Quality of Online News', '17:15 – 17:30 – Charles Howland, Duncan Watts, David Rothschild, Marcel Wittich, Jennifer Allen, Melissa Ellamil, Markus Mobius. The Invisible Gorilla: TV news consumption vastly outweighs online for most Americans', '17:30 – 17:45 – Subhayan Mukerjee. Networked News Reading Publics: Using Networks to Understand News Consumption in India', ' – Friday July 19, 16:30 – 18:00 ', <em>Chair: Ridhi Kashyap </em>, '16:30 – 16:45 – Stefan Wojcik, Shawnna Mullenax. Looks Can Be Confirming: The Effects of Gendered Candidate Appearance on Vote Choice', '16:45 – 17:00 – Anna May, Aniko Hannak, Gabor Bekes. Dissecting the Gender Gap in Entrepreneurial Ambitions and Success', '17:00 – 17:15 – Peter Barbrook-Johnson, Andrew King, Sait Bayrakdar. An agent-based model of LGBTQI workplace inequality', '17:15 – 17:30 – Ridhi Kashyap, Florianne Verkroost, Reham Al Tamime, Masoomali Fatehkia, Ingmar Weber. Measuring global gender inequality indicators with large-scale online advertising data', '17:30 – 17:45 – Pasquale De Meo, Iacopo Pozzana, Ylli Prifti, Alessandro Provetti. The dynamics of recommendation in high-trust personal care services', ' – Friday July 19, 16:30 – 18:00 ', <em>Chair: Kirk Bansak</em>, '16:30 – 16:45 – Theresa Gessler, Johannes Wachs, Gergő Tóth. No country for asylum seekers? How short-term exposure to refugees influences attitudes and voting behavior in Hungary', '16:45 – 17:00 – Jaehyuk Park, Ian Wood, Yizhi Jing, Azadeh Nematzadeh, Souvik Ghosh, Michael Conover, Yong-Yeol Ahn. Global labor flow network reveals the hierarchical organization and dynamics of geo-industrial clusters inthe world economy', '17:00 – 17:15 – Laszlo Lorincz, Brigitta Németh. Network effects in internal migration', '17:15 – 17:30 – No presentation (cancelled). Elizabeth Dekeyser – Local governments and Native Attitudes Toward Immigration', '17:30 – 17:45 – Yerka Freire-Vidal, Eduardo Graells-Garrido. Characterization of Local Attitudes Toward Immigration Using Social Media', ' – Friday July 19, 16:30 – 18:00 ', <em>Chair: Henry Smart III</em>, '16:30 – 16:45 – Alejandro Noriega Campero, Michiel Bakker, Bernardo Garcia Bulle, Alex Pentland. Active Fairness in Algorithmic Decision-Making', '16:45 – 17:00 – Lisa Merten, Nadia Metoui, Mykola Makhortykh, Damian Trilling, Judith Moeller.\\xa0', 'News won’t find me? Exploring potential digital inequalities in social media news use', '17:00 – 17:15 – Daniele Romanini, Sune Lehmann Jørgensen, Mikko Kivelä. Privacy and Anonymization of Neighborhoods in Social Networks', '17:15 – 17:30 – Marcin Waniek, Kai Zhou, Yevgeniy Vorobeychik, Esteban Moro, Tomasz P. Michalak, Talal Rahwan. Individuals Can Hide Their Own Relationships from Link Prediction Algorithms', '17:30 – 17:45 – Henry Smart Iii. Operationalizing a Conceptual Model of Colorism in Local Policing', ' – Friday July 19, 16:30 – 18:00 ', <em>Chair: Johan Koskinen</em>, '16:30 – 16:45 – Telmo Menezes, Camille Roth. Families of Generative Processes for Social Networks', '16:45 – 17:00 – George Vega Yon, Kayla de la Haye. Exact Statistics and Semiparametric Tests for Small Network Data', '17:00 – 17:15 – Vincent Antonio Traag, Ludo Waltman, Nees Jan Van Eck. From Louvain to Leiden: guaranteeing well-connected communities', '17:15 – 17:30 – Edwin de Jonge, Jan van de Laan. Overlap in a large and real co-worker, family and neighbor network', '17:30 – 17:45 – Luca Maria Aiello, Sebastian Deri, Jérémie Rappaz, Daniele Quercia. The Human Perception of Social Relationships', ' – Friday July 19, 16:30 – 18:00 ', <em>Chair: Rense Corten</em>, '16:30 – 16:45 – Lushi Chen, Walid Magdy, Maria Wolters. Online Community Engagement when Talking About Infidelity: The Case of Reddit', '16:45 – 17:00 – Isaac Waller, Ashton Anderson. Identifying the Cultural Geometry of Online Communities', '17:00 – 17:15 – Daniel Larremore, Swapnil Gavade, Elizabeth Bruch. Structured Hierarchy in Online Dating Networks: 20,000 Leagues Under the City', '17:15 – 17:30 – Martin Hilbert, David Darmon – Patterns of Algorithmification: How Dumb and Predictable Bots Make Organization More Complex and Unpredictable', '17:30 – 17:45 – Nikolas Zöller, Jonathan H. Morgan, Tobias Schröder. Group interaction on Github: a typology', ' – Saturday July 20, 10:50 – 12:20 ', <em>Chair: David Schoch </em>, '10:50 – 11:05 – Subhayan Mukerjee, Kokil Jaidka, Yphtach Lelkes. Echo Chambers and Affective Polarization: A Twitter Field Experiment', '11:05 – 11:20 – Pei Zhou, Yupeng Gu, Mason A. Porter, Yizhou Sun. Automated Detection of Politically-Polarized Words in Online Discussions', '11:20 – 11:35 – David Schoch. Analyzing Political Engagement on Reddit: From left vs. far-left to left vs. far-right', '11:35 – 11:50 – Uma Maheswari Gollapudi, Rahul Arulkumaran, Manikumar Perla, Sai Hitesh Jonnalagadda, Dr. Amitava Das, Sunny Rai. Understanding User Vulnerability Towards Radicalization On Twitter', '11:50 – 12:05 – Marco Schmitt, Alina Vogelgesang, Stella Neumann, Oliver Hohlfeldt, Jennifer Fest, Helge Reelfs. Discerning context from the temporal analysis of polarized online networks –The Case of Twitter on #chemnitz', ' – Saturday July 20, 10:50 – 12:20 ', <em>Chair: Bedoor AlShebli </em>, '10:50 – 11:05 – (Moved to 3D Text Analysis) Ivan Smirnov. When magic outperforms horoscopes: predicting students’ academic performance from their short texts on social media', '11:05 – 11:20 – Cristian Candia Vallejos, Sara Encanaçao, Flavio Pinheiro –', 'The Higher Education Space, Connecting Degree Programs from Individuals’ Choices', '11:20 – 11:35 – Alejandro Espinosa-Rada. Micro-explanations for multilevel scientific networks: A stochastic actor-oriented model in a scientific discipline', '11:35 – 11:50 – Ching Jin, Binglu Wang, Chaoming Song, Johannes Bjelland, Geoffrey Canright, Brian Uzzi, Dashun Wang. Preferential Abandonment induces Structural Collapse in Robust Networks: Evidence from Scientific Fields and Technology Products', '11:50 – 12:05 – Yian Yin, Yang Wang, James Evans, Dashun Wang. Quantifying Dynamics of Failures across Science, Startups, and Security', ' – Saturday July 20, 10:50 – 12:20 ', <em>Chair: Aniko Hannak </em>, '10:50 – 11:05 – Anna May, Johannes Wachs, Aniko Hannak. Gender Differences in Participation and Reward on Stack Overflow', '11:05 – 11:20 – Muyang Li, Zhifan Luo. Can New Media Become the ‘New Equalizer’?: Evaluate Social Media’s Impact on Gender Stereotype in China', '11:20 – 11:35 – Alina Arseniev-Koehler. Gender Equal or Gender Neutral? Gender Connotations in Gender Fair Language', '11:35 – 11:50 – Petter Törnberg. Gender advertising on Instagram: Studying gender performance through Big Data photographs', '11:50 – 12:05 – Adam Hughes, Onyi Lam, Stefan Wojcik. Auditing Gender Bias in Image Search Algorithms', ' – Saturday July 20, 10:50 – 12:20 ', <em>Chair: Milena Tsvetkova</em>, '10:50 – 11:05 – Milena Tsvetkova, Oana Vuculescu, Claudia Wagner. The Effect of Visibility of Endowment Heterogeneity and Wealth on Inequality', '11:05 – 11:20 – Yuan Yuan, Dean Eckles, Alex Pentland. Does Prosocial Contagion Increase Inequality? A Large-Scale Online Field Experiment', '11:20 – 11:35 – Fabrizio Germano, Gomez Vicenç, Gael Le Mens. The Few-get-richer: A Surprising Consequence of Popularity-based Rankings', '11:35 – 11:50 – Sandro Lera, Nate Dwyer, Alex Pentland. Fair, Stable Exchange Networks through Quenched Merchant Location and Idiosyncratic Trading Costs', '11:50 – 12:05 – Andreia Sofia Teixeira, Francisco C. Santos, Alexandre P Francisco, Fernando P. Santos. For a fair world, which nodes should have the last word in multiplayer ultimatum bargaining?', ' – Saturday July 20, 10:50 – 12:20 ', <em>Chair: Rense Corten</em>, '10:50 – 11:05 – Abdullah Almaatouq, Ming Yin, Duncan Watts –', 'Optimal Team Construction for a Complex Task', '11:05 – 11:20 – Jeremy Burke, Ramon Gras, Oren Lederman, Sandy Pentland, Fiona Murray. Impact of Architectural Space Typologies and Human Interaction Patterns on the Performance of Startup Teams operating in Entrepreneurship Incubator Centers: The Case of MIT DeltaV Program at the MIT Martin Trust Center', '11:20 – 11:35 – Abigail Jacobs, Duncan Watts. When does network structure matter? A comparative study of informal network structure in firms', '11:35 – 11:50 – Andrea Cavicchini. The external influences on organizational culture: CEO awards and biased perceptions of organizational culture', '11:50 – 12:05 – Kyriacos Vitalis, Christos Nicolaides, George Pallis, Dimosthenis Stefanidis, Nicos Nicolaou, Marios Dikaiakos. The role of online social networking on founders’ economic success', ' – Saturday July 20, 10:50 – 12:20 ', <em>Chair: Kayla de la Haye</em>, '10:50 – 11:05 – Adina Nerghes, Ju-Sung Lee. A socio-semantic study of positions and perspectives on the European refugee crisis in Twitter', '11:05 – 11:20 – Aleksandra Nenko, Marina Petrova. Emotional Network of the City Public Space: a Framework for Research and Evidence based on PPGIS Data', '11:20 – 11:35 – Bernard Koch, Daniele Silvestro, Jacob G. Foster. The Birth and Death of Cultural Things: Explaining Cultural Change Through Bayesian Analysis of Diversification Rates', '11:35 – 11:50 – Nina Savela, David Garcia, Max Pellert, Atte Oksanen. The influence of social context and terminology on emotions expressed in robot-related social media conversations', '11:50 – 12:05 – Marijn ten Thij, Johan Bollen, Luis M. Rocha. Detecting eigenmoods in individual human emotions.', ' – Saturday July 20, 13:30 – 15:00 ', <em>Chair: David Garcia </em>, '13:30 – 13:45 – Flavio Pinheiro, Vítor V. Vasconcelos, Simon A. Levin. From Consensus to Polarization of Opinions in Complex Contagion', '13:45 – 14:00 – Simon Schweighofer, Frank Schweitzer, David Garcia. A Balance Model of Opinion Hyperpolarization', '14:00 – 14:15 – Fredrik Jansson, Pontus Strimling, Irina Vartanova, Kimmo Eriksson. Moral Foundations and Opinion Change', '14:15 – 14:30 – Akira Ishii, Yasuko Kawahata. New opinion dynamics theory considering trust and distrust in human relations and mass media effects', '14:30 – 14:45 – Samin Aref, Zachary Neal. Analyzing the impact of polarization and bipartisanship on legislative effectiveness through balance and partitioning of signed networks', ' – Saturday July 20, 13:30 – 15:00 ', <em>Chair: Dashun Wang </em>, '13:30 – 13:45 – Riccardo Gallotti, Manlio De Domenico. Collective effects of individual decisions – the case of the Nobel Prize', '13:45 – 14:00 – Ching Jin, Yifang Ma, Brian Uzzi. The Midas Touch: Quantifying the Impact of Awards on Scientific Developments', '14:00 – 14:15 – Ali Faqeeh, Filippo Radicchi, James Gleeson. Which cited papers are more important to a manuscript? Analysis of citation patterns in open access manuscripts', '14:15 – 14:30 – Lovro Šubelj, Ludo Waltman, Vincent Antonio Traag, Nees Jan Van Eck. Intermediacy of publications', '14:30 – 14:45 – Shubhanshu Mishra, Brent D. Fegley, Jana Diesner, Vetle I. Torvik. Self-citation is the hallmark of productive authors, of any gender', ' – Saturday July 20, 13:30 – 15:00 ', <em>Chair: Scott Hale</em>, '13:30 – 13:45 – Chico Camargo, Jonathan Bright, Scott Hale. Diagnosing the Performance of Human Mobility Models Using Volunteered Geographic Information', '13:45 – 14:00 – Christa Brelsford, Rudy Arthur, Hywel Williams. Regional Delineation from Twitter', '14:00 – 14:15 – Andrea Ballatore, Alexandra Pang, Iacopo Pozzana, Ylli Prifti, Alessandro Provetti. Geo-referencing as a connector between user reviews and urban environment quality', '14:15 – 14:30 – Yifan Qian, Luca Verginer, Massimo Riccaboni, Pietro Panzarasa –', 'Measuring the Social Diversity of Cities in Mobility and Scientific Collaboration Networks', '14:30 – 14:45 – Lisette Espín-Noboa, Florian Lemmerich, Simon Walk, Markus Strohmaier, Mark Musen. HopRank: How Semantic Structure Influences Teleportation in PageRank', ' – Saturday July 20, 13:30 – 15:00 ', <em>Chair: Rense Corten</em>, '13:30 – 13:45 – Arnout van de Rijt, Vincenz Frey. Social Influence Undermines the Wisdom of the Crowd in Sequential Decision-Making', '13:45 – 14:00 – Jesse Shore, Alice Jang, Ethan Bernstein. Social network centralization and collective intelligence: a randomized experiment', '14:00 – 14:15 – Kirill Martynov, Kiran Garimella, Robert West. Crowdsourced Estimation of Human Height and Weight', '14:15 – 14:30 – Niccolo Pescetelli, Alex Rutherford, Iyad Rahwan. Divide and Forecast: When is Diversity Good for Collective Intelligence?', '14:30 – 14:45 – Gian Maria Campedelli. On Terrorism Memory and Predictability via Graph-Derived Multivariate Time Series: Integrating Meta-Networks and Deep Learning', ' – Saturday July 20, 13:30 – 15:00 ', <em>Chair: Ashton Anderson</em>, '13:30 – 13:45 – Gabriela Molina León, Hendrik Heuer, Andreas Breiter. Co-creation in Computational Social Science: Lessons learned', '13:45 – 14:00 – George Lifchits, Ashton Anderson, Jake Hofman, Daniel Goldstein, Duncan Watts. The Importance of Studying Failures When Predicting Success', '14:00 – 14:15 – Jakob Jünger. A brief history of APIs. How do social media providers shape the opportunities and limitations of online research?', '14:15 – 14:30 – Aleksandra Urman, Clara Christner, Silke Adam, Michaela Maier. Online tracking tools for research purposes: A critical review of existing approaches', '14:30 – 14:45 – Sicheng Dai, Márton Karsai, Hélène Bouchet, Eric Fleury, Jean-Pierre Chevrot, Aurelie Nardy. Interaction reconstruction methods for large-scale RFID social experiments', '14:45 – 15:00 – Justin Chun-Ting Ho –', ' – Saturday July 20, 13:30 – 15:00 ', <em>Chair: Eelke Heemskerk</em>, '13:30 – 13:45 – No presentation: Eelke Heemskerk, Dafne van Kuppevelt, Frank Takes.\\xa0', 'Community Structure Dynamics as Early Warning Signals for Corporate Elite (Dis)Integration', '13:45 – 14:00 – Takayuki Mizuno, Mitsuhiro Odaka. Indirect dominance detection on a global shareholding network', '14:00 – 14:15 – Dieter Wang. Extracting mutual fund manager tastes using collaborative filtering methods', '14:15 – 14:30 – Javier Garcia-Bernardo. Now You See Me: Geography of professional tax services', '14:30 – 14:45 – Simone Centellegher, Giovanna Miritello, Daniel Villatoro, Devyani Parameshwar, Bruno Lepri, Nuria Oliver. Understanding and predicting Mobile Money adoption and use']\n"
     ]
    }
   ],
   "source": [
    "url = \"https://2019.ic2s2.org/oral-presentations/\"\n",
    "response = requests.get(url)\n",
    "\n",
    "soup = BeautifulSoup(response.text, \"html.parser\")\n",
    "\n",
    "researchers = soup.find_all(\"br\")\n",
    "researchers = [i.previous_sibling for i in researchers]\n",
    "\n",
    "print(researchers)\n",
    "researchers = researchers[9:] #Some tags in the beginning are included which can simply be cut out"
   ],
   "metadata": {
    "collapsed": false
   }
  },
  {
   "cell_type": "markdown",
   "source": [
    "Now some formatting have to be doen by splitting on punctuations \".\" and dashes \"-\". Also in the last line of the code block we have to go from list of lists to just one list, simutaniously one can remove any whitespaces that may occur in befor each author."
   ],
   "metadata": {
    "collapsed": false
   }
  },
  {
   "cell_type": "code",
   "execution_count": 3,
   "outputs": [],
   "source": [
    "d = [str(i).split('.') for i in researchers]\n",
    "d = [i[0] for i in d]\n",
    "d = [i.split(' – ') for i in d]\n",
    "\n",
    "dt = []\n",
    "for i in d:\n",
    "  for j in i:\n",
    "    if ':' not in j and j != '':\n",
    "      dt.append(j)\n",
    "\n",
    "d = [i.split(',') for i in dt]\n",
    "d = [item[1:] if item[0] == ' ' else item for sublist in d for item in sublist]\n",
    "d = list(set(d)) # In order to remove duplicates a set of the list can be used"
   ],
   "metadata": {
    "collapsed": false
   }
  },
  {
   "cell_type": "code",
   "execution_count": 4,
   "outputs": [
    {
     "data": {
      "text/plain": "477"
     },
     "execution_count": 4,
     "metadata": {},
     "output_type": "execute_result"
    }
   ],
   "source": [
    "len(d) #Check the length of the author list"
   ],
   "metadata": {
    "collapsed": false
   }
  },
  {
   "cell_type": "markdown",
   "source": [
    "Now check if it looks right. We see that some titles are in the author data-set, because of this we can make the assumption that if any \"author-name\" is longer than 4 words we take it as a title."
   ],
   "metadata": {
    "collapsed": false
   }
  },
  {
   "cell_type": "code",
   "execution_count": 5,
   "outputs": [],
   "source": [
    "oral_presenters = d.copy()"
   ],
   "metadata": {
    "collapsed": false
   }
  },
  {
   "cell_type": "code",
   "execution_count": 6,
   "outputs": [],
   "source": [
    "name_length = lambda x: len(x.split(' '))\n",
    "\n",
    "oral_presenters = [name for name in oral_presenters if name_length(name) < 4]"
   ],
   "metadata": {
    "collapsed": false
   }
  },
  {
   "cell_type": "markdown",
   "source": [
    "Now check if the list again"
   ],
   "metadata": {
    "collapsed": false
   }
  },
  {
   "cell_type": "code",
   "execution_count": 7,
   "outputs": [
    {
     "data": {
      "text/plain": "['Madeline Schiappa',\n 'Daniel Ciganda',\n 'Manuel Cebrian',\n 'David Lazer',\n 'Frank Schweitzer',\n 'Jake Hofman',\n 'Satyam Mukherjee',\n 'Milena Tsvetkova',\n 'Eduardo Graells-Garrido',\n 'Alexandre Bovet',\n 'Gerardo Iñiguez',\n 'Marta González',\n 'Joseph D',\n 'Rudy Arthur',\n 'Dean Eckles',\n 'Ylli Prifti',\n 'Ben Thies',\n 'Riccardo Gallotti',\n 'Gian Maria Campedelli',\n 'Nisha Baral',\n 'David Rozado',\n 'Vincent Buskens',\n 'Angel Sánchez',\n 'Erdem Yörük',\n 'Sara Encanaçao',\n 'Sophie Cho',\n 'Sune Lehmann Jørgensen',\n 'Nate Dwyer',\n 'Andreia Sofia Teixeira',\n 'Ian Wood',\n 'Ludo Waltman',\n 'Abhijnan Chakraborty',\n 'Amit Sharma',\n 'Eric Fleury',\n 'James Evans',\n 'Yoshiki Ishikawa',\n 'Gabor Bekes',\n 'Jieyu Ding',\n 'Nicos Nicolaou',\n 'Isaac Waller',\n 'Anna Di Natale',\n 'Kiran Garimella',\n 'Elissa M',\n 'C',\n 'Philipp Lorenz-Spreen',\n 'Tarik Roukny',\n 'Bernardo Garcia Bulle',\n 'Johan Bollen',\n 'Elizabeth Bruch',\n 'Cesar Hidalgo',\n 'Joris Broere',\n 'Qiusi Sun',\n 'Przemyslaw Grabowicz',\n 'Helge Reelfs',\n 'Gianluca Carnabuci',\n 'Wojtek Przepiorka',\n 'Timo Hartmann',\n 'Chathura Jayalath',\n 'Luke Stark',\n 'Max Pellert',\n 'Çağrı Yoltar',\n 'Samin Aref',\n 'Mykola Makhortykh',\n 'Takanori Nishida',\n 'Juan Mateos-Garcia',\n 'Antonio Lima',\n 'Felix Victor Münch',\n 'Akira Ishii',\n 'Pradip Swarnakar',\n 'Tarunima Prabhakar',\n 'David Martens',\n 'Sebastian Deri',\n 'Sunandan Chakraborty',\n 'Michael Conover',\n 'Milad Abbasiharofteh',\n 'Eszter Bokanyi',\n 'Kai Zhou',\n 'Ming Yin',\n 'Daniele Silvestro',\n 'Loretta Auvil',\n 'James Gleeson',\n 'Souvik Ghosh',\n 'George Lifchits',\n 'Scott Althaus',\n 'Philippa Shoemark',\n 'Jonathan Bright',\n 'Luca Verginer',\n 'Ramon Gras',\n 'Aurelie Nardy',\n 'Roberta Sinatra',\n 'Santo Fortunato',\n 'Abdullah Almaatouq',\n 'David Jurgens',\n 'Pietro Panzarasa –',\n 'Sander Scholtus',\n 'Andrea Cavicchini',\n 'Omar Guerrero',\n 'Fabian Flöck',\n 'Giovanna Miritello',\n 'Mirko Reul',\n 'Hanno Friedrich',\n 'Anna Shirokanova',\n 'Esteban Moro',\n 'Swapnil Gavade',\n 'Yelena Mejova',\n 'Lisette Espín-Noboa',\n 'Yerka Freire-Vidal',\n 'William Rand',\n 'Wei Lee Woon',\n 'Alessandro Provetti',\n 'Richard Zemel',\n 'Aniko Hannak',\n 'Fiona Murray',\n 'Telmo Menezes',\n 'Marc-Etienne Brunet',\n 'Riccardo Di Clemente',\n 'Luca Maria Aiello',\n 'Kirill Martynov',\n 'Benjamin Vandermarliere',\n 'Morgan R',\n 'Christo Wilson',\n 'Ulrich Matter',\n 'Jakob Jünger',\n 'Yannick Léo',\n 'Dashun Wang',\n 'Alina Arseniev-Koehler',\n 'Devyani Parameshwar',\n 'Abhishek Samantray',\n 'Yifang Ma',\n 'Mohamed Musbah',\n 'Ingmar Weber',\n 'Vincenz Frey',\n 'Flavio Pinheiro',\n 'Georgios Anagnostopoulos',\n 'Hernan Makse',\n 'Júlia Koltai',\n 'Janina Beckmann',\n 'Kyriacos Vitalis',\n 'Henk Stoof',\n 'Zachary Neal',\n 'Jeremy Burke',\n 'Yang Wang',\n 'Susumu Nagayama',\n 'David Adelani',\n 'Marta Rivera-Alba',\n 'Markus Strohmaier',\n 'Yifan Qian',\n 'Sanja Hajdinjak',\n 'Frank Takes',\n 'Sai Hitesh Jonnalagadda',\n 'Brigitta Németh',\n 'Jan Overgoor',\n 'Chung-Hong Chan',\n 'Daniele Quercia',\n 'Claudia Wagner',\n 'Nina Savela',\n 'Yian Yin',\n 'Ravi Bhavnani',\n 'Kasper Welbers',\n 'Marcella Morris',\n 'Peter Van Aelst',\n 'Alexandra Olteanu',\n 'Maria Bolsinova',\n 'Flavio Pinheiro –',\n 'Jaehyuk Park',\n 'Vítor V',\n 'Talal Rahwan',\n 'Jennifer Wortman Vaughan',\n 'Gabriella Kazai',\n 'Judith Kas',\n 'Isak Ladegaard',\n 'Robert West',\n 'Jingwen Zhang',\n 'Javier Garcia-Bernardo',\n 'Yphtach Lelkes',\n 'Hélène Bouchet',\n 'Oren Lederman',\n 'Scott Hale',\n 'Lijun Sun',\n 'Gomez Vicenç',\n 'Iacopo Pozzana',\n 'Pontus Strimling',\n 'Yan Leng',\n 'Dana Fisher',\n 'Andreas Breiter',\n 'Jichao Li',\n 'Iyad Rahwan',\n 'Yong-Yeol Ahn',\n 'Balazs Lengyel',\n 'Walid Magdy',\n 'Iyad Rahwan –',\n 'Theresa Gessler',\n 'Gabriela Molina León',\n 'Daniel Villatoro',\n 'Edwin de Jonge',\n 'Michiel Bakker',\n 'Dan Goldstein',\n 'Pei Zhou',\n 'Mason A',\n 'Jennifer Allen',\n 'Galina Daraganova –',\n 'Fırat Duruşan',\n 'David Rand',\n 'Ashton Anderson',\n 'Quinten Meertens',\n 'Marco Brambilla',\n 'Alexandru-Ionut Babeanu',\n 'Alejandro Espinosa-Rada',\n 'Ziv Epstein',\n 'János Kertész',\n 'Hendrik Nunner',\n 'Cristian Candia Vallejos',\n 'George Vega Yon',\n 'Manlio De Domenico',\n 'Joyojeet Pal –',\n 'Philipp Hövel',\n 'Vincent Antonio Traag',\n 'Alejandro Noriega Campero',\n 'Subhayan Mukerjee',\n 'Barbara McGillivray',\n 'Marco Schmitt',\n 'Janos Török',\n 'Ricardo Buera Corchón',\n 'Johan Koskinen',\n 'George Pallis',\n 'Marco De Nadai',\n 'Yupeng Gu',\n 'Kinga Makovi',\n 'Daniele Guariso',\n 'Philip Leifeld',\n 'David Rothschild',\n 'Onyi Lam',\n 'Stiene Praet',\n 'Nuria Oliver',\n 'Jonathan H',\n 'Rense Corten',\n 'Tomasz P',\n 'Brent D',\n 'Abe Hofman',\n 'Cristian Jara Figueroa',\n 'Ali Hürriyetoğlu',\n 'Chathurani Senevirathna',\n 'Massimo Riccaboni',\n 'Chao Min',\n 'Masoomali Fatehkia',\n 'Jianjun Sun',\n 'Simone Centellegher',\n 'Karsten Donnay',\n 'Tara Sowrirajan',\n 'Robert Stelter',\n 'Wouter van Atteveldt',\n 'Zhifan Luo',\n 'Florian Lemmerich',\n 'David Darmon',\n 'Chathika Gunaratne',\n 'Sicheng Dai',\n 'Edgar Morales Ramírez',\n 'Carlos Rodriguez Sickert',\n 'Ramona Roller',\n 'Andrew King',\n 'Jacob G',\n 'Hee Youn Kwon',\n 'Dong Nguyen',\n 'Binglu Wang',\n 'Marijn ten Thij',\n 'Sait Bayrakdar',\n 'Francisco C',\n 'Jennifer Fest',\n 'Márton Karsai',\n 'Nikolas Zöller',\n 'Joachim Piepenburg',\n 'Sune Lehmann',\n 'Johan Ugander',\n 'Oana Vuculescu',\n 'Bernard Koch',\n 'Simon Walk',\n 'Yevgeniy Vorobeychik',\n 'Mikko Kivelä',\n 'Johannes Gruber',\n 'Jisun An',\n 'Chaoming Song',\n 'Kimmo Kaski',\n 'Christos Nicolaides',\n 'Henry Smart Iii',\n 'Xiaowen Dong',\n 'Maria Wolters',\n 'Irina Vartanova',\n 'Ivan Garibay',\n 'Chris Janssen',\n 'Stella Neumann',\n 'Zijian Wang',\n 'Aleksandra Urman',\n 'Markus Mobius',\n 'Damian Trilling',\n 'Aliakbar Akbaritabar',\n 'Chico Camargo',\n 'Brian Uzzi',\n 'Manoel Horta Ribeiro',\n 'Johannes Wachs',\n 'Ju-Sung Lee',\n 'Ivan Garibay –',\n 'Duncan Watts –',\n 'Dimitrios Milioris',\n 'Hartmut Wessler',\n 'Diego Garlaschelli',\n 'Andrea Ballatore',\n 'Jesse Shore',\n 'Marios Dikaiakos',\n 'Ying Ding',\n 'Hyejin Youn',\n 'George Richardson',\n 'Dieter Wang',\n 'Haewoon Kwak',\n 'Marcin Waniek',\n 'Gunter Maris',\n 'Axel Bruns',\n 'Melissa Ellamil',\n 'Emre Calisir',\n 'Hendrik Heuer',\n 'Kokil Jaidka',\n 'Dimosthenis Stefanidis',\n 'Ethan Bernstein',\n 'Shawnna Mullenax',\n 'Silke Adam',\n 'Camille Roth',\n 'Daniele Romanini',\n 'Juhi Kulshrestha',\n 'Janos Kertesz',\n 'Aleksandra Nenko',\n 'Marcel Wittich',\n 'Sandro Lera',\n 'Morgan Frank',\n 'Thomas Baudin',\n 'Matthieu Brinkhuis',\n 'Mahmoudreza Babaei',\n 'Mitsuhiro Odaka',\n 'Hang-Hyun Jo',\n 'Gergő Tóth',\n 'Luis M',\n 'William Cai',\n 'Tom Broekel',\n 'Adina Nerghes',\n 'Yasuko Kawahata',\n 'Adam Hughes',\n 'Filippo Radicchi',\n 'Alex Rutherford',\n 'Gordon Pennycook',\n 'Fernando Diaz',\n 'Yuan Yuan',\n 'Arnout van Delden',\n 'Milan Janosov',\n 'Duncan Watts',\n 'Lorien Jasny',\n 'Tyler Amos',\n 'Martin Hilbert',\n 'No Presentation',\n 'Zoltán Kmetty',\n 'Farhana Ferdousi Liza',\n 'Alexandra Pang',\n 'Jessica Hullman',\n 'John Hagan',\n 'Yizhi Jing',\n 'Hywel Williams',\n 'Petter Törnberg',\n 'Nadia Metoui',\n 'Simon Schweighofer',\n 'Daniel Goldstein',\n 'Gael Le Mens',\n 'Mark Musen',\n 'Ali Faqeeh',\n 'Jérémie Rappaz',\n 'Abigail Jacobs',\n 'Rahul Arulkumaran',\n 'Kangsan Lee',\n 'Johannes Bjelland',\n 'Pasquale De Meo',\n 'Takayuki Mizuno',\n 'Yi Bu',\n 'Alice Jang',\n 'Federico Battiston',\n 'Shubhanshu Mishra',\n 'Lu Liu',\n 'Ronald Robertson',\n 'Michael Mauskapf',\n 'Kristina Gligoric',\n 'Laszlo Lorincz',\n 'Olga Silyutina',\n 'Fabrizio Germano',\n 'Joseph Bajjalieh',\n 'Christa Brelsford',\n 'Hitoshi Mitsuhashi',\n 'Reham Al Tamime',\n 'Anna May',\n 'Bruno Lepri',\n 'Hanna Wallach',\n 'Antonio Molins',\n 'Oliver Hohlfeldt',\n 'Rebekah Tromble',\n 'Diego Pérez',\n 'Bedoor Alshebli',\n 'Cornelius Puschmann',\n 'Geoffrey Canright',\n 'Forough Poursabzi-Sangdeh',\n 'Michaela Maier',\n 'Tamás Rudas',\n 'Clara Christner',\n 'Lovro Šubelj',\n 'Taha Yasseri',\n 'Carlos Sarraute',\n 'Bogdan State',\n 'Marina Petrova',\n 'Florianne Verkroost',\n 'Manikumar Perla',\n 'David Schoch',\n 'Abigail Horn',\n 'Sandy Pentland',\n 'Stephen M',\n 'No presentation (cancelled)',\n 'Yohsuke Murase',\n 'Muyang Li',\n 'Federico Musciotto',\n 'Lushi Chen',\n 'Christina Bouwens',\n 'Atte Oksanen',\n 'Ching Jin',\n 'David Garcia',\n 'Lukas Fervers',\n 'Azadeh Nematzadeh',\n 'Alina Vogelgesang',\n 'Jaime Oliver',\n 'Marita Jacob',\n 'Antonio Arechar',\n 'Mohsen Mosleh',\n 'Albert Laszlo Barabasi',\n 'Ridhi Kashyap',\n 'Benjamin Meindl',\n 'Niccolo Pescetelli',\n 'Kimmo Eriksson',\n 'Koen Schoors',\n 'Flaminio Squazzoni',\n 'Adam Pah',\n 'Daniel Larremore',\n 'Lada Adamic',\n 'Peter Barbrook-Johnson',\n 'Stefan Wojcik',\n 'Dr',\n 'Fredrik Jansson',\n 'Charles Howland',\n 'Angelo Cardoso',\n 'Judith Moeller',\n 'Luis Amaral',\n 'Alex Pentland',\n 'Uma Maheswari Gollapudi',\n 'Bjarke Mørch Mønsted',\n 'Jean-Pierre Chevrot',\n 'Nicolas Todd',\n 'Tim Henrichsen',\n 'Lisa Merten']"
     },
     "execution_count": 7,
     "metadata": {},
     "output_type": "execute_result"
    }
   ],
   "source": [
    "oral_presenters"
   ],
   "metadata": {
    "collapsed": false
   }
  },
  {
   "cell_type": "markdown",
   "source": [
    "### Scraping the poster session\n",
    "For this html "
   ],
   "metadata": {
    "collapsed": false
   }
  },
  {
   "cell_type": "code",
   "execution_count": 8,
   "outputs": [
    {
     "name": "stdout",
     "output_type": "stream",
     "text": [
      "['Program Program overviewAll keynotes & panelsAll oral presentationsAll poster presentationsAll tutorials', 'Warmup General informationJob FairDatathon', 'Attending / Local info Presenter informationList of delegatesRegistration———–Conference VenueTransportationAccommodationSocial EventsChild care', 'Organizers Conference ChairsProgram CommitteePrevious Editions', 'Frank Peter Pijpers\\xa0Hypothesis testing of causality between time series', 'Martin Lukac and André Grow\\xa0Recruiting mechanisms on online labour markets: an agent-based model', 'Kiran Garimella, Gianmarco De Francisci Morales, Aristides Gionis and Michael Mathioudakis\\xa0Political Discourse on Social Media: Echo Chambers, Gatekeepers, and the Price of Bipartisanship', 'Eaman Jahani, Peter Krafft, Yoshihiko Suhara, Esteban Moro and Alex Pentland\\xa0ScamCoins, S*** Posters, and the Search for the Next Bitcoin TM : Collective Sensemaking in Cryptocurrency Discussions', 'Gabriel Murray\\xa0Predicting Small Group Interaction Dynamics with Social Network Analysis', 'Ivan Smirnov and Sofia Dokuka\\xa0CSS Actually: exploring the computational social science community, its areas of interest, social structure and gender imbalance', 'Zhen Zhu, Bart Baesens and Xu Wang\\xa0On the Optimal Marketing Aggressiveness Level of C2C Sellers in Social Media: Evidence from China', 'Yifan Qian and Pietro Panzarasa\\xa0Intra- and inter-brokerage in social networks', 'Zhifan Luo\\xa0“Freewheeling Generals” and Inter-Elites Consensus in the U.S.: Evidence from Computer-Assisted Text Analysis', 'Annie Haakenstad, Margaret McConnell and Stephane Verguet\\xa0Modeling healthcare-seeking to estimate catastrophic health expenditure by disease', 'Hannes Rosenbusch, Ilse Pit, Florian Wanders\\xa0The Semantic Scale Network: An Online Tool to Detect Semantic Overlap and Redundancies of Measurement Scales in the Social Sciences', 'Mi Jin Lee, Eun Lee, Deok-Sun Lee and Sang Hoon Lee\\xa0Uncovering hidden mutual importance in networks via information entropy', 'André Grow and Jan Van Bavel\\xa0The Gender Cliff in the Relative Contribution to the Household Income: Insights from Modelling Marriage Markets in 27 European Countries', 'Valerie Hase, Kimon Kieslich, Katherine Engelke and Jing Zeng\\xa0The Best of Two Worlds? Combining Automated and Manual Content Analysis to Assess Media Coverage', 'Sjoerd Hooijmaaijers and Gert Buiten\\xa0Estimating the Dutch interfirm trade network', 'Francesco Granella\\xa0Pairwise speech distance in the U.S. Congress: a perspective on polarization', 'Jeroen Bruggeman\\xa0Cooperation for Public Goods Driven by Noise', 'Philipp Kling\\xa0Methodological Problems with Commercial User-Panels for Research on Social Media', 'Andrew Rosenberg\\xa0A Percolation Model of International Migration', 'Jan van der Laan and Edwin de Jonge\\xa0Measuring segregation using a network of the Dutch population', 'Anton Boichenko\\xa0Values in Rap: Topic Modelling of Russian Hip-Hop Stage', 'Yoosoon An\\xa0A Complexity Approach to North Korea Famine in 1990s : By Using Agent-Based Model', 'Huimin Xu, Lingfei Wu and Cheng-Jun Wang\\xa0The Hidden Shape of Stories Reveals Positivity Bias and Gender Bias', 'Zachary Steinert-Threlkeld and Jungseock Joo\\xa0Measuring The Effect of Violence and Cleavages on Social Movement Outcomes with Geolocated Twitter Images', 'Toshiya Saito and Takayuki Mizuno\\xa0Quantifying trends in innovative fields via Poisson-gamma dynamical systems', 'Emily Bello-Pardo, Carly Knight, Jeff Lockhart, Stan Oklobdzija, Iacopo Pozzana, Martijn Schoonvelde and Carsten Schwemmer\\xa0The Politics of Social Media Images: Potentials and Biases of Image Recognition Algorithms for Studying Congressional Behavior', 'Alessandro Cossard, Gianmarco De Francisci Morales, Yelena Mejova and Daniela Paolotti\\xa0Mapping the Anti-Vaccination Debate in Italy', 'Nicolas Cointe, Amineh Ghorbani and Caspar Chorus\\xa0Goal recognition, obfuscation-based decision making and cooperation', 'Nadezhda Sokolova and Mikhail Sokolov\\xa0Network approach to the analysis of taste: high-brow culture as a bridge across cultural holes', 'Marta Rivera-Alba, Alberto Sánchez-Carralero, Jaime Oliver and Luis C. Reyes\\xa0Housing as a sophisticated good based on the complexity of its consumers in Spain', 'Guy Laban\\xa0What Makes it Human? Users’ perceptions of agents’ animacy and intelligence', 'Bianca Kang and Ringo Ho\\xa0Do I stay? Exploring factors related to repeated advice-seeking on a relationship advice forum', 'Ryo Hamawaki, Junichi Ozaki, Kiyoshi Izumi, Takashi Shimada, Hiroyasu Matsushima and Hiroki Sakaji\\xa0Analysis of Investment Effect using MultiplexNetwork Simulation of Banks and Firms', 'Sahil Loomba, Till Hoffmann and Nick Jones\\xa0The Social Access Statistic: Linking Social Connectivity to Health Outcomes', 'Gergő Tóth, Johannes Wachs, Ákos Jakobi, Riccardo Di Clemente, Bence Ságvári, János Kertész and Balazs Lengyel\\xa0Urban structure conditions network effects on income inequality', 'Daniela Gawehns, Guida Veiga and Matthijs van Leeuwen\\xa0Focus on dynamics: a proof of principle in exploratory data mining of face-to-face interactions', 'Yoshiki Ishikawa and Takanori Nishida\\xa0Deep roots of the international differences in subjective well-being', 'Elisa Oertel\\xa0Who is the true influencer in the coexistence of science and society?', 'Peter Ejbye-Ernst, Marie Lindegaard and Wim Bernasco\\xa0A CCTV-based analysis of situational factors influencing third-party aggressiveness in interpersonal conflicts', 'Maxime Stauffer, Igor Krawczuk and Nora Ammann\\xa0Modelling collective decision-making in policy networks', 'Kieran Mepham, András Vörös and Christoph Stadtfeld\\xa0The joint dynamics of social networks and political opinions: A bipartite network approach to the study of opinion clustering', 'Masanori Takano, Fumiaki Taka, Soichiro Morishita, Tomosato Nishi and Yuki Ogawa\\xa0Expressing Modern/Oldfashioned Racism against Zainichi Koreans in Japan depending on News Contents of Internet Television', 'Jeroen van Den Ochtend, Raluca Gui, Markus Meierer and René Algesheimer\\xa0Social Influence in the Presence of Homophily: Method-Comparison Across Multiple Scenarios', 'Adrien Benamira, Benjamin Devillers, Etienne Lesot, Ayush K. Rai, Manal Saadi and Fragkiskos Malliaros\\xa0Semi-Supervised Learning and Graph Neural Networks for Fake News Detection', 'Lorena Cano-Orón\\xa0Could we study national public opinion through the SERP?', 'Dimitra Liotsiou and Philip Howard\\xa0Measuring the Influence of Online Misinformation: A Hierarchy of Social Media Data', 'Martyn Harris, Mark Levene, Dan Levene and Dell Zhang\\xa0The Samtla holographic search and browsing interface for cultural heritage photogrammetry models', 'Guanghua Chi, Bogdan State, Lada Adamic and Joshua Blumenstock\\xa0Who Ties the World Together?', 'Neda Paryab, Alexander Sachs, Andrew Li, Meiyappan Nagappan and Jesse Hoey\\xa0Relating Values and Social Network Structure', 'Javier Alvarez-Galvez and Victor Suarez-Lledo\\xa0Using Agent Based Modeling to Understand the Emergence and Reproduction of Social Inequalities in Health.', 'Dhruv Sapra and Aniket Alam\\xa0Empowering Citizenship through Social Network Analysis: A Case Study from Indian Politics', 'Evgenia Dolgova, Zuzana Sasovova and Michaela Schippers\\xa0On getting ahead: The role of proactive personality in the co-evolution of perceptions of competence and friendship', 'Alexandre Leroux and Matteo Gagliolo\\xa0Public sphere and echo chambers in Belgian media discussion threads', 'Abeer Aldayel and Walid Magdy\\xa0It is more than what you Say! Leveraging User Online Activity for Improved Stance', 'Frederico Francisco and Joana Gonçalves-Sá\\xa0A little knowledge is a dangerous thing: excess confidence explains negative attitudes towards science', 'Radim Hladik\\xa0Heed My Words: Topics and Citations', 'Peter Davis and Roy Lay-Yee\\xa0SociaLab: A Census-based Simulation Tool for Policy Inquiry', 'Chunying Wen, Ming Xiao, Xin Sui and Yimeng Yang\\xa0Place Communication on Social Media: the Case of Beijing – Based on Multi-feature Fusion Topic Sentiment Analysis', 'Arseny Rasov, Viacheslav A. Shibaev and Ivan Yamshchikov\\xa0Text classification for monolingual political manifestos', 'Anne Cornelia Kroon, Damian Trilling, Antske Fokkens, Felicia Loecherbach, Judith Moeller, Mariken A.C.G. van der Velden and Wouter Van Atteveldt\\xa0Improving automated content analysis with news-specific word embeddings for medium-resourced languages', 'Itto Kornecki, Nuno Araujo and Trivik Verma\\xa0Commuting patterns and outliers in London public transit: a narrative of unequal access', 'Yuki M. Asano and Gesa Biermann\\xa0Patterns in Online Recipe Data Reveal Rising Adoption and Retention of Meat-Free Diets', 'Vsevolod Suschevskiy, Ilya Musabirov, Denis Bulygin and Ekaterina Marchenko\\xa0Network Analysis of Global Transfers in Dota 2', 'Diego Fregolente Mendes de Oliveira and Kevin S. Chan\\xa0Sorting information by quality as a mechanism to hinder the system’s discriminative power', 'Eszter Bokanyi, Dániel Kondor and Gabor Vattay\\xa0Scaling in Words on Twitter', 'Douglas Guilbeault, Joshua Becker and Samuel Woolley\\xa0Nuance Matters: Collective Intelligence Dynamics in the Spread of Misinformation', 'Luca Verginer, Massimo Riccaboni, Pietro Panzarasa and Xiancheng Li\\xa0A Network Approach to uncovering researchers’ expertise: Evidence from the MEDLINE corpus', 'Sébastien Lerique and Camille Roth\\xa0Evolution of stories in a large-scale online experiment: bridging psycholinguistics and cultural evolution', 'Demetris Avraam, Christos Nicolaides,Luis Cueto-Felgueroso, Marta C. Gonzalez, Ruben Juanes\\xa0Hand-hygiene mitigation strategies against global disease spreading through the air-transportation network', 'Aleksandra Aloric, Javier Garcia-Bernardo, Peter Krafft, Allison Morgan, Zohar Neu and Andrea Santoro\\xa0Collective Information Processing in Human Rumor-Spreading Networks', 'Masashi Miura, Haruhiko Maenami and Shingo Takahashi\\xa0Game-Based Situation Prototypingfor Collaborative Social Modeling', 'Jianliang Yang, Lin Wang, Chenghua Guan, Alex Pentland and Xiangfei Yuan\\xa0Predicting People Movements between Cities Based on Economic and Transportation Features', 'Qiankun Zhong and Seth Frey\\xa0Institutional isomorphism and homophily effects of self-governing online communities', 'Svetlana Zhuchkova and Aleksei Rotmistrov\\xa0New Approach to Topic Modeling: Optimal Scaling, PCA and Rotation', 'Mykola Makhortykh, Jaron Harambam and Dimitrios Bountouridis\\xa0We are what we click: Understanding time- and content-based habits of online news readers', 'Zahra Sheikhbahaee and Isabel Valera\\xa0Attribute Prediction and Link Recommendation using a Bayesian Nonparametric Model', 'Xiaoyu Zhang\\xa0Sexual Harrassment at workplace: Mining Unequal Culture based on Glassdoor Company Reviews', 'Anupama Aggarwal, Claudia Wagner, Fabian Flöck, Ali Aghelmaleki and Julian Kohne\\xa0Generating a Corpus of Sexist Content through Gamification and Automatic Detection of Sexism', 'Tobias Buchmann and Patrick Wolf\\xa0Classifying European research networks', 'Maayan Levinson, Yuval Benjamini and Liat Ayalon\\xa0The Making of a Place: Social Networks in Long Term Care Institutions for Older Adults', 'Frank Peter Pijpers\\xa0The Dutch enterprise population as a complex dynamical system', 'Kiran Garimella, Gianmarco De Francisci Morales, Aristides Gionis and Michael Mathioudakis\\xa0Reducing Polarization by Connecting Opposing Views', 'Gabriel Murray\\xa0Connecting Small Group Affect and Social Network Centrality Measures', 'Sofia Dokuka, Maksim Tsvetovat, Kate Furman and Alex Furman\\xa0Peer Rank Score: Meritocratic Approach for the Individual Performance Evaluation', 'Zhen Zhu and Lingqing Jiang\\xa0Branching Out the Babytree: The Effects of Dual Peer Group Membership on Social Support During Pregnancy in Online Communities', 'Yifan Qian, Paul Expert, Pietro Panzarasa and Mauricio Barahona\\xa0Linking the classification performance of Graph Convolutional Networks with the alignment of graphs and features', 'Martin Lukac\\xa0Probing causal inference in the face of interference: simulations of social networks', 'Eaman Jahani, Alex Pentland and Dean Eckles\\xa0Network Inequality: Measuring Network Susceptibility to Inequality', 'Daniele Rama, Michele Tizzoni, Yelena Mejova, Kyriaki Kalimeri and Ingmar Weber\\xa0Urban-Rural Inequalities through Facebook Ads', 'Jan Overgoor, Austin Benson and Johan Ugander\\xa0Choosing to grow a graph:modeling network formation as discrete choice', 'Lisette Espín-Noboa, Fariba Karimi, Claudia Wagner and Kristina Lerman\\xa0Data-driven discrimination in relational classification', 'Je Hoon Chae, Sang Yup Lee\\xa0News Framing of Refugee Issue in South Korea: Application of Topic Model', 'Armin Mertens, Franziska Pradel, Ayjeren Rozyjumayeva and Jens Wäckerle\\xa0Gendered Political Communication on Twitter', 'Luce le Gorrec, Sandrine Mouysset and Daniel Ruiz\\xa0Doubly-stochastic scaling of adjacency matrices for community detection', 'Silke Adam, Michaela Maier, Viktor Aigenseer, Aleksandra Urman and Clara Christner\\xa0WebTrack – tracking users’ online information behavior while screen-scraping content', 'Selin Köksal and Chiara Allegri\\xa0What can lyrics tell us about cultural identity? Evidence from a text analysis', 'Ana Alonso-Curbelo\\xa0A Computerised Content Analysis of Language (ab)Use in Politics: The Case of Donald Trump', 'Milan van den Heuvel, Benjamin Vandermarliere and Koen Schoors\\xa0The asymmetric response of consumption to income changes and the effect of liquid wealth', 'Kokil Jaidka\\xa0Does social media use improve community health and well-being? Evidence for U.S. counties', 'Sandra Wankmüller\\xa0Scaling Based on Classification: IRT Models as an Aggregating Technique in Ensemble Learning for Text Documents', 'Yasuhiro Kitakami and Tomo Ogawa\\xa0Development and prospect of MAS simulator artisoc', 'Reham Al Tamime, Ridhi Kashyap, Ingmar Weber and Masoomali Fatehkia\\xa0Monitoring Digital Gender Inequality using Facebook and Google Advertising Audience Estimates', 'Hugo de Vos, Suzan Verberne and Bernard Steunenberg\\xa0Longitudinal Analysis of Legislative Processes', 'Ellie Yang, Dhavan Shah, Douglas Mcleod, William Sethares, Zhongkai Sun, Steve Guo and Xinyi Wang\\xa0Classification algorithms for modeling categorical dependent variables: A study of online health information seeking', 'Henri Kauhanen and George Walkden\\xa0Detecting constant rates of change in language: an a priori Monte Carlo power analysis', 'Wenjun Liao and Chenghua Lin\\xa0Deep Ensemble Learning for News Stance Detection', 'Satyam Mukherjee and Tarun Jain\\xa0Impact of Social Network Structure on the User Innovation: Evidence from Stackoverflow.com', 'Wojtek Przepiorka and Andreas Diekmann\\xa0Heterogeneous groups overcome the diffusion of responsibility problemin social norm enforcement', 'Ulf Liebe, Jennifer Gewinner and Andreas Diekmann\\xa0Choosing Green Energy. A Social Dilemma With a Solution', 'Janos Kertesz, Alina Sirbu, Fosca Gianotti and Dino Pedreschi\\xa0Algorithmic bias amplifies opinion polarization: A bounded confidence model', 'Kayla de la Haye, Brooke M. Bell, George G. Vega Yon, Abu Sayeed Mondol, Ridwan Alam, Meiyi Ma, Ifat Emi, John Lach, John Stankovic and Donna Spruijt-Metz\\xa0Detecting Eating Mimicry in Families', 'Bruno Toshio Sugano and Kazutoshi Sasahara\\xa0Quantifying Starbucksness From Social Media: A Case of Tabelog', 'Wim Bernasco\\xa0Human Mobility and Crime Locations', 'Masoomali Fatehkia, Isabelle Tingzon, Vedran Sekara, Stephanie Sy, Manuel Garcia-Herranz and Ingmar Weber\\xa0Mapping Socioeconomic Indicators Using Social Media Advertising Data', 'Guangqing Chi, Junjun Yin, Jennifer Van Hook, Eric Plutzer and Heng Xu\\xa0Twitter Demographics: Exploring the Generalizability of Twitter Data for Population Research', 'Nan Zhang and Heng Xu\\xa0How Much Choice is Too Much? A Machine Learning Based Meta-Analysis of Choice Overload', 'Kleber A. Oliveira, Felipe M. Cardoso, Andre Santanche, James P. Gleeson and Ali Faqeeh\\xa0Topical Homophily in Twitter Meme Diffusion', 'Gerrit Jan de Bruin, Cor Veenman, Jaap van Den Herik and Frank Takes\\xa0Understanding truck co-driving behaviour using network analysis', 'Lorenzo Lucchini, Sara Tonelli and Bruno Lepri\\xa0Understanding cultural attractiveness using historical migratory data', 'Max Pellert, Simon Schweighofer and David Garcia\\xa0Emotional expression dynamics in social media', 'Martijn Schoonvelde, Gijs Schumacher and Christian Pipal\\xa0Validating the Joint Sentiment Topic Model and the reversed Joint Sentiment Topic Model on Political Text', 'Pablo Lozano, Sergey Gavrilets and Angel Sanchez\\xa0Hierarchies can arise spontaneously in egalitarian societies', 'Jennifer Allen, David Rothschild, Duncan Watts, Charles Howland, Markus Mobius, Marcel Wittich and Melissa Ellamil\\xa0No news is bad news: studying the relative prevalence of fake, mainstream, and non-news', 'Giorgia Ramponi, Mattia Gasparini and Marco Brambilla\\xa0Community Detection on Social Network: Social Relations vs. Generated Content', 'Juhi Kulshrestha, Motahhare Eslami, Johnnatan Messias, Muhammad Bilal Zafar, Saptarshi Ghosh, Krishna Gummadi and Karrie Karahalios\\xa0Quantifying Search Bias: Investigating Political Bias in Social Media \\\\& Web Search', 'Kostas Stathoulopoulos\\xa0An analysis of the informal knowledge network in Sub-Saharan Africa.', 'Iraklis Moutidis, Rudy Arthur and Hywel Williams\\xa0Decoding the coding community: Identifying Technology-Based User Groups in Stack Overflow.', 'Amir Ebrahimi Fard, Haye Hazenberg, Jeroen van den Hoven, Scott Cunningham, Emily Sullivan, Mark Alfano and Roel Faber\\xa0Digital Disinformation in the Dutch Democracy', 'Vadim Voskresenskii\\xa0Networks of European Right-Wing Online Groups on Russian Social Media', 'Lilia Perfeito, Paulo Almeida and Joana Gonçalves-Sá\\xa0New tools for an old problem: using computational techniques to examine gender differences in political discourse', 'Joana Gonçalves-Sá and Cláudio Vieira\\xa0Online vs. Offline: Using the Pandemic Influenza to Understand Different Drivers Behind Human Behaviour', 'Benjamin Meindl and Joana Mendonça\\xa0Text mining to identify technologies of the fourth industrial revolution', 'Mahmoudreza Babaei, Juhi Kulshrestha, Abhijnan Chakraborty, Fabricio Benevenuto, Krishna Gummadi and Adrian Weller\\xa0Purple Feed: Identifying Non-Divisive News Posts on Social Media', 'Zoya Khan, Priyam Bansal, Mansi Sharma and Rishabh Kaushal\\xa0Are Online Users with Us ? Deep Representation Learning for Political Stance Detection', 'Kasper Welbers, Wouter van Atteveldt, Chung-Hong Chan, Hartmut Wessler and Scott Althaus\\xa0Media portrayal of terrorist events: Using computational text analysis to link news items to the Global Terrorism Database.', 'Zeph M. C. van Berlo\\xa0Let’s talk about our emojis', 'Marius Sältzer and Samuel Mueller\\xa0Bad News Travel Well – Incentives for Politicians to Polarize on Twitter', 'Alberto Antonioni, María Pereda, Katherine A. Cronin, Marco Tomassini and Anxo Sanchez\\xa0Collaborative hierarchy maintains cooperation in asymmetric games', 'Kyriaki Kalimeri, Mariano Gastón Beiró, Alessandra Urbinati, Andrea Bonanomi, Alessandro Rosina and Ciro Cattuto\\xa0Employing Social Media to Understand Human Values and Attitudes towards Vaccination', 'Alla Loseva and Daniel Alexandrov\\xa0The Evolution of Computational Social Science Field: Bibliometric Mapping', 'Tyler Amos, Tyler Amos and Tyler Amos\\xa0Applications of Audio Data to Describe Affect in Online Debates on Migration and Multiculturalism', 'Daniel Straulino, Chengcheng Li, Sid Ravinutala and Neave O’Clery\\xa0Inferring Crop Complexity via Machine Learning', 'Graham McNeill and Scott Hale\\xa0Viz-Blocks: A Lightweight Interface for Building Visualizations and Documents', 'Isabella Loaiza, Morgan Frank and Alex ‘Sandy’ Pentland\\xa0Cheap Signals, Trade, and Costly Consequences', 'Parizad Bahardoost\\xa0The Strength of Weak Ties in the Political Networks', 'Moritz Müller\\xa0Who cares about regulation? EU agencies and their social media audiences', 'Daniel J. Flynn and Seth Frey\\xa0Shooting friends and missing enemies: comparing partisan polarization in classifier error sensitivity versus policy preferences', 'Seth Frey, Bryan Bruns and Curtis Atkisson\\xa0Institutional evolution as a dynamic over the space of games', 'Stefano Balietti, Duncan Watts and Lise Getoor\\xa0Shifting Attitudes Toward Wealth Redistribution: Is It All a Matter of Trust?', 'Khyati Mahajan and Samira Shaikh\\xa0Analyzing Emoji Usage across Two Social Media Platforms during the Charlottesville Protests', 'Yibei Chen and Shaojing Sun\\xa0Morality and Emotion: Mining Social Media Data with DDR Method', 'Shen Yan, Homa Hosseinmardi, Hsien-Te Kao, Shrikanth Narayanan, Kristina Lerman and Emilio Ferrara\\xa0Gender Disparity Under Biosignal Modeling', 'Andreia Sofia Teixeira, Francisco C. Santos and Alexandre P Francisco\\xa0The Origins of Social Balance in Signed Networks', 'Chathura Jayalath, Chathika Gunaratne, Chathurani Senevirathna and Ivan Garibay\\xa0A Path Dependent Equivalence of the Independent Cascade Model and the Linear Threshold Model', 'Diliara Valeeva\\xa0Who is who in the core of the global business elite network', 'Clemens Harten\\xa0Decision-Making in Enterprise Risk Management as Distributed Cognition']\n"
     ]
    }
   ],
   "source": [
    "url = \"https://2019.ic2s2.org/posters/\"\n",
    "response = requests.get(url)\n",
    "\n",
    "soup = BeautifulSoup(response.text, \"html.parser\")\n",
    "\n",
    "researchers = soup.find_all(\"li\")\n",
    "researchers = [i.text.strip().replace(\"\\n\", \"\").replace(\"\\t\", \"\") for i in researchers if i.find(\"span\")]\n",
    "\n",
    "print(researchers)"
   ],
   "metadata": {
    "collapsed": false
   }
  },
  {
   "cell_type": "code",
   "execution_count": 9,
   "outputs": [],
   "source": [
    "d = [i.split('\\xa0')[0] for i in researchers][4:]\n",
    "d = [i.split('and') for i in d]\n",
    "d = [item for sublist in d for item in sublist]\n",
    "d = [i.split(',') for i in d]\n",
    "d = [item for sublist in d for item in sublist if item != '']\n",
    "# One last clean up for empty spaces in the end or beginnig of a word\n",
    "d = [name[1:] if name[0] == ' ' else name for name in d]\n",
    "# Do the same for the names ending with white space\n",
    "d = [name[:-1] if len(name) >1 and name[-1] == ' ' else name for name in d]\n",
    "d = list(set(d))"
   ],
   "metadata": {
    "collapsed": false
   }
  },
  {
   "cell_type": "code",
   "execution_count": 10,
   "outputs": [
    {
     "data": {
      "text/plain": "443"
     },
     "execution_count": 10,
     "metadata": {},
     "output_type": "execute_result"
    }
   ],
   "source": [
    "#Get the length of the list\n",
    "len(d)"
   ],
   "metadata": {
    "collapsed": false
   }
  },
  {
   "cell_type": "markdown",
   "source": [
    "# Part 2: Getting data from the Semantic Scholar API"
   ],
   "metadata": {
    "collapsed": false
   }
  },
  {
   "cell_type": "markdown",
   "source": [
    "First load the id's which was saved into json file, and then convert it to a dictionary. Note that if the author could not be found it was simply marked it with not found, so first that will have to be sorted out of the data."
   ],
   "metadata": {
    "collapsed": false
   }
  },
  {
   "cell_type": "code",
   "execution_count": 72,
   "outputs": [],
   "source": [
    "author_database = pd.read_json('/Users/madsandersen/CompSocialScience/02467-CSS/all_authors.json', typ='series').to_dict()"
   ],
   "metadata": {
    "collapsed": false
   }
  },
  {
   "cell_type": "markdown",
   "source": [
    "### Get the papper and the the other required entrances\n",
    "We choose to do a subset due to resource limitations. However the code demonstrates how the querying could be done, given enough time. Note that there is a 100 request limitation per 5 min, which is why a counter is initialized and incremented everytime a request is made to the server. When the limitation is reached the time module is used to make the loop wait for 5 minutes. To be on the safe side the number of requests is set to 95 and 10 seconds are added to the timer pause.\n",
    "\n",
    "Exercises which needs to be solved\n",
    "1) Share the number of authors you will use as starting point in this exercises. Add a comment clarifying how many IC2S2 editions you included and if the collaborators were included or not.\n",
    "2) Share the code you have used to solve the exercise above. (See code cell below)\n",
    "3) How long is your final Author dataframe? How long is your final Paper dataframe?\n"
   ],
   "metadata": {
    "collapsed": false
   }
  },
  {
   "cell_type": "markdown",
   "source": [
    "First of there is a query restriction on 100 queries every five minutes. So everything which is needed will be gathered in the same query, in order to save time. All the fields are stored in the fields string, which can then be inserted into the query url, using an f string.\n",
    "\n",
    "Because of this restriction a subset of the total authors list was queried for since quering for everything would require: (105,000/100)*5 =5250 minutes = 87.5 hours"
   ],
   "metadata": {
    "collapsed": false
   }
  },
  {
   "cell_type": "code",
   "execution_count": null,
   "outputs": [
    {
     "data": {
      "text/plain": "  0%|          | 0/10000 [00:00<?, ?it/s]",
      "application/vnd.jupyter.widget-view+json": {
       "version_major": 2,
       "version_minor": 0,
       "model_id": "5088a7d183d64706b9be836eb5442a1c"
      }
     },
     "metadata": {},
     "output_type": "display_data"
    }
   ],
   "source": [
    "#How many authors should be considered in the dataset\n",
    "n_authors = 10000\n",
    "# Init dataset\n",
    "data = {id: {} for id in list(author_database.keys())[:n_authors]}\n",
    "\n",
    "fields = f'name,aliases,papers.title,papers.abstract,papers.year,papers.s2FieldsOfStudy,papers.citationCount,papers.paperId,papers.externalIds,papers.authors'\n",
    "\n",
    "exception_counter = 0\n",
    "query_counter = 0\n",
    "total_queries = 0\n",
    "for id in tqdm(list(author_database.keys())[:n_authors]):\n",
    "  if id == 'not found':\n",
    "    continue\n",
    "\n",
    "  try:\n",
    "    my_url = f'https://api.semanticscholar.org/graph/v1/author/{id}?fields={fields}' #BASE_URL + VERSION + RESOURCE\n",
    "    params = {'authorId': id}\n",
    "    r = requests.get(my_url, params=params).json()\n",
    "    query_counter += 1\n",
    "    total_queries += 1\n",
    "\n",
    "    #Author_dataset\n",
    "    data[id]['name'] =  r['name']\n",
    "    data[id]['aliases'] = ','.join(r['aliases']) if r['aliases'] is not None else 'None'\n",
    "    data[id]['papers.title'] = [paper['title'] for paper in r['papers']]\n",
    "    data[id]['abstract'] = [paper['abstract'] for paper in r['papers']]\n",
    "    data[id]['papers.year'] = [paper['year'] for paper in r['papers']]\n",
    "    data[id]['papers.s2FieldsOfStudy'] = [paper['s2FieldsOfStudy'][0]['category'] if len(paper['s2FieldsOfStudy']) != 0 else None for paper in r['papers']]\n",
    "    data[id]['papers.citationCount'] = [paper['citationCount'] for paper in r['papers']]\n",
    "\n",
    "    data[id]['papers.paperId'] = [paper['paperId'] for paper in r['papers']]\n",
    "    data[id]['papers.DOI'] = [paper['externalIds']['DOI'] if 'DOI' in paper['externalIds'].keys() else 'None' for paper in r['papers']]\n",
    "    data[id]['papers.Authors'] = [paper['authors'] for paper in r['papers']]\n",
    "  except:\n",
    "    print(f\"Exception caught for author:{id}\")\n",
    "    exception_counter += 1\n",
    "    time.sleep(60*5+10)\n",
    "\n",
    "\n",
    "  if query_counter > 95:\n",
    "    time.sleep(60*5+10)\n",
    "    query_counter = 0\n",
    "\n",
    "save_path = f'data_{total_queries}.json'\n",
    "with open(save_path, 'w') as f:\n",
    "  json.dump(data, f, indent=4)"
   ],
   "metadata": {
    "collapsed": false,
    "pycharm": {
     "is_executing": true
    }
   }
  },
  {
   "cell_type": "code",
   "execution_count": 128,
   "outputs": [
    {
     "data": {
      "text/plain": "                                                               32286134    \\\nname                                                        Jonathan Zong   \naliases                                                              None   \npapers.title            [Bartleby: Procedural and Substantive Ethics i...   \nabstract                [The lack of consent or debriefing in online r...   \npapers.year             [2022, 2022, 2022, 2022, 2020, 2020, 2020, 201...   \npapers.s2FieldsOfStudy  [Psychology, Art, Art, Computer Science, Educa...   \npapers.citationCount                         [2, 0, 4, 1, 3, 19, 5, 6, 0]   \npapers.paperId          [a83becaa4816161192474f1c7c98aecbc015a374, aba...   \npapers.DOI              [10.1177/20563051221077021, 10.1109/TVCG.2022....   \npapers.Authors          [[{'authorId': '32286134', 'name': 'Jonathan Z...   \n\n                                                               145426686   \\\nname                                                         J. N. Matias   \naliases                 J Nathan Matias,J. Nathan Matias,Jorge Nathan ...   \npapers.title            [Testing Concerns about Technology's Behaviora...   \nabstract                [As public trust in technology companies has d...   \npapers.year             [2022, 2022, 2022, 2021, 2021, 2021, 2020, 202...   \npapers.s2FieldsOfStudy  [Computer Science, Education, Psychology, Comp...   \npapers.citationCount    [0, 0, 2, 9, 5, 2, 3, 2, 2, 32, 0, 0, 0, 1, 65...   \npapers.paperId          [60553c277ed864f0db1181d0da55f943e0fe2bf2, a82...   \npapers.DOI              [10.1145/3531146.3533227, 10.1038/s41562-022-0...   \npapers.Authors          [[{'authorId': '145426686', 'name': 'J. N. Mat...   \n\n                                                               46225191    \\\nname                                                         Josh Pollock   \naliases                                                              None   \npapers.title            [Animated Vega-Lite: Unifying Animation with a...   \nabstract                [We present Animated Vega-Lite, a set of exten...   \npapers.year                    [2022, 2019, 2019, 2019, 2018, 2017, None]   \npapers.s2FieldsOfStudy  [Art, Computer Science, Computer Science, Comp...   \npapers.citationCount                             [0, 6, 17, 12, 73, 0, 0]   \npapers.paperId          [aba5722bc4b2bd5c694488a431a721fa79c2256d, 16a...   \npapers.DOI              [10.1109/TVCG.2022.3209369, 10.1145/3358711.33...   \npapers.Authors          [[{'authorId': '32286134', 'name': 'Jonathan Z...   \n\n                                                               1666685427  \\\nname                                                        Dylan Wootton   \naliases                                                  Dylan R. Wootton   \npapers.title            [Animated Vega-Lite: Unifying Animation with a...   \nabstract                [We present Animated Vega-Lite, a set of exten...   \npapers.year                                [2022, 2021, 2020, 2019, None]   \npapers.s2FieldsOfStudy  [Art, Computer Science, Computer Science, Envi...   \npapers.citationCount                                     [0, 3, 18, 0, 0]   \npapers.paperId          [aba5722bc4b2bd5c694488a431a721fa79c2256d, b46...   \npapers.DOI              [10.1109/TVCG.2022.3209369, 10.1145/3411764.34...   \npapers.Authors          [[{'authorId': '32286134', 'name': 'Jonathan Z...   \n\n                                                               2795670     \\\nname                                                  Arvind Satyanarayan   \naliases                                                              None   \npapers.title            [Varv: Reprogrammable Interactive Software as ...   \nabstract                [Most modern applications are immutable and tu...   \npapers.year             [2022, 2022, 2022, 2022, 2022, 2021, 2021, 202...   \npapers.s2FieldsOfStudy  [Computer Science, Art, Art, Art, Political Sc...   \npapers.citationCount    [6, 2, 0, 4, 0, 24, 21, 5, 4, 47, 69, 4, 2, 19...   \npapers.paperId          [21aab13690c46c7da6add894bc91d1eef9b0c772, 4aa...   \npapers.DOI              [10.1145/3491102.3502064, 10.1109/TVCG.2022.32...   \npapers.Authors          [[{'authorId': '40977971', 'name': 'Marcel Bor...   \n\n                                                               2109124249  \\\nname                                                          Crystal Lee   \naliases                                                Crystal Carwin Lee   \npapers.title            [A History of Data Visualization and Graphic C...   \nabstract                [None, Current web accessibility guidelines as...   \npapers.year                          [2022, 2022, 2021, 2021, 2019, 2013]   \npapers.s2FieldsOfStudy  [Art, Art, Political Science, Sociology, Art, ...   \npapers.citationCount                                 [0, 4, 8, 69, 31, 0]   \npapers.paperId          [89529c0aa178de90a204a74ae8a6ebd933d74502, ac4...   \npapers.DOI              [None, 10.1111/cgf.14519, 10.1177/205630512110...   \npapers.Authors          [[{'authorId': '2109124249', 'name': 'Crystal ...   \n\n                                                               37249985    \\\nname                                                        Alan Lundgard   \naliases                                                              None   \npapers.title            [Rich Screen Reader Experiences for Accessible...   \nabstract                [Current web accessibility guidelines ask visu...   \npapers.year                    [2022, 2021, 2020, 2019, 2018, 2018, 2017]   \npapers.s2FieldsOfStudy  [Art, Computer Science, Law, Art, Computer Sci...   \npapers.citationCount                            [4, 21, 8, 31, 21, 13, 0]   \npapers.paperId          [ac47d785610ab432b59375f4b1c2d97379050132, 0c0...   \npapers.DOI              [10.1111/cgf.14519, 10.1109/TVCG.2021.3114770/...   \npapers.Authors          [[{'authorId': '32286134', 'name': 'Jonathan Z...   \n\n                                                               2109879475  \\\nname                                                         JiWoong Jang   \naliases                                                              None   \npapers.title            [”I Should Feel Like I’m In Control”: Understa...   \nabstract                [Autonomous navigation on wheelchairs promises...   \npapers.year                                      [2022, 2022, 2021, 2021]   \npapers.s2FieldsOfStudy    [Psychology, Art, Computer Science, Psychology]   \npapers.citationCount                                         [0, 4, 0, 8]   \npapers.paperId          [2fbf33dda19d6f937bd24152d1e59eb84ed0cb30, ac4...   \npapers.DOI              [10.1145/3517428.3550380, 10.1111/cgf.14519, 1...   \npapers.Authors          [[{'authorId': '2109879475', 'name': 'JiWoong ...   \n\n                                                               1484628813  \\\nname                                                         Daniel Hajas   \naliases                                                              None   \npapers.title            [Rich Screen Reader Experiences for Accessible...   \nabstract                [Current web accessibility guidelines ask visu...   \npapers.year                                [2022, 2020, 2020, 2020, 2020]   \npapers.s2FieldsOfStudy       [Art, Medicine, Physics, Education, Physics]   \npapers.citationCount                                     [4, 3, 6, 2, 22]   \npapers.paperId          [ac47d785610ab432b59375f4b1c2d97379050132, 309...   \npapers.DOI              [10.1111/cgf.14519, 10.1145/3334480.3375214, 1...   \npapers.Authors          [[{'authorId': '32286134', 'name': 'Jonathan Z...   \n\n                                                               2606408     \nname                                                        Douglas Zytko  \naliases                                                        Doug Zytko  \npapers.title            [Repurposing AI in Dating Apps to Augment Wome...  \nabstract                [In this paper we present emerging findings fr...  \npapers.year             [2022, 2022, 2022, 2022, 2022, 2022, 2022, 202...  \npapers.s2FieldsOfStudy  [Sociology, Computer Science, Psychology, Comp...  \npapers.citationCount    [0, 0, 1, 5, 0, 0, 0, 0, 0, 1, 0, 1, 7, 2, 11,...  \npapers.paperId          [0755a4a766ad6e888297f24a26d3e6f5f0fb7af0, 096...  \npapers.DOI              [10.1145/3500868.3559472, 10.1145/3567559, 10....  \npapers.Authors          [[{'authorId': '2190111822', 'name': 'Isha Dat...  ",
      "text/html": "<div>\n<style scoped>\n    .dataframe tbody tr th:only-of-type {\n        vertical-align: middle;\n    }\n\n    .dataframe tbody tr th {\n        vertical-align: top;\n    }\n\n    .dataframe thead th {\n        text-align: right;\n    }\n</style>\n<table border=\"1\" class=\"dataframe\">\n  <thead>\n    <tr style=\"text-align: right;\">\n      <th></th>\n      <th>32286134</th>\n      <th>145426686</th>\n      <th>46225191</th>\n      <th>1666685427</th>\n      <th>2795670</th>\n      <th>2109124249</th>\n      <th>37249985</th>\n      <th>2109879475</th>\n      <th>1484628813</th>\n      <th>2606408</th>\n    </tr>\n  </thead>\n  <tbody>\n    <tr>\n      <th>name</th>\n      <td>Jonathan Zong</td>\n      <td>J. N. Matias</td>\n      <td>Josh Pollock</td>\n      <td>Dylan Wootton</td>\n      <td>Arvind Satyanarayan</td>\n      <td>Crystal Lee</td>\n      <td>Alan Lundgard</td>\n      <td>JiWoong Jang</td>\n      <td>Daniel Hajas</td>\n      <td>Douglas Zytko</td>\n    </tr>\n    <tr>\n      <th>aliases</th>\n      <td>None</td>\n      <td>J Nathan Matias,J. Nathan Matias,Jorge Nathan ...</td>\n      <td>None</td>\n      <td>Dylan R. Wootton</td>\n      <td>None</td>\n      <td>Crystal Carwin Lee</td>\n      <td>None</td>\n      <td>None</td>\n      <td>None</td>\n      <td>Doug Zytko</td>\n    </tr>\n    <tr>\n      <th>papers.title</th>\n      <td>[Bartleby: Procedural and Substantive Ethics i...</td>\n      <td>[Testing Concerns about Technology's Behaviora...</td>\n      <td>[Animated Vega-Lite: Unifying Animation with a...</td>\n      <td>[Animated Vega-Lite: Unifying Animation with a...</td>\n      <td>[Varv: Reprogrammable Interactive Software as ...</td>\n      <td>[A History of Data Visualization and Graphic C...</td>\n      <td>[Rich Screen Reader Experiences for Accessible...</td>\n      <td>[”I Should Feel Like I’m In Control”: Understa...</td>\n      <td>[Rich Screen Reader Experiences for Accessible...</td>\n      <td>[Repurposing AI in Dating Apps to Augment Wome...</td>\n    </tr>\n    <tr>\n      <th>abstract</th>\n      <td>[The lack of consent or debriefing in online r...</td>\n      <td>[As public trust in technology companies has d...</td>\n      <td>[We present Animated Vega-Lite, a set of exten...</td>\n      <td>[We present Animated Vega-Lite, a set of exten...</td>\n      <td>[Most modern applications are immutable and tu...</td>\n      <td>[None, Current web accessibility guidelines as...</td>\n      <td>[Current web accessibility guidelines ask visu...</td>\n      <td>[Autonomous navigation on wheelchairs promises...</td>\n      <td>[Current web accessibility guidelines ask visu...</td>\n      <td>[In this paper we present emerging findings fr...</td>\n    </tr>\n    <tr>\n      <th>papers.year</th>\n      <td>[2022, 2022, 2022, 2022, 2020, 2020, 2020, 201...</td>\n      <td>[2022, 2022, 2022, 2021, 2021, 2021, 2020, 202...</td>\n      <td>[2022, 2019, 2019, 2019, 2018, 2017, None]</td>\n      <td>[2022, 2021, 2020, 2019, None]</td>\n      <td>[2022, 2022, 2022, 2022, 2022, 2021, 2021, 202...</td>\n      <td>[2022, 2022, 2021, 2021, 2019, 2013]</td>\n      <td>[2022, 2021, 2020, 2019, 2018, 2018, 2017]</td>\n      <td>[2022, 2022, 2021, 2021]</td>\n      <td>[2022, 2020, 2020, 2020, 2020]</td>\n      <td>[2022, 2022, 2022, 2022, 2022, 2022, 2022, 202...</td>\n    </tr>\n    <tr>\n      <th>papers.s2FieldsOfStudy</th>\n      <td>[Psychology, Art, Art, Computer Science, Educa...</td>\n      <td>[Computer Science, Education, Psychology, Comp...</td>\n      <td>[Art, Computer Science, Computer Science, Comp...</td>\n      <td>[Art, Computer Science, Computer Science, Envi...</td>\n      <td>[Computer Science, Art, Art, Art, Political Sc...</td>\n      <td>[Art, Art, Political Science, Sociology, Art, ...</td>\n      <td>[Art, Computer Science, Law, Art, Computer Sci...</td>\n      <td>[Psychology, Art, Computer Science, Psychology]</td>\n      <td>[Art, Medicine, Physics, Education, Physics]</td>\n      <td>[Sociology, Computer Science, Psychology, Comp...</td>\n    </tr>\n    <tr>\n      <th>papers.citationCount</th>\n      <td>[2, 0, 4, 1, 3, 19, 5, 6, 0]</td>\n      <td>[0, 0, 2, 9, 5, 2, 3, 2, 2, 32, 0, 0, 0, 1, 65...</td>\n      <td>[0, 6, 17, 12, 73, 0, 0]</td>\n      <td>[0, 3, 18, 0, 0]</td>\n      <td>[6, 2, 0, 4, 0, 24, 21, 5, 4, 47, 69, 4, 2, 19...</td>\n      <td>[0, 4, 8, 69, 31, 0]</td>\n      <td>[4, 21, 8, 31, 21, 13, 0]</td>\n      <td>[0, 4, 0, 8]</td>\n      <td>[4, 3, 6, 2, 22]</td>\n      <td>[0, 0, 1, 5, 0, 0, 0, 0, 0, 1, 0, 1, 7, 2, 11,...</td>\n    </tr>\n    <tr>\n      <th>papers.paperId</th>\n      <td>[a83becaa4816161192474f1c7c98aecbc015a374, aba...</td>\n      <td>[60553c277ed864f0db1181d0da55f943e0fe2bf2, a82...</td>\n      <td>[aba5722bc4b2bd5c694488a431a721fa79c2256d, 16a...</td>\n      <td>[aba5722bc4b2bd5c694488a431a721fa79c2256d, b46...</td>\n      <td>[21aab13690c46c7da6add894bc91d1eef9b0c772, 4aa...</td>\n      <td>[89529c0aa178de90a204a74ae8a6ebd933d74502, ac4...</td>\n      <td>[ac47d785610ab432b59375f4b1c2d97379050132, 0c0...</td>\n      <td>[2fbf33dda19d6f937bd24152d1e59eb84ed0cb30, ac4...</td>\n      <td>[ac47d785610ab432b59375f4b1c2d97379050132, 309...</td>\n      <td>[0755a4a766ad6e888297f24a26d3e6f5f0fb7af0, 096...</td>\n    </tr>\n    <tr>\n      <th>papers.DOI</th>\n      <td>[10.1177/20563051221077021, 10.1109/TVCG.2022....</td>\n      <td>[10.1145/3531146.3533227, 10.1038/s41562-022-0...</td>\n      <td>[10.1109/TVCG.2022.3209369, 10.1145/3358711.33...</td>\n      <td>[10.1109/TVCG.2022.3209369, 10.1145/3411764.34...</td>\n      <td>[10.1145/3491102.3502064, 10.1109/TVCG.2022.32...</td>\n      <td>[None, 10.1111/cgf.14519, 10.1177/205630512110...</td>\n      <td>[10.1111/cgf.14519, 10.1109/TVCG.2021.3114770/...</td>\n      <td>[10.1145/3517428.3550380, 10.1111/cgf.14519, 1...</td>\n      <td>[10.1111/cgf.14519, 10.1145/3334480.3375214, 1...</td>\n      <td>[10.1145/3500868.3559472, 10.1145/3567559, 10....</td>\n    </tr>\n    <tr>\n      <th>papers.Authors</th>\n      <td>[[{'authorId': '32286134', 'name': 'Jonathan Z...</td>\n      <td>[[{'authorId': '145426686', 'name': 'J. N. Mat...</td>\n      <td>[[{'authorId': '32286134', 'name': 'Jonathan Z...</td>\n      <td>[[{'authorId': '32286134', 'name': 'Jonathan Z...</td>\n      <td>[[{'authorId': '40977971', 'name': 'Marcel Bor...</td>\n      <td>[[{'authorId': '2109124249', 'name': 'Crystal ...</td>\n      <td>[[{'authorId': '32286134', 'name': 'Jonathan Z...</td>\n      <td>[[{'authorId': '2109879475', 'name': 'JiWoong ...</td>\n      <td>[[{'authorId': '32286134', 'name': 'Jonathan Z...</td>\n      <td>[[{'authorId': '2190111822', 'name': 'Isha Dat...</td>\n    </tr>\n  </tbody>\n</table>\n</div>"
     },
     "execution_count": 128,
     "metadata": {},
     "output_type": "execute_result"
    }
   ],
   "source": [
    "data_reloaded = pd.read_json(save_path)"
   ],
   "metadata": {
    "collapsed": false
   }
  },
  {
   "cell_type": "code",
   "execution_count": 123,
   "outputs": [],
   "source": [
    "Author_dataset = pd.DataFrame(index = list(author_database.keys())[:n_authors],columns = ['name','aliases','citationCount','field'])\n",
    "Ad_fields = ['name','aliases','citationCount','field']\n",
    "\n",
    "Paper_dataset = pd.DataFrame(columns = ['paperId','title','year','DOI','citationCount','fields','authorIds'])\n",
    "Abstract_dataset = pd.DataFrame(columns = ['paperId','abstract'])"
   ],
   "metadata": {
    "collapsed": false
   }
  },
  {
   "cell_type": "code",
   "execution_count": 124,
   "outputs": [],
   "source": [
    "for idx,id in enumerate(list(author_database.keys())[:10]):\n",
    "\n",
    "  ####Author dataset\n",
    "  Author_dataset['name'][id]= data[id]['name']\n",
    "  Author_dataset['aliases'][id]= data[id]['aliases']\n",
    "  Author_dataset['citationCount'][id]= sum(data[id]['papers.citationCount'])\n",
    "\n",
    "  #Most frequent field\n",
    "  field = max(set(data[id]['papers.s2FieldsOfStudy']), key = data[id]['papers.s2FieldsOfStudy'].count)\n",
    "  Author_dataset['field'][id] = field\n",
    "\n",
    "  #### Paper dataset\n",
    "  d = {}\n",
    "  a = {}\n",
    "  for i,paper in enumerate(data[id]['papers.paperId']):\n",
    "    d['paperId'] = paper\n",
    "    d['title'] = data[id]['papers.title']\n",
    "    d['year'] = data[id]['papers.year']\n",
    "    d['DOI'] = data[id]['papers.DOI']\n",
    "    d['citationCount'] = data[id]['papers.citationCount']\n",
    "    d['fields'] = data[id]['papers.s2FieldsOfStudy']\n",
    "    d['authorIds'] = data[id]['papers.Authors']\n",
    "    df = pd.DataFrame(d)\n",
    "    df['authorIds'] = df.apply(lambda x: [author['authorId'] for author in x['authorIds']],axis = 1)\n",
    "    Paper_dataset = pd.concat([Paper_dataset,df])\n",
    "\n",
    "    # Create the abstract data-set\n",
    "    a['paperId'] = paper\n",
    "    a['abstract'] = data[id]['abstract']\n",
    "    df1 = pd.DataFrame(a)\n",
    "    Abstract_dataset = pd.concat([Abstract_dataset,df1])"
   ],
   "metadata": {
    "collapsed": false
   }
  },
  {
   "cell_type": "code",
   "execution_count": 125,
   "outputs": [
    {
     "data": {
      "text/plain": "                                     paperId  \\\n0   a83becaa4816161192474f1c7c98aecbc015a374   \n1   a83becaa4816161192474f1c7c98aecbc015a374   \n2   a83becaa4816161192474f1c7c98aecbc015a374   \n3   a83becaa4816161192474f1c7c98aecbc015a374   \n4   a83becaa4816161192474f1c7c98aecbc015a374   \n..                                       ...   \n35  f2038bf68e6856905dc6c662848df0aee01a7f2e   \n36  f2038bf68e6856905dc6c662848df0aee01a7f2e   \n37  f2038bf68e6856905dc6c662848df0aee01a7f2e   \n38  f2038bf68e6856905dc6c662848df0aee01a7f2e   \n39  f2038bf68e6856905dc6c662848df0aee01a7f2e   \n\n                                                title    year  \\\n0   Bartleby: Procedural and Substantive Ethics in...  2022.0   \n1   Animated Vega-Lite: Unifying Animation with a ...  2022.0   \n2   Rich Screen Reader Experiences for Accessible ...  2022.0   \n3   Consent: A Research and Design Lens for Human-...  2022.0   \n4       From individual consent to collective refusal  2020.0   \n..                                                ...     ...   \n35  Enhancing Evaluation of Potential Dates Online...  2015.0   \n36   Impression Management Struggles in Online Dating  2014.0   \n37  Impression Management and Formation in Online ...  2014.0   \n38  Impression management through communication in...  2014.0   \n39  Anyone for Bowling?: Coalescing for Shared Act...  2014.0   \n\n                          DOI citationCount            fields  \\\n0   10.1177/20563051221077021             2        Psychology   \n1   10.1109/TVCG.2022.3209369             0               Art   \n2           10.1111/cgf.14519             4               Art   \n3     10.1145/3500868.3561201             1  Computer Science   \n4             10.1145/3433140             3         Education   \n..                        ...           ...               ...   \n35    10.1145/2675133.2675184            17        Psychology   \n36    10.1145/2660398.2660410            47        Psychology   \n37                       None             8          Business   \n38    10.1145/2556420.2556487            19          Business   \n39    10.1145/2660398.2660421             6          Business   \n\n                                            authorIds  \n0                               [32286134, 145426686]  \n1           [32286134, 46225191, 1666685427, 2795670]  \n2   [32286134, 2109124249, 37249985, 2109879475, 1...  \n3                     [2606408, 1666528199, 32286134]  \n4                                          [32286134]  \n..                                                ...  \n35   [2606408, 51182865, 2246337, 2961462, 144812959]  \n36                      [2606408, 2246337, 144812959]  \n37                      [2606408, 2246337, 144812959]  \n38                      [2606408, 2246337, 144812959]  \n39   [48943434, 2246337, 2606408, 1749200, 144812959]  \n\n[6626 rows x 7 columns]",
      "text/html": "<div>\n<style scoped>\n    .dataframe tbody tr th:only-of-type {\n        vertical-align: middle;\n    }\n\n    .dataframe tbody tr th {\n        vertical-align: top;\n    }\n\n    .dataframe thead th {\n        text-align: right;\n    }\n</style>\n<table border=\"1\" class=\"dataframe\">\n  <thead>\n    <tr style=\"text-align: right;\">\n      <th></th>\n      <th>paperId</th>\n      <th>title</th>\n      <th>year</th>\n      <th>DOI</th>\n      <th>citationCount</th>\n      <th>fields</th>\n      <th>authorIds</th>\n    </tr>\n  </thead>\n  <tbody>\n    <tr>\n      <th>0</th>\n      <td>a83becaa4816161192474f1c7c98aecbc015a374</td>\n      <td>Bartleby: Procedural and Substantive Ethics in...</td>\n      <td>2022.0</td>\n      <td>10.1177/20563051221077021</td>\n      <td>2</td>\n      <td>Psychology</td>\n      <td>[32286134, 145426686]</td>\n    </tr>\n    <tr>\n      <th>1</th>\n      <td>a83becaa4816161192474f1c7c98aecbc015a374</td>\n      <td>Animated Vega-Lite: Unifying Animation with a ...</td>\n      <td>2022.0</td>\n      <td>10.1109/TVCG.2022.3209369</td>\n      <td>0</td>\n      <td>Art</td>\n      <td>[32286134, 46225191, 1666685427, 2795670]</td>\n    </tr>\n    <tr>\n      <th>2</th>\n      <td>a83becaa4816161192474f1c7c98aecbc015a374</td>\n      <td>Rich Screen Reader Experiences for Accessible ...</td>\n      <td>2022.0</td>\n      <td>10.1111/cgf.14519</td>\n      <td>4</td>\n      <td>Art</td>\n      <td>[32286134, 2109124249, 37249985, 2109879475, 1...</td>\n    </tr>\n    <tr>\n      <th>3</th>\n      <td>a83becaa4816161192474f1c7c98aecbc015a374</td>\n      <td>Consent: A Research and Design Lens for Human-...</td>\n      <td>2022.0</td>\n      <td>10.1145/3500868.3561201</td>\n      <td>1</td>\n      <td>Computer Science</td>\n      <td>[2606408, 1666528199, 32286134]</td>\n    </tr>\n    <tr>\n      <th>4</th>\n      <td>a83becaa4816161192474f1c7c98aecbc015a374</td>\n      <td>From individual consent to collective refusal</td>\n      <td>2020.0</td>\n      <td>10.1145/3433140</td>\n      <td>3</td>\n      <td>Education</td>\n      <td>[32286134]</td>\n    </tr>\n    <tr>\n      <th>...</th>\n      <td>...</td>\n      <td>...</td>\n      <td>...</td>\n      <td>...</td>\n      <td>...</td>\n      <td>...</td>\n      <td>...</td>\n    </tr>\n    <tr>\n      <th>35</th>\n      <td>f2038bf68e6856905dc6c662848df0aee01a7f2e</td>\n      <td>Enhancing Evaluation of Potential Dates Online...</td>\n      <td>2015.0</td>\n      <td>10.1145/2675133.2675184</td>\n      <td>17</td>\n      <td>Psychology</td>\n      <td>[2606408, 51182865, 2246337, 2961462, 144812959]</td>\n    </tr>\n    <tr>\n      <th>36</th>\n      <td>f2038bf68e6856905dc6c662848df0aee01a7f2e</td>\n      <td>Impression Management Struggles in Online Dating</td>\n      <td>2014.0</td>\n      <td>10.1145/2660398.2660410</td>\n      <td>47</td>\n      <td>Psychology</td>\n      <td>[2606408, 2246337, 144812959]</td>\n    </tr>\n    <tr>\n      <th>37</th>\n      <td>f2038bf68e6856905dc6c662848df0aee01a7f2e</td>\n      <td>Impression Management and Formation in Online ...</td>\n      <td>2014.0</td>\n      <td>None</td>\n      <td>8</td>\n      <td>Business</td>\n      <td>[2606408, 2246337, 144812959]</td>\n    </tr>\n    <tr>\n      <th>38</th>\n      <td>f2038bf68e6856905dc6c662848df0aee01a7f2e</td>\n      <td>Impression management through communication in...</td>\n      <td>2014.0</td>\n      <td>10.1145/2556420.2556487</td>\n      <td>19</td>\n      <td>Business</td>\n      <td>[2606408, 2246337, 144812959]</td>\n    </tr>\n    <tr>\n      <th>39</th>\n      <td>f2038bf68e6856905dc6c662848df0aee01a7f2e</td>\n      <td>Anyone for Bowling?: Coalescing for Shared Act...</td>\n      <td>2014.0</td>\n      <td>10.1145/2660398.2660421</td>\n      <td>6</td>\n      <td>Business</td>\n      <td>[48943434, 2246337, 2606408, 1749200, 144812959]</td>\n    </tr>\n  </tbody>\n</table>\n<p>6626 rows × 7 columns</p>\n</div>"
     },
     "execution_count": 125,
     "metadata": {},
     "output_type": "execute_result"
    }
   ],
   "source": [
    "Paper_dataset"
   ],
   "metadata": {
    "collapsed": false
   }
  },
  {
   "cell_type": "code",
   "execution_count": 121,
   "outputs": [
    {
     "data": {
      "text/plain": "['10.1145/3500868.3559472',\n '10.1145/3567559',\n '10.48550/arXiv.2203.15120',\n '10.1145/3491101.3516506',\n 'None',\n '10.48550/arXiv.2204.00688',\n '10.48550/arXiv.2203.10398',\n 'None',\n '10.48550/arXiv.2204.00691',\n '10.1145/3492849',\n '10.1145/3500868.3559449',\n '10.1145/3500868.3561201',\n '10.1145/3449288',\n '10.1080/10447318.2021.1886486',\n 'None',\n '10.1145/3462204.3481770',\n '10.1145/3462204.3481751',\n '10.1007/978-3-030-71292-1_25',\n '10.1145/3415208',\n '10.1145/3311957.3359459',\n '10.1145/3341215.3356271',\n '10.1145/3361117',\n '10.24251/HICSS.2019.025',\n 'None',\n '10.1145/3272973.3274095',\n '10.1007/978-3-319-68213-6_5',\n '10.1145/3272973.3274096',\n '10.1145/3272973.3274097',\n '10.1145/3027063.3053267',\n '10.1145/3027063.3051134',\n '10.1145/2957276.2957287',\n '10.1145/2851581.2892482',\n '10.1145/2957276.2997030',\n '10.1145/2702613.2732905',\n '10.1145/2685553.2699335',\n '10.1145/2675133.2675184',\n '10.1145/2660398.2660410',\n 'None',\n '10.1145/2556420.2556487',\n '10.1145/2660398.2660421']"
     },
     "execution_count": 121,
     "metadata": {},
     "output_type": "execute_result"
    }
   ],
   "source": [
    "data[id]['papers.DOI']"
   ],
   "metadata": {
    "collapsed": false
   }
  },
  {
   "cell_type": "code",
   "execution_count": 120,
   "outputs": [
    {
     "data": {
      "text/plain": "0     NaN\n1     NaN\n2     NaN\n3     NaN\n4     NaN\n     ... \n35    NaN\n36    NaN\n37    NaN\n38    NaN\n39    NaN\nName: externalId.DOI, Length: 13252, dtype: object"
     },
     "execution_count": 120,
     "metadata": {},
     "output_type": "execute_result"
    }
   ],
   "source": [
    "Paper_dataset['externalId.DOI']"
   ],
   "metadata": {
    "collapsed": false
   }
  },
  {
   "cell_type": "code",
   "execution_count": 116,
   "outputs": [
    {
     "data": {
      "text/plain": "['10.1145/3500868.3559472',\n '10.1145/3567559',\n '10.48550/arXiv.2203.15120',\n '10.1145/3491101.3516506',\n 'None',\n '10.48550/arXiv.2204.00688',\n '10.48550/arXiv.2203.10398',\n 'None',\n '10.48550/arXiv.2204.00691',\n '10.1145/3492849',\n '10.1145/3500868.3559449',\n '10.1145/3500868.3561201',\n '10.1145/3449288',\n '10.1080/10447318.2021.1886486',\n 'None',\n '10.1145/3462204.3481770',\n '10.1145/3462204.3481751',\n '10.1007/978-3-030-71292-1_25',\n '10.1145/3415208',\n '10.1145/3311957.3359459',\n '10.1145/3341215.3356271',\n '10.1145/3361117',\n '10.24251/HICSS.2019.025',\n 'None',\n '10.1145/3272973.3274095',\n '10.1007/978-3-319-68213-6_5',\n '10.1145/3272973.3274096',\n '10.1145/3272973.3274097',\n '10.1145/3027063.3053267',\n '10.1145/3027063.3051134',\n '10.1145/2957276.2957287',\n '10.1145/2851581.2892482',\n '10.1145/2957276.2997030',\n '10.1145/2702613.2732905',\n '10.1145/2685553.2699335',\n '10.1145/2675133.2675184',\n '10.1145/2660398.2660410',\n 'None',\n '10.1145/2556420.2556487',\n '10.1145/2660398.2660421']"
     },
     "execution_count": 116,
     "metadata": {},
     "output_type": "execute_result"
    }
   ],
   "source": [
    "d['DOI']"
   ],
   "metadata": {
    "collapsed": false
   }
  },
  {
   "cell_type": "code",
   "execution_count": null,
   "outputs": [],
   "source": [],
   "metadata": {
    "collapsed": false
   }
  },
  {
   "cell_type": "code",
   "execution_count": null,
   "outputs": [],
   "source": [],
   "metadata": {
    "collapsed": false
   }
  },
  {
   "cell_type": "code",
   "execution_count": null,
   "outputs": [],
   "source": [],
   "metadata": {
    "collapsed": false
   }
  },
  {
   "cell_type": "code",
   "execution_count": null,
   "outputs": [],
   "source": [],
   "metadata": {
    "collapsed": false
   }
  },
  {
   "cell_type": "code",
   "execution_count": null,
   "outputs": [],
   "source": [],
   "metadata": {
    "collapsed": false
   }
  },
  {
   "cell_type": "code",
   "execution_count": 81,
   "outputs": [
    {
     "data": {
      "text/plain": "['a83becaa4816161192474f1c7c98aecbc015a374',\n 'aba5722bc4b2bd5c694488a431a721fa79c2256d',\n 'ac47d785610ab432b59375f4b1c2d97379050132',\n 'fde65235dc02a0253daa911adbb10f0a25887ff2',\n '08764a956f31ea736cb95ea01727b1bc52747770',\n '342536c7d1d0369dff1e5e0f1d5876a8dc63042c',\n 'ed13b13e317f6fba239711be728dd802d2c9047d',\n 'bbb842e20bfb66c966683ace190eb8e42058c18c',\n 'db0cd343ceb532ae48d1e0b3e701fd606d5ddfb5']"
     },
     "execution_count": 81,
     "metadata": {},
     "output_type": "execute_result"
    }
   ],
   "source": [
    "data['32286134']['papers.paperId']"
   ],
   "metadata": {
    "collapsed": false
   }
  },
  {
   "cell_type": "code",
   "execution_count": null,
   "outputs": [],
   "source": [
    "Paper_dataset = pd.DataFrame(columns = ['paperId','title','year','externalId.DOI','citationCount','fields','authorIds'])\n",
    "ids = data['32286134']['papers.paperId']\n",
    "titles = data['32286134']['papers.title']\n",
    "years = data['32286134']['papers.year']\n",
    "DOI = data['32286134']['externalId.DOI']\n",
    "citCount = data['32286134']['papers.citationCount']\n",
    "fields = data['32286134']['papers.s2FieldsOfStudy']\n"
   ],
   "metadata": {
    "collapsed": false
   }
  },
  {
   "cell_type": "code",
   "execution_count": 82,
   "outputs": [
    {
     "data": {
      "text/plain": "dict_keys(['name', 'aliases', 'papers.title', 'abstract', 'papers.year', 'papers.s2FieldsOfStudy', 'papers.citationCount', 'papers.paperId', 'papers.DOI'])"
     },
     "execution_count": 82,
     "metadata": {},
     "output_type": "execute_result"
    }
   ],
   "source": [
    "data['32286134'].keys()"
   ],
   "metadata": {
    "collapsed": false
   }
  },
  {
   "cell_type": "code",
   "execution_count": 85,
   "outputs": [
    {
     "ename": "KeyError",
     "evalue": "'papers.Authors'",
     "output_type": "error",
     "traceback": [
      "\u001B[0;31m---------------------------------------------------------------------------\u001B[0m",
      "\u001B[0;31mKeyError\u001B[0m                                  Traceback (most recent call last)",
      "Cell \u001B[0;32mIn[85], line 1\u001B[0m\n\u001B[0;32m----> 1\u001B[0m \u001B[43mdata\u001B[49m\u001B[43m[\u001B[49m\u001B[38;5;124;43m'\u001B[39;49m\u001B[38;5;124;43m32286134\u001B[39;49m\u001B[38;5;124;43m'\u001B[39;49m\u001B[43m]\u001B[49m\u001B[43m[\u001B[49m\u001B[38;5;124;43m'\u001B[39;49m\u001B[38;5;124;43mpapers.Authors\u001B[39;49m\u001B[38;5;124;43m'\u001B[39;49m\u001B[43m]\u001B[49m\n",
      "\u001B[0;31mKeyError\u001B[0m: 'papers.Authors'"
     ]
    }
   ],
   "source": [
    "data['32286134']['papers.Authors']"
   ],
   "metadata": {
    "collapsed": false
   }
  },
  {
   "cell_type": "code",
   "execution_count": 88,
   "outputs": [
    {
     "data": {
      "text/plain": "[{'paperId': 'a83becaa4816161192474f1c7c98aecbc015a374',\n  'externalIds': {'DOI': '10.1177/20563051221077021', 'CorpusId': 246887293},\n  'title': 'Bartleby: Procedural and Substantive Ethics in the Design of Research Ethics Systems',\n  'abstract': 'The lack of consent or debriefing in online research has attracted widespread public distrust. How can designers create systems to earn and maintain public trust in large-scale online research? Procedural theories inform processes that enable individuals to make decisions about their participation. Substantive theories focus on the normative judgments that researchers and participants make about specific studies in context. Informed by these theories, we designed Bartleby, a system for debriefing participants and eliciting their views about studies that involved them. We evaluated this system by using it to debrief thousands of participants in a series of observational and experimental studies on Twitter and Reddit. We find that Bartleby addresses procedural concerns by creating new opportunities for study participants to exercise autonomy. We also find that participants use Bartleby to contribute to substantive, value-driven conversations about participant voice and power. We conclude with a critical reflection on the strengths and limitations of reusable software to satisfy values from both procedural and substantive ethical theories.',\n  'year': 2022,\n  'citationCount': 2,\n  's2FieldsOfStudy': [{'category': 'Psychology', 'source': 's2-fos-model'}]},\n {'paperId': 'aba5722bc4b2bd5c694488a431a721fa79c2256d',\n  'externalIds': {'DBLP': 'journals/corr/abs-2208-03869',\n   'ArXiv': '2208.03869',\n   'DOI': '10.1109/TVCG.2022.3209369',\n   'CorpusId': 251405929,\n   'PubMed': '36215347'},\n  'title': 'Animated Vega-Lite: Unifying Animation with a Grammar of Interactive Graphics',\n  'abstract': \"We present Animated Vega-Lite, a set of extensions to Vega-Lite that model animated visualizations as time-varying data queries. In contrast to alternate approaches for specifying animated visualizations, which prize a highly expressive design space, Animated Vega-Lite prioritizes unifying animation with the language's existing abstractions for static and interactive visualizations to enable authors to smoothly move between or combine these modalities. Thus, to compose animation with static visualizations, we represent time as an encoding channel. Time encodings map a data field to animation keyframes, providing a lightweight specification for animations without interaction. To compose animation and interaction, we also represent time as an event stream; Vega-Lite selections, which provide dynamic data queries, are now driven not only by input events but by timer ticks as well. We evaluate the expressiveness of our approach through a gallery of diverse examples that demonstrate coverage over taxonomies of both interaction and animation. We also critically reflect on the conceptual affordances and limitations of our contribution by interviewing five expert developers of existing animation grammars. These reflections highlight the key motivating role of in-the-wild examples, and identify three central tradeoffs: the language design process, the types of animated transitions supported, and how the systems model keyframes.\",\n  'year': 2022,\n  'citationCount': 0,\n  's2FieldsOfStudy': [{'category': 'Art', 'source': 's2-fos-model'}]},\n {'paperId': 'ac47d785610ab432b59375f4b1c2d97379050132',\n  'externalIds': {'DBLP': 'journals/cgf/ZongLLJHS22',\n   'ArXiv': '2205.04917',\n   'DOI': '10.1111/cgf.14519',\n   'CorpusId': 248665696},\n  'title': 'Rich Screen Reader Experiences for Accessible Data Visualization',\n  'abstract': \"Current web accessibility guidelines ask visualization designers to support screen readers via basic non‐visual alternatives like textual descriptions and access to raw data tables. But charts do more than summarize data or reproduce tables; they afford interactive data exploration at varying levels of granularity—from fine‐grained datum‐by‐datum reading to skimming and surfacing high‐level trends. In response to the lack of comparable non‐visual affordances, we present a set of rich screen reader experiences for accessible data visualization and exploration. Through an iterative co‐design process, we identify three key design dimensions for expressive screen reader accessibility: structure, or how chart entities should be organized for a screen reader to traverse; navigation, or the structural, spatial, and targeted operations a user might perform to step through the structure; and, description, or the semantic content, composition, and verbosity of the screen reader's narration. We operationalize these dimensions to prototype screen‐reader‐accessible visualizations that cover a diverse range of chart types and combinations of our design dimensions. We evaluate a subset of these prototypes in a mixed‐methods study with 13 blind and visually impaired readers. Our findings demonstrate that these designs help users conceptualize data spatially, selectively attend to data of interest at different levels of granularity, and experience control and agency over their data analysis process. An accessible HTML version of this paper is available at: http://vis.csail.mit.edu/pubs/rich-screen-reader-vis-experiences.\",\n  'year': 2022,\n  'citationCount': 4,\n  's2FieldsOfStudy': [{'category': 'Art', 'source': 's2-fos-model'}]},\n {'paperId': 'fde65235dc02a0253daa911adbb10f0a25887ff2',\n  'externalIds': {'DBLP': 'conf/cscw/ZytkoIZ22',\n   'DOI': '10.1145/3500868.3561201',\n   'CorpusId': 253385755},\n  'title': 'Consent: A Research and Design Lens for Human-Computer Interaction',\n  'abstract': 'Consent has become an important concept across multiple areas within HCI/CSCW, community advocacy work, and the tech industry, for understanding social computing problems and designing safe and agentic computer-mediated communication. Recent research has studied consent in various topics, such as online-to-offline interaction and harm, data privacy and security, research ethics, and human-robot interaction. The goal of this panel is to bring together researchers and practitioners to discuss how consent has been defined and studied within HCI and adjacent fields, and how cross-field discourse around consent can inform future work that pursues safe and equitable computing. We aim to introduce consent as a multifaceted research and design lens to the HCI and CSCW community and illuminate ways that consent can contribute to better understanding or re-imagination of contemporary research interests. Lastly, the panel aims to spark cross-field communication around consent to identify latent connections across research topics and foster synergistic collaborations.',\n  'year': 2022,\n  'citationCount': 1,\n  's2FieldsOfStudy': [{'category': 'Computer Science',\n    'source': 's2-fos-model'}]},\n {'paperId': '08764a956f31ea736cb95ea01727b1bc52747770',\n  'externalIds': {'DBLP': 'journals/crossroads/Zong20',\n   'MAG': '3111747728',\n   'DOI': '10.1145/3433140',\n   'CorpusId': 229305858},\n  'title': 'From individual consent to collective refusal',\n  'abstract': 'Big tech companies have been found to misuse personal data, often collected without consent. What can the public do to change unjust collection and use of their personal data, and what role can computer scientists play in these efforts?',\n  'year': 2020,\n  'citationCount': 3,\n  's2FieldsOfStudy': [{'category': 'Education', 'source': 's2-fos-model'}]},\n {'paperId': '342536c7d1d0369dff1e5e0f1d5876a8dc63042c',\n  'externalIds': {'DBLP': 'journals/tvcg/ZongBNS21',\n   'ArXiv': '2008.09576',\n   'MAG': '3092206318',\n   'DOI': '10.1109/TVCG.2020.3030367',\n   'CorpusId': 221246085,\n   'PubMed': '33048697'},\n  'title': 'Lyra 2: Designing Interactive Visualizations by Demonstration',\n  'abstract': 'Recent graphical interfaces offer direct manipulation mechanisms for authoring visualizations, but are largely restricted to static output. To author interactive visualizations, users must instead turn to textual specification, but such approaches impose a higher technical burden. To bridge this gap, we introduce Lyra 2, a system that extends a prior visualization design environment with novel methods for authoring interaction techniques by demonstration. Users perform an interaction (e.g., button clicks, drags, or key presses) directly on the visualization they are editing. The system interprets this performance using a set of heuristics and enumerates suggestions of possible interaction designs. These heuristics account for the properties of the interaction (e.g., target and event type) as well as the visualization (e.g., mark and scale types, and multiple views). Interaction design suggestions are displayed as thumbnails; users can preview and test these suggestions, iteratively refine them through additional demonstrations, and finally apply and customize them via property inspectors. We evaluate our approach through a gallery of diverse examples, and evaluate its usability through a first-use study and via an analysis of its cognitive dimensions. We find that, in Lyra 2, interaction design by demonstration enables users to rapidly express a wide range of interactive visualizations.',\n  'year': 2020,\n  'citationCount': 19,\n  's2FieldsOfStudy': [{'category': 'Art', 'source': 's2-fos-model'},\n   {'category': 'Computer Science', 'source': 's2-fos-model'}]},\n {'paperId': 'ed13b13e317f6fba239711be728dd802d2c9047d',\n  'externalIds': {'DBLP': 'journals/corr/abs-2009-02587',\n   'MAG': '3083661273',\n   'ArXiv': '2009.02587',\n   'DOI': '10.1109/VIS47514.2020.00036',\n   'CorpusId': 221479421},\n  'title': 'Representing Real-Time Multi-User Collaboration in Visualizations',\n  'abstract': 'Establishing common ground and maintaining shared awareness amongst participants is a key challenge in collaborative visualization. For real-time collaboration, existing work has primarily focused on synchronizing constituent visualizations — an approach that makes it difficult for users to work independently, or selectively attend to their collaborators’ activity. To address this gap, we introduce a design space for representing synchronous multi-user collaboration in visualizations defined by two orthogonal axes: situatedness, or whether collaborators’ interactions are overlaid on or shown outside of a user’s view, and specificity, or whether collaborators are depicted through abstract, generic representations or through specific means customized for the given visualization. We populate this de-sign space with a variety of examples including generic and custom synchronized cursors, and user legends that collect these cursors together or reproduce collaborators’ views as thumbnails. To build common ground, users can interact with these representations by peeking to take a quick look at a collaborator’s view, tracking to follow along with a collaborator in real-time, and forking to independently explore the visualization based on a collaborator’s work. We present a reference implementation of a wrapper library that converts interactive Vega-Lite charts into collaborative visualizations. We find that our approach affords synchronous collaboration across an expressive range of visual designs and interaction techniques.',\n  'year': 2020,\n  'citationCount': 5,\n  's2FieldsOfStudy': [{'category': 'Art', 'source': 's2-fos-model'},\n   {'category': 'Computer Science', 'source': 's2-fos-model'}]},\n {'paperId': 'bbb842e20bfb66c966683ace190eb8e42058c18c',\n  'externalIds': {'DBLP': 'conf/cscw/ZongM18',\n   'MAG': '2898819687',\n   'DOI': '10.1145/3272973.3272992',\n   'CorpusId': 53215487},\n  'title': 'Automated Debriefing: Interface for Large-Scale Research Ethics',\n  'abstract': 'Debriefing is an essential research ethics procedure in non-consented research where participants are informed about their participation in research and provided with controls over their data privacy. This demonstration presents a novel system for conducting and studying debriefing in large-scale behavioral experiments online. We designed a debriefing system, with an accompanying evaluation study, which are both delivered as a web application. Participants engage with this system once data collection for an experiment has concluded. The key contributions of this project are 1) the design and implementation of the debriefing system for field experiments, and 2) an approach to empirically evaluating public perception of research procedures.',\n  'year': 2018,\n  'citationCount': 6,\n  's2FieldsOfStudy': [{'category': 'Psychology', 'source': 's2-fos-model'}]},\n {'paperId': 'db0cd343ceb532ae48d1e0b3e701fd606d5ddfb5',\n  'externalIds': {'CorpusId': 247613909},\n  'title': 'Design Spaces of Domain-Specific Languages Comparing and Contrasting Approaches in PL and HCI',\n  'abstract': 'A domain-specific language (DSL) design space describes a collection of related languages via a series of, often orthogonal, dimensions. While PL and HCI researchers have independently developed methods for working with design spaces, the communities have yet to fully benefit from each others’ insights. In pursuit of new approaches informed by both PL and HCI, we first review existing approaches researchers employ to conceptualize, develop, and use design spaces in DSL design across the two disciplines. For example, HCI researchers, when developing interfaces backed by DSLs, often treat the design process as core to their research contributions and theory-building. In PL, researchers have explored formal approaches to design spaces that help automate design space exploration and provide powerful conceptual clarity to language design tradeoffs. We then discuss areas where the two fields share common methods and highlight opportunities for researchers to combine knowledge across PL and HCI.',\n  'year': None,\n  'citationCount': 0,\n  's2FieldsOfStudy': [{'category': 'Art', 'source': 's2-fos-model'}]}]"
     },
     "execution_count": 88,
     "metadata": {},
     "output_type": "execute_result"
    }
   ],
   "source": [
    "r['papers']"
   ],
   "metadata": {
    "collapsed": false
   }
  },
  {
   "cell_type": "code",
   "execution_count": null,
   "outputs": [],
   "source": [],
   "metadata": {
    "collapsed": false
   }
  }
 ],
 "metadata": {
  "kernelspec": {
   "display_name": "Python 3 (ipykernel)",
   "language": "python",
   "name": "python3"
  },
  "language_info": {
   "codemirror_mode": {
    "name": "ipython",
    "version": 3
   },
   "file_extension": ".py",
   "mimetype": "text/x-python",
   "name": "python",
   "nbconvert_exporter": "python",
   "pygments_lexer": "ipython3",
   "version": "3.7.16"
  }
 },
 "nbformat": 4,
 "nbformat_minor": 5
}
