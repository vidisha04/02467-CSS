{
 "cells": [
  {
   "cell_type": "markdown",
   "id": "56a82182",
   "metadata": {},
   "source": [
    "GitHub: https://github.com/vidisha04/02467-CSS.git\n",
    "Group Members:\n",
    "* Vidisha Sinha: s204081\n",
    "* Mads Andersen: s204137"
   ]
  },
  {
   "cell_type": "markdown",
   "source": [
    "# Part 1 - Webscraping the 2019 poster and oral presentations\n",
    "Now we hav to scrape the two sessions both the oral and poster, at the same time the following questions will be answered:\n",
    "1) Inspect the HTML of the pages above and use web-scraping to get the set of participants in 2019. Share your code and add comments to guide us through it.\n",
    "2) How many unique researchers you got in 2019?\n",
    "3) Explain one or two decisions you took during the web-scraping exercise, for 2019 or any other year. Why did you take this choice? How might your decision impact the final number of authors?"
   ],
   "metadata": {
    "collapsed": false
   }
  },
  {
   "cell_type": "code",
   "execution_count": 1,
   "id": "234ad699",
   "metadata": {},
   "outputs": [],
   "source": [
    "#Imports\n",
    "import requests\n",
    "from bs4 import BeautifulSoup\n",
    "import pandas as pd\n",
    "import time\n",
    "from tqdm import tqdm_notebook"
   ]
  },
  {
   "cell_type": "markdown",
   "source": [
    "### Scraping the oral presentations\n",
    "For this session it can be seen from the html that each presentation is marked with the <br> tag, for finding every presentation the ``soup.findall()´´  function can be used."
   ],
   "metadata": {
    "collapsed": false
   }
  },
  {
   "cell_type": "code",
   "execution_count": 2,
   "outputs": [
    {
     "name": "stdout",
     "output_type": "stream",
     "text": [
      "[<strong>Rooms per track during main conference</strong>, ' Keynotes', ' Track A', ' Track B (except 1B on Thu)', ' Track C', ' Track D (except 1D & 2D on Thu)', ' Track E', ' Track F', ' – Thursday July 18, 11:00 – 12:30 ', <em>Chair: Ziv Epstein</em>, '11:00 – 11:15 – Jieyu Ding, Qiusi Sun, Jingwen Zhang. Classifying and Understanding the Semantic Structures of Vaccine Misinformation on Twitter', '11:15 – 11:30 – Mahmoudreza Babaei, Juhi Kulshrestha, Abhijnan Chakraborty, Elissa M. Redmiles, Meeyoung Cha, Krishna Gummadi. Analyzing Biases in Perception of Truth in News Stories and Their Implications for Fact Checking', '11:30 – 11:45 – Alexandre Bovet, Hernan Makse. Dynamics and influence of misinformation and traditional fact-based news in Twitter', '11:45 – 12:00 – Ziv Epstein, Mohsen Mosleh, Antonio Arechar, Gordon Pennycook, David Rand. Primed for accuracy: A cognitive approach to fighting misinformation on Twitter', '12:00 – 12:15 – Sunandan Chakraborty, Tarunima Prabhakar, Joyojeet Pal –', 'Dissecting Fake News: Understanding the Dynamics of False Information spread in India', ' – Thursday July 18, 11:00 – 12:30 ', <em>Chair: Milan Janosov</em>, '11:00 – 11:15 – Kangsan Lee, Jaehyuk Park, Yong-Yeol Ahn. Valuing Art: Professional vs. Algorithm', '11:15 – 11:30 – Milan Janosov, Federico Battiston, Gerardo Iñiguez, Federico Musciotto. Success and mentorship in electronic music', '11:30 – 11:45 – Sophie Cho, Michael Mauskapf. Unpacking the Ecological Dynamics of Cultural Products: Evidence from Popular Music', '11:45 – 12:00 – Susumu Nagayama, Hitoshi Mitsuhashi. Expandable and Extendable Root Concepts', '12:00 – 12:15 – Ramona Roller, Frank Schweitzer. Network regression reveals factors driving the letter communication of 16th century reformators', ' – Thursday July 18, 11:00 – 12:30 ', <em>Chair: Pietro Panzarasa </em>, '11:00 – 11:15 – Chao Min, Yi Bu, Jianjun Sun, Ying Ding. Is scientific novelty reflected in citation patterns?', '11:15 – 11:30 – Frank van der Wouden, Gianluca Carnabuci, Hyejin Youn. What lies in the “adjacent possible”? Why some knowledge combinations are more likely to drive innovation than others', '11:30 – 11:45 – George Richardson, Juan Mateos-Garcia. Detecting Innovation Through Combination', '11:45 – 12:00 – Milad Abbasiharofteh, Tom Broekel. Still in the Shadow of the Wall: the Case of the Berlin Biotech Sector', '12:00 – 12:15 – Benjamin Meindl, Morgan R. Frank, Joana Mendonça. Patents as a proxy for technological impact on the future of work', ' – Thursday July 18, 11:00 – 12:30 ', <em>Chair: Milena Tsvetkova</em>, '11:00 – 11:15 – Eszter Bokanyi, Aniko Hannak. Simulating income distribution inequalities in ride-sharing services', '11:15 – 11:30 – Tarik Roukny, Benjamin Vandermarliere, Milan van den Heuvel, Koen Schoors. The wealth origins of income mobility', '11:30 – 11:45 – Yannick Léo, Eric Fleury, Carlos Sarraute, Márton Karsai. Socioeconomic inequalities and their consequences on network formation and purchase behaviour', '11:45 – 12:00 – Jaime Oliver, Marta Rivera-Alba, Diego Pérez, Antonio Molins, Edgar Morales Ramírez, Ricardo Buera Corchón. Elasticity divergence across socioeconomic levels: evidence from Mexico', '12:00 – 12:15 – Judith Kas, Rense Corten, Arnout van de Rijt. Digital discrimination – the role of reputation systems', ' – Thursday July 18, 11:00 – 12:30 ', <em>Chair: Joris Broere</em>, '11:00 – 11:15 – Joris Broere, Vincent Buskens, Henk Stoof, Angel Sánchez. Network effects on coordination in asymmetric games', '11:15 – 11:30 – Pradip Swarnakar, Satyam Mukherjee. Dynamics of collaboration: A social network analysis of non-state actors in United Nations climate change side-event meetings', '11:30 – 11:45 – Hendrik Nunner, Chris Janssen, Wojtek Przepiorka. The role of reinforcement learning in the emergence of conventions: Simulation experiments with the volunteer’s dilemma', '11:45 – 12:00 – Yan Leng, Xiaowen Dong, Alex Pentland. Learning Network Structure in Linear Quadratic Games', '12:00 – 12:15 – Daniele Guariso, Omar Guerrero, Ulrich Matter. Uncovering Hidden Cooperation in the UNGA', ' – Thursday July 18, 11:00 – 12:30 ', <em>Chair: Robert West </em>, '11:00 – 11:15 – Joseph D. O Brien, Ioannis K. Dassios, James P. Gleeson. Spreading of Memes on Multiplex Networks', '11:15 – 11:30 – Manoel Horta Ribeiro, Kristina Gligoric, Robert West. Message Distortion in Information Cascades', '11:30 – 11:45 – Chico Camargo, Scott Hale. Null models for opinion dynamics', '11:45 – 12:00 – Chathika Gunaratne, Chathurani Senevirathna, Chathura Jayalath, Nisha Baral, William Rand, Ivan Garibay –', 'A Multi-Action Cascade Model of Conversation', '12:00 – 12:15 – Balazs Lengyel, Riccardo Di Clemente, János Kertész, Marta González. The role of geography in the complex diffusion of innovations', ' – Thursday July 18, 16:30 – 18:00 ', <em>Chair: Rense Corten</em>, '16:30 – 16:45 – Ronald Robertson, Christo Wilson, David Lazer. Fake News and Information Seeking during the 2018 U.S. Congressional Elections', '16:45 – 17:00 – Lorien Jasny, Dana Fisher, Philip Leifeld, Tim Henrichsen. Comparing Elite Attitudes on Climate Change from Multiple Data Sources: Survey, Policy Documents, and Twitter', '17:00 – 17:15 – Stiene Praet, Peter Van Aelst, David Martens. Predictive modeling on Facebook likes to gain insights in voter profiles in a multi-party system', '17:15 – 17:30 – Quinten Meertens, Arnout van Delden, Sander Scholtus, Frank Takes. Bias Correction for Predicting Election Outcomes with Social Media Data', '17:30 – 17:45 – Emre Calisir, Marco Brambilla. Analysis of On-line Debate on Long-Running Political Phenomena: the Case of the Brexit Referendum', ' – Thursday July 18, 16:30 – 18:00 ', <em>Chair: Chao Min </em>, '16:30 – 16:45 – Bedoor Alshebli, Talal Rahwan, Wei Lee Woon. The Preeminence of Ethnic Diversity in Scientific Collaboration', '16:45 – 17:00 – Aliakbar Akbaritabar, Flaminio Squazzoni. Quantitative sociology of academic work', '17:00 – 17:15 – Bedoor Alshebli, Kinga Makovi, Talal Rahwan. Age Diversity Increases Scientific Impact', '17:15 – 17:30 – Jichao Li, Yian Yin, Santo Fortunato, Dashun Wang. Nobel laureates in science revisited: Patterns of productivity, collaboration, and impact', '17:30 – 17:45 – Lu Liu, Yang Wang, Roberta Sinatra, C. Lee Giles, Chaoming Song, Dashun Wang. Hot streaks in artistic, cultural and scientific careers', ' – Thursday July 18, 16:30 – 18:00 ', <em>Chair: Kayla de la Haye</em>, '16:30 – 16:45 – Zijian Wang, Scott Hale, David Adelani, Przemyslaw Grabowicz, Timo Hartmann, Fabian Flöck, David Jurgens. Demographic Inference and Representative Population Estimates from Multilingual Social Media Data', '16:45 – 17:00 – Thomas Baudin, Robert Stelter. The Rural Exodus and the Rise of Europe', '17:00 – 17:15 – Daniel Ciganda, Nicolas Todd. Micro-level Dynamics Behind the Recuperation of Fertility at Higher Development Levels: A Computational Modelling Approach', '17:15 – 17:30 – Ravi Bhavnani, Karsten Donnay, Mirko Reul. Modeling the Subnational Risk of Acute Malnutrition in Conflict-Affected Settings', '17:30 – 17:45 – Abigail Horn, Hanno Friedrich, Kayla de la Haye. Integrating human mobility data and network models of the food supply to trace foodborne disease outbreak sources', ' – Thursday July 18, 16:30 – 18:00 ', <em>Chair: Maria Bolsinova</em>, '16:30 – 16:45 – Mohsen Mosleh, Gordon Pennycook, David Rand. Digital Fingerprints of Cognitive Reflection', '16:45 – 17:00 – No presentation: Ming Yin, Duncan Watts. Human Complex Problem Solving: The Case of Constraint Satisfaction Optimization Problems', '17:00 – 17:15 – Marco De Nadai, Angelo Cardoso, Antonio Lima, Bruno Lepri, Nuria Oliver. Apps, Places and People: strategies, limitations and trade-offs in the physical and digital worlds', '17:15 – 17:30 – Alexandra Olteanu, Fernando Diaz, Gabriella Kazai, Luke Stark, Mohamed Musbah. What Makes Automated Suggestions Problematic? A Broader Viewpoint', '17:30 – 17:45 – Maria Bolsinova, Matthieu Brinkhuis, Abe Hofman, Han van der Maas, Gunter Maris. Urning: a rating system', ' – Thursday July 18, 16:30 – 18:00 ', <em>Chair: Johannes Wachs</em>, '16:30 – 16:45 – Sanja Hajdinjak, Marcella Morris, Tyler Amos. Migration Policy Framing in Elite Discourse – Evidence from Canada and the US', '16:45 – 17:00 – Anna Shirokanova, Olga Silyutina. Shifts and Continuities in the Discourse on Internet Regulation in Russia', '17:00 – 17:15 – Johannes Wachs, Taha Yasseri, Balazs Lengyel, Janos Kertesz. Community Social Structure and Corruption', '17:15 – 17:30 – Isak Ladegaard. Open Secrecy: How Shocks and Creative Problem-Solving Brought Illegal Markets out of the Shadow', '17:30 – 17:45 – No Presentation', ' – Thursday July 18, 16:30 – 18:00 ', <em>Chair: David Schoch</em>, '16:30 – 16:45 – Anna Di Natale, David Garcia. Subcritical Social Impact and Sentiment in Twitter', '16:45 – 17:00 – Kiran Garimella, Robert West. Analyzing and Modeling Individual Impact on Social Media', '17:00 – 17:15 – Kristina Gligoric, Ashton Anderson, Robert West. Effects of Conciseness in Social Media', '17:15 – 17:30 – Felix Victor Münch, Ben Thies, Cornelius Puschmann, Axel Bruns. Mining Influencers in the German Twittersphere', '17:30 – 17:45 – Jan Overgoor, Bogdan State, Lada Adamic. The structure of U.S. college networks on Facebook', ' – Friday July 19, 10:50 – 12:20 ', <em>Chair: Sandra Gonzalez-Bailon</em>, '10:50 – 11:05 – Jisun An, Gianmarco De Francisci Morales, Haewoon Kwak, Yelena Mejova. Modeling Gun Culture in United States: Demographics, Networks, Ideologies', '11:05 – 11:20 – Adam Pah, John Hagan, Luis Amaral. Findings of systematic mass shooting imitation in American schools are an aggregation and data artifact', '11:20 – 11:35 – Johannes Gruber. Troublemakers in the streets? A framing analysis of newspaper coverage of protests in the UK 1992-2016', '11:35 – 11:50 – Erdem Yörük, Ali Hürriyetoğlu, Çağrı Yoltar, Fırat Duruşan. Validity and Generalizability in Automated Protest Information Collection', '11:50 – 12:05 – No Presentation', ' – Friday July 19, 10:50 – 12:20 ', <em>Chair: Duncan Watts</em>, '10:50 – 11:05 – Amit Sharma, Jake Hofman, Duncan Watts. Replication and reliability in computational social science', '11:05 – 11:20 – No presentation: Youyou Wu, Yang Yang, Brian Uzzi. A Machine and Human Intelligence Approach to the Replication Problem in Science', '11:20 – 11:35 – Forough Poursabzi-Sangdeh, Dan Goldstein, Jake Hofman, Jennifer Wortman Vaughan, Hanna Wallach. Manipulating and Measuring Model Interpretability', '11:35 – 11:50 – Jake Hofman, Dan Goldstein, Jessica Hullman. The effect of (not) presenting effect sizes: How the standard way of presenting scientific results leads to overestimation of treatment effects', '11:50 – 12:05 – Chung-Hong Chan, Joseph Bajjalieh, Loretta Auvil, Hartmut Wessler,Scott Althaus, Kasper Welbers, Wouter van Atteveldt. Using ‘off-the-shelf’ sentiment dictionaries without revalidation: a p-hacking experiment', ' – Friday July 19, 10:50 – 12:20 ', <em>Chair: Rense Corten</em>, '10:50 – 11:05 – Ching Jin, Chaoming Song, Johannes Bjelland, Geoffrey Canright, Dashun Wang. Emergence of Scaling in Complex Substitutive Systems', '11:05 – 11:20 – Yohsuke Murase, Janos Török, Hang-Hyun Jo, Kimmo Kaski, Janos Kertesz. Agent Based Modeling of the Network of Social Interactions', '11:20 – 11:35 – Alexandru-Ionut Babeanu, Jorinde van de Vis, Diego Garlaschelli. When cultural dynamics meets the real world: the reduced relevance of social influence simulations', '11:35 – 11:50 – Ivan Garibay, Madeline Schiappa, Georgios Anagnostopoulos, Christina Bouwens, Stephen M. Fiore, Heather Keathley, Alexander Mantzaris, John T. Murphy, William Rand, Anastasia Salter, Mel Stanfill, Gita Sukthankar, Nisha Baral, Anamaria Berea, Chathika Gunaratne , Neda B. Hajiakhoond , Gabriel Fair , Jasser Jasser, Chathura Jayalath, Ece Mutlu, Olivia Newton, Amirarsalan Rajabi, Samaneh Saadat, Steve R. Scheinert, Chathurani Senevirathna, Rachel Winter, Xi Zhang. Deep Agent: Computational Social Science Centered Simulation of Online Information Environments', '11:50 – 12:05 – Qiusi Sun, Martin Hilbert. A Computational Mechanics Approach to Trolling and its Contagion', ' – Friday July 19, 10:50 – 12:20 ', <em>Chair: David Rozado</em>, '10:50 – 11:05 – Dimitrios Milioris. Document Clustering via Joint Complexity', '11:05 – 11:20 – Marc-Etienne Brunet, Ashton Anderson, Richard Zemel. Investigating the Composition of Documents Affecting Bias in Word Embeddings', '11:20 – 11:35 – Philippa Shoemark, Farhana Ferdousi Liza, Scott Hale, Dong Nguyen, Barbara McGillivray. Systematic Comparison of Semantic Change Detection Approaches with Word Embeddings', '11:35 – 11:50 – Zoltán Kmetty, Júlia Koltai, Tamás Rudas. The presence of social structure in online texts based on word embedding NLP models', '11:50 – 12:05 – David Rozado. Using word embeddings to analyze how universities conceptualize the term “diversity” in their online institutional presence', ' – Friday July 19, 10:50 – 12:20 ', <em>Chair: Morgan Frank</em>, '10:50 – 11:05 – Lukas Fervers, Janina Beckmann, Joachim Piepenburg, Marita Jacob. Pull out all the stops: Combining survey and field experiment with machine learning methods to analyse the role of risk aversion for occuptional choice.', '11:05 – 11:20 – Takanori Nishida, Yoshiki Ishikawa. Dynamic Network Signatures of Job Change: Evidence from a Large Business Social Network', '11:20 – 11:35 – Esteban Moro, Morgan Frank, Alex Rutherford, Manuel Cebrian, Iyad Rahwan. Universal resilience of labor markets', '11:35 – 11:50 – Hee Youn Kwon, Lijun Sun, Morgan Frank, Hyejin Youn, Cesar Hidalgo, Iyad Rahwan. Industrial Topics in Urban Labor System', '11:50 – 12:05 – Morgan Frank, Esteban Moro, Alex Rutherford, Iyad Rahwan –', 'The hidden constraints on worker mobility: how workplace skills determine a worker’s next move', ' – Friday July 19, 10:50 – 12:20 ', <em>Chair: Milena Tsvetkova </em>, '10:50 – 11:05 – Christos Nicolaides, Dean Eckles. Social Influence and Habits in Exercise: A Field Experiment', '11:05 – 11:20 – William Cai, Johan Ugander. Experience-Driven Peer Effects: Evidence from a Large Scale Natural Experiment', '11:20 – 11:35 – Abhishek Samantray,Massimo Riccaboni. Peer influence of production and consumption behaviour in an online social network of collective learning', '11:35 – 11:50 – Yan Leng, Tara Sowrirajan, Alex Pentland. Measuring heterogeneous social influence within and across homophilous communities', '11:50 – 12:05 – Johan Koskinen, Galina Daraganova –', 'Bayesian Analysis of Social Influence', ' – Friday July 19, 16:30 – 18:00 ', <em>Chair: Rebekah Tromble</em>, '16:30 – 16:45 – Philipp Lorenz-Spreen, Bjarke Mørch Mønsted, Philipp Hövel, Sune Lehmann. The acceleration of collective attention', '16:45 – 17:00 – Cristian Candia Vallejos, Cristian Jara Figueroa, Carlos Rodriguez Sickert, Albert Laszlo Barabasi, Cesar Hidalgo. The Universal Decay of Collective Memory and Attention', '17:00 – 17:15 – Rebekah Tromble, Dong Nguyen. A New Dataset for Evaluating the Quality of Online News', '17:15 – 17:30 – Charles Howland, Duncan Watts, David Rothschild, Marcel Wittich, Jennifer Allen, Melissa Ellamil, Markus Mobius. The Invisible Gorilla: TV news consumption vastly outweighs online for most Americans', '17:30 – 17:45 – Subhayan Mukerjee. Networked News Reading Publics: Using Networks to Understand News Consumption in India', ' – Friday July 19, 16:30 – 18:00 ', <em>Chair: Ridhi Kashyap </em>, '16:30 – 16:45 – Stefan Wojcik, Shawnna Mullenax. Looks Can Be Confirming: The Effects of Gendered Candidate Appearance on Vote Choice', '16:45 – 17:00 – Anna May, Aniko Hannak, Gabor Bekes. Dissecting the Gender Gap in Entrepreneurial Ambitions and Success', '17:00 – 17:15 – Peter Barbrook-Johnson, Andrew King, Sait Bayrakdar. An agent-based model of LGBTQI workplace inequality', '17:15 – 17:30 – Ridhi Kashyap, Florianne Verkroost, Reham Al Tamime, Masoomali Fatehkia, Ingmar Weber. Measuring global gender inequality indicators with large-scale online advertising data', '17:30 – 17:45 – Pasquale De Meo, Iacopo Pozzana, Ylli Prifti, Alessandro Provetti. The dynamics of recommendation in high-trust personal care services', ' – Friday July 19, 16:30 – 18:00 ', <em>Chair: Kirk Bansak</em>, '16:30 – 16:45 – Theresa Gessler, Johannes Wachs, Gergő Tóth. No country for asylum seekers? How short-term exposure to refugees influences attitudes and voting behavior in Hungary', '16:45 – 17:00 – Jaehyuk Park, Ian Wood, Yizhi Jing, Azadeh Nematzadeh, Souvik Ghosh, Michael Conover, Yong-Yeol Ahn. Global labor flow network reveals the hierarchical organization and dynamics of geo-industrial clusters inthe world economy', '17:00 – 17:15 – Laszlo Lorincz, Brigitta Németh. Network effects in internal migration', '17:15 – 17:30 – No presentation (cancelled). Elizabeth Dekeyser – Local governments and Native Attitudes Toward Immigration', '17:30 – 17:45 – Yerka Freire-Vidal, Eduardo Graells-Garrido. Characterization of Local Attitudes Toward Immigration Using Social Media', ' – Friday July 19, 16:30 – 18:00 ', <em>Chair: Henry Smart III</em>, '16:30 – 16:45 – Alejandro Noriega Campero, Michiel Bakker, Bernardo Garcia Bulle, Alex Pentland. Active Fairness in Algorithmic Decision-Making', '16:45 – 17:00 – Lisa Merten, Nadia Metoui, Mykola Makhortykh, Damian Trilling, Judith Moeller.\\xa0', 'News won’t find me? Exploring potential digital inequalities in social media news use', '17:00 – 17:15 – Daniele Romanini, Sune Lehmann Jørgensen, Mikko Kivelä. Privacy and Anonymization of Neighborhoods in Social Networks', '17:15 – 17:30 – Marcin Waniek, Kai Zhou, Yevgeniy Vorobeychik, Esteban Moro, Tomasz P. Michalak, Talal Rahwan. Individuals Can Hide Their Own Relationships from Link Prediction Algorithms', '17:30 – 17:45 – Henry Smart Iii. Operationalizing a Conceptual Model of Colorism in Local Policing', ' – Friday July 19, 16:30 – 18:00 ', <em>Chair: Johan Koskinen</em>, '16:30 – 16:45 – Telmo Menezes, Camille Roth. Families of Generative Processes for Social Networks', '16:45 – 17:00 – George Vega Yon, Kayla de la Haye. Exact Statistics and Semiparametric Tests for Small Network Data', '17:00 – 17:15 – Vincent Antonio Traag, Ludo Waltman, Nees Jan Van Eck. From Louvain to Leiden: guaranteeing well-connected communities', '17:15 – 17:30 – Edwin de Jonge, Jan van de Laan. Overlap in a large and real co-worker, family and neighbor network', '17:30 – 17:45 – Luca Maria Aiello, Sebastian Deri, Jérémie Rappaz, Daniele Quercia. The Human Perception of Social Relationships', ' – Friday July 19, 16:30 – 18:00 ', <em>Chair: Rense Corten</em>, '16:30 – 16:45 – Lushi Chen, Walid Magdy, Maria Wolters. Online Community Engagement when Talking About Infidelity: The Case of Reddit', '16:45 – 17:00 – Isaac Waller, Ashton Anderson. Identifying the Cultural Geometry of Online Communities', '17:00 – 17:15 – Daniel Larremore, Swapnil Gavade, Elizabeth Bruch. Structured Hierarchy in Online Dating Networks: 20,000 Leagues Under the City', '17:15 – 17:30 – Martin Hilbert, David Darmon – Patterns of Algorithmification: How Dumb and Predictable Bots Make Organization More Complex and Unpredictable', '17:30 – 17:45 – Nikolas Zöller, Jonathan H. Morgan, Tobias Schröder. Group interaction on Github: a typology', ' – Saturday July 20, 10:50 – 12:20 ', <em>Chair: David Schoch </em>, '10:50 – 11:05 – Subhayan Mukerjee, Kokil Jaidka, Yphtach Lelkes. Echo Chambers and Affective Polarization: A Twitter Field Experiment', '11:05 – 11:20 – Pei Zhou, Yupeng Gu, Mason A. Porter, Yizhou Sun. Automated Detection of Politically-Polarized Words in Online Discussions', '11:20 – 11:35 – David Schoch. Analyzing Political Engagement on Reddit: From left vs. far-left to left vs. far-right', '11:35 – 11:50 – Uma Maheswari Gollapudi, Rahul Arulkumaran, Manikumar Perla, Sai Hitesh Jonnalagadda, Dr. Amitava Das, Sunny Rai. Understanding User Vulnerability Towards Radicalization On Twitter', '11:50 – 12:05 – Marco Schmitt, Alina Vogelgesang, Stella Neumann, Oliver Hohlfeldt, Jennifer Fest, Helge Reelfs. Discerning context from the temporal analysis of polarized online networks –The Case of Twitter on #chemnitz', ' – Saturday July 20, 10:50 – 12:20 ', <em>Chair: Bedoor AlShebli </em>, '10:50 – 11:05 – (Moved to 3D Text Analysis) Ivan Smirnov. When magic outperforms horoscopes: predicting students’ academic performance from their short texts on social media', '11:05 – 11:20 – Cristian Candia Vallejos, Sara Encanaçao, Flavio Pinheiro –', 'The Higher Education Space, Connecting Degree Programs from Individuals’ Choices', '11:20 – 11:35 – Alejandro Espinosa-Rada. Micro-explanations for multilevel scientific networks: A stochastic actor-oriented model in a scientific discipline', '11:35 – 11:50 – Ching Jin, Binglu Wang, Chaoming Song, Johannes Bjelland, Geoffrey Canright, Brian Uzzi, Dashun Wang. Preferential Abandonment induces Structural Collapse in Robust Networks: Evidence from Scientific Fields and Technology Products', '11:50 – 12:05 – Yian Yin, Yang Wang, James Evans, Dashun Wang. Quantifying Dynamics of Failures across Science, Startups, and Security', ' – Saturday July 20, 10:50 – 12:20 ', <em>Chair: Aniko Hannak </em>, '10:50 – 11:05 – Anna May, Johannes Wachs, Aniko Hannak. Gender Differences in Participation and Reward on Stack Overflow', '11:05 – 11:20 – Muyang Li, Zhifan Luo. Can New Media Become the ‘New Equalizer’?: Evaluate Social Media’s Impact on Gender Stereotype in China', '11:20 – 11:35 – Alina Arseniev-Koehler. Gender Equal or Gender Neutral? Gender Connotations in Gender Fair Language', '11:35 – 11:50 – Petter Törnberg. Gender advertising on Instagram: Studying gender performance through Big Data photographs', '11:50 – 12:05 – Adam Hughes, Onyi Lam, Stefan Wojcik. Auditing Gender Bias in Image Search Algorithms', ' – Saturday July 20, 10:50 – 12:20 ', <em>Chair: Milena Tsvetkova</em>, '10:50 – 11:05 – Milena Tsvetkova, Oana Vuculescu, Claudia Wagner. The Effect of Visibility of Endowment Heterogeneity and Wealth on Inequality', '11:05 – 11:20 – Yuan Yuan, Dean Eckles, Alex Pentland. Does Prosocial Contagion Increase Inequality? A Large-Scale Online Field Experiment', '11:20 – 11:35 – Fabrizio Germano, Gomez Vicenç, Gael Le Mens. The Few-get-richer: A Surprising Consequence of Popularity-based Rankings', '11:35 – 11:50 – Sandro Lera, Nate Dwyer, Alex Pentland. Fair, Stable Exchange Networks through Quenched Merchant Location and Idiosyncratic Trading Costs', '11:50 – 12:05 – Andreia Sofia Teixeira, Francisco C. Santos, Alexandre P Francisco, Fernando P. Santos. For a fair world, which nodes should have the last word in multiplayer ultimatum bargaining?', ' – Saturday July 20, 10:50 – 12:20 ', <em>Chair: Rense Corten</em>, '10:50 – 11:05 – Abdullah Almaatouq, Ming Yin, Duncan Watts –', 'Optimal Team Construction for a Complex Task', '11:05 – 11:20 – Jeremy Burke, Ramon Gras, Oren Lederman, Sandy Pentland, Fiona Murray. Impact of Architectural Space Typologies and Human Interaction Patterns on the Performance of Startup Teams operating in Entrepreneurship Incubator Centers: The Case of MIT DeltaV Program at the MIT Martin Trust Center', '11:20 – 11:35 – Abigail Jacobs, Duncan Watts. When does network structure matter? A comparative study of informal network structure in firms', '11:35 – 11:50 – Andrea Cavicchini. The external influences on organizational culture: CEO awards and biased perceptions of organizational culture', '11:50 – 12:05 – Kyriacos Vitalis, Christos Nicolaides, George Pallis, Dimosthenis Stefanidis, Nicos Nicolaou, Marios Dikaiakos. The role of online social networking on founders’ economic success', ' – Saturday July 20, 10:50 – 12:20 ', <em>Chair: Kayla de la Haye</em>, '10:50 – 11:05 – Adina Nerghes, Ju-Sung Lee. A socio-semantic study of positions and perspectives on the European refugee crisis in Twitter', '11:05 – 11:20 – Aleksandra Nenko, Marina Petrova. Emotional Network of the City Public Space: a Framework for Research and Evidence based on PPGIS Data', '11:20 – 11:35 – Bernard Koch, Daniele Silvestro, Jacob G. Foster. The Birth and Death of Cultural Things: Explaining Cultural Change Through Bayesian Analysis of Diversification Rates', '11:35 – 11:50 – Nina Savela, David Garcia, Max Pellert, Atte Oksanen. The influence of social context and terminology on emotions expressed in robot-related social media conversations', '11:50 – 12:05 – Marijn ten Thij, Johan Bollen, Luis M. Rocha. Detecting eigenmoods in individual human emotions.', ' – Saturday July 20, 13:30 – 15:00 ', <em>Chair: David Garcia </em>, '13:30 – 13:45 – Flavio Pinheiro, Vítor V. Vasconcelos, Simon A. Levin. From Consensus to Polarization of Opinions in Complex Contagion', '13:45 – 14:00 – Simon Schweighofer, Frank Schweitzer, David Garcia. A Balance Model of Opinion Hyperpolarization', '14:00 – 14:15 – Fredrik Jansson, Pontus Strimling, Irina Vartanova, Kimmo Eriksson. Moral Foundations and Opinion Change', '14:15 – 14:30 – Akira Ishii, Yasuko Kawahata. New opinion dynamics theory considering trust and distrust in human relations and mass media effects', '14:30 – 14:45 – Samin Aref, Zachary Neal. Analyzing the impact of polarization and bipartisanship on legislative effectiveness through balance and partitioning of signed networks', ' – Saturday July 20, 13:30 – 15:00 ', <em>Chair: Dashun Wang </em>, '13:30 – 13:45 – Riccardo Gallotti, Manlio De Domenico. Collective effects of individual decisions – the case of the Nobel Prize', '13:45 – 14:00 – Ching Jin, Yifang Ma, Brian Uzzi. The Midas Touch: Quantifying the Impact of Awards on Scientific Developments', '14:00 – 14:15 – Ali Faqeeh, Filippo Radicchi, James Gleeson. Which cited papers are more important to a manuscript? Analysis of citation patterns in open access manuscripts', '14:15 – 14:30 – Lovro Šubelj, Ludo Waltman, Vincent Antonio Traag, Nees Jan Van Eck. Intermediacy of publications', '14:30 – 14:45 – Shubhanshu Mishra, Brent D. Fegley, Jana Diesner, Vetle I. Torvik. Self-citation is the hallmark of productive authors, of any gender', ' – Saturday July 20, 13:30 – 15:00 ', <em>Chair: Scott Hale</em>, '13:30 – 13:45 – Chico Camargo, Jonathan Bright, Scott Hale. Diagnosing the Performance of Human Mobility Models Using Volunteered Geographic Information', '13:45 – 14:00 – Christa Brelsford, Rudy Arthur, Hywel Williams. Regional Delineation from Twitter', '14:00 – 14:15 – Andrea Ballatore, Alexandra Pang, Iacopo Pozzana, Ylli Prifti, Alessandro Provetti. Geo-referencing as a connector between user reviews and urban environment quality', '14:15 – 14:30 – Yifan Qian, Luca Verginer, Massimo Riccaboni, Pietro Panzarasa –', 'Measuring the Social Diversity of Cities in Mobility and Scientific Collaboration Networks', '14:30 – 14:45 – Lisette Espín-Noboa, Florian Lemmerich, Simon Walk, Markus Strohmaier, Mark Musen. HopRank: How Semantic Structure Influences Teleportation in PageRank', ' – Saturday July 20, 13:30 – 15:00 ', <em>Chair: Rense Corten</em>, '13:30 – 13:45 – Arnout van de Rijt, Vincenz Frey. Social Influence Undermines the Wisdom of the Crowd in Sequential Decision-Making', '13:45 – 14:00 – Jesse Shore, Alice Jang, Ethan Bernstein. Social network centralization and collective intelligence: a randomized experiment', '14:00 – 14:15 – Kirill Martynov, Kiran Garimella, Robert West. Crowdsourced Estimation of Human Height and Weight', '14:15 – 14:30 – Niccolo Pescetelli, Alex Rutherford, Iyad Rahwan. Divide and Forecast: When is Diversity Good for Collective Intelligence?', '14:30 – 14:45 – Gian Maria Campedelli. On Terrorism Memory and Predictability via Graph-Derived Multivariate Time Series: Integrating Meta-Networks and Deep Learning', ' – Saturday July 20, 13:30 – 15:00 ', <em>Chair: Ashton Anderson</em>, '13:30 – 13:45 – Gabriela Molina León, Hendrik Heuer, Andreas Breiter. Co-creation in Computational Social Science: Lessons learned', '13:45 – 14:00 – George Lifchits, Ashton Anderson, Jake Hofman, Daniel Goldstein, Duncan Watts. The Importance of Studying Failures When Predicting Success', '14:00 – 14:15 – Jakob Jünger. A brief history of APIs. How do social media providers shape the opportunities and limitations of online research?', '14:15 – 14:30 – Aleksandra Urman, Clara Christner, Silke Adam, Michaela Maier. Online tracking tools for research purposes: A critical review of existing approaches', '14:30 – 14:45 – Sicheng Dai, Márton Karsai, Hélène Bouchet, Eric Fleury, Jean-Pierre Chevrot, Aurelie Nardy. Interaction reconstruction methods for large-scale RFID social experiments', '14:45 – 15:00 – Justin Chun-Ting Ho –', ' – Saturday July 20, 13:30 – 15:00 ', <em>Chair: Eelke Heemskerk</em>, '13:30 – 13:45 – No presentation: Eelke Heemskerk, Dafne van Kuppevelt, Frank Takes.\\xa0', 'Community Structure Dynamics as Early Warning Signals for Corporate Elite (Dis)Integration', '13:45 – 14:00 – Takayuki Mizuno, Mitsuhiro Odaka. Indirect dominance detection on a global shareholding network', '14:00 – 14:15 – Dieter Wang. Extracting mutual fund manager tastes using collaborative filtering methods', '14:15 – 14:30 – Javier Garcia-Bernardo. Now You See Me: Geography of professional tax services', '14:30 – 14:45 – Simone Centellegher, Giovanna Miritello, Daniel Villatoro, Devyani Parameshwar, Bruno Lepri, Nuria Oliver. Understanding and predicting Mobile Money adoption and use']\n"
     ]
    }
   ],
   "source": [
    "url = \"https://2019.ic2s2.org/oral-presentations/\"\n",
    "response = requests.get(url)\n",
    "\n",
    "soup = BeautifulSoup(response.text, \"html.parser\")\n",
    "\n",
    "researchers = soup.find_all(\"br\")\n",
    "researchers = [i.previous_sibling for i in researchers]\n",
    "\n",
    "print(researchers)\n",
    "researchers = researchers[9:] #Some tags in the beginning are included which can simply be cut out"
   ],
   "metadata": {
    "collapsed": false
   }
  },
  {
   "cell_type": "markdown",
   "source": [
    "Now some formatting have to be doen by splitting on punctuations \".\" and dashes \"-\". Also in the last line of the code block we have to go from list of lists to just one list, simutaniously one can remove any whitespaces that may occur in befor each author."
   ],
   "metadata": {
    "collapsed": false
   }
  },
  {
   "cell_type": "code",
   "execution_count": 3,
   "outputs": [],
   "source": [
    "d = [str(i).split('.') for i in researchers]\n",
    "d = [i[0] for i in d]\n",
    "d = [i.split(' – ') for i in d]\n",
    "\n",
    "dt = []\n",
    "for i in d:\n",
    "  for j in i:\n",
    "    if ':' not in j and j != '':\n",
    "      dt.append(j)\n",
    "\n",
    "d = [i.split(',') for i in dt]\n",
    "d = [item[1:] if item[0] == ' ' else item for sublist in d for item in sublist]\n",
    "d = list(set(d)) # In order to remove duplicates a set of the list can be used"
   ],
   "metadata": {
    "collapsed": false
   }
  },
  {
   "cell_type": "code",
   "execution_count": 4,
   "outputs": [
    {
     "data": {
      "text/plain": "477"
     },
     "execution_count": 4,
     "metadata": {},
     "output_type": "execute_result"
    }
   ],
   "source": [
    "len(d) #Check the length of the author list"
   ],
   "metadata": {
    "collapsed": false
   }
  },
  {
   "cell_type": "markdown",
   "source": [
    "Now check if it looks right. We see that some titles are in the author data-set, because of this we can make the assumption that if any \"author-name\" is longer than 4 words we take it as a title."
   ],
   "metadata": {
    "collapsed": false
   }
  },
  {
   "cell_type": "code",
   "execution_count": 5,
   "outputs": [],
   "source": [
    "oral_presenters = d.copy()"
   ],
   "metadata": {
    "collapsed": false
   }
  },
  {
   "cell_type": "code",
   "execution_count": 6,
   "outputs": [],
   "source": [
    "name_length = lambda x: len(x.split(' '))\n",
    "\n",
    "oral_presenters = [name for name in oral_presenters if name_length(name) < 4]"
   ],
   "metadata": {
    "collapsed": false
   }
  },
  {
   "cell_type": "markdown",
   "source": [
    "Now check if the list again"
   ],
   "metadata": {
    "collapsed": false
   }
  },
  {
   "cell_type": "code",
   "execution_count": 7,
   "outputs": [
    {
     "data": {
      "text/plain": "['Madeline Schiappa',\n 'Daniel Ciganda',\n 'Manuel Cebrian',\n 'David Lazer',\n 'Frank Schweitzer',\n 'Jake Hofman',\n 'Satyam Mukherjee',\n 'Milena Tsvetkova',\n 'Eduardo Graells-Garrido',\n 'Alexandre Bovet',\n 'Gerardo Iñiguez',\n 'Marta González',\n 'Joseph D',\n 'Rudy Arthur',\n 'Dean Eckles',\n 'Ylli Prifti',\n 'Ben Thies',\n 'Riccardo Gallotti',\n 'Gian Maria Campedelli',\n 'Nisha Baral',\n 'David Rozado',\n 'Vincent Buskens',\n 'Angel Sánchez',\n 'Erdem Yörük',\n 'Sara Encanaçao',\n 'Sophie Cho',\n 'Sune Lehmann Jørgensen',\n 'Nate Dwyer',\n 'Andreia Sofia Teixeira',\n 'Ian Wood',\n 'Ludo Waltman',\n 'Abhijnan Chakraborty',\n 'Amit Sharma',\n 'Eric Fleury',\n 'James Evans',\n 'Yoshiki Ishikawa',\n 'Gabor Bekes',\n 'Jieyu Ding',\n 'Nicos Nicolaou',\n 'Isaac Waller',\n 'Anna Di Natale',\n 'Kiran Garimella',\n 'Elissa M',\n 'C',\n 'Philipp Lorenz-Spreen',\n 'Tarik Roukny',\n 'Bernardo Garcia Bulle',\n 'Johan Bollen',\n 'Elizabeth Bruch',\n 'Cesar Hidalgo',\n 'Joris Broere',\n 'Qiusi Sun',\n 'Przemyslaw Grabowicz',\n 'Helge Reelfs',\n 'Gianluca Carnabuci',\n 'Wojtek Przepiorka',\n 'Timo Hartmann',\n 'Chathura Jayalath',\n 'Luke Stark',\n 'Max Pellert',\n 'Çağrı Yoltar',\n 'Samin Aref',\n 'Mykola Makhortykh',\n 'Takanori Nishida',\n 'Juan Mateos-Garcia',\n 'Antonio Lima',\n 'Felix Victor Münch',\n 'Akira Ishii',\n 'Pradip Swarnakar',\n 'Tarunima Prabhakar',\n 'David Martens',\n 'Sebastian Deri',\n 'Sunandan Chakraborty',\n 'Michael Conover',\n 'Milad Abbasiharofteh',\n 'Eszter Bokanyi',\n 'Kai Zhou',\n 'Ming Yin',\n 'Daniele Silvestro',\n 'Loretta Auvil',\n 'James Gleeson',\n 'Souvik Ghosh',\n 'George Lifchits',\n 'Scott Althaus',\n 'Philippa Shoemark',\n 'Jonathan Bright',\n 'Luca Verginer',\n 'Ramon Gras',\n 'Aurelie Nardy',\n 'Roberta Sinatra',\n 'Santo Fortunato',\n 'Abdullah Almaatouq',\n 'David Jurgens',\n 'Pietro Panzarasa –',\n 'Sander Scholtus',\n 'Andrea Cavicchini',\n 'Omar Guerrero',\n 'Fabian Flöck',\n 'Giovanna Miritello',\n 'Mirko Reul',\n 'Hanno Friedrich',\n 'Anna Shirokanova',\n 'Esteban Moro',\n 'Swapnil Gavade',\n 'Yelena Mejova',\n 'Lisette Espín-Noboa',\n 'Yerka Freire-Vidal',\n 'William Rand',\n 'Wei Lee Woon',\n 'Alessandro Provetti',\n 'Richard Zemel',\n 'Aniko Hannak',\n 'Fiona Murray',\n 'Telmo Menezes',\n 'Marc-Etienne Brunet',\n 'Riccardo Di Clemente',\n 'Luca Maria Aiello',\n 'Kirill Martynov',\n 'Benjamin Vandermarliere',\n 'Morgan R',\n 'Christo Wilson',\n 'Ulrich Matter',\n 'Jakob Jünger',\n 'Yannick Léo',\n 'Dashun Wang',\n 'Alina Arseniev-Koehler',\n 'Devyani Parameshwar',\n 'Abhishek Samantray',\n 'Yifang Ma',\n 'Mohamed Musbah',\n 'Ingmar Weber',\n 'Vincenz Frey',\n 'Flavio Pinheiro',\n 'Georgios Anagnostopoulos',\n 'Hernan Makse',\n 'Júlia Koltai',\n 'Janina Beckmann',\n 'Kyriacos Vitalis',\n 'Henk Stoof',\n 'Zachary Neal',\n 'Jeremy Burke',\n 'Yang Wang',\n 'Susumu Nagayama',\n 'David Adelani',\n 'Marta Rivera-Alba',\n 'Markus Strohmaier',\n 'Yifan Qian',\n 'Sanja Hajdinjak',\n 'Frank Takes',\n 'Sai Hitesh Jonnalagadda',\n 'Brigitta Németh',\n 'Jan Overgoor',\n 'Chung-Hong Chan',\n 'Daniele Quercia',\n 'Claudia Wagner',\n 'Nina Savela',\n 'Yian Yin',\n 'Ravi Bhavnani',\n 'Kasper Welbers',\n 'Marcella Morris',\n 'Peter Van Aelst',\n 'Alexandra Olteanu',\n 'Maria Bolsinova',\n 'Flavio Pinheiro –',\n 'Jaehyuk Park',\n 'Vítor V',\n 'Talal Rahwan',\n 'Jennifer Wortman Vaughan',\n 'Gabriella Kazai',\n 'Judith Kas',\n 'Isak Ladegaard',\n 'Robert West',\n 'Jingwen Zhang',\n 'Javier Garcia-Bernardo',\n 'Yphtach Lelkes',\n 'Hélène Bouchet',\n 'Oren Lederman',\n 'Scott Hale',\n 'Lijun Sun',\n 'Gomez Vicenç',\n 'Iacopo Pozzana',\n 'Pontus Strimling',\n 'Yan Leng',\n 'Dana Fisher',\n 'Andreas Breiter',\n 'Jichao Li',\n 'Iyad Rahwan',\n 'Yong-Yeol Ahn',\n 'Balazs Lengyel',\n 'Walid Magdy',\n 'Iyad Rahwan –',\n 'Theresa Gessler',\n 'Gabriela Molina León',\n 'Daniel Villatoro',\n 'Edwin de Jonge',\n 'Michiel Bakker',\n 'Dan Goldstein',\n 'Pei Zhou',\n 'Mason A',\n 'Jennifer Allen',\n 'Galina Daraganova –',\n 'Fırat Duruşan',\n 'David Rand',\n 'Ashton Anderson',\n 'Quinten Meertens',\n 'Marco Brambilla',\n 'Alexandru-Ionut Babeanu',\n 'Alejandro Espinosa-Rada',\n 'Ziv Epstein',\n 'János Kertész',\n 'Hendrik Nunner',\n 'Cristian Candia Vallejos',\n 'George Vega Yon',\n 'Manlio De Domenico',\n 'Joyojeet Pal –',\n 'Philipp Hövel',\n 'Vincent Antonio Traag',\n 'Alejandro Noriega Campero',\n 'Subhayan Mukerjee',\n 'Barbara McGillivray',\n 'Marco Schmitt',\n 'Janos Török',\n 'Ricardo Buera Corchón',\n 'Johan Koskinen',\n 'George Pallis',\n 'Marco De Nadai',\n 'Yupeng Gu',\n 'Kinga Makovi',\n 'Daniele Guariso',\n 'Philip Leifeld',\n 'David Rothschild',\n 'Onyi Lam',\n 'Stiene Praet',\n 'Nuria Oliver',\n 'Jonathan H',\n 'Rense Corten',\n 'Tomasz P',\n 'Brent D',\n 'Abe Hofman',\n 'Cristian Jara Figueroa',\n 'Ali Hürriyetoğlu',\n 'Chathurani Senevirathna',\n 'Massimo Riccaboni',\n 'Chao Min',\n 'Masoomali Fatehkia',\n 'Jianjun Sun',\n 'Simone Centellegher',\n 'Karsten Donnay',\n 'Tara Sowrirajan',\n 'Robert Stelter',\n 'Wouter van Atteveldt',\n 'Zhifan Luo',\n 'Florian Lemmerich',\n 'David Darmon',\n 'Chathika Gunaratne',\n 'Sicheng Dai',\n 'Edgar Morales Ramírez',\n 'Carlos Rodriguez Sickert',\n 'Ramona Roller',\n 'Andrew King',\n 'Jacob G',\n 'Hee Youn Kwon',\n 'Dong Nguyen',\n 'Binglu Wang',\n 'Marijn ten Thij',\n 'Sait Bayrakdar',\n 'Francisco C',\n 'Jennifer Fest',\n 'Márton Karsai',\n 'Nikolas Zöller',\n 'Joachim Piepenburg',\n 'Sune Lehmann',\n 'Johan Ugander',\n 'Oana Vuculescu',\n 'Bernard Koch',\n 'Simon Walk',\n 'Yevgeniy Vorobeychik',\n 'Mikko Kivelä',\n 'Johannes Gruber',\n 'Jisun An',\n 'Chaoming Song',\n 'Kimmo Kaski',\n 'Christos Nicolaides',\n 'Henry Smart Iii',\n 'Xiaowen Dong',\n 'Maria Wolters',\n 'Irina Vartanova',\n 'Ivan Garibay',\n 'Chris Janssen',\n 'Stella Neumann',\n 'Zijian Wang',\n 'Aleksandra Urman',\n 'Markus Mobius',\n 'Damian Trilling',\n 'Aliakbar Akbaritabar',\n 'Chico Camargo',\n 'Brian Uzzi',\n 'Manoel Horta Ribeiro',\n 'Johannes Wachs',\n 'Ju-Sung Lee',\n 'Ivan Garibay –',\n 'Duncan Watts –',\n 'Dimitrios Milioris',\n 'Hartmut Wessler',\n 'Diego Garlaschelli',\n 'Andrea Ballatore',\n 'Jesse Shore',\n 'Marios Dikaiakos',\n 'Ying Ding',\n 'Hyejin Youn',\n 'George Richardson',\n 'Dieter Wang',\n 'Haewoon Kwak',\n 'Marcin Waniek',\n 'Gunter Maris',\n 'Axel Bruns',\n 'Melissa Ellamil',\n 'Emre Calisir',\n 'Hendrik Heuer',\n 'Kokil Jaidka',\n 'Dimosthenis Stefanidis',\n 'Ethan Bernstein',\n 'Shawnna Mullenax',\n 'Silke Adam',\n 'Camille Roth',\n 'Daniele Romanini',\n 'Juhi Kulshrestha',\n 'Janos Kertesz',\n 'Aleksandra Nenko',\n 'Marcel Wittich',\n 'Sandro Lera',\n 'Morgan Frank',\n 'Thomas Baudin',\n 'Matthieu Brinkhuis',\n 'Mahmoudreza Babaei',\n 'Mitsuhiro Odaka',\n 'Hang-Hyun Jo',\n 'Gergő Tóth',\n 'Luis M',\n 'William Cai',\n 'Tom Broekel',\n 'Adina Nerghes',\n 'Yasuko Kawahata',\n 'Adam Hughes',\n 'Filippo Radicchi',\n 'Alex Rutherford',\n 'Gordon Pennycook',\n 'Fernando Diaz',\n 'Yuan Yuan',\n 'Arnout van Delden',\n 'Milan Janosov',\n 'Duncan Watts',\n 'Lorien Jasny',\n 'Tyler Amos',\n 'Martin Hilbert',\n 'No Presentation',\n 'Zoltán Kmetty',\n 'Farhana Ferdousi Liza',\n 'Alexandra Pang',\n 'Jessica Hullman',\n 'John Hagan',\n 'Yizhi Jing',\n 'Hywel Williams',\n 'Petter Törnberg',\n 'Nadia Metoui',\n 'Simon Schweighofer',\n 'Daniel Goldstein',\n 'Gael Le Mens',\n 'Mark Musen',\n 'Ali Faqeeh',\n 'Jérémie Rappaz',\n 'Abigail Jacobs',\n 'Rahul Arulkumaran',\n 'Kangsan Lee',\n 'Johannes Bjelland',\n 'Pasquale De Meo',\n 'Takayuki Mizuno',\n 'Yi Bu',\n 'Alice Jang',\n 'Federico Battiston',\n 'Shubhanshu Mishra',\n 'Lu Liu',\n 'Ronald Robertson',\n 'Michael Mauskapf',\n 'Kristina Gligoric',\n 'Laszlo Lorincz',\n 'Olga Silyutina',\n 'Fabrizio Germano',\n 'Joseph Bajjalieh',\n 'Christa Brelsford',\n 'Hitoshi Mitsuhashi',\n 'Reham Al Tamime',\n 'Anna May',\n 'Bruno Lepri',\n 'Hanna Wallach',\n 'Antonio Molins',\n 'Oliver Hohlfeldt',\n 'Rebekah Tromble',\n 'Diego Pérez',\n 'Bedoor Alshebli',\n 'Cornelius Puschmann',\n 'Geoffrey Canright',\n 'Forough Poursabzi-Sangdeh',\n 'Michaela Maier',\n 'Tamás Rudas',\n 'Clara Christner',\n 'Lovro Šubelj',\n 'Taha Yasseri',\n 'Carlos Sarraute',\n 'Bogdan State',\n 'Marina Petrova',\n 'Florianne Verkroost',\n 'Manikumar Perla',\n 'David Schoch',\n 'Abigail Horn',\n 'Sandy Pentland',\n 'Stephen M',\n 'No presentation (cancelled)',\n 'Yohsuke Murase',\n 'Muyang Li',\n 'Federico Musciotto',\n 'Lushi Chen',\n 'Christina Bouwens',\n 'Atte Oksanen',\n 'Ching Jin',\n 'David Garcia',\n 'Lukas Fervers',\n 'Azadeh Nematzadeh',\n 'Alina Vogelgesang',\n 'Jaime Oliver',\n 'Marita Jacob',\n 'Antonio Arechar',\n 'Mohsen Mosleh',\n 'Albert Laszlo Barabasi',\n 'Ridhi Kashyap',\n 'Benjamin Meindl',\n 'Niccolo Pescetelli',\n 'Kimmo Eriksson',\n 'Koen Schoors',\n 'Flaminio Squazzoni',\n 'Adam Pah',\n 'Daniel Larremore',\n 'Lada Adamic',\n 'Peter Barbrook-Johnson',\n 'Stefan Wojcik',\n 'Dr',\n 'Fredrik Jansson',\n 'Charles Howland',\n 'Angelo Cardoso',\n 'Judith Moeller',\n 'Luis Amaral',\n 'Alex Pentland',\n 'Uma Maheswari Gollapudi',\n 'Bjarke Mørch Mønsted',\n 'Jean-Pierre Chevrot',\n 'Nicolas Todd',\n 'Tim Henrichsen',\n 'Lisa Merten']"
     },
     "execution_count": 7,
     "metadata": {},
     "output_type": "execute_result"
    }
   ],
   "source": [
    "oral_presenters"
   ],
   "metadata": {
    "collapsed": false
   }
  },
  {
   "cell_type": "markdown",
   "source": [
    "### Scraping the poster session\n",
    "For this html "
   ],
   "metadata": {
    "collapsed": false
   }
  },
  {
   "cell_type": "code",
   "execution_count": 8,
   "outputs": [
    {
     "name": "stdout",
     "output_type": "stream",
     "text": [
      "['Program Program overviewAll keynotes & panelsAll oral presentationsAll poster presentationsAll tutorials', 'Warmup General informationJob FairDatathon', 'Attending / Local info Presenter informationList of delegatesRegistration———–Conference VenueTransportationAccommodationSocial EventsChild care', 'Organizers Conference ChairsProgram CommitteePrevious Editions', 'Frank Peter Pijpers\\xa0Hypothesis testing of causality between time series', 'Martin Lukac and André Grow\\xa0Recruiting mechanisms on online labour markets: an agent-based model', 'Kiran Garimella, Gianmarco De Francisci Morales, Aristides Gionis and Michael Mathioudakis\\xa0Political Discourse on Social Media: Echo Chambers, Gatekeepers, and the Price of Bipartisanship', 'Eaman Jahani, Peter Krafft, Yoshihiko Suhara, Esteban Moro and Alex Pentland\\xa0ScamCoins, S*** Posters, and the Search for the Next Bitcoin TM : Collective Sensemaking in Cryptocurrency Discussions', 'Gabriel Murray\\xa0Predicting Small Group Interaction Dynamics with Social Network Analysis', 'Ivan Smirnov and Sofia Dokuka\\xa0CSS Actually: exploring the computational social science community, its areas of interest, social structure and gender imbalance', 'Zhen Zhu, Bart Baesens and Xu Wang\\xa0On the Optimal Marketing Aggressiveness Level of C2C Sellers in Social Media: Evidence from China', 'Yifan Qian and Pietro Panzarasa\\xa0Intra- and inter-brokerage in social networks', 'Zhifan Luo\\xa0“Freewheeling Generals” and Inter-Elites Consensus in the U.S.: Evidence from Computer-Assisted Text Analysis', 'Annie Haakenstad, Margaret McConnell and Stephane Verguet\\xa0Modeling healthcare-seeking to estimate catastrophic health expenditure by disease', 'Hannes Rosenbusch, Ilse Pit, Florian Wanders\\xa0The Semantic Scale Network: An Online Tool to Detect Semantic Overlap and Redundancies of Measurement Scales in the Social Sciences', 'Mi Jin Lee, Eun Lee, Deok-Sun Lee and Sang Hoon Lee\\xa0Uncovering hidden mutual importance in networks via information entropy', 'André Grow and Jan Van Bavel\\xa0The Gender Cliff in the Relative Contribution to the Household Income: Insights from Modelling Marriage Markets in 27 European Countries', 'Valerie Hase, Kimon Kieslich, Katherine Engelke and Jing Zeng\\xa0The Best of Two Worlds? Combining Automated and Manual Content Analysis to Assess Media Coverage', 'Sjoerd Hooijmaaijers and Gert Buiten\\xa0Estimating the Dutch interfirm trade network', 'Francesco Granella\\xa0Pairwise speech distance in the U.S. Congress: a perspective on polarization', 'Jeroen Bruggeman\\xa0Cooperation for Public Goods Driven by Noise', 'Philipp Kling\\xa0Methodological Problems with Commercial User-Panels for Research on Social Media', 'Andrew Rosenberg\\xa0A Percolation Model of International Migration', 'Jan van der Laan and Edwin de Jonge\\xa0Measuring segregation using a network of the Dutch population', 'Anton Boichenko\\xa0Values in Rap: Topic Modelling of Russian Hip-Hop Stage', 'Yoosoon An\\xa0A Complexity Approach to North Korea Famine in 1990s : By Using Agent-Based Model', 'Huimin Xu, Lingfei Wu and Cheng-Jun Wang\\xa0The Hidden Shape of Stories Reveals Positivity Bias and Gender Bias', 'Zachary Steinert-Threlkeld and Jungseock Joo\\xa0Measuring The Effect of Violence and Cleavages on Social Movement Outcomes with Geolocated Twitter Images', 'Toshiya Saito and Takayuki Mizuno\\xa0Quantifying trends in innovative fields via Poisson-gamma dynamical systems', 'Emily Bello-Pardo, Carly Knight, Jeff Lockhart, Stan Oklobdzija, Iacopo Pozzana, Martijn Schoonvelde and Carsten Schwemmer\\xa0The Politics of Social Media Images: Potentials and Biases of Image Recognition Algorithms for Studying Congressional Behavior', 'Alessandro Cossard, Gianmarco De Francisci Morales, Yelena Mejova and Daniela Paolotti\\xa0Mapping the Anti-Vaccination Debate in Italy', 'Nicolas Cointe, Amineh Ghorbani and Caspar Chorus\\xa0Goal recognition, obfuscation-based decision making and cooperation', 'Nadezhda Sokolova and Mikhail Sokolov\\xa0Network approach to the analysis of taste: high-brow culture as a bridge across cultural holes', 'Marta Rivera-Alba, Alberto Sánchez-Carralero, Jaime Oliver and Luis C. Reyes\\xa0Housing as a sophisticated good based on the complexity of its consumers in Spain', 'Guy Laban\\xa0What Makes it Human? Users’ perceptions of agents’ animacy and intelligence', 'Bianca Kang and Ringo Ho\\xa0Do I stay? Exploring factors related to repeated advice-seeking on a relationship advice forum', 'Ryo Hamawaki, Junichi Ozaki, Kiyoshi Izumi, Takashi Shimada, Hiroyasu Matsushima and Hiroki Sakaji\\xa0Analysis of Investment Effect using MultiplexNetwork Simulation of Banks and Firms', 'Sahil Loomba, Till Hoffmann and Nick Jones\\xa0The Social Access Statistic: Linking Social Connectivity to Health Outcomes', 'Gergő Tóth, Johannes Wachs, Ákos Jakobi, Riccardo Di Clemente, Bence Ságvári, János Kertész and Balazs Lengyel\\xa0Urban structure conditions network effects on income inequality', 'Daniela Gawehns, Guida Veiga and Matthijs van Leeuwen\\xa0Focus on dynamics: a proof of principle in exploratory data mining of face-to-face interactions', 'Yoshiki Ishikawa and Takanori Nishida\\xa0Deep roots of the international differences in subjective well-being', 'Elisa Oertel\\xa0Who is the true influencer in the coexistence of science and society?', 'Peter Ejbye-Ernst, Marie Lindegaard and Wim Bernasco\\xa0A CCTV-based analysis of situational factors influencing third-party aggressiveness in interpersonal conflicts', 'Maxime Stauffer, Igor Krawczuk and Nora Ammann\\xa0Modelling collective decision-making in policy networks', 'Kieran Mepham, András Vörös and Christoph Stadtfeld\\xa0The joint dynamics of social networks and political opinions: A bipartite network approach to the study of opinion clustering', 'Masanori Takano, Fumiaki Taka, Soichiro Morishita, Tomosato Nishi and Yuki Ogawa\\xa0Expressing Modern/Oldfashioned Racism against Zainichi Koreans in Japan depending on News Contents of Internet Television', 'Jeroen van Den Ochtend, Raluca Gui, Markus Meierer and René Algesheimer\\xa0Social Influence in the Presence of Homophily: Method-Comparison Across Multiple Scenarios', 'Adrien Benamira, Benjamin Devillers, Etienne Lesot, Ayush K. Rai, Manal Saadi and Fragkiskos Malliaros\\xa0Semi-Supervised Learning and Graph Neural Networks for Fake News Detection', 'Lorena Cano-Orón\\xa0Could we study national public opinion through the SERP?', 'Dimitra Liotsiou and Philip Howard\\xa0Measuring the Influence of Online Misinformation: A Hierarchy of Social Media Data', 'Martyn Harris, Mark Levene, Dan Levene and Dell Zhang\\xa0The Samtla holographic search and browsing interface for cultural heritage photogrammetry models', 'Guanghua Chi, Bogdan State, Lada Adamic and Joshua Blumenstock\\xa0Who Ties the World Together?', 'Neda Paryab, Alexander Sachs, Andrew Li, Meiyappan Nagappan and Jesse Hoey\\xa0Relating Values and Social Network Structure', 'Javier Alvarez-Galvez and Victor Suarez-Lledo\\xa0Using Agent Based Modeling to Understand the Emergence and Reproduction of Social Inequalities in Health.', 'Dhruv Sapra and Aniket Alam\\xa0Empowering Citizenship through Social Network Analysis: A Case Study from Indian Politics', 'Evgenia Dolgova, Zuzana Sasovova and Michaela Schippers\\xa0On getting ahead: The role of proactive personality in the co-evolution of perceptions of competence and friendship', 'Alexandre Leroux and Matteo Gagliolo\\xa0Public sphere and echo chambers in Belgian media discussion threads', 'Abeer Aldayel and Walid Magdy\\xa0It is more than what you Say! Leveraging User Online Activity for Improved Stance', 'Frederico Francisco and Joana Gonçalves-Sá\\xa0A little knowledge is a dangerous thing: excess confidence explains negative attitudes towards science', 'Radim Hladik\\xa0Heed My Words: Topics and Citations', 'Peter Davis and Roy Lay-Yee\\xa0SociaLab: A Census-based Simulation Tool for Policy Inquiry', 'Chunying Wen, Ming Xiao, Xin Sui and Yimeng Yang\\xa0Place Communication on Social Media: the Case of Beijing – Based on Multi-feature Fusion Topic Sentiment Analysis', 'Arseny Rasov, Viacheslav A. Shibaev and Ivan Yamshchikov\\xa0Text classification for monolingual political manifestos', 'Anne Cornelia Kroon, Damian Trilling, Antske Fokkens, Felicia Loecherbach, Judith Moeller, Mariken A.C.G. van der Velden and Wouter Van Atteveldt\\xa0Improving automated content analysis with news-specific word embeddings for medium-resourced languages', 'Itto Kornecki, Nuno Araujo and Trivik Verma\\xa0Commuting patterns and outliers in London public transit: a narrative of unequal access', 'Yuki M. Asano and Gesa Biermann\\xa0Patterns in Online Recipe Data Reveal Rising Adoption and Retention of Meat-Free Diets', 'Vsevolod Suschevskiy, Ilya Musabirov, Denis Bulygin and Ekaterina Marchenko\\xa0Network Analysis of Global Transfers in Dota 2', 'Diego Fregolente Mendes de Oliveira and Kevin S. Chan\\xa0Sorting information by quality as a mechanism to hinder the system’s discriminative power', 'Eszter Bokanyi, Dániel Kondor and Gabor Vattay\\xa0Scaling in Words on Twitter', 'Douglas Guilbeault, Joshua Becker and Samuel Woolley\\xa0Nuance Matters: Collective Intelligence Dynamics in the Spread of Misinformation', 'Luca Verginer, Massimo Riccaboni, Pietro Panzarasa and Xiancheng Li\\xa0A Network Approach to uncovering researchers’ expertise: Evidence from the MEDLINE corpus', 'Sébastien Lerique and Camille Roth\\xa0Evolution of stories in a large-scale online experiment: bridging psycholinguistics and cultural evolution', 'Demetris Avraam, Christos Nicolaides,Luis Cueto-Felgueroso, Marta C. Gonzalez, Ruben Juanes\\xa0Hand-hygiene mitigation strategies against global disease spreading through the air-transportation network', 'Aleksandra Aloric, Javier Garcia-Bernardo, Peter Krafft, Allison Morgan, Zohar Neu and Andrea Santoro\\xa0Collective Information Processing in Human Rumor-Spreading Networks', 'Masashi Miura, Haruhiko Maenami and Shingo Takahashi\\xa0Game-Based Situation Prototypingfor Collaborative Social Modeling', 'Jianliang Yang, Lin Wang, Chenghua Guan, Alex Pentland and Xiangfei Yuan\\xa0Predicting People Movements between Cities Based on Economic and Transportation Features', 'Qiankun Zhong and Seth Frey\\xa0Institutional isomorphism and homophily effects of self-governing online communities', 'Svetlana Zhuchkova and Aleksei Rotmistrov\\xa0New Approach to Topic Modeling: Optimal Scaling, PCA and Rotation', 'Mykola Makhortykh, Jaron Harambam and Dimitrios Bountouridis\\xa0We are what we click: Understanding time- and content-based habits of online news readers', 'Zahra Sheikhbahaee and Isabel Valera\\xa0Attribute Prediction and Link Recommendation using a Bayesian Nonparametric Model', 'Xiaoyu Zhang\\xa0Sexual Harrassment at workplace: Mining Unequal Culture based on Glassdoor Company Reviews', 'Anupama Aggarwal, Claudia Wagner, Fabian Flöck, Ali Aghelmaleki and Julian Kohne\\xa0Generating a Corpus of Sexist Content through Gamification and Automatic Detection of Sexism', 'Tobias Buchmann and Patrick Wolf\\xa0Classifying European research networks', 'Maayan Levinson, Yuval Benjamini and Liat Ayalon\\xa0The Making of a Place: Social Networks in Long Term Care Institutions for Older Adults', 'Frank Peter Pijpers\\xa0The Dutch enterprise population as a complex dynamical system', 'Kiran Garimella, Gianmarco De Francisci Morales, Aristides Gionis and Michael Mathioudakis\\xa0Reducing Polarization by Connecting Opposing Views', 'Gabriel Murray\\xa0Connecting Small Group Affect and Social Network Centrality Measures', 'Sofia Dokuka, Maksim Tsvetovat, Kate Furman and Alex Furman\\xa0Peer Rank Score: Meritocratic Approach for the Individual Performance Evaluation', 'Zhen Zhu and Lingqing Jiang\\xa0Branching Out the Babytree: The Effects of Dual Peer Group Membership on Social Support During Pregnancy in Online Communities', 'Yifan Qian, Paul Expert, Pietro Panzarasa and Mauricio Barahona\\xa0Linking the classification performance of Graph Convolutional Networks with the alignment of graphs and features', 'Martin Lukac\\xa0Probing causal inference in the face of interference: simulations of social networks', 'Eaman Jahani, Alex Pentland and Dean Eckles\\xa0Network Inequality: Measuring Network Susceptibility to Inequality', 'Daniele Rama, Michele Tizzoni, Yelena Mejova, Kyriaki Kalimeri and Ingmar Weber\\xa0Urban-Rural Inequalities through Facebook Ads', 'Jan Overgoor, Austin Benson and Johan Ugander\\xa0Choosing to grow a graph:modeling network formation as discrete choice', 'Lisette Espín-Noboa, Fariba Karimi, Claudia Wagner and Kristina Lerman\\xa0Data-driven discrimination in relational classification', 'Je Hoon Chae, Sang Yup Lee\\xa0News Framing of Refugee Issue in South Korea: Application of Topic Model', 'Armin Mertens, Franziska Pradel, Ayjeren Rozyjumayeva and Jens Wäckerle\\xa0Gendered Political Communication on Twitter', 'Luce le Gorrec, Sandrine Mouysset and Daniel Ruiz\\xa0Doubly-stochastic scaling of adjacency matrices for community detection', 'Silke Adam, Michaela Maier, Viktor Aigenseer, Aleksandra Urman and Clara Christner\\xa0WebTrack – tracking users’ online information behavior while screen-scraping content', 'Selin Köksal and Chiara Allegri\\xa0What can lyrics tell us about cultural identity? Evidence from a text analysis', 'Ana Alonso-Curbelo\\xa0A Computerised Content Analysis of Language (ab)Use in Politics: The Case of Donald Trump', 'Milan van den Heuvel, Benjamin Vandermarliere and Koen Schoors\\xa0The asymmetric response of consumption to income changes and the effect of liquid wealth', 'Kokil Jaidka\\xa0Does social media use improve community health and well-being? Evidence for U.S. counties', 'Sandra Wankmüller\\xa0Scaling Based on Classification: IRT Models as an Aggregating Technique in Ensemble Learning for Text Documents', 'Yasuhiro Kitakami and Tomo Ogawa\\xa0Development and prospect of MAS simulator artisoc', 'Reham Al Tamime, Ridhi Kashyap, Ingmar Weber and Masoomali Fatehkia\\xa0Monitoring Digital Gender Inequality using Facebook and Google Advertising Audience Estimates', 'Hugo de Vos, Suzan Verberne and Bernard Steunenberg\\xa0Longitudinal Analysis of Legislative Processes', 'Ellie Yang, Dhavan Shah, Douglas Mcleod, William Sethares, Zhongkai Sun, Steve Guo and Xinyi Wang\\xa0Classification algorithms for modeling categorical dependent variables: A study of online health information seeking', 'Henri Kauhanen and George Walkden\\xa0Detecting constant rates of change in language: an a priori Monte Carlo power analysis', 'Wenjun Liao and Chenghua Lin\\xa0Deep Ensemble Learning for News Stance Detection', 'Satyam Mukherjee and Tarun Jain\\xa0Impact of Social Network Structure on the User Innovation: Evidence from Stackoverflow.com', 'Wojtek Przepiorka and Andreas Diekmann\\xa0Heterogeneous groups overcome the diffusion of responsibility problemin social norm enforcement', 'Ulf Liebe, Jennifer Gewinner and Andreas Diekmann\\xa0Choosing Green Energy. A Social Dilemma With a Solution', 'Janos Kertesz, Alina Sirbu, Fosca Gianotti and Dino Pedreschi\\xa0Algorithmic bias amplifies opinion polarization: A bounded confidence model', 'Kayla de la Haye, Brooke M. Bell, George G. Vega Yon, Abu Sayeed Mondol, Ridwan Alam, Meiyi Ma, Ifat Emi, John Lach, John Stankovic and Donna Spruijt-Metz\\xa0Detecting Eating Mimicry in Families', 'Bruno Toshio Sugano and Kazutoshi Sasahara\\xa0Quantifying Starbucksness From Social Media: A Case of Tabelog', 'Wim Bernasco\\xa0Human Mobility and Crime Locations', 'Masoomali Fatehkia, Isabelle Tingzon, Vedran Sekara, Stephanie Sy, Manuel Garcia-Herranz and Ingmar Weber\\xa0Mapping Socioeconomic Indicators Using Social Media Advertising Data', 'Guangqing Chi, Junjun Yin, Jennifer Van Hook, Eric Plutzer and Heng Xu\\xa0Twitter Demographics: Exploring the Generalizability of Twitter Data for Population Research', 'Nan Zhang and Heng Xu\\xa0How Much Choice is Too Much? A Machine Learning Based Meta-Analysis of Choice Overload', 'Kleber A. Oliveira, Felipe M. Cardoso, Andre Santanche, James P. Gleeson and Ali Faqeeh\\xa0Topical Homophily in Twitter Meme Diffusion', 'Gerrit Jan de Bruin, Cor Veenman, Jaap van Den Herik and Frank Takes\\xa0Understanding truck co-driving behaviour using network analysis', 'Lorenzo Lucchini, Sara Tonelli and Bruno Lepri\\xa0Understanding cultural attractiveness using historical migratory data', 'Max Pellert, Simon Schweighofer and David Garcia\\xa0Emotional expression dynamics in social media', 'Martijn Schoonvelde, Gijs Schumacher and Christian Pipal\\xa0Validating the Joint Sentiment Topic Model and the reversed Joint Sentiment Topic Model on Political Text', 'Pablo Lozano, Sergey Gavrilets and Angel Sanchez\\xa0Hierarchies can arise spontaneously in egalitarian societies', 'Jennifer Allen, David Rothschild, Duncan Watts, Charles Howland, Markus Mobius, Marcel Wittich and Melissa Ellamil\\xa0No news is bad news: studying the relative prevalence of fake, mainstream, and non-news', 'Giorgia Ramponi, Mattia Gasparini and Marco Brambilla\\xa0Community Detection on Social Network: Social Relations vs. Generated Content', 'Juhi Kulshrestha, Motahhare Eslami, Johnnatan Messias, Muhammad Bilal Zafar, Saptarshi Ghosh, Krishna Gummadi and Karrie Karahalios\\xa0Quantifying Search Bias: Investigating Political Bias in Social Media \\\\& Web Search', 'Kostas Stathoulopoulos\\xa0An analysis of the informal knowledge network in Sub-Saharan Africa.', 'Iraklis Moutidis, Rudy Arthur and Hywel Williams\\xa0Decoding the coding community: Identifying Technology-Based User Groups in Stack Overflow.', 'Amir Ebrahimi Fard, Haye Hazenberg, Jeroen van den Hoven, Scott Cunningham, Emily Sullivan, Mark Alfano and Roel Faber\\xa0Digital Disinformation in the Dutch Democracy', 'Vadim Voskresenskii\\xa0Networks of European Right-Wing Online Groups on Russian Social Media', 'Lilia Perfeito, Paulo Almeida and Joana Gonçalves-Sá\\xa0New tools for an old problem: using computational techniques to examine gender differences in political discourse', 'Joana Gonçalves-Sá and Cláudio Vieira\\xa0Online vs. Offline: Using the Pandemic Influenza to Understand Different Drivers Behind Human Behaviour', 'Benjamin Meindl and Joana Mendonça\\xa0Text mining to identify technologies of the fourth industrial revolution', 'Mahmoudreza Babaei, Juhi Kulshrestha, Abhijnan Chakraborty, Fabricio Benevenuto, Krishna Gummadi and Adrian Weller\\xa0Purple Feed: Identifying Non-Divisive News Posts on Social Media', 'Zoya Khan, Priyam Bansal, Mansi Sharma and Rishabh Kaushal\\xa0Are Online Users with Us ? Deep Representation Learning for Political Stance Detection', 'Kasper Welbers, Wouter van Atteveldt, Chung-Hong Chan, Hartmut Wessler and Scott Althaus\\xa0Media portrayal of terrorist events: Using computational text analysis to link news items to the Global Terrorism Database.', 'Zeph M. C. van Berlo\\xa0Let’s talk about our emojis', 'Marius Sältzer and Samuel Mueller\\xa0Bad News Travel Well – Incentives for Politicians to Polarize on Twitter', 'Alberto Antonioni, María Pereda, Katherine A. Cronin, Marco Tomassini and Anxo Sanchez\\xa0Collaborative hierarchy maintains cooperation in asymmetric games', 'Kyriaki Kalimeri, Mariano Gastón Beiró, Alessandra Urbinati, Andrea Bonanomi, Alessandro Rosina and Ciro Cattuto\\xa0Employing Social Media to Understand Human Values and Attitudes towards Vaccination', 'Alla Loseva and Daniel Alexandrov\\xa0The Evolution of Computational Social Science Field: Bibliometric Mapping', 'Tyler Amos, Tyler Amos and Tyler Amos\\xa0Applications of Audio Data to Describe Affect in Online Debates on Migration and Multiculturalism', 'Daniel Straulino, Chengcheng Li, Sid Ravinutala and Neave O’Clery\\xa0Inferring Crop Complexity via Machine Learning', 'Graham McNeill and Scott Hale\\xa0Viz-Blocks: A Lightweight Interface for Building Visualizations and Documents', 'Isabella Loaiza, Morgan Frank and Alex ‘Sandy’ Pentland\\xa0Cheap Signals, Trade, and Costly Consequences', 'Parizad Bahardoost\\xa0The Strength of Weak Ties in the Political Networks', 'Moritz Müller\\xa0Who cares about regulation? EU agencies and their social media audiences', 'Daniel J. Flynn and Seth Frey\\xa0Shooting friends and missing enemies: comparing partisan polarization in classifier error sensitivity versus policy preferences', 'Seth Frey, Bryan Bruns and Curtis Atkisson\\xa0Institutional evolution as a dynamic over the space of games', 'Stefano Balietti, Duncan Watts and Lise Getoor\\xa0Shifting Attitudes Toward Wealth Redistribution: Is It All a Matter of Trust?', 'Khyati Mahajan and Samira Shaikh\\xa0Analyzing Emoji Usage across Two Social Media Platforms during the Charlottesville Protests', 'Yibei Chen and Shaojing Sun\\xa0Morality and Emotion: Mining Social Media Data with DDR Method', 'Shen Yan, Homa Hosseinmardi, Hsien-Te Kao, Shrikanth Narayanan, Kristina Lerman and Emilio Ferrara\\xa0Gender Disparity Under Biosignal Modeling', 'Andreia Sofia Teixeira, Francisco C. Santos and Alexandre P Francisco\\xa0The Origins of Social Balance in Signed Networks', 'Chathura Jayalath, Chathika Gunaratne, Chathurani Senevirathna and Ivan Garibay\\xa0A Path Dependent Equivalence of the Independent Cascade Model and the Linear Threshold Model', 'Diliara Valeeva\\xa0Who is who in the core of the global business elite network', 'Clemens Harten\\xa0Decision-Making in Enterprise Risk Management as Distributed Cognition']\n"
     ]
    }
   ],
   "source": [
    "url = \"https://2019.ic2s2.org/posters/\"\n",
    "response = requests.get(url)\n",
    "\n",
    "soup = BeautifulSoup(response.text, \"html.parser\")\n",
    "\n",
    "researchers = soup.find_all(\"li\")\n",
    "researchers = [i.text.strip().replace(\"\\n\", \"\").replace(\"\\t\", \"\") for i in researchers if i.find(\"span\")]\n",
    "\n",
    "print(researchers)"
   ],
   "metadata": {
    "collapsed": false
   }
  },
  {
   "cell_type": "code",
   "execution_count": 9,
   "outputs": [],
   "source": [
    "d = [i.split('\\xa0')[0] for i in researchers][4:]\n",
    "d = [i.split('and') for i in d]\n",
    "d = [item for sublist in d for item in sublist]\n",
    "d = [i.split(',') for i in d]\n",
    "d = [item for sublist in d for item in sublist if item != '']\n",
    "# One last clean up for empty spaces in the end or beginnig of a word\n",
    "d = [name[1:] if name[0] == ' ' else name for name in d]\n",
    "# Do the same for the names ending with white space\n",
    "d = [name[:-1] if len(name) >1 and name[-1] == ' ' else name for name in d]\n",
    "d = list(set(d))"
   ],
   "metadata": {
    "collapsed": false
   }
  },
  {
   "cell_type": "code",
   "execution_count": 10,
   "outputs": [
    {
     "data": {
      "text/plain": "443"
     },
     "execution_count": 10,
     "metadata": {},
     "output_type": "execute_result"
    }
   ],
   "source": [
    "#Get the length of the list\n",
    "len(d)"
   ],
   "metadata": {
    "collapsed": false
   }
  },
  {
   "cell_type": "markdown",
   "source": [
    "# Part 2: Getting data from the Semantic Scholar API"
   ],
   "metadata": {
    "collapsed": false
   }
  },
  {
   "cell_type": "markdown",
   "source": [
    "First load the id's which was saved into json file, and then convert it to a dictionary. Note that if the author could not be found it was simply marked it with not found, so first that will have to be sorted out of the data."
   ],
   "metadata": {
    "collapsed": false
   }
  },
  {
   "cell_type": "code",
   "execution_count": 12,
   "outputs": [],
   "source": [
    "author_database = pd.read_json('/Users/madsandersen/CompSocialScience/02467-CSS/author_id_name.json', typ='series').to_dict()"
   ],
   "metadata": {
    "collapsed": false
   }
  },
  {
   "cell_type": "markdown",
   "source": [
    "This will be deleted once we get the entire set of authors"
   ],
   "metadata": {
    "collapsed": false
   }
  },
  {
   "cell_type": "code",
   "execution_count": 52,
   "outputs": [
    {
     "name": "stderr",
     "output_type": "stream",
     "text": [
      "/var/folders/_r/jlncy8s12v3dnkjbml325cq00000gn/T/ipykernel_54579/1128620053.py:8: TqdmDeprecationWarning: This function will be removed in tqdm==5.0.0\n",
      "Please use `tqdm.notebook.tqdm` instead of `tqdm.tqdm_notebook`\n",
      "  for author in tqdm_notebook(list(author_database.keys())[605:]):\n"
     ]
    },
    {
     "data": {
      "text/plain": "  0%|          | 0/1317 [00:00<?, ?it/s]",
      "application/vnd.jupyter.widget-view+json": {
       "version_major": 2,
       "version_minor": 0,
       "model_id": "0e8eeae0d364401687779a932eb4d378"
      }
     },
     "metadata": {},
     "output_type": "display_data"
    }
   ],
   "source": [
    "BASE_URL = \"https://api.semanticscholar.org/graph/\"\n",
    "VERSION = \"v1/\"\n",
    "RESOURCE = \"author/\"\n",
    "my_url = BASE_URL + VERSION + RESOURCE\n",
    "related_authors = {}\n",
    "r_count = 0\n",
    "\n",
    "for author in tqdm_notebook(list(author_database.keys())[605:]):\n",
    "\n",
    "  if author == 'not found':\n",
    "    continue\n",
    "\n",
    "  my_url = f'https://api.semanticscholar.org/graph/v1/author/{author}?fields=papers.authors'\n",
    "  params = {'authorId': author}\n",
    "\n",
    "  r = requests.get(my_url, params=params).json()\n",
    "  r_count += 1\n",
    "  rau = [au['authors'] for au in r['papers']]\n",
    "\n",
    "  related_authors[author] = rau\n",
    "\n",
    "  if r_count > 95:\n",
    "    time.sleep(60*5+10)\n",
    "    r_count = 0"
   ],
   "metadata": {
    "collapsed": false
   }
  },
  {
   "cell_type": "code",
   "execution_count": 38,
   "outputs": [
    {
     "data": {
      "text/plain": "[{'authorId': '2045967938', 'name': 'Lin Anne'},\n {'authorId': '2045971463', 'name': 'Abeliuk Andrees'},\n {'authorId': '123750282', 'name': 'F. Emilio'}]"
     },
     "execution_count": 38,
     "metadata": {},
     "output_type": "execute_result"
    }
   ],
   "source": [
    "list(related_authors.values())[0][0]"
   ],
   "metadata": {
    "collapsed": false
   }
  },
  {
   "cell_type": "code",
   "execution_count": 51,
   "outputs": [
    {
     "data": {
      "text/plain": "{'authorId': '32071555', 'name': 'Ashton Anderson'}"
     },
     "execution_count": 51,
     "metadata": {},
     "output_type": "execute_result"
    }
   ],
   "source": [
    "auth"
   ],
   "metadata": {
    "collapsed": false
   }
  },
  {
   "cell_type": "code",
   "execution_count": 54,
   "outputs": [],
   "source": [
    "import json"
   ],
   "metadata": {
    "collapsed": false
   }
  },
  {
   "cell_type": "code",
   "execution_count": 55,
   "outputs": [],
   "source": [
    "# Now get them all into one dictionary structured as the first.\n",
    "\n",
    "all_authors = {}\n",
    "for related in list(related_authors.values()):\n",
    "  for group in related:\n",
    "    for auth in group:\n",
    "      id = list(auth.values())\n",
    "      all_authors[id[0]] = id[1]"
   ],
   "metadata": {
    "collapsed": false
   }
  },
  {
   "cell_type": "code",
   "execution_count": 57,
   "outputs": [],
   "source": [
    "json_object = json.dumps(all_authors, indent = 4)\n",
    "#y = json_object.encode('utf-8')\n",
    "with open('authors_605_and_up.json', 'w') as f:\n",
    "  json.dump(all_authors,f)"
   ],
   "metadata": {
    "collapsed": false
   }
  },
  {
   "cell_type": "code",
   "execution_count": 59,
   "outputs": [],
   "source": [
    "# Now concatenate the two json files:\n",
    "author_605 = pd.read_json('/Users/madsandersen/CompSocialScience/02467-CSS/authors_605.json', typ='series').to_dict()\n",
    "author_rest = pd.read_json('/Users/madsandersen/CompSocialScience/02467-CSS/authors_605_and_up.json', typ='series').to_dict()"
   ],
   "metadata": {
    "collapsed": false
   }
  },
  {
   "cell_type": "code",
   "execution_count": 60,
   "outputs": [],
   "source": [
    "for author in list(author_605.keys()):\n",
    "  if author not in list(author_rest.keys()):\n",
    "    author_rest[author] = author_605[author]"
   ],
   "metadata": {
    "collapsed": false
   }
  },
  {
   "cell_type": "code",
   "execution_count": 63,
   "outputs": [],
   "source": [
    "json_object = json.dumps(author_rest, indent = 4)\n",
    "#y = json_object.encode('utf-8')\n",
    "with open('all_authors.json', 'w') as f:\n",
    "  json.dump(author_rest,f)"
   ],
   "metadata": {
    "collapsed": false
   }
  },
  {
   "cell_type": "code",
   "execution_count": null,
   "outputs": [],
   "source": [],
   "metadata": {
    "collapsed": false
   }
  },
  {
   "cell_type": "markdown",
   "source": [
    "### Get the papper and the the other required entrances\n",
    "We choose to do a subset due to resource limitations. However the code demonstrates how the querying could be done, given enough time. Note that there is a 100 request limitation per 5 min, which is why a counter is initialized and incremented everytime a request is made to the server. When the limitation is reached the time module is used to make the loop wait for 5 minutes. To be on the safe side the number of requests is set to 95 and 10 seconds are added to the timer pause.\n",
    "\n",
    "Exercises which needs to be solved\n",
    "1) Share the number of authors you will use as starting point in this exercises. Add a comment clarifying how many IC2S2 editions you included and if the collaborators were included or not.\n",
    "2) Share the code you have used to solve the exercise above. (See code cell below)\n",
    "3) How long is your final Author dataframe? How long is your final Paper dataframe?\n"
   ],
   "metadata": {
    "collapsed": false
   }
  },
  {
   "cell_type": "markdown",
   "source": [
    "First of there is a query restriction on 100 queries every five minutes. So everything which is needed will be gathered in the same query, in order to save time. All the fields are stored in the fields string, which can then be inserted into the query url, using an f string.\n",
    "\n",
    "Because of this restriction a subset of the total authors list was queried for since quering for everything would require: (105,000/100)*5 =5250 minutes = 87.5 hours"
   ],
   "metadata": {
    "collapsed": false
   }
  },
  {
   "cell_type": "code",
   "execution_count": 77,
   "outputs": [
    {
     "name": "stderr",
     "output_type": "stream",
     "text": [
      "/var/folders/6z/7x8_jfbd1d568pbs6s2gs1gm0000gn/T/ipykernel_21194/4023532586.py:7: TqdmDeprecationWarning: This function will be removed in tqdm==5.0.0\n",
      "Please use `tqdm.notebook.tqdm` instead of `tqdm.tqdm_notebook`\n",
      "  for id in tqdm_notebook(list(author_database.keys())):\n"
     ]
    },
    {
     "data": {
      "text/plain": "  0%|          | 0/1922 [00:00<?, ?it/s]",
      "application/vnd.jupyter.widget-view+json": {
       "version_major": 2,
       "version_minor": 0,
       "model_id": "74805fcb2cc04ba7826c52457f693c4d"
      }
     },
     "metadata": {},
     "output_type": "display_data"
    },
    {
     "ename": "KeyboardInterrupt",
     "evalue": "",
     "output_type": "error",
     "traceback": [
      "\u001B[0;31m---------------------------------------------------------------------------\u001B[0m",
      "\u001B[0;31mKeyError\u001B[0m                                  Traceback (most recent call last)",
      "Cell \u001B[0;32mIn[77], line 18\u001B[0m\n\u001B[1;32m     17\u001B[0m \u001B[38;5;66;03m#Author_dataset\u001B[39;00m\n\u001B[0;32m---> 18\u001B[0m data[\u001B[38;5;28mid\u001B[39m][\u001B[38;5;124m'\u001B[39m\u001B[38;5;124mname\u001B[39m\u001B[38;5;124m'\u001B[39m] \u001B[38;5;241m=\u001B[39m  \u001B[43mr\u001B[49m\u001B[43m[\u001B[49m\u001B[38;5;124;43m'\u001B[39;49m\u001B[38;5;124;43mname\u001B[39;49m\u001B[38;5;124;43m'\u001B[39;49m\u001B[43m]\u001B[49m\n\u001B[1;32m     19\u001B[0m data[\u001B[38;5;28mid\u001B[39m][\u001B[38;5;124m'\u001B[39m\u001B[38;5;124maliases\u001B[39m\u001B[38;5;124m'\u001B[39m] \u001B[38;5;241m=\u001B[39m \u001B[38;5;124m'\u001B[39m\u001B[38;5;124m,\u001B[39m\u001B[38;5;124m'\u001B[39m\u001B[38;5;241m.\u001B[39mjoin(r[\u001B[38;5;124m'\u001B[39m\u001B[38;5;124maliases\u001B[39m\u001B[38;5;124m'\u001B[39m]) \u001B[38;5;28;01mif\u001B[39;00m r[\u001B[38;5;124m'\u001B[39m\u001B[38;5;124maliases\u001B[39m\u001B[38;5;124m'\u001B[39m] \u001B[38;5;129;01mis\u001B[39;00m \u001B[38;5;129;01mnot\u001B[39;00m \u001B[38;5;28;01mNone\u001B[39;00m \u001B[38;5;28;01melse\u001B[39;00m \u001B[38;5;124m'\u001B[39m\u001B[38;5;124mNone\u001B[39m\u001B[38;5;124m'\u001B[39m\n",
      "\u001B[0;31mKeyError\u001B[0m: 'name'",
      "\nDuring handling of the above exception, another exception occurred:\n",
      "\u001B[0;31mKeyboardInterrupt\u001B[0m                         Traceback (most recent call last)",
      "Cell \u001B[0;32mIn[77], line 30\u001B[0m\n\u001B[1;32m     28\u001B[0m   data[\u001B[38;5;28mid\u001B[39m][\u001B[38;5;124m'\u001B[39m\u001B[38;5;124mpapers.Authors\u001B[39m\u001B[38;5;124m'\u001B[39m] \u001B[38;5;241m=\u001B[39m [paper[\u001B[38;5;124m'\u001B[39m\u001B[38;5;124mauthors\u001B[39m\u001B[38;5;124m'\u001B[39m] \u001B[38;5;28;01mfor\u001B[39;00m paper \u001B[38;5;129;01min\u001B[39;00m r[\u001B[38;5;124m'\u001B[39m\u001B[38;5;124mpapers\u001B[39m\u001B[38;5;124m'\u001B[39m]]\n\u001B[1;32m     29\u001B[0m \u001B[38;5;28;01mexcept\u001B[39;00m:\n\u001B[0;32m---> 30\u001B[0m   \u001B[43mtime\u001B[49m\u001B[38;5;241;43m.\u001B[39;49m\u001B[43msleep\u001B[49m\u001B[43m(\u001B[49m\u001B[38;5;241;43m60\u001B[39;49m\u001B[38;5;241;43m*\u001B[39;49m\u001B[38;5;241;43m5\u001B[39;49m\u001B[38;5;241;43m+\u001B[39;49m\u001B[38;5;241;43m10\u001B[39;49m\u001B[43m)\u001B[49m\n\u001B[1;32m     33\u001B[0m \u001B[38;5;28;01mif\u001B[39;00m query_counter \u001B[38;5;241m>\u001B[39m \u001B[38;5;241m95\u001B[39m:\n\u001B[1;32m     34\u001B[0m   time\u001B[38;5;241m.\u001B[39msleep(\u001B[38;5;241m60\u001B[39m\u001B[38;5;241m*\u001B[39m\u001B[38;5;241m5\u001B[39m\u001B[38;5;241m+\u001B[39m\u001B[38;5;241m10\u001B[39m)\n",
      "\u001B[0;31mKeyboardInterrupt\u001B[0m: "
     ]
    }
   ],
   "source": [
    "# Init dataset\n",
    "data = {id: {} for id in list(author_database.keys())}\n",
    "\n",
    "fields = f'name,aliases,papers.title,papers.abstract,papers.year,papers.s2FieldsOfStudy,papers.citationCount,papers.paperId,papers.externalIds,papers.authors'\n",
    "\n",
    "query_counter = 0\n",
    "for id in tqdm_notebook(list(author_database.keys())):\n",
    "  if id == 'not found':\n",
    "    continue\n",
    "\n",
    "  try:\n",
    "    my_url = f'https://api.semanticscholar.org/graph/v1/author/{id}?fields={fields}' #BASE_URL + VERSION + RESOURCE\n",
    "    params = {'authorId': id}\n",
    "    r = requests.get(my_url, params=params).json()\n",
    "    query_counter += 1\n",
    "\n",
    "    #Author_dataset\n",
    "    data[id]['name'] =  r['name']\n",
    "    data[id]['aliases'] = ','.join(r['aliases']) if r['aliases'] is not None else 'None'\n",
    "    data[id]['papers.title'] = [paper['title'] for paper in r['papers']]\n",
    "    data[id]['abstract'] = [paper['abstract'] for paper in r['papers']]\n",
    "    data[id]['papers.year'] = [paper['year'] for paper in r['papers']]\n",
    "    data[id]['papers.s2FieldsOfStudy'] = [paper['s2FieldsOfStudy'][0]['category'] if len(paper['s2FieldsOfStudy']) != 0 else None for paper in r['papers']]\n",
    "    data[id]['papers.citationCount'] = [paper['citationCount'] for paper in r['papers']]\n",
    "\n",
    "    data[id]['papers.paperId'] = [paper['paperId'] for paper in r['papers']]\n",
    "    data[id]['papers.DOI'] = [paper['DOI'] if 'DOI' in paper.keys() else 'None' for paper in r['papers']]\n",
    "    data[id]['papers.Authors'] = [paper['authors'] for paper in r['papers']]\n",
    "  except:\n",
    "    time.sleep(60*5+10)\n",
    "\n",
    "\n",
    "  if query_counter > 95:\n",
    "    time.sleep(60*5+10)\n",
    "    query_counter = 0\n"
   ],
   "metadata": {
    "collapsed": false
   }
  },
  {
   "cell_type": "code",
   "execution_count": 63,
   "outputs": [
    {
     "data": {
      "text/plain": "1922"
     },
     "execution_count": 63,
     "metadata": {},
     "output_type": "execute_result"
    }
   ],
   "source": [
    "len(author_database.keys())"
   ],
   "metadata": {
    "collapsed": false
   }
  },
  {
   "cell_type": "code",
   "execution_count": 64,
   "outputs": [
    {
     "data": {
      "text/plain": "95"
     },
     "execution_count": 64,
     "metadata": {},
     "output_type": "execute_result"
    }
   ],
   "source": [
    "19*5"
   ],
   "metadata": {
    "collapsed": false
   }
  },
  {
   "cell_type": "code",
   "execution_count": null,
   "outputs": [],
   "source": [],
   "metadata": {
    "collapsed": false
   }
  }
 ],
 "metadata": {
  "kernelspec": {
   "display_name": "Python 3 (ipykernel)",
   "language": "python",
   "name": "python3"
  },
  "language_info": {
   "codemirror_mode": {
    "name": "ipython",
    "version": 3
   },
   "file_extension": ".py",
   "mimetype": "text/x-python",
   "name": "python",
   "nbconvert_exporter": "python",
   "pygments_lexer": "ipython3",
   "version": "3.7.16"
  }
 },
 "nbformat": 4,
 "nbformat_minor": 5
}
