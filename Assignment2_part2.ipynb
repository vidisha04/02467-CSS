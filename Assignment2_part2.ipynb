{
  "cells": [
    {
      "cell_type": "code",
      "execution_count": 15,
      "metadata": {
        "id": "xQrynSL34CCZ"
      },
      "outputs": [],
      "source": [
        "import numpy as np\n",
        "import networkx as nx\n",
        "import matplotlib.pyplot as plt\n",
        "import pandas as pd\n",
        "#import netwulf as wulf\n",
        "import random\n",
        "from networkx.algorithms import community\n",
        "from community import community_louvain\n",
        "from tabulate import tabulate\n",
        "import json\n",
        "import jsonpickle\n",
        "from networkx.readwrite import json_graph"
      ]
    },
    {
      "cell_type": "markdown",
      "metadata": {
        "id": "NEIC-OpM4CCb"
      },
      "source": [
        "### Part 2: Communities\n",
        "\n",
        "#### Exercise 2: Zachary's karate club: In this exercise, we will work on Zarachy's karate club graph.\n",
        "\n",
        "The dataset is available in NetworkX, by calling the function karate_club_graph"
      ]
    },
    {
      "cell_type": "code",
      "execution_count": 16,
      "metadata": {
        "id": "_Wiq0iES4CCb"
      },
      "outputs": [],
      "source": [
        "#creating the graph\n",
        "G = nx.karate_club_graph()"
      ]
    },
    {
      "cell_type": "markdown",
      "metadata": {
        "id": "nnhxRjXz4CCb"
      },
      "source": [
        "1. Visualize the graph using netwulf. Set the color of each node based on the club split (the information is stored as a node attribute)."
      ]
    },
    {
      "cell_type": "code",
      "execution_count": 17,
      "metadata": {
        "id": "jGQs3Frw4CCc"
      },
      "outputs": [],
      "source": [
        "#prepare the dataset, label each node to store color information for the visualization\n",
        "belonging = nx.get_node_attributes(G, 'club')\n",
        "\n",
        "ColorArray =[]\n",
        "partition_prep = [[],[]]\n",
        "\n",
        "for i in belonging:\n",
        "    if belonging[i] == \"Mr. Hi\":\n",
        "        ColorArray.append(\"#606060FF\")\n",
        "        partition_prep[0].append(i)\n",
        "    else:\n",
        "        ColorArray.append(\"#D6ED17FF\")\n",
        "        partition_prep[1].append(i)\n",
        "\n",
        "\n",
        "dictionaryColor = dict(zip(list(G.nodes), ColorArray))\n",
        "nx.set_node_attributes(G, dictionaryColor,\"color\")"
      ]
    },
    {
      "cell_type": "code",
      "execution_count": 18,
      "metadata": {
        "id": "QcNm7tKR4CCc"
      },
      "outputs": [],
      "source": [
        "#create custom configuration for netwulf, so it is immediatelly nice after we run it\n",
        "custom_config = {\n",
        "    \"zoom\": 1.09320127948937,\n",
        "    \"node_charge\": -100,\n",
        "    \"node_gravity\": 0.02906058760349766,\n",
        "    \"link_distance\": 50,\n",
        "    \"link_distance_variation\": 0,\n",
        "    \"node_collision\": False,\n",
        "    \"wiggle_nodes\": False,\n",
        "    \"freeze_nodes\": False,\n",
        "    \"node_fill_color\": \"#79aaa0\",\n",
        "    \"node_stroke_color\": \"#555555\",\n",
        "    \"node_label_color\": \"#000000\",\n",
        "    \"node_size\": 6.64244264770301,\n",
        "    \"node_stroke_width\": 1.0171237334889143,\n",
        "    \"node_size_variation\": 0.5,\n",
        "    \"display_node_labels\": False,\n",
        "    \"scale_node_size_by_strength\": False,\n",
        "    \"link_color\": \"#7c7c7c\",\n",
        "    \"link_width\": 3.9941371000922654,\n",
        "    \"link_alpha\": 0.4026983428655228,\n",
        "    \"link_width_variation\": 0.6,\n",
        "    \"display_singleton_nodes\": True,\n",
        "    \"min_link_weight_percentile\": 0,\n",
        "    \"max_link_weight_percentile\": 1\n",
        "}"
      ]
    },
    {
      "cell_type": "code",
      "execution_count": 2,
      "metadata": {
        "colab": {
          "base_uri": "https://localhost:8080/",
          "height": 184
        },
        "id": "wJJlN1cx4CCc",
        "outputId": "92447cf1-3216-4d40-f66d-e90ce974f747"
      },
      "outputs": [
        {
          "output_type": "error",
          "ename": "NameError",
          "evalue": "ignored",
          "traceback": [
            "\u001b[0;31m---------------------------------------------------------------------------\u001b[0m",
            "\u001b[0;31mNameError\u001b[0m                                 Traceback (most recent call last)",
            "\u001b[0;32m<ipython-input-2-31fca937902b>\u001b[0m in \u001b[0;36m<module>\u001b[0;34m\u001b[0m\n\u001b[1;32m      1\u001b[0m \u001b[0;31m#visualizing using netwulf\u001b[0m\u001b[0;34m\u001b[0m\u001b[0;34m\u001b[0m\u001b[0m\n\u001b[0;32m----> 2\u001b[0;31m \u001b[0mwulf\u001b[0m\u001b[0;34m.\u001b[0m\u001b[0mvisualize\u001b[0m\u001b[0;34m(\u001b[0m\u001b[0mG\u001b[0m\u001b[0;34m,\u001b[0m \u001b[0mconfig\u001b[0m \u001b[0;34m=\u001b[0m \u001b[0mcustom_config\u001b[0m\u001b[0;34m,\u001b[0m \u001b[0mplot_in_cell_below\u001b[0m\u001b[0;34m=\u001b[0m\u001b[0;32mFalse\u001b[0m\u001b[0;34m)\u001b[0m\u001b[0;34m\u001b[0m\u001b[0;34m\u001b[0m\u001b[0m\n\u001b[0m",
            "\u001b[0;31mNameError\u001b[0m: name 'wulf' is not defined"
          ]
        }
      ],
      "source": [
        "#visualizing using netwulf\n",
        "wulf.visualize(G, config = custom_config, plot_in_cell_below=False)"
      ]
    },
    {
      "cell_type": "markdown",
      "metadata": {
        "id": "TIwdz-Ds4CCc"
      },
      "source": [
        "![title](netwulf.png)"
      ]
    },
    {
      "cell_type": "markdown",
      "metadata": {
        "id": "6cOIigP34CCd"
      },
      "source": [
        "2. Write a function to compute the modularity of a graph partitioning (use equation 9.12 in the book). The function should take a networkX Graph and a partitioning as inputs and return the modularity."
      ]
    },
    {
      "cell_type": "code",
      "execution_count": 19,
      "metadata": {
        "id": "PnHR9Y8d4CCd"
      },
      "outputs": [],
      "source": [
        "#helper method to calculate degree of a graph\n",
        "def get_total_degree(G):\n",
        "    sum = 0\n",
        "    for i in range(G.number_of_nodes()):\n",
        "        sum += G.degree(list(G)[i])\n",
        "    return sum"
      ]
    },
    {
      "cell_type": "markdown",
      "metadata": {
        "id": "lP1rZ_Ll4CCd"
      },
      "source": [
        "The modularity is calculated as: <br>\n",
        "$Q = \\sum_{c=1}^{n}\n",
        "       \\left[ \\frac{L_c}{m} - \\gamma\\left( \\frac{k_c}{2m} \\right) ^2 \\right]$\n",
        "<br>where\n",
        "- L_c is the number of links within community c\n",
        "- m is the total number of connections in the graph\n",
        "- k_c is the total degree of each community c\n",
        "- $\\gamma$ is the resolution parameter (in this case 1)"
      ]
    },
    {
      "cell_type": "code",
      "execution_count": 20,
      "metadata": {
        "id": "OyBY_IEH4CCd"
      },
      "outputs": [],
      "source": [
        "def Modularity(G,  p):\n",
        "    mod = 0.0\n",
        "    L = G.number_of_edges()\n",
        "    for i in range(len(p)):\n",
        "        tmp = G.subgraph(p[i])\n",
        "        L_c = tmp.number_of_edges()\n",
        "        k_c = get_total_degree(tmp)\n",
        "        mod += ((L_c/L) - pow((k_c/(2*L)),2))\n",
        "    return mod"
      ]
    },
    {
      "cell_type": "markdown",
      "metadata": {
        "id": "4iIvrY8U4CCd"
      },
      "source": [
        "3. Explain in your own words the concept of modularity.\n",
        "<br>\n",
        "\n",
        "Modularity helps to gain an idea about how well-partitioned a graph is to communities.\n",
        "It compares the inner edges of each group with all of the edges.\n",
        "It shows how well the communitie's nodes are connected to each other, as opposed to the whole network."
      ]
    },
    {
      "cell_type": "markdown",
      "metadata": {
        "id": "oUE8Hlvb4CCd"
      },
      "source": [
        "4. Compute the modularity of the Karate club split partitioning using the function you just wrote."
      ]
    },
    {
      "cell_type": "code",
      "execution_count": 21,
      "metadata": {
        "colab": {
          "base_uri": "https://localhost:8080/"
        },
        "id": "9ssSp8U74CCd",
        "outputId": "e1d25c06-cdd7-45cf-bbb3-ec62471d808d"
      },
      "outputs": [
        {
          "output_type": "stream",
          "name": "stdout",
          "text": [
            "Modularity of the club split in Zachary's karate club: 0.48931623931623935\n"
          ]
        }
      ],
      "source": [
        "actualModularity = Modularity(G, partition_prep)\n",
        "print(\"Modularity of the club split in Zachary's karate club: \"+str(actualModularity))"
      ]
    },
    {
      "cell_type": "markdown",
      "metadata": {
        "id": "hgcFIStW4CCe"
      },
      "source": [
        "5. We will now perform a small randomization experiment to assess if the modularity you just computed is statitically different from 0. To do so, we will implement the double edge swap algorithm."
      ]
    },
    {
      "cell_type": "code",
      "execution_count": 22,
      "metadata": {
        "id": "NFTETCpS4CCe"
      },
      "outputs": [],
      "source": [
        "#copying graph\n",
        "G_copy = nx.Graph(G)"
      ]
    },
    {
      "cell_type": "code",
      "execution_count": 23,
      "metadata": {
        "id": "vrJRNghD4CCe"
      },
      "outputs": [],
      "source": [
        "#implementing double edge swap based on the description of the task\n",
        "def double_edge_swap(G):\n",
        "    n = 0\n",
        "    swapcount = 0\n",
        "    degrees = get_total_degree(G)\n",
        "    edge_list = list(G.edges)\n",
        "    while swapcount < G.number_of_edges()+2: #number of edges+2 is just a choice of mine, it could be anything\n",
        "        r1 = random.randint(0,len(edge_list)-1) #picking 2 random edges\n",
        "        r2 = random.randint(0,len(edge_list)-1)\n",
        "        uv = edge_list[r1]\n",
        "        xy = edge_list[r2]\n",
        "        if (uv[0] == xy[0]) or (uv[0] == xy[1]): #if the 2 edges suitable, swap them\n",
        "            continue\n",
        "        if (uv[1] == xy[0]) or (uv[1] == xy[1]):\n",
        "            continue\n",
        "        if (edge_list.__contains__((uv[0],xy[0])) == False) and (edge_list.__contains__((uv[1],xy[1])) == False):\n",
        "            if (edge_list.__contains__((xy[0],uv[0])) == False) and (edge_list.__contains__((xy[1],uv[1])) == False):\n",
        "                G.add_edge(uv[0],xy[0])\n",
        "                G.add_edge(uv[1],xy[1])\n",
        "                G.remove_edge(uv[0],uv[1])\n",
        "                G.remove_edge(xy[0],xy[1])\n",
        "                edge_list = list(G.edges)\n",
        "                swapcount += 1\n",
        "    #print(str(swapcount) + \" swaps are done.\")\n",
        "    "
      ]
    },
    {
      "cell_type": "markdown",
      "metadata": {
        "id": "w2yxIrb34CCe"
      },
      "source": [
        "6. Double check that your algorithm works well, by showing that the degree of nodes in the original network and the new 'randomized' version of the network are the same."
      ]
    },
    {
      "cell_type": "code",
      "execution_count": 24,
      "metadata": {
        "id": "x7NP1Dxs4CCe"
      },
      "outputs": [],
      "source": [
        "swapped = double_edge_swap(G_copy)"
      ]
    },
    {
      "cell_type": "code",
      "execution_count": null,
      "metadata": {
        "id": "thy3crd_4CCe"
      },
      "outputs": [],
      "source": [
        "print(\"Degree of original graph: \"+ str(get_total_degree(G_copy)))\n",
        "print(\"Degree of swapped graph: \"+ str(get_total_degree(swapped)))"
      ]
    },
    {
      "cell_type": "markdown",
      "metadata": {
        "id": "2dDpDPDE4CCe"
      },
      "source": [
        "7. Create 1000 randomized version of the Karate Club network using the double edge swap algorithm you wrote in step 5. For each of them, compute the modularity of the \"club\" split and store it in a list"
      ]
    },
    {
      "cell_type": "code",
      "execution_count": 26,
      "metadata": {
        "id": "NCQfsmV44CCe"
      },
      "outputs": [],
      "source": [
        "#creating 1000 swapped graphs\n",
        "modularityList = []\n",
        "for i in range(1000):\n",
        "    G_copy = nx.Graph(G)\n",
        "    double_edge_swap(G_copy)\n",
        "    modularityList.append(Modularity(G_copy, partition_prep))"
      ]
    },
    {
      "cell_type": "markdown",
      "metadata": {
        "id": "REiLgbIN4CCe"
      },
      "source": [
        "8. Compute the average and standard deviation of the modularity for the random network."
      ]
    },
    {
      "cell_type": "code",
      "execution_count": 27,
      "metadata": {
        "colab": {
          "base_uri": "https://localhost:8080/"
        },
        "id": "JRkhS9s14CCe",
        "outputId": "4450d3d3-d3fa-4692-ef8b-64c8009a560e"
      },
      "outputs": [
        {
          "output_type": "stream",
          "name": "stdout",
          "text": [
            "Average of the modularities: 0.3922899408284019\n"
          ]
        }
      ],
      "source": [
        "print(\"Average of the modularities: \"+str(sum(modularityList) / len(modularityList)))"
      ]
    },
    {
      "cell_type": "code",
      "execution_count": 28,
      "metadata": {
        "colab": {
          "base_uri": "https://localhost:8080/"
        },
        "id": "NEtIzT2F4CCe",
        "outputId": "c4395fdd-af91-4ece-ab0e-7720ed482a67"
      },
      "outputs": [
        {
          "output_type": "stream",
          "name": "stdout",
          "text": [
            "Standard deviation of the modularities: 0.021707825405475323\n"
          ]
        }
      ],
      "source": [
        "print(\"Standard deviation of the modularities: \"+str(np.std(modularityList)))"
      ]
    },
    {
      "cell_type": "markdown",
      "metadata": {
        "id": "ypRlusLb4CCe"
      },
      "source": [
        "9. Plot the distribution of the \"random\" modularity. Plot the actual modularity of the club split as a vertical line (use axvline)."
      ]
    },
    {
      "cell_type": "code",
      "execution_count": 29,
      "metadata": {
        "colab": {
          "base_uri": "https://localhost:8080/"
        },
        "id": "-fqZhruA4CCe",
        "outputId": "f5924450-1b55-4051-b5a4-58a9b56d31f3"
      },
      "outputs": [
        {
          "output_type": "execute_result",
          "data": {
            "text/plain": [
              "(0.33284023668639057, 0.4478961209730441)"
            ]
          },
          "metadata": {},
          "execution_count": 29
        }
      ],
      "source": [
        "#helper for the chart\n",
        "min(modularityList), max(modularityList)"
      ]
    },
    {
      "cell_type": "code",
      "execution_count": 30,
      "metadata": {
        "colab": {
          "base_uri": "https://localhost:8080/",
          "height": 312
        },
        "id": "6yvkVYlZ4CCf",
        "outputId": "22af11a3-3eef-4409-b86a-e85b22abe652"
      },
      "outputs": [
        {
          "output_type": "execute_result",
          "data": {
            "text/plain": [
              "Text(0.455, 150, '  Original\\nmodularity')"
            ]
          },
          "metadata": {},
          "execution_count": 30
        },
        {
          "output_type": "display_data",
          "data": {
            "text/plain": [
              "<Figure size 720x288 with 1 Axes>"
            ],
            "image/png": "[encoded data removed]"
          },
          "metadata": {
            "needs_background": "light"
          }
        }
      ],
      "source": [
        "#create bins and histogram data\n",
        "bins = np.linspace(0.25,0.5,50)\n",
        "hist, edges = np.histogram(modularityList,bins=bins)\n",
        "x = (edges[1:]+edges[:-1])/2\n",
        "width = bins[1]-bins[0]\n",
        "\n",
        "#create plot\n",
        "fig, ax = plt.subplots(figsize=(10,4))\n",
        "ax.set_title(\"Distribution of modularities\")\n",
        "ax.set_xlabel(\"Value [1]\")\n",
        "ax.set_ylabel(\"Count [pcs]\")\n",
        "ax.bar(x,hist,width=width)\n",
        "#plt.xlim([0.25,0.5])\n",
        "ax.axvline(actualModularity, c='r')\n",
        "plt.text(0.455,150,'  Original\\nmodularity')"
      ]
    },
    {
      "cell_type": "markdown",
      "metadata": {
        "id": "ArQt0wme4CCf"
      },
      "source": [
        "10. Comment on the figure. Is the club split a good partitioning? Why do you think I asked you to perform a randomization experiment? What is the reason why we preserved the nodes degree?"
      ]
    },
    {
      "cell_type": "markdown",
      "metadata": {
        "id": "bkBUsEkc4CCf"
      },
      "source": [
        "- As the club split's modularity is much higher than the average, it should be considered as a good partitioning.\n",
        "- I think the randomization helped to contrast the original groups to randomly created ones.\n",
        "- The nodes' degree is highly involved in the computing of modularity, so it must be preserved if we want to draw conclusions."
      ]
    },
    {
      "cell_type": "markdown",
      "metadata": {
        "id": "oG5Zi2oh4CCf"
      },
      "source": [
        "11. Use the Python Louvain-algorithm implementation to find communities in this graph. Report the value of modularity found by the algorithm. Is it higher or lower than what you found above for the club split? What does this comparison reveal?"
      ]
    },
    {
      "cell_type": "code",
      "execution_count": 31,
      "metadata": {
        "id": "OszIMw8m4CCf"
      },
      "outputs": [],
      "source": [
        "#finding communities\n",
        "louvainPartition_tmp = community_louvain.best_partition(G)"
      ]
    },
    {
      "cell_type": "code",
      "execution_count": 32,
      "metadata": {
        "id": "sDn8y0sF4CCf"
      },
      "outputs": [],
      "source": [
        "#formatting to have similar datasets\n",
        "louvainPartition = []\n",
        "nogroups = 0\n",
        "for i in range(len(louvainPartition_tmp)):\n",
        "    if louvainPartition_tmp[i]>= nogroups:\n",
        "        nogroups = louvainPartition_tmp[i]\n",
        "for i in range(nogroups+1):\n",
        "    louvainPartition.append([])\n",
        "for i in range(len(louvainPartition_tmp)):\n",
        "    louvainPartition[louvainPartition_tmp[i]].append(i)"
      ]
    },
    {
      "cell_type": "code",
      "execution_count": 33,
      "metadata": {
        "colab": {
          "base_uri": "https://localhost:8080/"
        },
        "id": "YZGmWq_W4CCf",
        "outputId": "df9865a3-4946-4be9-9f07-6bccb5ccb9d5"
      },
      "outputs": [
        {
          "output_type": "execute_result",
          "data": {
            "text/plain": [
              "[[0, 1, 2, 3, 7, 11, 12, 13, 17, 19, 21],\n",
              " [8, 9, 14, 15, 18, 20, 22, 26, 29, 30, 32, 33],\n",
              " [23, 24, 25, 27, 28, 31],\n",
              " [4, 5, 6, 10, 16]]"
            ]
          },
          "metadata": {},
          "execution_count": 33
        }
      ],
      "source": [
        "louvainPartition"
      ]
    },
    {
      "cell_type": "code",
      "execution_count": 34,
      "metadata": {
        "colab": {
          "base_uri": "https://localhost:8080/"
        },
        "id": "d-GMpwtX4CCf",
        "outputId": "6ebdcbbb-5040-47a1-fe92-4035b71b0801"
      },
      "outputs": [
        {
          "output_type": "execute_result",
          "data": {
            "text/plain": [
              "[[0, 1, 2, 3, 4, 5, 6, 7, 8, 10, 11, 12, 13, 16, 17, 19, 21],\n",
              " [9, 14, 15, 18, 20, 22, 23, 24, 25, 26, 27, 28, 29, 30, 31, 32, 33]]"
            ]
          },
          "metadata": {},
          "execution_count": 34
        }
      ],
      "source": [
        "partition_prep"
      ]
    },
    {
      "cell_type": "code",
      "execution_count": 35,
      "metadata": {
        "colab": {
          "base_uri": "https://localhost:8080/"
        },
        "id": "-81snK3w4CCf",
        "outputId": "ceaea8f1-f2ea-4959-9a22-1146190d1fd8"
      },
      "outputs": [
        {
          "output_type": "stream",
          "name": "stdout",
          "text": [
            "Modularity with the found communities: 0.5573635765943459\n",
            "Modularity of the club split: 0.48931623931623935\n"
          ]
        }
      ],
      "source": [
        "print(\"Modularity with the found communities: \" + str(Modularity(G, louvainPartition)))\n",
        "print(\"Modularity of the club split: \" + str(actualModularity))"
      ]
    },
    {
      "cell_type": "markdown",
      "metadata": {
        "id": "exkEtG4u4CCf"
      },
      "source": [
        "The modularity is higher, which shows that the club split is not the most accurate division of the group.<br>\n",
        "In fact this suggests, that we could split these 2 groups into even smaller communities, which will result in a higher modularity number."
      ]
    },
    {
      "cell_type": "markdown",
      "metadata": {
        "id": "9ea-HwNc4CCf"
      },
      "source": [
        "12. Compare the communities found by the Louvain algorithm with the club split partitioning by creating a matrix D with dimension (2 times A), where A is the number of communities found by Louvain. We set entry D(i,j) to be the number of nodes that community i has in common with group split j. The matrix D is what we call a confusion matrix. Use the confusion matrix to explain how well the communities you've detected correspond to the club split partitioning."
      ]
    },
    {
      "cell_type": "code",
      "execution_count": 36,
      "metadata": {
        "id": "eBpSuAzG4CCf"
      },
      "outputs": [],
      "source": [
        "#creating confusion matrix\n",
        "data = [[\"\",\"Louvain group 1\", \"Louvain group 2\",\"Louvain group 3\",\"Louvain group 4\"],\n",
        "        [\"Club group 1\", len(set(louvainPartition[0]).intersection(set(partition_prep[0]))),\n",
        "        len(set(louvainPartition[0]).intersection(set(partition_prep[1]))),\n",
        "        len(set(louvainPartition[1]).intersection(set(partition_prep[0]))),\n",
        "        len(set(louvainPartition[1]).intersection(set(partition_prep[1])))],\n",
        "        [\"Club group 2\", len(set(louvainPartition[2]).intersection(set(partition_prep[0]))),\n",
        "        len(set(louvainPartition[2]).intersection(set(partition_prep[1]))),\n",
        "        len(set(louvainPartition[3]).intersection(set(partition_prep[0]))),\n",
        "        len(set(louvainPartition[3]).intersection(set(partition_prep[1])))]]"
      ]
    },
    {
      "cell_type": "code",
      "execution_count": 37,
      "metadata": {
        "colab": {
          "base_uri": "https://localhost:8080/"
        },
        "id": "UGeJziQe4CCf",
        "outputId": "514aa32b-d919-4c65-e44e-a9c96accf877"
      },
      "outputs": [
        {
          "output_type": "stream",
          "name": "stdout",
          "text": [
            "╒══════════════╤═════════════════╤═════════════════╤═════════════════╤═════════════════╕\n",
            "│              │ Louvain group 1 │ Louvain group 2 │ Louvain group 3 │ Louvain group 4 │\n",
            "├──────────────┼─────────────────┼─────────────────┼─────────────────┼─────────────────┤\n",
            "│ Club group 1 │ 11              │ 0               │ 1               │ 11              │\n",
            "├──────────────┼─────────────────┼─────────────────┼─────────────────┼─────────────────┤\n",
            "│ Club group 2 │ 0               │ 6               │ 5               │ 0               │\n",
            "╘══════════════╧═════════════════╧═════════════════╧═════════════════╧═════════════════╛\n"
          ]
        }
      ],
      "source": [
        "print(tabulate(data, tablefmt=\"fancy_grid\"))"
      ]
    },
    {
      "cell_type": "markdown",
      "metadata": {
        "id": "M_Vi_v2p4CCf"
      },
      "source": [
        "The takeaway here is that since almost all nodes of the Louvain groups are either from the club split 1 or 2 (only one exception to this), <br>\n",
        "the Louvain groups represent a similar community division as the original, it just consits of 2 extra groups.<br>\n",
        "Adding group 1-3 and 2-4 together would almost result in the same groups."
      ]
    },
    {
      "cell_type": "markdown",
      "metadata": {
        "id": "GQ57JCzU4CCf"
      },
      "source": [
        "#### Exercise 3: Community detection on the network of Computational Social Scientists.\n",
        "\n",
        "13. Consider the network you built in Week 4. <br>\n",
        "Use the Python Louvain-algorithm implementation to find communities. How many communities do you find? What are their sizes? Report the value of modularity found by the algorithm. Is the modularity significantly different than 0?"
      ]
    },
    {
      "cell_type": "code",
      "source": [
        "#Only if you use colab\n",
        "from google.colab import drive\n",
        "drive.mount('/content/gdrive',force_remount=True)"
      ],
      "metadata": {
        "colab": {
          "base_uri": "https://localhost:8080/"
        },
        "id": "gDICBiXP5KTA",
        "outputId": "798c3e83-d88b-47a5-8349-385b908d8dc7"
      },
      "execution_count": 39,
      "outputs": [
        {
          "output_type": "stream",
          "name": "stdout",
          "text": [
            "Mounted at /content/gdrive\n"
          ]
        }
      ]
    },
    {
      "cell_type": "code",
      "execution_count": 61,
      "metadata": {
        "id": "Iu4Bmwdb4CCf"
      },
      "outputs": [],
      "source": [
        "# Load the JSON file\n",
        "with open('/content/gdrive/MyDrive/Computational Social Science/graph.json') as f: # I inserted my own path //Mads\n",
        "    data = json.load(f)\n",
        "\n",
        "# Create a new NetworkX graph\n",
        "G_CSS = nx.Graph()\n",
        "\n",
        "# Add nodes to the graph\n",
        "for node in data['nodes']:\n",
        "    G_CSS.add_node(node['id'], name=node['name'], field=node['field'], median_cit_count=node['median_cit_count'], first_paper=node['first_paper'])\n",
        "\n",
        "# Add edges to the graph\n",
        "for edge in data['links']:\n",
        "    G_CSS.add_edge(edge['source'], edge['target'], weight=edge['weight'])"
      ]
    },
    {
      "cell_type": "code",
      "execution_count": 42,
      "metadata": {
        "id": "V6X7YfiO4CCf"
      },
      "outputs": [],
      "source": [
        "louvainPartition_CSS = community_louvain.best_partition(G_CSS)"
      ]
    },
    {
      "cell_type": "code",
      "execution_count": 43,
      "metadata": {
        "colab": {
          "base_uri": "https://localhost:8080/"
        },
        "id": "mkjYuw2v4CCg",
        "outputId": "b8d09749-3a24-4b27-948d-cc147f46b149"
      },
      "outputs": [
        {
          "output_type": "stream",
          "name": "stdout",
          "text": [
            "Communities found: 871\n"
          ]
        }
      ],
      "source": [
        "all_comms = max(louvainPartition_CSS.values())\n",
        "print(\"Communities found: \" + str(all_comms))"
      ]
    },
    {
      "cell_type": "code",
      "execution_count": 44,
      "metadata": {
        "id": "hjofdalT4CCg"
      },
      "outputs": [],
      "source": [
        "#convert dict to a more managable format for myself\n",
        "louvainPartition = []\n",
        "for i in range(all_comms + 1):\n",
        "    louvainPartition.append([])\n",
        "for node_id, group_id in louvainPartition_CSS.items():\n",
        "    louvainPartition[group_id].append(node_id)"
      ]
    },
    {
      "cell_type": "markdown",
      "metadata": {
        "id": "Rg7H5-N94CCg"
      },
      "source": [
        "Showing a few examples of the sizes of communities:"
      ]
    },
    {
      "cell_type": "code",
      "execution_count": 45,
      "metadata": {
        "colab": {
          "base_uri": "https://localhost:8080/"
        },
        "id": "T2tHQ8la4CCg",
        "outputId": "fa8d2842-5f0b-46f6-baef-0a9ecce90118"
      },
      "outputs": [
        {
          "output_type": "stream",
          "name": "stdout",
          "text": [
            "11, 1, 162, 1, 202, 167, 160, 90, 80, 111, 1, 2, 1, 60, 308, 2, 144, 1, 87, 9, 89, 132, 78, 84, 33, 227, 2, 1, 14, 72, "
          ]
        }
      ],
      "source": [
        "for i in range(30):\n",
        "    print(len(louvainPartition[i]), end =\", \")"
      ]
    },
    {
      "cell_type": "code",
      "execution_count": 46,
      "metadata": {
        "colab": {
          "base_uri": "https://localhost:8080/"
        },
        "id": "S6p7OwDP4CCg",
        "outputId": "7edbe6fd-dcd4-488b-8826-d10335ffc507"
      },
      "outputs": [
        {
          "output_type": "execute_result",
          "data": {
            "text/plain": [
              "0.8807767793327977"
            ]
          },
          "metadata": {},
          "execution_count": 46
        }
      ],
      "source": [
        "#computing modularity\n",
        "community_louvain.modularity(louvainPartition_CSS, G_CSS)"
      ]
    },
    {
      "cell_type": "markdown",
      "source": [],
      "metadata": {
        "id": "l_5eBbHd_E1s"
      }
    },
    {
      "cell_type": "markdown",
      "metadata": {
        "id": "OMMsy7nw4CCg"
      },
      "source": [
        "Yes, the modularity is fairly close to 1, that means the division is good. <br>Since this is the purpose of the algorithm (to create a division which represents groups), this was expected."
      ]
    },
    {
      "cell_type": "markdown",
      "metadata": {
        "id": "bXZ-w2IL4CCg"
      },
      "source": [
        "14. If you are curious, you can also try the Infomap algorithm. Go to [this page]. (https://mapequation.github.io/infomap/python/). It's harder to install, but a better community detection algorithm. You can read about it in advanced topics 9B.\n",
        "\n",
        "- I couldn't make this work, the package is broken (all versions) for some reason.\n",
        "- I would expect this algorithm to create a better division, which would result in a higher modularity."
      ]
    },
    {
      "cell_type": "code",
      "source": [
        "!pip install infomap # Install the package in the colab env. "
      ],
      "metadata": {
        "colab": {
          "base_uri": "https://localhost:8080/"
        },
        "id": "0tX2wJhv5w8n",
        "outputId": "65cfd34f-16fb-4875-99b3-b2519199f1b3"
      },
      "execution_count": 49,
      "outputs": [
        {
          "output_type": "stream",
          "name": "stdout",
          "text": [
            "Looking in indexes: https://pypi.org/simple, https://us-python.pkg.dev/colab-wheels/public/simple/\n",
            "Collecting infomap\n",
            "  Downloading infomap-2.6.1.tar.gz (262 kB)\n",
            "\u001b[2K     \u001b[90m━━━━━━━━━━━━━━━━━━━━━━━━━━━━━━━━━━━━━━━\u001b[0m \u001b[32m262.1/262.1 KB\u001b[0m \u001b[31m6.8 MB/s\u001b[0m eta \u001b[36m0:00:00\u001b[0m\n",
            "\u001b[?25h  Preparing metadata (setup.py) ... \u001b[?25l\u001b[?25hdone\n",
            "Building wheels for collected packages: infomap\n",
            "  Building wheel for infomap (setup.py) ... \u001b[?25l\u001b[?25hdone\n",
            "  Created wheel for infomap: filename=infomap-2.6.1-cp39-cp39-linux_x86_64.whl size=8789742 sha256=ce13dfa778eeee0d2bf2de5b82c40485690e8c586ef365260e42aceb2b17e1c0\n",
            "  Stored in directory: /root/.cache/pip/wheels/a6/da/ca/2027f05b9c1d8e4ac3690e0dc43de43427936c44888d9a1b3c\n",
            "Successfully built infomap\n",
            "Installing collected packages: infomap\n",
            "Successfully installed infomap-2.6.1\n"
          ]
        }
      ]
    },
    {
      "cell_type": "code",
      "source": [
        "from infomap import Infomap"
      ],
      "metadata": {
        "id": "r1dtJa5j6ALD"
      },
      "execution_count": 87,
      "outputs": []
    },
    {
      "cell_type": "code",
      "source": [
        "im = Infomap(silent=False,num_trials=20)\n",
        "im.add_networkx_graph(G_CSS)\n",
        "im.run()"
      ],
      "metadata": {
        "id": "fyiUzHwG8MRk"
      },
      "execution_count": 85,
      "outputs": []
    },
    {
      "cell_type": "code",
      "source": [
        "print(f\"Found {im.num_top_modules} modules with codelength {im.codelength:.8f} bits\")"
      ],
      "metadata": {
        "colab": {
          "base_uri": "https://localhost:8080/"
        },
        "id": "NnNF6YCg90ql",
        "outputId": "0574c018-1b6b-49d0-a102-cbbdef57fbd1"
      },
      "execution_count": 86,
      "outputs": [
        {
          "output_type": "stream",
          "name": "stdout",
          "text": [
            "Found 847 modules with codelength 5.01254620 bits\n"
          ]
        }
      ]
    },
    {
      "cell_type": "markdown",
      "metadata": {
        "id": "b4hRWW7p4CCg"
      },
      "source": [
        "15. Visualize the network, using netwulf (see Week 5). This time assign each node a different color based on their community. Describe the structure you observe. <br>\n",
        "Make sure you save the assignment of authors to communities."
      ]
    },
    {
      "cell_type": "code",
      "execution_count": 47,
      "metadata": {
        "id": "IW1Fb2DK4CCg"
      },
      "outputs": [],
      "source": [
        "mydict = louvainPartition_CSS"
      ]
    },
    {
      "cell_type": "code",
      "execution_count": 48,
      "metadata": {
        "id": "UhtY3s-o4CCg"
      },
      "outputs": [],
      "source": [
        "ColorArray =[]\n",
        "\n",
        "#generating a color for each community\n",
        "for key in mydict:\n",
        "    value = mydict[key]\n",
        "    hexcode = str('#%03X%03X' % (value,value))\n",
        "    ColorArray.append(hexcode)\n",
        "    \n",
        "dictionaryColor = dict(zip(list(G_CSS.nodes), ColorArray))\n",
        "nx.set_node_attributes(G_CSS, dictionaryColor,\"color\")"
      ]
    },
    {
      "cell_type": "code",
      "execution_count": null,
      "metadata": {
        "id": "Lio-m4UL4CCg"
      },
      "outputs": [],
      "source": [
        "#visualizing using netwulf\n",
        "wulf.visualize(G_CSS, plot_in_cell_below=False)"
      ]
    },
    {
      "cell_type": "markdown",
      "metadata": {
        "id": "zCQ1uea34CCg"
      },
      "source": [
        "- The densely connected inner part is dominated by a few (approximately 7-8) groups, while there are a lot of single nodes towards the perimeter.\n",
        "- I think it could help, if we filtered out the single nodes."
      ]
    },
    {
      "cell_type": "markdown",
      "metadata": {
        "id": "Uy9mjYVq4CCg"
      },
      "source": [
        "![title](css_vis.png)"
      ]
    }
  ],
  "metadata": {
    "kernelspec": {
      "display_name": ".venv",
      "language": "python",
      "name": "python3"
    },
    "language_info": {
      "codemirror_mode": {
        "name": "ipython",
        "version": 3
      },
      "file_extension": ".py",
      "mimetype": "text/x-python",
      "name": "python",
      "nbconvert_exporter": "python",
      "pygments_lexer": "ipython3",
      "version": "3.11.2"
    },
    "orig_nbformat": 4,
    "colab": {
      "provenance": []
    }
  },
  "nbformat": 4,
  "nbformat_minor": 0
}