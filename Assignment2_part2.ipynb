{
 "cells": [
  {
   "cell_type": "code",
   "execution_count": 1,
   "metadata": {},
   "outputs": [],
   "source": [
    "import numpy as np\n",
    "import networkx as nx\n",
    "import matplotlib.pyplot as plt\n",
    "import pandas as pd\n",
    "import netwulf as wulf\n",
    "import random\n",
    "from networkx.algorithms import community\n",
    "from community import community_louvain\n",
    "from tabulate import tabulate\n",
    "import json\n",
    "import jsonpickle\n",
    "from networkx.readwrite import json_graph"
   ]
  },
  {
   "attachments": {},
   "cell_type": "markdown",
   "metadata": {},
   "source": [
    "### Part 2: Communities\n",
    "\n",
    "#### Exercise 2: Zachary's karate club: In this exercise, we will work on Zarachy's karate club graph.\n",
    "\n",
    "The dataset is available in NetworkX, by calling the function karate_club_graph"
   ]
  },
  {
   "cell_type": "code",
   "execution_count": 2,
   "metadata": {},
   "outputs": [],
   "source": [
    "#creating the graph\n",
    "G = nx.karate_club_graph()"
   ]
  },
  {
   "attachments": {},
   "cell_type": "markdown",
   "metadata": {},
   "source": [
    "1. Visualize the graph using netwulf. Set the color of each node based on the club split (the information is stored as a node attribute)."
   ]
  },
  {
   "cell_type": "code",
   "execution_count": 3,
   "metadata": {},
   "outputs": [],
   "source": [
    "#prepare the dataset, label each node to store color information for the visualization\n",
    "belonging = nx.get_node_attributes(G, 'club')\n",
    "\n",
    "ColorArray =[]\n",
    "partition_prep = [[],[]]\n",
    "\n",
    "for i in belonging:\n",
    "    if belonging[i] == \"Mr. Hi\":\n",
    "        ColorArray.append(\"#606060FF\")\n",
    "        partition_prep[0].append(i)\n",
    "    else:\n",
    "        ColorArray.append(\"#D6ED17FF\")\n",
    "        partition_prep[1].append(i)\n",
    "\n",
    "\n",
    "dictionaryColor = dict(zip(list(G.nodes), ColorArray))\n",
    "nx.set_node_attributes(G, dictionaryColor,\"color\")"
   ]
  },
  {
   "cell_type": "code",
   "execution_count": 4,
   "metadata": {},
   "outputs": [],
   "source": [
    "#create custom configuration for netwulf, so it is immediatelly nice after we run it\n",
    "custom_config = {\n",
    "    \"zoom\": 1.09320127948937,\n",
    "    \"node_charge\": -100,\n",
    "    \"node_gravity\": 0.02906058760349766,\n",
    "    \"link_distance\": 50,\n",
    "    \"link_distance_variation\": 0,\n",
    "    \"node_collision\": False,\n",
    "    \"wiggle_nodes\": False,\n",
    "    \"freeze_nodes\": False,\n",
    "    \"node_fill_color\": \"#79aaa0\",\n",
    "    \"node_stroke_color\": \"#555555\",\n",
    "    \"node_label_color\": \"#000000\",\n",
    "    \"node_size\": 6.64244264770301,\n",
    "    \"node_stroke_width\": 1.0171237334889143,\n",
    "    \"node_size_variation\": 0.5,\n",
    "    \"display_node_labels\": False,\n",
    "    \"scale_node_size_by_strength\": False,\n",
    "    \"link_color\": \"#7c7c7c\",\n",
    "    \"link_width\": 3.9941371000922654,\n",
    "    \"link_alpha\": 0.4026983428655228,\n",
    "    \"link_width_variation\": 0.6,\n",
    "    \"display_singleton_nodes\": True,\n",
    "    \"min_link_weight_percentile\": 0,\n",
    "    \"max_link_weight_percentile\": 1\n",
    "}"
   ]
  },
  {
   "cell_type": "code",
   "execution_count": null,
   "metadata": {},
   "outputs": [],
   "source": [
    "#visualizing using netwulf\n",
    "wulf.visualize(G, config = custom_config, plot_in_cell_below=False)"
   ]
  },
  {
   "attachments": {},
   "cell_type": "markdown",
   "metadata": {},
   "source": [
    "![title](netwulf.png)"
   ]
  },
  {
   "attachments": {},
   "cell_type": "markdown",
   "metadata": {},
   "source": [
    "2. Write a function to compute the modularity of a graph partitioning (use equation 9.12 in the book). The function should take a networkX Graph and a partitioning as inputs and return the modularity."
   ]
  },
  {
   "cell_type": "code",
   "execution_count": 12,
   "metadata": {},
   "outputs": [],
   "source": [
    "#helper method to calculate degree of a graph\n",
    "def get_total_degree(G):\n",
    "    sum = 0\n",
    "    for i in range(G.number_of_nodes()):\n",
    "        sum += G.degree(list(G)[i])\n",
    "    return sum"
   ]
  },
  {
   "attachments": {},
   "cell_type": "markdown",
   "metadata": {},
   "source": [
    "The modularity is calculated as: <br>\n",
    "$Q = \\sum_{c=1}^{n}\n",
    "       \\left[ \\frac{L_c}{m} - \\gamma\\left( \\frac{k_c}{2m} \\right) ^2 \\right]$\n",
    "<br>where\n",
    "- L_c is the number of links within community c\n",
    "- m is the total number of connections in the graph\n",
    "- k_c is the total degree of each community c\n",
    "- $\\gamma$ is the resolution parameter (in this case 1)"
   ]
  },
  {
   "cell_type": "code",
   "execution_count": 13,
   "metadata": {},
   "outputs": [],
   "source": [
    "def Modularity(G,  p):\n",
    "    mod = 0.0\n",
    "    L = G.number_of_edges()\n",
    "    for i in range(len(p)):\n",
    "        tmp = G.subgraph(p[i])\n",
    "        L_c = tmp.number_of_edges()\n",
    "        k_c = get_total_degree(tmp)\n",
    "        mod += ((L_c/L) - pow((k_c/(2*L)),2))\n",
    "    return mod"
   ]
  },
  {
   "attachments": {},
   "cell_type": "markdown",
   "metadata": {},
   "source": [
    "3. Explain in your own words the concept of modularity.\n",
    "<br>\n",
    "\n",
    "Modularity helps to gain an idea about how well-partitioned a graph is to communities.\n",
    "It compares the inner edges of each group with all of the edges.\n",
    "It shows how well the communitie's nodes are connected to each other, as opposed to the whole network."
   ]
  },
  {
   "attachments": {},
   "cell_type": "markdown",
   "metadata": {},
   "source": [
    "4. Compute the modularity of the Karate club split partitioning using the function you just wrote."
   ]
  },
  {
   "cell_type": "code",
   "execution_count": 14,
   "metadata": {},
   "outputs": [
    {
     "name": "stdout",
     "output_type": "stream",
     "text": [
      "Modularity of the club split in Zachary's karate club: 0.48931623931623935\n"
     ]
    }
   ],
   "source": [
    "actualModularity = Modularity(G, partition_prep)\n",
    "print(\"Modularity of the club split in Zachary's karate club: \"+str(actualModularity))"
   ]
  },
  {
   "attachments": {},
   "cell_type": "markdown",
   "metadata": {},
   "source": [
    "5. We will now perform a small randomization experiment to assess if the modularity you just computed is statitically different from 0. To do so, we will implement the double edge swap algorithm."
   ]
  },
  {
   "cell_type": "code",
   "execution_count": 16,
   "metadata": {},
   "outputs": [],
   "source": [
    "#copying graph\n",
    "G_copy = nx.Graph(G)"
   ]
  },
  {
   "cell_type": "code",
   "execution_count": 40,
   "metadata": {},
   "outputs": [],
   "source": [
    "#implementing double edge swap based on the description of the task\n",
    "def double_edge_swap(G):\n",
    "    n = 0\n",
    "    swapcount = 0\n",
    "    degrees = get_total_degree(G)\n",
    "    edge_list = list(G.edges)\n",
    "    while swapcount < G.number_of_edges()+2: #number of edges+2 is just a choice of mine, it could be anything\n",
    "        r1 = random.randint(0,len(edge_list)-1) #picking 2 random edges\n",
    "        r2 = random.randint(0,len(edge_list)-1)\n",
    "        uv = edge_list[r1]\n",
    "        xy = edge_list[r2]\n",
    "        if (uv[0] == xy[0]) or (uv[0] == xy[1]): #if the 2 edges suitable, swap them\n",
    "            continue\n",
    "        if (uv[1] == xy[0]) or (uv[1] == xy[1]):\n",
    "            continue\n",
    "        if (edge_list.__contains__((uv[0],xy[0])) == False) and (edge_list.__contains__((uv[1],xy[1])) == False):\n",
    "            if (edge_list.__contains__((xy[0],uv[0])) == False) and (edge_list.__contains__((xy[1],uv[1])) == False):\n",
    "                G.add_edge(uv[0],xy[0])\n",
    "                G.add_edge(uv[1],xy[1])\n",
    "                G.remove_edge(uv[0],uv[1])\n",
    "                G.remove_edge(xy[0],xy[1])\n",
    "                edge_list = list(G.edges)\n",
    "                swapcount += 1\n",
    "    #print(str(swapcount) + \" swaps are done.\")\n",
    "    "
   ]
  },
  {
   "attachments": {},
   "cell_type": "markdown",
   "metadata": {},
   "source": [
    "6. Double check that your algorithm works well, by showing that the degree of nodes in the original network and the new 'randomized' version of the network are the same."
   ]
  },
  {
   "cell_type": "code",
   "execution_count": 22,
   "metadata": {},
   "outputs": [],
   "source": [
    "swapped = double_edge_swap(G_copy)"
   ]
  },
  {
   "cell_type": "code",
   "execution_count": 23,
   "metadata": {},
   "outputs": [
    {
     "name": "stdout",
     "output_type": "stream",
     "text": [
      "Degree of original graph: 156\n",
      "Degree of swapped graph: 156\n"
     ]
    }
   ],
   "source": [
    "print(\"Degree of original graph: \"+ str(get_total_degree(G_copy)))\n",
    "print(\"Degree of swapped graph: \"+ str(get_total_degree(swapped)))"
   ]
  },
  {
   "attachments": {},
   "cell_type": "markdown",
   "metadata": {},
   "source": [
    "7. Create 1000 randomized version of the Karate Club network using the double edge swap algorithm you wrote in step 5. For each of them, compute the modularity of the \"club\" split and store it in a list"
   ]
  },
  {
   "cell_type": "code",
   "execution_count": 42,
   "metadata": {},
   "outputs": [],
   "source": [
    "#creating 1000 swapped graphs\n",
    "modularityList = []\n",
    "for i in range(1000):\n",
    "    G_copy = nx.Graph(G)\n",
    "    double_edge_swap(G_copy)\n",
    "    modularityList.append(Modularity(G_copy, partition_prep))"
   ]
  },
  {
   "attachments": {},
   "cell_type": "markdown",
   "metadata": {},
   "source": [
    "8. Compute the average and standard deviation of the modularity for the random network."
   ]
  },
  {
   "cell_type": "code",
   "execution_count": 43,
   "metadata": {},
   "outputs": [
    {
     "name": "stdout",
     "output_type": "stream",
     "text": [
      "Average of the modularities: 0.3912472057856665\n"
     ]
    }
   ],
   "source": [
    "print(\"Average of the modularities: \"+str(sum(modularityList) / len(modularityList)))"
   ]
  },
  {
   "cell_type": "code",
   "execution_count": 44,
   "metadata": {},
   "outputs": [
    {
     "name": "stdout",
     "output_type": "stream",
     "text": [
      "Standard deviation of the modularities: 0.022432186499064224\n"
     ]
    }
   ],
   "source": [
    "print(\"Standard deviation of the modularities: \"+str(np.std(modularityList)))"
   ]
  },
  {
   "attachments": {},
   "cell_type": "markdown",
   "metadata": {},
   "source": [
    "9. Plot the distribution of the \"random\" modularity. Plot the actual modularity of the club split as a vertical line (use axvline)."
   ]
  },
  {
   "cell_type": "code",
   "execution_count": 45,
   "metadata": {},
   "outputs": [
    {
     "data": {
      "text/plain": [
       "(0.31771860618014464, 0.4478961209730441)"
      ]
     },
     "execution_count": 45,
     "metadata": {},
     "output_type": "execute_result"
    }
   ],
   "source": [
    "#helper for the chart\n",
    "min(modularityList), max(modularityList)"
   ]
  },
  {
   "cell_type": "code",
   "execution_count": 47,
   "metadata": {},
   "outputs": [
    {
     "data": {
      "text/plain": [
       "Text(0.455, 150, '  Original\\nmodularity')"
      ]
     },
     "execution_count": 47,
     "metadata": {},
     "output_type": "execute_result"
    },
    {
     "data": {
      "image/png": "[encoded data removed]",
      "text/plain": [
       "<Figure size 1000x400 with 1 Axes>"
      ]
     },
     "metadata": {},
     "output_type": "display_data"
    }
   ],
   "source": [
    "#create bins and histogram data\n",
    "bins = np.linspace(0.25,0.5,50)\n",
    "hist, edges = np.histogram(modularityList,bins=bins)\n",
    "x = (edges[1:]+edges[:-1])/2\n",
    "width = bins[1]-bins[0]\n",
    "\n",
    "#create plot\n",
    "fig, ax = plt.subplots(figsize=(10,4))\n",
    "ax.set_title(\"Distribution of modularities\")\n",
    "ax.set_xlabel(\"Value [1]\")\n",
    "ax.set_ylabel(\"Count [pcs]\")\n",
    "ax.bar(x,hist,width=width)\n",
    "#plt.xlim([0.25,0.5])\n",
    "ax.axvline(actualModularity, c='r')\n",
    "plt.text(0.455,150,'  Original\\nmodularity')"
   ]
  },
  {
   "attachments": {},
   "cell_type": "markdown",
   "metadata": {},
   "source": [
    "10. Comment on the figure. Is the club split a good partitioning? Why do you think I asked you to perform a randomization experiment? What is the reason why we preserved the nodes degree?"
   ]
  },
  {
   "attachments": {},
   "cell_type": "markdown",
   "metadata": {},
   "source": [
    "- As the club split's modularity is much higher than the average, it should be considered as a good partitioning.\n",
    "- I think the randomization helped to contrast the original groups to randomly created ones.\n",
    "- The nodes' degree is highly involved in the computing of modularity, so it must be preserved if we want to draw conclusions."
   ]
  },
  {
   "attachments": {},
   "cell_type": "markdown",
   "metadata": {},
   "source": [
    "11. Use the Python Louvain-algorithm implementation to find communities in this graph. Report the value of modularity found by the algorithm. Is it higher or lower than what you found above for the club split? What does this comparison reveal?"
   ]
  },
  {
   "cell_type": "code",
   "execution_count": 48,
   "metadata": {},
   "outputs": [],
   "source": [
    "#finding communities\n",
    "louvainPartition_tmp = community_louvain.best_partition(G)"
   ]
  },
  {
   "cell_type": "code",
   "execution_count": 49,
   "metadata": {},
   "outputs": [],
   "source": [
    "#formatting to have similar datasets\n",
    "louvainPartition = []\n",
    "nogroups = 0\n",
    "for i in range(len(louvainPartition_tmp)):\n",
    "    if louvainPartition_tmp[i]>= nogroups:\n",
    "        nogroups = louvainPartition_tmp[i]\n",
    "for i in range(nogroups+1):\n",
    "    louvainPartition.append([])\n",
    "for i in range(len(louvainPartition_tmp)):\n",
    "    louvainPartition[louvainPartition_tmp[i]].append(i)"
   ]
  },
  {
   "cell_type": "code",
   "execution_count": 50,
   "metadata": {},
   "outputs": [
    {
     "data": {
      "text/plain": [
       "[[0, 1, 2, 3, 7, 11, 12, 13, 17, 19, 21],\n",
       " [4, 5, 6, 10, 16],\n",
       " [8, 9, 14, 15, 18, 20, 22, 26, 28, 29, 30, 32, 33],\n",
       " [23, 24, 25, 27, 31]]"
      ]
     },
     "execution_count": 50,
     "metadata": {},
     "output_type": "execute_result"
    }
   ],
   "source": [
    "louvainPartition"
   ]
  },
  {
   "cell_type": "code",
   "execution_count": 51,
   "metadata": {},
   "outputs": [
    {
     "data": {
      "text/plain": [
       "[[0, 1, 2, 3, 4, 5, 6, 7, 8, 10, 11, 12, 13, 16, 17, 19, 21],\n",
       " [9, 14, 15, 18, 20, 22, 23, 24, 25, 26, 27, 28, 29, 30, 31, 32, 33]]"
      ]
     },
     "execution_count": 51,
     "metadata": {},
     "output_type": "execute_result"
    }
   ],
   "source": [
    "partition_prep"
   ]
  },
  {
   "cell_type": "code",
   "execution_count": 52,
   "metadata": {},
   "outputs": [
    {
     "name": "stdout",
     "output_type": "stream",
     "text": [
      "Modularity with the found communities: 0.5524326101249178\n",
      "Modularity of the club split: 0.48931623931623935\n"
     ]
    }
   ],
   "source": [
    "print(\"Modularity with the found communities: \" + str(Modularity(G, louvainPartition)))\n",
    "print(\"Modularity of the club split: \" + str(actualModularity))"
   ]
  },
  {
   "attachments": {},
   "cell_type": "markdown",
   "metadata": {},
   "source": [
    "The modularity is higher, which shows that the club split is not the most accurate division of the group.<br>\n",
    "In fact this suggests, that we could split these 2 groups into even smaller communities, which will result in a higher modularity number."
   ]
  },
  {
   "attachments": {},
   "cell_type": "markdown",
   "metadata": {},
   "source": [
    "12. Compare the communities found by the Louvain algorithm with the club split partitioning by creating a matrix D with dimension (2 times A), where A is the number of communities found by Louvain. We set entry D(i,j) to be the number of nodes that community i has in common with group split j. The matrix D is what we call a confusion matrix. Use the confusion matrix to explain how well the communities you've detected correspond to the club split partitioning."
   ]
  },
  {
   "cell_type": "code",
   "execution_count": 53,
   "metadata": {},
   "outputs": [],
   "source": [
    "#creating confusion matrix\n",
    "data = [[\"\",\"Louvain group 1\", \"Louvain group 2\",\"Louvain group 3\",\"Louvain group 4\"],\n",
    "        [\"Club group 1\", len(set(louvainPartition[0]).intersection(set(partition_prep[0]))),\n",
    "        len(set(louvainPartition[0]).intersection(set(partition_prep[1]))),\n",
    "        len(set(louvainPartition[1]).intersection(set(partition_prep[0]))),\n",
    "        len(set(louvainPartition[1]).intersection(set(partition_prep[1])))],\n",
    "        [\"Club group 2\", len(set(louvainPartition[2]).intersection(set(partition_prep[0]))),\n",
    "        len(set(louvainPartition[2]).intersection(set(partition_prep[1]))),\n",
    "        len(set(louvainPartition[3]).intersection(set(partition_prep[0]))),\n",
    "        len(set(louvainPartition[3]).intersection(set(partition_prep[1])))]]"
   ]
  },
  {
   "cell_type": "code",
   "execution_count": 54,
   "metadata": {},
   "outputs": [
    {
     "name": "stdout",
     "output_type": "stream",
     "text": [
      "╒══════════════╤═════════════════╤═════════════════╤═════════════════╤═════════════════╕\n",
      "│              │ Louvain group 1 │ Louvain group 2 │ Louvain group 3 │ Louvain group 4 │\n",
      "├──────────────┼─────────────────┼─────────────────┼─────────────────┼─────────────────┤\n",
      "│ Club group 1 │ 11              │ 0               │ 5               │ 0               │\n",
      "├──────────────┼─────────────────┼─────────────────┼─────────────────┼─────────────────┤\n",
      "│ Club group 2 │ 1               │ 12              │ 0               │ 5               │\n",
      "╘══════════════╧═════════════════╧═════════════════╧═════════════════╧═════════════════╛\n"
     ]
    }
   ],
   "source": [
    "print(tabulate(data, tablefmt=\"fancy_grid\"))"
   ]
  },
  {
   "attachments": {},
   "cell_type": "markdown",
   "metadata": {},
   "source": [
    "The takeaway here is that since almost all nodes of the Louvain groups are either from the club split 1 or 2 (only one exception to this), <br>\n",
    "the Louvain groups represent a similar community division as the original, it just consits of 2 extra groups.<br>\n",
    "Adding group 1-3 and 2-4 together would almost result in the same groups."
   ]
  },
  {
   "attachments": {},
   "cell_type": "markdown",
   "metadata": {},
   "source": [
    "#### Exercise 3: Community detection on the network of Computational Social Scientists.\n",
    "\n",
    "13. Consider the network you built in Week 4. <br>\n",
    "Use the Python Louvain-algorithm implementation to find communities. How many communities do you find? What are their sizes? Report the value of modularity found by the algorithm. Is the modularity significantly different than 0?"
   ]
  },
  {
   "cell_type": "code",
   "execution_count": 55,
   "metadata": {},
   "outputs": [],
   "source": [
    "# Load the JSON file\n",
    "with open('graph.json') as f:\n",
    "    data = json.load(f)\n",
    "\n",
    "# Create a new NetworkX graph\n",
    "G_CSS = nx.Graph()\n",
    "\n",
    "# Add nodes to the graph\n",
    "for node in data['nodes']:\n",
    "    G_CSS.add_node(node['id'], name=node['name'], field=node['field'], median_cit_count=node['median_cit_count'], first_paper=node['first_paper'])\n",
    "\n",
    "# Add edges to the graph\n",
    "for edge in data['links']:\n",
    "    G_CSS.add_edge(edge['source'], edge['target'], weight=edge['weight'])"
   ]
  },
  {
   "cell_type": "code",
   "execution_count": 56,
   "metadata": {},
   "outputs": [],
   "source": [
    "louvainPartition_CSS = community_louvain.best_partition(G_CSS)"
   ]
  },
  {
   "cell_type": "code",
   "execution_count": 57,
   "metadata": {},
   "outputs": [
    {
     "name": "stdout",
     "output_type": "stream",
     "text": [
      "Communities found: 871\n"
     ]
    }
   ],
   "source": [
    "all_comms = max(louvainPartition_CSS.values())\n",
    "print(\"Communities found: \" + str(all_comms))"
   ]
  },
  {
   "cell_type": "code",
   "execution_count": 58,
   "metadata": {},
   "outputs": [],
   "source": [
    "#convert dict to a more managable format for myself\n",
    "louvainPartition = []\n",
    "for i in range(all_comms + 1):\n",
    "    louvainPartition.append([])\n",
    "for node_id, group_id in louvainPartition_CSS.items():\n",
    "    louvainPartition[group_id].append(node_id)"
   ]
  },
  {
   "attachments": {},
   "cell_type": "markdown",
   "metadata": {},
   "source": [
    "Showing a few examples of the sizes of communities:"
   ]
  },
  {
   "cell_type": "code",
   "execution_count": 59,
   "metadata": {},
   "outputs": [
    {
     "name": "stdout",
     "output_type": "stream",
     "text": [
      "11, 1, 165, 1, 32, 165, 170, 160, 74, 116, 186, 1, 2, 1, 26, 66, 275, 2, 189, 62, 9, 67, 117, 78, 85, 99, 2, 1, 14, 51, "
     ]
    }
   ],
   "source": [
    "for i in range(30):\n",
    "    print(len(louvainPartition[i]), end =\", \")"
   ]
  },
  {
   "cell_type": "code",
   "execution_count": 60,
   "metadata": {},
   "outputs": [
    {
     "data": {
      "text/plain": [
       "0.881642659683017"
      ]
     },
     "execution_count": 60,
     "metadata": {},
     "output_type": "execute_result"
    }
   ],
   "source": [
    "#computing modularity\n",
    "community_louvain.modularity(louvainPartition_CSS, G_CSS)"
   ]
  },
  {
   "attachments": {},
   "cell_type": "markdown",
   "metadata": {},
   "source": [
    "Yes, the modularity is fairly close to 1, that means the division is good. <br>Since this is the purpose of the algorithm (to create a division which represents groups), this was expected."
   ]
  },
  {
   "attachments": {},
   "cell_type": "markdown",
   "metadata": {},
   "source": [
    "14. If you are curious, you can also try the Infomap algorithm. Go to [this page]. (https://mapequation.github.io/infomap/python/). It's harder to install, but a better community detection algorithm. You can read about it in advanced topics 9B.\n",
    "\n",
    "- I couldn't make this work, the package is broken (all versions) for some reason.\n",
    "- I would expect this algorithm to create a better division, which would result in a higher modularity."
   ]
  },
  {
   "attachments": {},
   "cell_type": "markdown",
   "metadata": {},
   "source": [
    "15. Visualize the network, using netwulf (see Week 5). This time assign each node a different color based on their community. Describe the structure you observe. <br>\n",
    "Make sure you save the assignment of authors to communities."
   ]
  },
  {
   "cell_type": "code",
   "execution_count": 63,
   "metadata": {},
   "outputs": [],
   "source": [
    "mydict = louvainPartition_CSS"
   ]
  },
  {
   "cell_type": "code",
   "execution_count": 81,
   "metadata": {},
   "outputs": [],
   "source": [
    "ColorArray =[]\n",
    "\n",
    "#generating a color for each community\n",
    "for key in mydict:\n",
    "    value = mydict[key]\n",
    "    hexcode = str('#%03X%03X' % (value,value))\n",
    "    ColorArray.append(hexcode)\n",
    "    \n",
    "dictionaryColor = dict(zip(list(G_CSS.nodes), ColorArray))\n",
    "nx.set_node_attributes(G_CSS, dictionaryColor,\"color\")"
   ]
  },
  {
   "cell_type": "code",
   "execution_count": null,
   "metadata": {},
   "outputs": [],
   "source": [
    "#visualizing using netwulf\n",
    "wulf.visualize(G_CSS, plot_in_cell_below=False)"
   ]
  },
  {
   "attachments": {},
   "cell_type": "markdown",
   "metadata": {},
   "source": [
    "- The densely connected inner part is dominated by a few (approximately 7-8) groups, while there are a lot of single nodes towards the perimeter.\n",
    "- I think it could help, if we filtered out the single nodes."
   ]
  },
  {
   "attachments": {},
   "cell_type": "markdown",
   "metadata": {},
   "source": [
    "![title](css_vis.png)"
   ]
  }
 ],
 "metadata": {
  "kernelspec": {
   "display_name": ".venv",
   "language": "python",
   "name": "python3"
  },
  "language_info": {
   "codemirror_mode": {
    "name": "ipython",
    "version": 3
   },
   "file_extension": ".py",
   "mimetype": "text/x-python",
   "name": "python",
   "nbconvert_exporter": "python",
   "pygments_lexer": "ipython3",
   "version": "3.11.2"
  },
  "orig_nbformat": 4
 },
 "nbformat": 4,
 "nbformat_minor": 2
}
