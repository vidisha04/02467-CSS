{
  "nbformat": 4,
  "nbformat_minor": 0,
  "metadata": {
    "colab": {
      "provenance": []
    },
    "kernelspec": {
      "name": "python3",
      "display_name": "Python 3"
    },
    "language_info": {
      "name": "python"
    }
  },
  "cells": [
    {
      "cell_type": "markdown",
      "source": [
        "# Asignment 2\n"
      ],
      "metadata": {
        "id": "GoIBPGVxf0Zd"
      }
    },
    {
      "cell_type": "code",
      "execution_count": 2,
      "metadata": {
        "id": "d2kEah4nftd9"
      },
      "outputs": [],
      "source": [
        "import networkx as nx\n",
        "import numpy as np \n",
        "import pandas as pd\n",
        "import json\n",
        "from networkx.readwrite import json_graph\n",
        "import matplotlib.pyplot as plt \n",
        "import os\n",
        "import pickle\n",
        "import copy \n",
        "import random\n",
        "import seaborn as sns \n",
        "from scipy.stats import pearsonr,ttest_1samp"
      ]
    },
    {
      "cell_type": "markdown",
      "source": [
        "### Part 1\n",
        "Exercise 1: Mixing Patterns and Assortativity.\n",
        "\n",
        "Overview of the tasks: \n",
        "* For each node, compute the fraction of edges that connect to a node that works in the same top field. Find the average value across all nodes.\n",
        "* Create a new graph, with the same nodes and edges, but where the association between nodes and field is shuffled. Compute the measure above for this randomized graph.\n",
        "* Repeat the point above 100 times (at least). Plot the distribution of the values obtained and compare it with the value you have found for the real graph. Is the chance to connect to a member of the same field significantly higher than it would be by chance?\n",
        "* Compute the assortativity coefficient with respect to author's field. How do you interpret the value you obtain? (Hint: See this paper, eq (2)). Important: here I do not want you to use the NetworkX implementation, but rather to implement your own version of the measure.\n",
        "* Is the graph assortative with respect to the degree? (e.g. do high-degree scientists tend to link to other high-degree scientists, and low-degree scientists to other low-degree scientists?). Provide an interpretation of your answer.\n",
        "* Optional: Estimate the gender of each author from their name, using the World Gender Name Dictionary. Repeat the analysis above to study the assortativity of the network by gender rather than by field. What do you observe? "
      ],
      "metadata": {
        "id": "UQPLggAbf4DY"
      }
    },
    {
      "cell_type": "markdown",
      "source": [
        "Start out by reading in the graph from week 4, from the json file."
      ],
      "metadata": {
        "id": "4lXb9p_7hHp4"
      }
    },
    {
      "cell_type": "code",
      "source": [
        "def read_json_file(filename):\n",
        "    with open(filename) as f:\n",
        "        js_graph = json.load(f)\n",
        "    return json_graph.node_link_graph(js_graph)"
      ],
      "metadata": {
        "id": "D91TAzkhfzuw"
      },
      "execution_count": 3,
      "outputs": []
    },
    {
      "cell_type": "code",
      "source": [
        "#Only if you use colab\n",
        "from google.colab import drive\n",
        "drive.mount('/content/gdrive',force_remount=True)"
      ],
      "metadata": {
        "colab": {
          "base_uri": "https://localhost:8080/"
        },
        "id": "OntqDXFDg826",
        "outputId": "9579e207-5fae-455c-c16f-5efb51d04256"
      },
      "execution_count": 4,
      "outputs": [
        {
          "output_type": "stream",
          "name": "stdout",
          "text": [
            "Mounted at /content/gdrive\n"
          ]
        }
      ]
    },
    {
      "cell_type": "code",
      "source": [
        "G = read_json_file('/content/gdrive/MyDrive/Computational Social Science/graph.json')\n",
        "print(G)"
      ],
      "metadata": {
        "colab": {
          "base_uri": "https://localhost:8080/"
        },
        "id": "8dGPk_eqhBS0",
        "outputId": "973725ad-56d1-4775-faa4-2cab652b5972"
      },
      "execution_count": 5,
      "outputs": [
        {
          "output_type": "stream",
          "name": "stdout",
          "text": [
            "Graph with 4640 nodes and 9376 edges\n"
          ]
        }
      ]
    },
    {
      "cell_type": "markdown",
      "source": [
        "Exctracting the giant connected component from the graph. "
      ],
      "metadata": {
        "id": "hI_TBluih3jC"
      }
    },
    {
      "cell_type": "code",
      "source": [
        "s = max(nx.connected_components(G), key=len)\n",
        "G = G.subgraph(s)"
      ],
      "metadata": {
        "id": "TVkcH5PYhGE0"
      },
      "execution_count": 6,
      "outputs": []
    },
    {
      "cell_type": "markdown",
      "source": [
        "### Calculating the fraction of edges to same subfield\n",
        "For this exercise the fractions of edges connecting to nodes with the same top-field is calculated. This is done by iterating through the nodes in the graph, then for each of the nodes a value is stored in a dictionary, such that the mean value of the fractions can be computed later on. "
      ],
      "metadata": {
        "id": "vcGoUaWFh8EI"
      }
    },
    {
      "cell_type": "code",
      "source": [
        "def calc_fraction(G): \n",
        "  fractions = {}\n",
        "  for id in G.nodes:\n",
        "    field = G.nodes[id]['field']\n",
        "    same_top_field = 0\n",
        "    n_neighbours = 0\n",
        "    for neighbour_id in G.neighbors(id):\n",
        "      neighbour = G.nodes[neighbour_id]\n",
        "      if neighbour['field'] == field:\n",
        "        same_top_field += 1\n",
        "    \n",
        "      n_neighbours += 1\n",
        "    fractions[id] = same_top_field/n_neighbours if len(list(G.neighbors(id))) != 0 else 0\n",
        "\n",
        "  return fractions"
      ],
      "metadata": {
        "id": "Ru9rsYmlhPX4"
      },
      "execution_count": 7,
      "outputs": []
    },
    {
      "cell_type": "markdown",
      "source": [
        "Compute the average of the fractions, from the dictionary which is created in the function defined above. "
      ],
      "metadata": {
        "id": "AtYjD-y0ovIa"
      }
    },
    {
      "cell_type": "code",
      "source": [
        "fractions = calc_fraction(G)\n",
        "n = sum(fractions.values())/len(fractions.values())\n",
        "t = f'Average fraction of nodes connecting to another with the same field: \\n{n}'\n",
        "print(t)"
      ],
      "metadata": {
        "colab": {
          "base_uri": "https://localhost:8080/"
        },
        "id": "mtP3iYs4iPan",
        "outputId": "ceeea634-809e-4f9f-b5a6-64abcf1dc821"
      },
      "execution_count": 8,
      "outputs": [
        {
          "output_type": "stream",
          "name": "stdout",
          "text": [
            "Average fraction of nodes connecting to another with the same field: \n",
            "0.5136100357093106\n"
          ]
        }
      ]
    },
    {
      "cell_type": "markdown",
      "source": [
        "### Random shuffeling fields\n",
        "Now we will random shuffle the fields between the nodes. This is done, by simply creating a list of the fields in the graph, and then by random selecting a field for a given node. For this exercise it is important that the probabillity of having a certain field is still preserved, especilly because the top-fields had to be randomly shuffled between nodes. This is solved by randomly selecting a field, from the entire fields list **without** replacement.  "
      ],
      "metadata": {
        "id": "PLnMVoYkqGTf"
      }
    },
    {
      "cell_type": "code",
      "source": [
        "# Get the list of fields in the original graph\n",
        "np.random.seed(0)\n",
        "def random_shuffle_fields(G):\n",
        "  fields = list(nx.get_node_attributes(G, 'field').values())\n",
        "  #fields = fields[1:] # First is nan for some reason\n",
        "  measure_shuffled = []\n",
        "\n",
        "  # Create a new graph with the same nodes and edges as the original graph,\n",
        "  # but with the fields shuffled\n",
        "  G_shuffled = copy.deepcopy(G)\n",
        "  for node in G_shuffled.nodes:\n",
        "      #rand_idx = random.randint(0,len(fields)-1)\n",
        "      G_shuffled.nodes[node]['field'] = np.random.choice(fields,replace=False)\n",
        "\n",
        "  # Compute the measure for the shuffled graph\n",
        "  fractions = calc_fraction(G_shuffled)\n",
        "  measure_shuffled = sum(fractions.values())/len(fractions.values())\n",
        "\n",
        "  #print(f\"The measure for the shuffled graph is: {measure_shuffled}\")\n",
        "  return measure_shuffled"
      ],
      "metadata": {
        "id": "6vIfzakklK5N"
      },
      "execution_count": 9,
      "outputs": []
    },
    {
      "cell_type": "markdown",
      "source": [
        "Now the function can be called on the graph ```G```"
      ],
      "metadata": {
        "id": "r8A1YDe5jTmk"
      }
    },
    {
      "cell_type": "code",
      "source": [
        "random_shuffle_fields(G)"
      ],
      "metadata": {
        "colab": {
          "base_uri": "https://localhost:8080/"
        },
        "id": "eKKpA1Q7pgS-",
        "outputId": "f6dda694-0ed6-496d-bf6d-0aa203a83a24"
      },
      "execution_count": 10,
      "outputs": [
        {
          "output_type": "execute_result",
          "data": {
            "text/plain": [
              "0.3564545460445377"
            ]
          },
          "metadata": {},
          "execution_count": 10
        }
      ]
    },
    {
      "cell_type": "markdown",
      "source": [
        "So this is quite a lot lower than what that what was seen before, hower since the number is based on random selection the function can be called multiple times to give a more robust estimate. "
      ],
      "metadata": {
        "id": "-iM-o22WjZFr"
      }
    },
    {
      "cell_type": "markdown",
      "source": [
        "### Repeating the same thing 150 times\n",
        "Now the function can be called 150 times, since it gives a more robust estimate, it was chosen to run the random shuffle, a bit more than the minimum requirement. "
      ],
      "metadata": {
        "id": "gqJ2SeWcsHQQ"
      }
    },
    {
      "cell_type": "code",
      "source": [
        "meassures = []\n",
        "for i in range(150):\n",
        "  meassures.append(random_shuffle_fields(G))"
      ],
      "metadata": {
        "id": "DaItL4qlpgVq"
      },
      "execution_count": 12,
      "outputs": []
    },
    {
      "cell_type": "markdown",
      "source": [
        "Now the distribution will be plottet, and what can be seen from the plot is that it looks rather normal distributed, but with really low values, and it definitly looks like it is significantly different than the 0.3 that was observed when computing for the original graph. "
      ],
      "metadata": {
        "id": "s6mHrSFis2jg"
      }
    },
    {
      "cell_type": "code",
      "source": [
        "sns.set_style(\"darkgrid\", {\"grid.color\": \".6\", \"grid.linestyle\": \":\"})\n",
        "fig,ax = plt.subplots(1,2,figsize = (10,5))\n",
        "# Hist\n",
        "sns.histplot(meassures, bins = 14, ax = ax[0],edgecolor = \"black\",color = '#8de5a1')\n",
        "ax[0].set_title(\"Histogram of the fraction distribution\")\n",
        "ax[0].set_xlabel(\"Fraction Meassures\")\n",
        "#Comparison \n",
        "sns.histplot(meassures, bins = 14, ax = ax[1],edgecolor = \"black\",color = '#8de5a1')\n",
        "ax[1].axvline(n, color=\"r\", linestyle=\"--\")\n",
        "ax[1].set_title(\"Histogram of random with marking of non-random\")\n",
        "ax[1].set_xlabel(\"Fraction Meassures\")"
      ],
      "metadata": {
        "colab": {
          "base_uri": "https://localhost:8080/",
          "height": 367
        },
        "id": "hoMJ9VwLpgYn",
        "outputId": "8353aeff-076f-470f-a488-86077cc401ac"
      },
      "execution_count": 22,
      "outputs": [
        {
          "output_type": "execute_result",
          "data": {
            "text/plain": [
              "Text(0.5, 0, 'Fraction Meassures')"
            ]
          },
          "metadata": {},
          "execution_count": 22
        },
        {
          "output_type": "display_data",
          "data": {
            "text/plain": [
              "<Figure size 720x360 with 2 Axes>"
            ],
            "image/png": "[encoded data removed]"
          },
          "metadata": {}
        }
      ]
    },
    {
      "cell_type": "markdown",
      "source": [
        "As can be seen the two values are quite far appart, and thus a conclusion would be that it is not coencidental that the nodes with the same topfield, are often connected together. However to be a bit more rigourus in the approach to testing this, one can compute a 1samp ttest, in which it is tested if the mean value computed for the real graph is the mean value for the random graph. This wil then assume that the true mean, is the one from the css-graph. Furthermore since it is a distribution of means, the central limit theorem applies, and a normal distribution can be assumed.  "
      ],
      "metadata": {
        "id": "dWWgJVW73ik9"
      }
    },
    {
      "cell_type": "code",
      "source": [
        "ttest_1samp(meassures,popmean = n)"
      ],
      "metadata": {
        "colab": {
          "base_uri": "https://localhost:8080/"
        },
        "id": "uDBnF9FlmO9l",
        "outputId": "0e6d965c-64ef-4f4e-f0bb-1f2b6af4afd8"
      },
      "execution_count": 14,
      "outputs": [
        {
          "output_type": "execute_result",
          "data": {
            "text/plain": [
              "TtestResult(statistic=-150.09155320658988, pvalue=1.6905597981211524e-164, df=149)"
            ]
          },
          "metadata": {},
          "execution_count": 14
        }
      ]
    },
    {
      "cell_type": "markdown",
      "source": [
        "So from these results the H0 of equal means, is rejected with $\\alpha = 0.05$. Confirming the intution from the plot, that the connection between authors with the same fields, are significantly different than if their fields had been randomly assigned. "
      ],
      "metadata": {
        "id": "WSCtEZ6UpLqf"
      }
    },
    {
      "cell_type": "markdown",
      "source": [
        "#### Computing the assortativity coefficient \n",
        "In order to implement the coefficient the formula from *(Newman,2003)*: \n",
        "\n",
        "$$r=\\frac{\\sum_i e_{i i}-\\sum_i a_i b_i}{1-\\sum_i a_i b_i}=\\frac{\\operatorname{Tr}\\mathbf{e}-\\left\\|\\mathbf{e}^2\\right\\|}{1-\\left\\|\\mathbf{e}^2\\right\\|}$$\n",
        "\n",
        "Where Tr denotes the trace of the matrix. \n",
        "First the e matrix will be computet which is the fraction how many times a node with one field connects with another. Do note that some of the fields are ```nan``` values, however it was discussed that these nodes could still be usfull for interpreting how the network connects. "
      ],
      "metadata": {
        "id": "U8pd4Jkqxh8E"
      }
    },
    {
      "cell_type": "markdown",
      "source": [
        "In the code below, the counting matrix has been implemented for both the categorical and degree, since the degree will be used later, this was done in order to collect the very similar functions, and hopefully make it more readable."
      ],
      "metadata": {
        "id": "aiRZy0iaNjY5"
      }
    },
    {
      "cell_type": "code",
      "source": [
        "def e_matrix(G,att):\n",
        "  #Get the fields\n",
        "  fields = list(set(nx.get_node_attributes(G, att).values()))\n",
        "\n",
        "  #Smart index trick\n",
        "  category_indices = {fields: i for i, fields in enumerate(fields)}\n",
        "\n",
        "  # Loop Through and and increment the correct indicies\n",
        "  N = len(fields)\n",
        "  e = np.zeros((N, N))\n",
        "  for u, v in G.edges():\n",
        "      i = category_indices[G.nodes[u][att]]\n",
        "      j = category_indices[G.nodes[v][att]]\n",
        "      e[i, j] += 0.5\n",
        "      e[j, i] += 0.5\n",
        "\n",
        "  norm_coef = G.number_of_edges() # To do some standardization of the matrix \n",
        "  e = e/norm_coef\n",
        "  return e\n",
        "\n",
        "#calcutlate the coefficient for the the graph. \n",
        "def get_assortativity_coefficient(G,att,cat = True):\n",
        "  e = e_matrix(G,att) # Get matrix\n",
        "  return (np.trace(e) - np.sum(np.sum(e, axis=0)**2))/(1-np.sum(np.sum(e, axis=0)**2))"
      ],
      "metadata": {
        "id": "o-zErdvnpgao"
      },
      "execution_count": 24,
      "outputs": []
    },
    {
      "cell_type": "code",
      "source": [
        "get_assortativity_coefficient(G,'field')"
      ],
      "metadata": {
        "colab": {
          "base_uri": "https://localhost:8080/"
        },
        "id": "I10vQID_9nu5",
        "outputId": "bd628132-0288-4ba5-e1d2-a21b8cc57fcd"
      },
      "execution_count": 25,
      "outputs": [
        {
          "output_type": "execute_result",
          "data": {
            "text/plain": [
              "0.14471860156236596"
            ]
          },
          "metadata": {},
          "execution_count": 25
        }
      ]
    },
    {
      "cell_type": "markdown",
      "source": [
        "Test the implementation, with the nx implementation. Quite close to the answer so, so the implementation above should be correct. "
      ],
      "metadata": {
        "id": "NXryG8YY92Zi"
      }
    },
    {
      "cell_type": "code",
      "source": [
        "nx.attribute_assortativity_coefficient(G,'field')"
      ],
      "metadata": {
        "colab": {
          "base_uri": "https://localhost:8080/"
        },
        "id": "XSjjT4jK9rLf",
        "outputId": "557b28d7-2c54-4b24-80e6-5472d1200fe3"
      },
      "execution_count": 26,
      "outputs": [
        {
          "output_type": "execute_result",
          "data": {
            "text/plain": [
              "0.1447186015623659"
            ]
          },
          "metadata": {},
          "execution_count": 26
        }
      ]
    },
    {
      "cell_type": "markdown",
      "source": [
        "From this metric, it can be concluded that the graph is moderatly assortative with respect to the topfield, since it is slightly positive. This in terms mean that authors with the same top-field do tend to connect to eachother more than they would randomly, however not in a very strong manner. "
      ],
      "metadata": {
        "id": "Wl4A1pANtnwG"
      }
    },
    {
      "cell_type": "markdown",
      "source": [
        "### Assortivity with respect to degree\n",
        "\n",
        "For this part the assortivity coeficient will be calculated with respect to the degree of the nodes, and it will be discussed weather highly connected authors tend to connect with other highly connected authors. According to *(Newman,2003)* this would be equivalent to finding the pearson correlation between the degrees of the edges. This is also the approach that was followed in this exercise. First the x,y coordinates are found, such that x has the degree of on node and y the degree of a connecting node. However the datapoint (y,x) is also added, since the graph is undirected. This way will also allow for plotting the points, which will then also reveal if the correlation might be non-linear."
      ],
      "metadata": {
        "id": "vh18MmOX-eGz"
      }
    },
    {
      "cell_type": "code",
      "source": [
        "def get_xy_vals(G):\n",
        "  \"\"\" \n",
        "  This function will create a datapoint for each pair in the graph\n",
        "  with their respective degrees as value.\n",
        "  G: Networkx graph\n",
        "  \"\"\"\n",
        "  x,y = [],[]\n",
        "  for edge in G.edges():\n",
        "    X_deg = G.degree(edge[0])\n",
        "    Y_deg = G.degree(edge[1])\n",
        "    x.append(X_deg)\n",
        "    y.append(Y_deg)\n",
        "    y.append(X_deg)\n",
        "    x.append(Y_deg)\n",
        "    \n",
        "  return x,y \n",
        "x,y = get_xy_vals(G)"
      ],
      "metadata": {
        "id": "cog-hDMLrMvG"
      },
      "execution_count": 30,
      "outputs": []
    },
    {
      "cell_type": "markdown",
      "source": [
        "Test the results with the pearson correlation calculated by using the ```scipy.stats``` module, and check if the results are consistent with the networkx implementation. "
      ],
      "metadata": {
        "id": "Q0wubZo0w5_f"
      }
    },
    {
      "cell_type": "code",
      "source": [
        "pearsonr(x,y)"
      ],
      "metadata": {
        "colab": {
          "base_uri": "https://localhost:8080/"
        },
        "id": "daLqWdd8uQih",
        "outputId": "c8a5bddd-4466-4eaf-b357-d92ded2bab5a"
      },
      "execution_count": 34,
      "outputs": [
        {
          "output_type": "execute_result",
          "data": {
            "text/plain": [
              "PearsonRResult(statistic=-0.011556789318338659, pvalue=0.13627090173424145)"
            ]
          },
          "metadata": {},
          "execution_count": 34
        }
      ]
    },
    {
      "cell_type": "markdown",
      "source": [
        "Testing if the implementation is correct: "
      ],
      "metadata": {
        "id": "7TzYLxqZlSLp"
      }
    },
    {
      "cell_type": "code",
      "source": [
        "nx.degree_assortativity_coefficient(G)"
      ],
      "metadata": {
        "colab": {
          "base_uri": "https://localhost:8080/"
        },
        "id": "mMW1rIdjvf7s",
        "outputId": "ceab675d-320b-46c9-dbfd-b4d01f9792fc"
      },
      "execution_count": 35,
      "outputs": [
        {
          "output_type": "execute_result",
          "data": {
            "text/plain": [
              "-0.011556789318338603"
            ]
          },
          "metadata": {},
          "execution_count": 35
        }
      ]
    },
    {
      "cell_type": "markdown",
      "source": [
        "So the implementation is consistent with the networkx implementation. From this number however, it can be concluded that the graph is not really assortative with respect to degree, however it also slightly negativly assortative, however so vagualy that it is more up to chance if a node connects to a very well connected node or a weakly connected node. "
      ],
      "metadata": {
        "id": "XZAY7IgWuRjG"
      }
    },
    {
      "cell_type": "markdown",
      "source": [
        "Now the datapoints can be plotted, in the x,y plane, in order to give a better insight into how they are connected. "
      ],
      "metadata": {
        "id": "QGjBCiVDxQNB"
      }
    },
    {
      "cell_type": "code",
      "source": [
        "sns.set_style(\"darkgrid\", {\"grid.color\": \".6\", \"grid.linestyle\": \":\"})\n",
        "ax,fig = plt.subplots(1,figsize = (10,5))\n",
        "sns.scatterplot(x = x,y = y,palette=\"deep\",marker=\".\", color = 'darkred')\n",
        "plt.title(\"Degree Correlation Plot\")\n",
        "plt.xlabel(\"Degree\")\n",
        "plt.ylabel(\"Degree\")"
      ],
      "metadata": {
        "colab": {
          "base_uri": "https://localhost:8080/",
          "height": 402
        },
        "id": "E3cm6yiRrMfy",
        "outputId": "50538e89-e119-4189-a58f-3fa4cb4f801e"
      },
      "execution_count": 41,
      "outputs": [
        {
          "output_type": "stream",
          "name": "stderr",
          "text": [
            "<ipython-input-41-dbe1dad5d453>:3: UserWarning: Ignoring `palette` because no `hue` variable has been assigned.\n",
            "  sns.scatterplot(x = x,y = y,palette=\"deep\",marker=\".\", color = 'darkred')\n"
          ]
        },
        {
          "output_type": "execute_result",
          "data": {
            "text/plain": [
              "Text(0, 0.5, 'Degree')"
            ]
          },
          "metadata": {},
          "execution_count": 41
        },
        {
          "output_type": "display_data",
          "data": {
            "text/plain": [
              "<Figure size 720x360 with 1 Axes>"
            ],
            "image/png": "[encoded data removed]"
          },
          "metadata": {}
        }
      ]
    },
    {
      "cell_type": "markdown",
      "source": [
        "From these results two things are are clear first of the pearson correlation did not prove to be significantly different from zero, which also means that the graph does not seem to be assortative with respect to the degree of the nodes. From the plot however it is also quite apparent that no real correlation between degrees of nodes exists. One interesting thing the plot reveals however, is the fact that most of the degrees are in the lower range, while only a few is having a lot of outgoing degrees. "
      ],
      "metadata": {
        "id": "d-PaMWERzbpO"
      }
    },
    {
      "cell_type": "markdown",
      "source": [
        "### Estimating gender of each author from their name\n",
        "\n",
        "For this optional task, the gender can be found using the world gender name dictionary, which can be loaded into the nodebook using the gender_guesser library, which is build on a data-base quite similar to the World Gender Name Dictionary, so in order to avoid downloading the entire file, this library is used. It only works on the first name, so for this exercise it will be assumed that the first \"word\" in the name is their first name.  "
      ],
      "metadata": {
        "id": "hd8E5KNfuz9b"
      }
    },
    {
      "cell_type": "code",
      "source": [
        "!pip install gender_guesser # Install the package "
      ],
      "metadata": {
        "colab": {
          "base_uri": "https://localhost:8080/"
        },
        "id": "zKxrIIPqvcXa",
        "outputId": "903f5088-2be5-4911-9d7e-3e5805cacb9e"
      },
      "execution_count": 42,
      "outputs": [
        {
          "output_type": "stream",
          "name": "stdout",
          "text": [
            "Looking in indexes: https://pypi.org/simple, https://us-python.pkg.dev/colab-wheels/public/simple/\n",
            "Collecting gender_guesser\n",
            "  Downloading gender_guesser-0.4.0-py2.py3-none-any.whl (379 kB)\n",
            "\u001b[2K     \u001b[90m━━━━━━━━━━━━━━━━━━━━━━━━━━━━━━━━━━━━━━\u001b[0m \u001b[32m379.3/379.3 KB\u001b[0m \u001b[31m11.8 MB/s\u001b[0m eta \u001b[36m0:00:00\u001b[0m\n",
            "\u001b[?25hInstalling collected packages: gender_guesser\n",
            "Successfully installed gender_guesser-0.4.0\n"
          ]
        }
      ]
    },
    {
      "cell_type": "code",
      "source": [
        "import gender_guesser.detector as gender # Import the detector"
      ],
      "metadata": {
        "id": "DDxxVRPIvaQe"
      },
      "execution_count": 43,
      "outputs": []
    },
    {
      "cell_type": "markdown",
      "source": [
        "First iterate the graph, get the gender then create a new field in the graph called \"Gender\". One thing to take into account is the fact that the function ```get_gener```will return unknown if the name does not exist in the database. "
      ],
      "metadata": {
        "id": "6_mfKW48xDHL"
      }
    },
    {
      "cell_type": "code",
      "source": [
        "d = gender.Detector()\n",
        "# Now loop through \n",
        "for node in G.nodes():\n",
        "  auth_name = G.nodes[node]['name'].split(' ')[0]\n",
        "  g = d.get_gender(auth_name)\n",
        "  G.nodes[node]['Gender'] = g"
      ],
      "metadata": {
        "id": "7EAJGU51viH1"
      },
      "execution_count": 44,
      "outputs": []
    },
    {
      "cell_type": "markdown",
      "source": [
        "Get the assortivity coeficient with respect to the gender. "
      ],
      "metadata": {
        "id": "5HPD_9VQzZy1"
      }
    },
    {
      "cell_type": "code",
      "source": [
        "get_assortativity_coefficient(G,'Gender')"
      ],
      "metadata": {
        "colab": {
          "base_uri": "https://localhost:8080/"
        },
        "id": "hc17VvllxSdi",
        "outputId": "6580b3b1-bfe1-465f-dfd9-4de2d32c7ef5"
      },
      "execution_count": 45,
      "outputs": [
        {
          "output_type": "execute_result",
          "data": {
            "text/plain": [
              "0.08357252652313839"
            ]
          },
          "metadata": {},
          "execution_count": 45
        }
      ]
    },
    {
      "cell_type": "markdown",
      "source": [
        "So this would suggest that most of the computational social scientists in the graph does not really connect to any kind of gender, and it is mostly random who they connect with *(with respect to gender of course)*. All in all the network of computational social scientists does not seem to have any bias, regarding the gender of who they work with. "
      ],
      "metadata": {
        "id": "S8WPH1lzzX-B"
      }
    },
    {
      "cell_type": "markdown",
      "source": [
        "## References\n",
        "Newman, M. E. (2003). Mixing patterns in networks. Physical review E, 67(2), 026126."
      ],
      "metadata": {
        "id": "Q0tHxkr0NBs9"
      }
    }
  ]
}