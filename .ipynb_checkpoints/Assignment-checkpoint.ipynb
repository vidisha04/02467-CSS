{
 "cells": [
  {
   "cell_type": "markdown",
   "id": "56a82182",
   "metadata": {},
   "source": [
    "GitHub: https://github.com/vidisha04/02467-CSS.git"
   ]
  },
  {
   "cell_type": "code",
   "execution_count": null,
   "id": "234ad699",
   "metadata": {},
   "outputs": [],
   "source": []
  }
 ],
 "metadata": {
  "kernelspec": {
   "display_name": "Python 3 (ipykernel)",
   "language": "python",
   "name": "python3"
  },
  "language_info": {
   "codemirror_mode": {
    "name": "ipython",
    "version": 3
   },
   "file_extension": ".py",
   "mimetype": "text/x-python",
   "name": "python",
   "nbconvert_exporter": "python",
   "pygments_lexer": "ipython3",
   "version": "3.7.16"
  }
 },
 "nbformat": 4,
 "nbformat_minor": 5
}
