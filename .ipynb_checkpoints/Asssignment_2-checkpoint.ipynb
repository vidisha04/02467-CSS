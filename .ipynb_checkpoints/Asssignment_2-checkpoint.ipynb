{
 "cells": [
  {
   "cell_type": "markdown",
   "id": "ef565be5",
   "metadata": {},
   "source": [
    "$\\textbf{GitHub:}$\\\n",
    "https://github.com/vidisha04/02467-CSS.git\n",
    "\n",
    "$\\textbf{Group Members:}$\n",
    "- Mads Andersen: s204137\n",
    "- Marton Kohegyi: s230086\n",
    "- Vidisha Sinha: s204081\n",
    "\n",
    "$\\textbf{Contribution Statement:}$\\\n",
    "We have worked on all parts together, but the main responsibility for adding the the code and descriptions for Parts 1, 2, and 3 was taken by Mads, Marton, and Vidisha respectively."
   ]
  },
  {
   "cell_type": "markdown",
   "id": "4270331b",
   "metadata": {},
   "source": [
    "# Part 1"
   ]
  },
  {
   "cell_type": "code",
   "execution_count": null,
   "id": "8956b37a",
   "metadata": {},
   "outputs": [],
   "source": []
  },
  {
   "cell_type": "markdown",
   "id": "6e570731",
   "metadata": {},
   "source": [
    "# Part 2"
   ]
  },
  {
   "cell_type": "code",
   "execution_count": null,
   "id": "fb217f96",
   "metadata": {},
   "outputs": [],
   "source": []
  },
  {
   "cell_type": "markdown",
   "id": "56e7d402",
   "metadata": {},
   "source": [
    "# Part 3"
   ]
  },
  {
   "cell_type": "code",
   "execution_count": null,
   "id": "04a9b979",
   "metadata": {},
   "outputs": [],
   "source": []
  }
 ],
 "metadata": {
  "kernelspec": {
   "display_name": "Python 3 (ipykernel)",
   "language": "python",
   "name": "python3"
  },
  "language_info": {
   "codemirror_mode": {
    "name": "ipython",
    "version": 3
   },
   "file_extension": ".py",
   "mimetype": "text/x-python",
   "name": "python",
   "nbconvert_exporter": "python",
   "pygments_lexer": "ipython3",
   "version": "3.7.16"
  }
 },
 "nbformat": 4,
 "nbformat_minor": 5
}
