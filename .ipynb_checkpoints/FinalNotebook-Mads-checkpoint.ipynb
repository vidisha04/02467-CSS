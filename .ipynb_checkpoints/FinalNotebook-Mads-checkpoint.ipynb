{
 "cells": [
  {
   "cell_type": "code",
   "execution_count": 1,
   "id": "48f8cabd",
   "metadata": {},
   "outputs": [],
   "source": [
    "import pandas as pd\n",
    "import  numpy as np \n",
    "import networkx as nx \n",
    "import seaborn as sns\n",
    "from tqdm.notebook import tqdm\n",
    "import netwulf\n",
    "from networkx.readwrite import json_graph\n",
    "import json\n",
    "import matplotlib.pyplot as plt\n",
    "import seaborn as sns\n",
    "from collections import Counter"
   ]
  },
  {
   "cell_type": "code",
   "execution_count": 31,
   "id": "575c0652",
   "metadata": {},
   "outputs": [],
   "source": [
    "reviews = pd.read_csv('rotten_tomatoes_critic_reviews.csv')\n",
    "movies = pd.read_csv('rotten_tomatoes_movies.csv')"
   ]
  },
  {
   "cell_type": "code",
   "execution_count": 32,
   "id": "2ca579f4",
   "metadata": {},
   "outputs": [
    {
     "data": {
      "text/plain": [
       "Index(['rotten_tomatoes_link', 'movie_title', 'movie_info',\n",
       "       'critics_consensus', 'content_rating', 'genres', 'directors', 'authors',\n",
       "       'actors', 'original_release_date', 'streaming_release_date', 'runtime',\n",
       "       'production_company', 'tomatometer_status', 'tomatometer_rating',\n",
       "       'tomatometer_count', 'audience_status', 'audience_rating',\n",
       "       'audience_count', 'tomatometer_top_critics_count',\n",
       "       'tomatometer_fresh_critics_count', 'tomatometer_rotten_critics_count'],\n",
       "      dtype='object')"
      ]
     },
     "execution_count": 32,
     "metadata": {},
     "output_type": "execute_result"
    }
   ],
   "source": [
    "movies.columns"
   ]
  },
  {
   "cell_type": "code",
   "execution_count": 33,
   "id": "6547211c",
   "metadata": {},
   "outputs": [],
   "source": [
    "movies['original_release_date'] = pd.to_datetime(movies['original_release_date'])"
   ]
  },
  {
   "cell_type": "code",
   "execution_count": 34,
   "id": "91883832",
   "metadata": {},
   "outputs": [
    {
     "data": {
      "text/html": [
       "<div>\n",
       "<style scoped>\n",
       "    .dataframe tbody tr th:only-of-type {\n",
       "        vertical-align: middle;\n",
       "    }\n",
       "\n",
       "    .dataframe tbody tr th {\n",
       "        vertical-align: top;\n",
       "    }\n",
       "\n",
       "    .dataframe thead th {\n",
       "        text-align: right;\n",
       "    }\n",
       "</style>\n",
       "<table border=\"1\" class=\"dataframe\">\n",
       "  <thead>\n",
       "    <tr style=\"text-align: right;\">\n",
       "      <th></th>\n",
       "      <th>rotten_tomatoes_link</th>\n",
       "      <th>movie_title</th>\n",
       "      <th>movie_info</th>\n",
       "      <th>critics_consensus</th>\n",
       "      <th>content_rating</th>\n",
       "      <th>genres</th>\n",
       "      <th>directors</th>\n",
       "      <th>authors</th>\n",
       "      <th>actors</th>\n",
       "      <th>original_release_date</th>\n",
       "      <th>...</th>\n",
       "      <th>production_company</th>\n",
       "      <th>tomatometer_status</th>\n",
       "      <th>tomatometer_rating</th>\n",
       "      <th>tomatometer_count</th>\n",
       "      <th>audience_status</th>\n",
       "      <th>audience_rating</th>\n",
       "      <th>audience_count</th>\n",
       "      <th>tomatometer_top_critics_count</th>\n",
       "      <th>tomatometer_fresh_critics_count</th>\n",
       "      <th>tomatometer_rotten_critics_count</th>\n",
       "    </tr>\n",
       "  </thead>\n",
       "  <tbody>\n",
       "    <tr>\n",
       "      <th>17707</th>\n",
       "      <td>m/zoot_suit</td>\n",
       "      <td>Zoot Suit</td>\n",
       "      <td>Mexican-American gangster Henry Reyna (Daniel ...</td>\n",
       "      <td>NaN</td>\n",
       "      <td>R</td>\n",
       "      <td>Drama, Musical &amp; Performing Arts</td>\n",
       "      <td>Luis Valdez</td>\n",
       "      <td>Luis Valdez</td>\n",
       "      <td>Daniel Valdez, Edward James Olmos, Charles Aid...</td>\n",
       "      <td>1981-10-02</td>\n",
       "      <td>...</td>\n",
       "      <td>MCA Universal Home Video</td>\n",
       "      <td>Rotten</td>\n",
       "      <td>56.0</td>\n",
       "      <td>9.0</td>\n",
       "      <td>Upright</td>\n",
       "      <td>74.0</td>\n",
       "      <td>1195.0</td>\n",
       "      <td>2</td>\n",
       "      <td>5</td>\n",
       "      <td>4</td>\n",
       "    </tr>\n",
       "    <tr>\n",
       "      <th>17708</th>\n",
       "      <td>m/zootopia</td>\n",
       "      <td>Zootopia</td>\n",
       "      <td>From the largest elephant to the smallest shre...</td>\n",
       "      <td>The brilliantly well-rounded Zootopia offers a...</td>\n",
       "      <td>PG</td>\n",
       "      <td>Action &amp; Adventure, Animation, Comedy</td>\n",
       "      <td>Byron Howard, Rich Moore, Jared Bush</td>\n",
       "      <td>Jared Bush, Phil Johnston</td>\n",
       "      <td>J.K. Simmons, Kristen Bell, Octavia Spencer, A...</td>\n",
       "      <td>2016-03-04</td>\n",
       "      <td>...</td>\n",
       "      <td>Walt Disney Animation Studios</td>\n",
       "      <td>Certified-Fresh</td>\n",
       "      <td>98.0</td>\n",
       "      <td>291.0</td>\n",
       "      <td>Upright</td>\n",
       "      <td>92.0</td>\n",
       "      <td>101511.0</td>\n",
       "      <td>50</td>\n",
       "      <td>285</td>\n",
       "      <td>7</td>\n",
       "    </tr>\n",
       "    <tr>\n",
       "      <th>17709</th>\n",
       "      <td>m/zorba_the_greek</td>\n",
       "      <td>Zorba the Greek</td>\n",
       "      <td>Traveling to inspect an abandoned mine his fat...</td>\n",
       "      <td>NaN</td>\n",
       "      <td>NR</td>\n",
       "      <td>Action &amp; Adventure, Art House &amp; International,...</td>\n",
       "      <td>NaN</td>\n",
       "      <td>NaN</td>\n",
       "      <td>Anthony Quinn, Alan Bates, Irene Papas, Lila K...</td>\n",
       "      <td>1964-12-17</td>\n",
       "      <td>...</td>\n",
       "      <td>Fox</td>\n",
       "      <td>Fresh</td>\n",
       "      <td>80.0</td>\n",
       "      <td>10.0</td>\n",
       "      <td>Upright</td>\n",
       "      <td>86.0</td>\n",
       "      <td>7146.0</td>\n",
       "      <td>0</td>\n",
       "      <td>8</td>\n",
       "      <td>2</td>\n",
       "    </tr>\n",
       "    <tr>\n",
       "      <th>17710</th>\n",
       "      <td>m/zulu</td>\n",
       "      <td>Zulu</td>\n",
       "      <td>In 1879, the Zulu nation hands colonial Britis...</td>\n",
       "      <td>Zulu patiently establishes a cast of colorful ...</td>\n",
       "      <td>PG</td>\n",
       "      <td>Classics, Drama</td>\n",
       "      <td>Cy Endfield, Cyril Endfield</td>\n",
       "      <td>Cy Endfield, John Prebble</td>\n",
       "      <td>Stanley Baker, Jack Hawkins, Ulla Jacobsson, J...</td>\n",
       "      <td>1964-06-17</td>\n",
       "      <td>...</td>\n",
       "      <td>Paramount Pictures</td>\n",
       "      <td>Fresh</td>\n",
       "      <td>96.0</td>\n",
       "      <td>23.0</td>\n",
       "      <td>Upright</td>\n",
       "      <td>91.0</td>\n",
       "      <td>30193.0</td>\n",
       "      <td>6</td>\n",
       "      <td>22</td>\n",
       "      <td>1</td>\n",
       "    </tr>\n",
       "    <tr>\n",
       "      <th>17711</th>\n",
       "      <td>m/zulu_dawn</td>\n",
       "      <td>Zulu Dawn</td>\n",
       "      <td>Sir Henry Bartle Frere's (John Mills) vastly o...</td>\n",
       "      <td>NaN</td>\n",
       "      <td>PG</td>\n",
       "      <td>Action &amp; Adventure, Art House &amp; International,...</td>\n",
       "      <td>Douglas Hickox</td>\n",
       "      <td>Cy Endfield, Anthony Storey</td>\n",
       "      <td>Burt Lancaster, Peter O'Toole, Simon Ward, Joh...</td>\n",
       "      <td>1979-12-14</td>\n",
       "      <td>...</td>\n",
       "      <td>Tango Entertainment</td>\n",
       "      <td>Rotten</td>\n",
       "      <td>50.0</td>\n",
       "      <td>8.0</td>\n",
       "      <td>Upright</td>\n",
       "      <td>62.0</td>\n",
       "      <td>4469.0</td>\n",
       "      <td>0</td>\n",
       "      <td>4</td>\n",
       "      <td>4</td>\n",
       "    </tr>\n",
       "  </tbody>\n",
       "</table>\n",
       "<p>5 rows × 22 columns</p>\n",
       "</div>"
      ],
      "text/plain": [
       "      rotten_tomatoes_link      movie_title  \\\n",
       "17707          m/zoot_suit        Zoot Suit   \n",
       "17708           m/zootopia         Zootopia   \n",
       "17709    m/zorba_the_greek  Zorba the Greek   \n",
       "17710               m/zulu             Zulu   \n",
       "17711          m/zulu_dawn        Zulu Dawn   \n",
       "\n",
       "                                              movie_info  \\\n",
       "17707  Mexican-American gangster Henry Reyna (Daniel ...   \n",
       "17708  From the largest elephant to the smallest shre...   \n",
       "17709  Traveling to inspect an abandoned mine his fat...   \n",
       "17710  In 1879, the Zulu nation hands colonial Britis...   \n",
       "17711  Sir Henry Bartle Frere's (John Mills) vastly o...   \n",
       "\n",
       "                                       critics_consensus content_rating  \\\n",
       "17707                                                NaN              R   \n",
       "17708  The brilliantly well-rounded Zootopia offers a...             PG   \n",
       "17709                                                NaN             NR   \n",
       "17710  Zulu patiently establishes a cast of colorful ...             PG   \n",
       "17711                                                NaN             PG   \n",
       "\n",
       "                                                  genres  \\\n",
       "17707                   Drama, Musical & Performing Arts   \n",
       "17708              Action & Adventure, Animation, Comedy   \n",
       "17709  Action & Adventure, Art House & International,...   \n",
       "17710                                    Classics, Drama   \n",
       "17711  Action & Adventure, Art House & International,...   \n",
       "\n",
       "                                  directors                      authors  \\\n",
       "17707                           Luis Valdez                  Luis Valdez   \n",
       "17708  Byron Howard, Rich Moore, Jared Bush    Jared Bush, Phil Johnston   \n",
       "17709                                   NaN                          NaN   \n",
       "17710           Cy Endfield, Cyril Endfield    Cy Endfield, John Prebble   \n",
       "17711                        Douglas Hickox  Cy Endfield, Anthony Storey   \n",
       "\n",
       "                                                  actors  \\\n",
       "17707  Daniel Valdez, Edward James Olmos, Charles Aid...   \n",
       "17708  J.K. Simmons, Kristen Bell, Octavia Spencer, A...   \n",
       "17709  Anthony Quinn, Alan Bates, Irene Papas, Lila K...   \n",
       "17710  Stanley Baker, Jack Hawkins, Ulla Jacobsson, J...   \n",
       "17711  Burt Lancaster, Peter O'Toole, Simon Ward, Joh...   \n",
       "\n",
       "      original_release_date  ...             production_company  \\\n",
       "17707            1981-10-02  ...       MCA Universal Home Video   \n",
       "17708            2016-03-04  ...  Walt Disney Animation Studios   \n",
       "17709            1964-12-17  ...                            Fox   \n",
       "17710            1964-06-17  ...             Paramount Pictures   \n",
       "17711            1979-12-14  ...            Tango Entertainment   \n",
       "\n",
       "       tomatometer_status tomatometer_rating tomatometer_count  \\\n",
       "17707              Rotten               56.0               9.0   \n",
       "17708     Certified-Fresh               98.0             291.0   \n",
       "17709               Fresh               80.0              10.0   \n",
       "17710               Fresh               96.0              23.0   \n",
       "17711              Rotten               50.0               8.0   \n",
       "\n",
       "       audience_status  audience_rating audience_count  \\\n",
       "17707          Upright             74.0         1195.0   \n",
       "17708          Upright             92.0       101511.0   \n",
       "17709          Upright             86.0         7146.0   \n",
       "17710          Upright             91.0        30193.0   \n",
       "17711          Upright             62.0         4469.0   \n",
       "\n",
       "       tomatometer_top_critics_count  tomatometer_fresh_critics_count  \\\n",
       "17707                              2                                5   \n",
       "17708                             50                              285   \n",
       "17709                              0                                8   \n",
       "17710                              6                               22   \n",
       "17711                              0                                4   \n",
       "\n",
       "       tomatometer_rotten_critics_count  \n",
       "17707                                 4  \n",
       "17708                                 7  \n",
       "17709                                 2  \n",
       "17710                                 1  \n",
       "17711                                 4  \n",
       "\n",
       "[5 rows x 22 columns]"
      ]
     },
     "execution_count": 34,
     "metadata": {},
     "output_type": "execute_result"
    }
   ],
   "source": [
    "movies.tail(5)"
   ]
  },
  {
   "cell_type": "code",
   "execution_count": 38,
   "id": "3f40b8b3",
   "metadata": {},
   "outputs": [
    {
     "name": "stdout",
     "output_type": "stream",
     "text": [
      "Total number of movies: 17712\n",
      "Total number of reviews: 1130017\n"
     ]
    }
   ],
   "source": [
    "ds = f'Total number of movies: {len(movies)}\\nTotal number of reviews: {len(reviews)}'\n",
    "print(ds)"
   ]
  },
  {
   "cell_type": "code",
   "execution_count": 39,
   "id": "b397d45c",
   "metadata": {},
   "outputs": [],
   "source": [
    "movies['actors'] = movies['actors'].apply(lambda x: str(x).split(','))"
   ]
  },
  {
   "cell_type": "markdown",
   "id": "cb975ff2",
   "metadata": {},
   "source": [
    "### Create a new variable called gender\n",
    "This will ad a list of the genders for the actors, the genders are in the same order as the actors. We will utilize the gender guesser api to do this.  "
   ]
  },
  {
   "cell_type": "code",
   "execution_count": 41,
   "id": "3643427b",
   "metadata": {},
   "outputs": [],
   "source": [
    "import gender_guesser.detector as gender\n",
    "d = gender.Detector()"
   ]
  },
  {
   "cell_type": "code",
   "execution_count": 44,
   "id": "bdd88c64",
   "metadata": {},
   "outputs": [],
   "source": [
    "pd.options.mode.chained_assignment = None\n",
    "movies['actor_genders'] = ' '\n",
    "for idx,row in movies.iterrows():\n",
    "    \n",
    "    genders = []\n",
    "    for actor in row['actors']:\n",
    "        if actor == '' or actor == ' ':\n",
    "            continue\n",
    "        actor = actor.split(' ')\n",
    "        if actor[0] == ' ' or actor[0] == '':\n",
    "            actor_first_name = actor[1] \n",
    "        else: \n",
    "            actor_first_name = actor[0]\n",
    "        gender = d.get_gender(actor_first_name)\n",
    "        genders.append(gender)\n",
    "    \n",
    "    movies.iloc[idx,-1] = ','.join(genders)\n",
    "movies['actor_genders'] = movies['actor_genders'].apply(lambda x: x.split(','))"
   ]
  },
  {
   "cell_type": "markdown",
   "id": "c0f1430e",
   "metadata": {},
   "source": [
    "### Crate variable called male and female count "
   ]
  },
  {
   "cell_type": "code",
   "execution_count": 46,
   "id": "298990fa",
   "metadata": {},
   "outputs": [],
   "source": [
    "movies['male_count'] = movies['actor_genders'].apply(lambda x: sum([1 if g == 'male' or g == 'mostly_male' else 0 for g in x]))\n",
    "movies['female_count'] = movies['actor_genders'].apply(lambda x: sum([1 if g == 'female' or g == 'mostly_female' else 0 for g in x]))"
   ]
  },
  {
   "cell_type": "code",
   "execution_count": 269,
   "id": "07dfc4cc",
   "metadata": {},
   "outputs": [],
   "source": [
    "movies['dominant_gender'] = movies.apply(lambda x: 'male' if x['male_count'] > x['female_count'] else 'female', axis = 1)"
   ]
  },
  {
   "cell_type": "code",
   "execution_count": 295,
   "id": "b53eb034",
   "metadata": {},
   "outputs": [
    {
     "data": {
      "text/plain": [
       "Text(0.5, 0.98, 'Comparing audience vs. critics')"
      ]
     },
     "execution_count": 295,
     "metadata": {},
     "output_type": "execute_result"
    },
    {
     "data": {
      "image/png": "[encoded data removed]",
      "text/plain": [
       "<Figure size 640x480 with 2 Axes>"
      ]
     },
     "metadata": {},
     "output_type": "display_data"
    }
   ],
   "source": [
    "fig,ax = plt.subplots(2,1)\n",
    "plt.tight_layout()\n",
    "sns.histplot(data = movies,\n",
    "             x = 'tomatometer_rating',\n",
    "             hue = 'dominant_gender',\n",
    "             kde=True,\n",
    "             stat ='percent',\n",
    "             ax = ax[0])\n",
    "\n",
    "sns.histplot(data = movies,\n",
    "             x = 'audience_rating',\n",
    "             hue = 'dominant_gender',\n",
    "             kde = True,\n",
    "             stat ='percent',\n",
    "             ax = ax[1])\n",
    "fig.suptitle('Comparing audience vs. critics')"
   ]
  },
  {
   "cell_type": "markdown",
   "id": "b0302e9d",
   "metadata": {},
   "source": [
    "#### How many men and females in the data-set?\n"
   ]
  },
  {
   "cell_type": "code",
   "execution_count": 304,
   "id": "a1454d20",
   "metadata": {},
   "outputs": [
    {
     "name": "stdout",
     "output_type": "stream",
     "text": [
      "Ammount of male actors: 264733\n",
      "Ammount of female actors: 121697\n"
     ]
    }
   ],
   "source": [
    "s = f'Ammount of male actors: {movies.male_count.sum()}\\nAmmount of female actors: {movies.female_count.sum()}'\n",
    "print(s)"
   ]
  },
  {
   "cell_type": "code",
   "execution_count": null,
   "id": "37391d2e",
   "metadata": {},
   "outputs": [],
   "source": []
  },
  {
   "cell_type": "markdown",
   "id": "54ab897f",
   "metadata": {},
   "source": [
    "### Constructing the graph\n",
    "Here we will construct the graph, with each node being a movie connected by the actors. The movies will be indexed by the unique rotten tomatoes link, since some movies contains remakes, of old movies and thus they still have the same title.\n",
    "\n",
    "The weighted edgelist is created such, that the weights of the edges are equal to the size of the set of the actors shared by two movies. "
   ]
  },
  {
   "cell_type": "code",
   "execution_count": 56,
   "id": "9318a634",
   "metadata": {},
   "outputs": [],
   "source": [
    "def get_weighted_edge_list(movies_df):\n",
    "    '''\n",
    "    movies: A pandas dataframe containing the movie data-set from rotten tomatoes\n",
    "    return: returns a weighted edgelist to which can be read by networkx, each edge is\n",
    "    represented as: (Movie1,Movie2,weight) where the weight indicates how many actors appear\n",
    "    in both movies. \n",
    "    '''\n",
    "    # convert the list of actors for each movie into a set\n",
    "    movies_df['actors_set'] = movies_df['actors'].apply(set)\n",
    "    \n",
    "    # create an empty DataFrame to store the edge list\n",
    "    edge_list = []#pd.DataFrame(columns=['movie1', 'movie2', 'weight'])\n",
    "    actors = {}\n",
    "    # compare each pair of movies in the DataFrame\n",
    "    for i in tqdm(range(len(movies_df))):\n",
    "        for j in range(i + 1, len(movies_df)):\n",
    "            # find the actors that are shared between the two movies\n",
    "            shared_actors = movies_df.loc[i, 'actors_set'].intersection(movies_df.loc[j, 'actors_set'])\n",
    "            if shared_actors:\n",
    "                # create an edge between the two movies and set the weight to the number of shared actors\n",
    "                #edge_list.append()\n",
    "                edge_list.append((\n",
    "                    movies_df.loc[i, 'rotten_tomatoes_link'],\n",
    "                    movies_df.loc[j, 'rotten_tomatoes_link'],\n",
    "                    len(shared_actors)\n",
    "                ))\n",
    "                actors[(movies_df.loc[i, 'rotten_tomatoes_link'],\n",
    "                        movies_df.loc[j, 'rotten_tomatoes_link'])] = shared_actors\n",
    "                \n",
    "    return edge_list,actors"
   ]
  },
  {
   "cell_type": "code",
   "execution_count": 57,
   "id": "e3159510",
   "metadata": {
    "scrolled": true
   },
   "outputs": [
    {
     "data": {
      "application/vnd.jupyter.widget-view+json": {
       "model_id": "a2482144dc51442682fa686356aa18bb",
       "version_major": 2,
       "version_minor": 0
      },
      "text/plain": [
       "  0%|          | 0/17712 [00:00<?, ?it/s]"
      ]
     },
     "metadata": {},
     "output_type": "display_data"
    }
   ],
   "source": [
    "weighted_edge_list,actors = get_weighted_edge_list(movies)"
   ]
  },
  {
   "cell_type": "code",
   "execution_count": 58,
   "id": "fa980f1f",
   "metadata": {},
   "outputs": [],
   "source": [
    "G = nx.Graph()\n",
    "G.add_weighted_edges_from(weighted_edge_list)"
   ]
  },
  {
   "cell_type": "markdown",
   "id": "ca489299",
   "metadata": {},
   "source": [
    "#### Add the actors set as attributes to each edge\n",
    "As an edge attribute the set of shared actos are addded. This can prove usefull if the graph is to be inverted to the bigraph. "
   ]
  },
  {
   "cell_type": "code",
   "execution_count": 61,
   "id": "f5ab371a",
   "metadata": {},
   "outputs": [],
   "source": [
    "for mov1,mov2 in G.edges:\n",
    "    try:\n",
    "        G[mov1][mov2]['Actors'] = list(actors[(mov1,mov2)])\n",
    "    except:\n",
    "        G[mov1][mov2]['Actors'] = list(actors[(mov2,mov1)])"
   ]
  },
  {
   "cell_type": "code",
   "execution_count": 62,
   "id": "2a1efdbe",
   "metadata": {},
   "outputs": [],
   "source": [
    "data = json_graph.node_link_data(G)\n",
    "# save the data to a JSON file\n",
    "with open('graph_tomato_link.json', 'w') as f:\n",
    "    json.dump(data, f)"
   ]
  },
  {
   "cell_type": "markdown",
   "id": "439db5d5",
   "metadata": {},
   "source": [
    "### Load the graph in from a json file "
   ]
  },
  {
   "cell_type": "code",
   "execution_count": 321,
   "id": "608ff680",
   "metadata": {},
   "outputs": [
    {
     "data": {
      "text/plain": [
       "17018"
      ]
     },
     "execution_count": 321,
     "metadata": {},
     "output_type": "execute_result"
    }
   ],
   "source": [
    "with open('graph_tomato_link.json', 'r') as f:\n",
    "    data = json.load(f)\n",
    "\n",
    "G = json_graph.node_link_graph(data)\n",
    "len(G)"
   ]
  },
  {
   "cell_type": "markdown",
   "id": "1d6bc36a",
   "metadata": {},
   "source": [
    "#### Find giant connected component and use that"
   ]
  },
  {
   "cell_type": "code",
   "execution_count": 182,
   "id": "4919c25e",
   "metadata": {},
   "outputs": [],
   "source": [
    "#movies.reset_index()\n",
    "#movies = movies.set_index('rotten_tomatoes_link')"
   ]
  },
  {
   "cell_type": "code",
   "execution_count": 183,
   "id": "41406e37",
   "metadata": {},
   "outputs": [
    {
     "data": {
      "text/html": [
       "<div>\n",
       "<style scoped>\n",
       "    .dataframe tbody tr th:only-of-type {\n",
       "        vertical-align: middle;\n",
       "    }\n",
       "\n",
       "    .dataframe tbody tr th {\n",
       "        vertical-align: top;\n",
       "    }\n",
       "\n",
       "    .dataframe thead th {\n",
       "        text-align: right;\n",
       "    }\n",
       "</style>\n",
       "<table border=\"1\" class=\"dataframe\">\n",
       "  <thead>\n",
       "    <tr style=\"text-align: right;\">\n",
       "      <th></th>\n",
       "      <th>movie_title</th>\n",
       "      <th>movie_info</th>\n",
       "      <th>critics_consensus</th>\n",
       "      <th>content_rating</th>\n",
       "      <th>genres</th>\n",
       "      <th>directors</th>\n",
       "      <th>authors</th>\n",
       "      <th>actors</th>\n",
       "      <th>original_release_date</th>\n",
       "      <th>streaming_release_date</th>\n",
       "      <th>...</th>\n",
       "      <th>audience_status</th>\n",
       "      <th>audience_rating</th>\n",
       "      <th>audience_count</th>\n",
       "      <th>tomatometer_top_critics_count</th>\n",
       "      <th>tomatometer_fresh_critics_count</th>\n",
       "      <th>tomatometer_rotten_critics_count</th>\n",
       "      <th>actor_genders</th>\n",
       "      <th>male_count</th>\n",
       "      <th>female_count</th>\n",
       "      <th>actors_set</th>\n",
       "    </tr>\n",
       "    <tr>\n",
       "      <th>rotten_tomatoes_link</th>\n",
       "      <th></th>\n",
       "      <th></th>\n",
       "      <th></th>\n",
       "      <th></th>\n",
       "      <th></th>\n",
       "      <th></th>\n",
       "      <th></th>\n",
       "      <th></th>\n",
       "      <th></th>\n",
       "      <th></th>\n",
       "      <th></th>\n",
       "      <th></th>\n",
       "      <th></th>\n",
       "      <th></th>\n",
       "      <th></th>\n",
       "      <th></th>\n",
       "      <th></th>\n",
       "      <th></th>\n",
       "      <th></th>\n",
       "      <th></th>\n",
       "      <th></th>\n",
       "    </tr>\n",
       "  </thead>\n",
       "  <tbody>\n",
       "    <tr>\n",
       "      <th>m/0814255</th>\n",
       "      <td>Percy Jackson &amp; the Olympians: The Lightning T...</td>\n",
       "      <td>Always trouble-prone, the life of teenager Per...</td>\n",
       "      <td>Though it may seem like just another Harry Pot...</td>\n",
       "      <td>PG</td>\n",
       "      <td>Action &amp; Adventure, Comedy, Drama, Science Fic...</td>\n",
       "      <td>Chris Columbus</td>\n",
       "      <td>Craig Titley, Chris Columbus, Rick Riordan</td>\n",
       "      <td>[Logan Lerman,  Brandon T. Jackson,  Alexandra...</td>\n",
       "      <td>2010-02-12</td>\n",
       "      <td>2015-11-25</td>\n",
       "      <td>...</td>\n",
       "      <td>Spilled</td>\n",
       "      <td>53.0</td>\n",
       "      <td>254421.0</td>\n",
       "      <td>43</td>\n",
       "      <td>73</td>\n",
       "      <td>76</td>\n",
       "      <td>[mostly_male, male, female, male, male, male, ...</td>\n",
       "      <td>42</td>\n",
       "      <td>37</td>\n",
       "      <td>{ Melina Kanakaredes,  Ray Winstone,  Marielle...</td>\n",
       "    </tr>\n",
       "    <tr>\n",
       "      <th>m/0878835</th>\n",
       "      <td>Please Give</td>\n",
       "      <td>Kate (Catherine Keener) and her husband Alex (...</td>\n",
       "      <td>Nicole Holofcener's newest might seem slight i...</td>\n",
       "      <td>R</td>\n",
       "      <td>Comedy</td>\n",
       "      <td>Nicole Holofcener</td>\n",
       "      <td>Nicole Holofcener</td>\n",
       "      <td>[Catherine Keener,  Amanda Peet,  Oliver Platt...</td>\n",
       "      <td>2010-04-30</td>\n",
       "      <td>2012-09-04</td>\n",
       "      <td>...</td>\n",
       "      <td>Upright</td>\n",
       "      <td>64.0</td>\n",
       "      <td>11574.0</td>\n",
       "      <td>44</td>\n",
       "      <td>123</td>\n",
       "      <td>19</td>\n",
       "      <td>[female, female, male, female, female, female,...</td>\n",
       "      <td>2</td>\n",
       "      <td>6</td>\n",
       "      <td>{ Rebecca Hall,  Kevin Corrigan,  Amanda Peet,...</td>\n",
       "    </tr>\n",
       "    <tr>\n",
       "      <th>m/10</th>\n",
       "      <td>10</td>\n",
       "      <td>A successful, middle-aged Hollywood songwriter...</td>\n",
       "      <td>Blake Edwards' bawdy comedy may not score a pe...</td>\n",
       "      <td>R</td>\n",
       "      <td>Comedy, Romance</td>\n",
       "      <td>Blake Edwards</td>\n",
       "      <td>Blake Edwards</td>\n",
       "      <td>[Dudley Moore,  Bo Derek,  Julie Andrews,  Rob...</td>\n",
       "      <td>1979-10-05</td>\n",
       "      <td>2014-07-24</td>\n",
       "      <td>...</td>\n",
       "      <td>Spilled</td>\n",
       "      <td>53.0</td>\n",
       "      <td>14684.0</td>\n",
       "      <td>2</td>\n",
       "      <td>16</td>\n",
       "      <td>8</td>\n",
       "      <td>[male, male, female, male, mostly_female, most...</td>\n",
       "      <td>22</td>\n",
       "      <td>19</td>\n",
       "      <td>{ Sam Jones III,  Marcy Hanson,  Denise Crosby...</td>\n",
       "    </tr>\n",
       "  </tbody>\n",
       "</table>\n",
       "<p>3 rows × 25 columns</p>\n",
       "</div>"
      ],
      "text/plain": [
       "                                                            movie_title  \\\n",
       "rotten_tomatoes_link                                                      \n",
       "m/0814255             Percy Jackson & the Olympians: The Lightning T...   \n",
       "m/0878835                                                   Please Give   \n",
       "m/10                                                                 10   \n",
       "\n",
       "                                                             movie_info  \\\n",
       "rotten_tomatoes_link                                                      \n",
       "m/0814255             Always trouble-prone, the life of teenager Per...   \n",
       "m/0878835             Kate (Catherine Keener) and her husband Alex (...   \n",
       "m/10                  A successful, middle-aged Hollywood songwriter...   \n",
       "\n",
       "                                                      critics_consensus  \\\n",
       "rotten_tomatoes_link                                                      \n",
       "m/0814255             Though it may seem like just another Harry Pot...   \n",
       "m/0878835             Nicole Holofcener's newest might seem slight i...   \n",
       "m/10                  Blake Edwards' bawdy comedy may not score a pe...   \n",
       "\n",
       "                     content_rating  \\\n",
       "rotten_tomatoes_link                  \n",
       "m/0814255                        PG   \n",
       "m/0878835                         R   \n",
       "m/10                              R   \n",
       "\n",
       "                                                                 genres  \\\n",
       "rotten_tomatoes_link                                                      \n",
       "m/0814255             Action & Adventure, Comedy, Drama, Science Fic...   \n",
       "m/0878835                                                        Comedy   \n",
       "m/10                                                    Comedy, Romance   \n",
       "\n",
       "                              directors  \\\n",
       "rotten_tomatoes_link                      \n",
       "m/0814255                Chris Columbus   \n",
       "m/0878835             Nicole Holofcener   \n",
       "m/10                      Blake Edwards   \n",
       "\n",
       "                                                         authors  \\\n",
       "rotten_tomatoes_link                                               \n",
       "m/0814255             Craig Titley, Chris Columbus, Rick Riordan   \n",
       "m/0878835                                      Nicole Holofcener   \n",
       "m/10                                               Blake Edwards   \n",
       "\n",
       "                                                                 actors  \\\n",
       "rotten_tomatoes_link                                                      \n",
       "m/0814255             [Logan Lerman,  Brandon T. Jackson,  Alexandra...   \n",
       "m/0878835             [Catherine Keener,  Amanda Peet,  Oliver Platt...   \n",
       "m/10                  [Dudley Moore,  Bo Derek,  Julie Andrews,  Rob...   \n",
       "\n",
       "                     original_release_date streaming_release_date  ...  \\\n",
       "rotten_tomatoes_link                                               ...   \n",
       "m/0814255                       2010-02-12             2015-11-25  ...   \n",
       "m/0878835                       2010-04-30             2012-09-04  ...   \n",
       "m/10                            1979-10-05             2014-07-24  ...   \n",
       "\n",
       "                      audience_status audience_rating audience_count  \\\n",
       "rotten_tomatoes_link                                                   \n",
       "m/0814255                     Spilled            53.0       254421.0   \n",
       "m/0878835                     Upright            64.0        11574.0   \n",
       "m/10                          Spilled            53.0        14684.0   \n",
       "\n",
       "                      tomatometer_top_critics_count  \\\n",
       "rotten_tomatoes_link                                  \n",
       "m/0814255                                        43   \n",
       "m/0878835                                        44   \n",
       "m/10                                              2   \n",
       "\n",
       "                      tomatometer_fresh_critics_count  \\\n",
       "rotten_tomatoes_link                                    \n",
       "m/0814255                                          73   \n",
       "m/0878835                                         123   \n",
       "m/10                                               16   \n",
       "\n",
       "                     tomatometer_rotten_critics_count  \\\n",
       "rotten_tomatoes_link                                    \n",
       "m/0814255                                          76   \n",
       "m/0878835                                          19   \n",
       "m/10                                                8   \n",
       "\n",
       "                                                          actor_genders  \\\n",
       "rotten_tomatoes_link                                                      \n",
       "m/0814255             [mostly_male, male, female, male, male, male, ...   \n",
       "m/0878835             [female, female, male, female, female, female,...   \n",
       "m/10                  [male, male, female, male, mostly_female, most...   \n",
       "\n",
       "                      male_count  female_count  \\\n",
       "rotten_tomatoes_link                             \n",
       "m/0814255                     42            37   \n",
       "m/0878835                      2             6   \n",
       "m/10                          22            19   \n",
       "\n",
       "                                                             actors_set  \n",
       "rotten_tomatoes_link                                                     \n",
       "m/0814255             { Melina Kanakaredes,  Ray Winstone,  Marielle...  \n",
       "m/0878835             { Rebecca Hall,  Kevin Corrigan,  Amanda Peet,...  \n",
       "m/10                  { Sam Jones III,  Marcy Hanson,  Denise Crosby...  \n",
       "\n",
       "[3 rows x 25 columns]"
      ]
     },
     "execution_count": 183,
     "metadata": {},
     "output_type": "execute_result"
    }
   ],
   "source": [
    "movies.head(3)"
   ]
  },
  {
   "cell_type": "code",
   "execution_count": 322,
   "id": "6d5c3a93",
   "metadata": {},
   "outputs": [],
   "source": [
    "# loop through each node in the graph\n",
    "remove = []\n",
    "for node in G.nodes():\n",
    "    # get the corresponding data from the dataframe\n",
    "    data = movies.loc[node, 'original_release_date']\n",
    "    if str(type(data)) == \"<class 'pandas.core.series.Series'>\": \n",
    "        data = data[0]\n",
    "    # check if the data is above the year 2005\n",
    "    if data.year > 1980:\n",
    "        # if it is, keep the node in the graph\n",
    "        continue\n",
    "    else:\n",
    "        # if it is not, remove the node from the graph\n",
    "        remove.append(node)\n",
    "\n",
    "G.remove_nodes_from(remove)"
   ]
  },
  {
   "cell_type": "code",
   "execution_count": 212,
   "id": "6a9c5ac4",
   "metadata": {},
   "outputs": [],
   "source": [
    "s = max(nx.connected_components(G), key=len)\n",
    "G = G.subgraph(s)"
   ]
  },
  {
   "cell_type": "code",
   "execution_count": 323,
   "id": "a6b9e3fa",
   "metadata": {},
   "outputs": [
    {
     "data": {
      "text/plain": [
       "(13511, 1006428)"
      ]
     },
     "execution_count": 323,
     "metadata": {},
     "output_type": "execute_result"
    }
   ],
   "source": [
    "len(G),G.number_of_edges()"
   ]
  },
  {
   "cell_type": "markdown",
   "id": "c3307e03",
   "metadata": {},
   "source": [
    "### Vizualise with netwulf"
   ]
  },
  {
   "cell_type": "code",
   "execution_count": 187,
   "id": "8f87412d",
   "metadata": {},
   "outputs": [
    {
     "data": {
      "text/plain": [
       "(None, None)"
      ]
     },
     "execution_count": 187,
     "metadata": {},
     "output_type": "execute_result"
    }
   ],
   "source": [
    "# visualize the graph using netwulf\n",
    "netwulf.visualize(G)"
   ]
  },
  {
   "cell_type": "markdown",
   "id": "8eb6871f",
   "metadata": {},
   "source": [
    "## Add the gender of the actors to as node attributes"
   ]
  },
  {
   "cell_type": "code",
   "execution_count": 324,
   "id": "1888f25b",
   "metadata": {},
   "outputs": [],
   "source": [
    "for idx,edge in enumerate(G.edges()):\n",
    "    \n",
    "    actors = G[edge[0]][edge[1]]['Actors']\n",
    "    genders = []\n",
    "    for actor in actors:\n",
    "        if actor == '' or actor == ' ':\n",
    "            continue\n",
    "        actor = actor.split(' ')\n",
    "        if actor[0] == ' ' or actor[0] == '':\n",
    "            actor_first_name = actor[1] \n",
    "        else: \n",
    "            actor_first_name = actor[0]\n",
    "        gender = d.get_gender(actor_first_name)\n",
    "        genders.append(gender)\n",
    "    \n",
    "    G[edge[0]][edge[1]]['actor_genders'] = genders"
   ]
  },
  {
   "cell_type": "markdown",
   "id": "7b0cdcbc",
   "metadata": {},
   "source": [
    "### Check that the atributes has been set correctly"
   ]
  },
  {
   "cell_type": "code",
   "execution_count": 325,
   "id": "34efc197",
   "metadata": {},
   "outputs": [
    {
     "name": "stdout",
     "output_type": "stream",
     "text": [
      "0\n",
      "('m/0814255', 'm/10004352-going_the_distance')\n",
      "{'weight': 1, 'Actors': [' Christie Laing'], 'actor_genders': ['mostly_female']}\n",
      "1\n",
      "('m/0814255', 'm/10008849-married_life')\n",
      "{'weight': 1, 'Actors': [' Suzanne Ristic'], 'actor_genders': ['female']}\n",
      "2\n",
      "('m/0814255', 'm/10011582-TRON_legacy')\n",
      "{'weight': 2, 'Actors': [' Serinda Swan', ' Conrad Coates'], 'actor_genders': ['unknown', 'male']}\n",
      "3\n",
      "('m/0814255', 'm/10011815-hole')\n",
      "{'weight': 1, 'Actors': [' Merritt Patterson'], 'actor_genders': ['male']}\n",
      "4\n",
      "('m/0814255', 'm/10012039-lottery_ticket')\n",
      "{'weight': 1, 'Actors': [' Brandon T. Jackson'], 'actor_genders': ['male']}\n"
     ]
    }
   ],
   "source": [
    "for i,edge in enumerate(G.edges()):\n",
    "    print(i)\n",
    "    print(edge)\n",
    "    print(G[edge[0]][edge[1]])\n",
    "    if i > 3: \n",
    "        break"
   ]
  },
  {
   "cell_type": "markdown",
   "id": "952aea31",
   "metadata": {},
   "source": [
    "### Set a node atribute for director gender and most common actor gender"
   ]
  },
  {
   "cell_type": "code",
   "execution_count": 326,
   "id": "c487f192",
   "metadata": {},
   "outputs": [],
   "source": [
    "def is_pd_series(x):\n",
    "    if str(type(x)) == \"<class 'pandas.core.series.Series'>\":\n",
    "        return True\n",
    "    else:\n",
    "        return False"
   ]
  },
  {
   "cell_type": "markdown",
   "id": "617b1f29",
   "metadata": {},
   "source": [
    "#### Creating a dictionary containing the attributes \n",
    "Now a dictionary of dictionaries will be created containing the attributes, that is to be set on the nodes. \n",
    "\n",
    "The following attributes will be added to the nodes: \n",
    "- Movie title \n",
    "- Tomato meter rating\n",
    "- Audience rating \n",
    "- Genders \n",
    "- Genres\n",
    "-  Production companies\n",
    "- Content rating\n"
   ]
  },
  {
   "cell_type": "code",
   "execution_count": 327,
   "id": "efe060cf",
   "metadata": {},
   "outputs": [],
   "source": [
    "att = {}\n",
    "Nan_directors = []\n",
    "most_freq = lambda List: max(set(List), key = List.count)\n",
    "for node in G.nodes():\n",
    "    \n",
    "    #Extract the relevant collumns\n",
    "    title = movies.loc[node]['movie_title']\n",
    "    tomato_rating = movies.loc[node]['tomatometer_rating']\n",
    "    audience_rating = movies.loc[node]['audience_rating']\n",
    "    genders = movies.loc[node]['actor_genders']\n",
    "    genres =  movies.loc[node]['genres']\n",
    "    production_company = movies.loc[node]['production_company']\n",
    "    content_rating = movies.loc[node]['content_rating']\n",
    "    directors = [movies.loc[node]['directors']]\n",
    "    original_release_date = movies.loc[node]['original_release_date']\n",
    "    \n",
    "    if str(directors[0]) == 'nan':\n",
    "        directors = ['nan']\n",
    "    #elif \n",
    "    \n",
    "    #Get the most common genders\n",
    "    director_genders = [d.get_gender(director.split(' ')[0]) for director in directors]\n",
    "    most_freq_director_gender = most_freq(director_genders)\n",
    "    \n",
    "    #Change the most frequent to male or female\n",
    "    if most_freq_director_gender == 'mostly_male':\n",
    "        most_freq_director_gender = 'male'\n",
    "    elif most_freq_director_gender == 'mostly_female':\n",
    "        most_freq_director_gender = 'female'\n",
    "    elif str(type(most_freq_director_gender)) != \"<class 'str'>\":\n",
    "        print(str(type(most_freq_director_gender)))\n",
    "    \n",
    "    most_freq_actor_gender = most_freq(genders)\n",
    "    \n",
    "    att[node] = {'title': title,\n",
    "                 'tomato_rating':tomato_rating if str(tomato_rating) != 'nan' else 0,\n",
    "                 'audience_rating':audience_rating if str(audience_rating) != 'nan' else 0,\n",
    "                 'genders':genders,\n",
    "                 'production_company': production_company,\n",
    "                 'most_freq_actor_gender': most_freq_actor_gender,\n",
    "                 'most_freq_director_gender': most_freq_director_gender,\n",
    "                 'genre':genres,\n",
    "                 'content_rating': content_rating,\n",
    "                 'original_release_date': original_release_date}"
   ]
  },
  {
   "cell_type": "code",
   "execution_count": 328,
   "id": "82d10ace",
   "metadata": {
    "scrolled": true
   },
   "outputs": [],
   "source": [
    "nx.set_node_attributes(G,att)"
   ]
  },
  {
   "cell_type": "markdown",
   "id": "d018cb26",
   "metadata": {},
   "source": [
    "### Now we can answer the question: Does directors of the same gender tend to hire the same actors?\n",
    "In order to do so, the assortivity with respect to the gender of the director is found. "
   ]
  },
  {
   "cell_type": "code",
   "execution_count": 329,
   "id": "87f01845",
   "metadata": {},
   "outputs": [],
   "source": [
    "from networkx.algorithms.assortativity import attribute_assortativity_coefficient"
   ]
  },
  {
   "cell_type": "code",
   "execution_count": 330,
   "id": "cf3ba31b",
   "metadata": {},
   "outputs": [
    {
     "name": "stdout",
     "output_type": "stream",
     "text": [
      "Attribute assortativity: 0.033\n"
     ]
    }
   ],
   "source": [
    "# calculate the attribute assortativity\n",
    "assortativity = attribute_assortativity_coefficient(G, 'most_freq_director_gender')\n",
    "print(f\"Attribute assortativity: {assortativity:.3f}\")"
   ]
  },
  {
   "cell_type": "markdown",
   "id": "4d82861b",
   "metadata": {},
   "source": [
    "### Now do the same for the gender of the actors\n",
    "The calculation of this coeficient will answer if a gender dominates a cast, are they then also often appearing in other gender dominated casts in other movies? \n",
    "\n",
    "##### Note \n",
    "This one is a bit weird it gives wastly different results if we run on the entire graph or just thresholded giant connected component for some reason"
   ]
  },
  {
   "cell_type": "code",
   "execution_count": 331,
   "id": "12333724",
   "metadata": {},
   "outputs": [
    {
     "name": "stdout",
     "output_type": "stream",
     "text": [
      "Attribute assortativity: 0.272\n"
     ]
    }
   ],
   "source": [
    "# calculate the attribute assortativity\n",
    "assortativity = attribute_assortativity_coefficient(G, 'most_freq_actor_gender')\n",
    "print(f\"Attribute assortativity: {assortativity:.3f}\")"
   ]
  },
  {
   "cell_type": "code",
   "execution_count": 332,
   "id": "4ddad29d",
   "metadata": {},
   "outputs": [
    {
     "name": "stdout",
     "output_type": "stream",
     "text": [
      "Attribute assortativity: 0.008\n"
     ]
    }
   ],
   "source": [
    "# calculate the attribute assortativity\n",
    "assortativity = attribute_assortativity_coefficient(G, 'production_company')\n",
    "print(f\"Attribute assortativity: {assortativity:.3f}\")"
   ]
  },
  {
   "cell_type": "markdown",
   "id": "b1121fb2",
   "metadata": {},
   "source": [
    "#### Assortivity with respect to rating\n",
    "The data-set consists of two types of ratings, one which is made by the general public and one which is made by actual movie critics. One thing that was hypothesised before conducting the test was that movie critics would be less biased due to their more professional knowledge of movies, where as the general audience generaly speaking tends to be more affected by seeing familiar faces. \n",
    "\n",
    "The reason numeric assortivity would tell something about this hypothesis, is that movies with high reviews tend to often connect with other highly reviewed movies, they share the actors between, meaning if assortivity is found between movies with respect to rating, it would point towards bias against certain actors.\n",
    "*This could lead to an argument about correlation vs. causation, however in this case the naive approach will be assumed*"
   ]
  },
  {
   "cell_type": "code",
   "execution_count": 333,
   "id": "d8effdc6",
   "metadata": {},
   "outputs": [
    {
     "data": {
      "text/plain": [
       "0.09511000686187794"
      ]
     },
     "execution_count": 333,
     "metadata": {},
     "output_type": "execute_result"
    }
   ],
   "source": [
    "nx.numeric_assortativity_coefficient(G,'tomato_rating')"
   ]
  },
  {
   "cell_type": "code",
   "execution_count": 334,
   "id": "c5666362",
   "metadata": {},
   "outputs": [
    {
     "data": {
      "text/plain": [
       "0.038686129193401725"
      ]
     },
     "execution_count": 334,
     "metadata": {},
     "output_type": "execute_result"
    }
   ],
   "source": [
    "nx.numeric_assortativity_coefficient(G,'audience_rating')"
   ]
  },
  {
   "cell_type": "markdown",
   "id": "001c9d28",
   "metadata": {},
   "source": [
    "This means that actually quite opposite of the original hypothesis, the audience tends to be less biased against certain actors, than the movie critics are. While the correlation of the movie critics might not be really high, it is noteworhely higher than the correlation coefficient of the audience rating. "
   ]
  },
  {
   "cell_type": "markdown",
   "id": "691b108c",
   "metadata": {},
   "source": [
    "#### Degree assortivity "
   ]
  },
  {
   "cell_type": "code",
   "execution_count": 335,
   "id": "13f43b28",
   "metadata": {},
   "outputs": [
    {
     "data": {
      "text/plain": [
       "0.11406807990466936"
      ]
     },
     "execution_count": 335,
     "metadata": {},
     "output_type": "execute_result"
    }
   ],
   "source": [
    "nx.degree_assortativity_coefficient(G)"
   ]
  },
  {
   "cell_type": "markdown",
   "id": "303012b5",
   "metadata": {},
   "source": [
    "### Evolution over time \n",
    "One thing that is often claimed by the movie industry is their progress towards a more gender equal structure. The validity of these claims can be testet by getting the subgraph for each year, and analysing that. "
   ]
  },
  {
   "cell_type": "code",
   "execution_count": 336,
   "id": "3f6a28ff",
   "metadata": {
    "scrolled": true
   },
   "outputs": [],
   "source": [
    "def subgraph_by_year(G, year):\n",
    "    \"\"\"\n",
    "    Returns a subgraph of G containing only the nodes with an 'original_release_date'\n",
    "    attribute in the specified year.\n",
    "    \"\"\"\n",
    "    # Create a dictionary mapping node names to release dates\n",
    "    release_dates = {n: G.nodes[n]['original_release_date'] for n in G.nodes()}\n",
    "    \n",
    "    # Create a list of nodes that have an 'original_release_date' in the specified year\n",
    "    year_nodes = [n for n in release_dates if release_dates[n].year == year]\n",
    "    \n",
    "    # Create a subgraph containing only the nodes in year_nodes\n",
    "    subgraph = G.subgraph(year_nodes)\n",
    "    \n",
    "    return subgraph"
   ]
  },
  {
   "cell_type": "code",
   "execution_count": 367,
   "id": "b95eb38c",
   "metadata": {},
   "outputs": [],
   "source": [
    "# Define the range of years to compute degree assortativity for\n",
    "years = range(1990, 2021)\n",
    "\n",
    "# Create an empty list to store the degree assortativity values for each year\n",
    "assortativity_values = []\n",
    "assortativity_values_gender = []\n",
    "\n",
    "# Compute the degree assortativity for each year and store the results in assortativity_values\n",
    "for year in years:\n",
    "    subgraph = subgraph_by_year(G, year)\n",
    "    assortativity = nx.degree_assortativity_coefficient(subgraph)\n",
    "    assortativity_values.append(assortativity)\n",
    "    assortativity_gender = attribute_assortativity_coefficient(subgraph, 'most_freq_actor_gender')\n",
    "\n",
    "    assortativity_values_gender.append(assortativity_gender)\n",
    "\n",
    "# Create a pandas dataframe with the year and assortativity values\n",
    "df = pd.DataFrame({'Year': years, 'Assortativity': assortativity_values})\n",
    "df_gender = pd.DataFrame({'Year': years, 'Assortativity_gender': assortativity_values_gender})"
   ]
  },
  {
   "cell_type": "code",
   "execution_count": 371,
   "id": "3a7451b3",
   "metadata": {},
   "outputs": [
    {
     "data": {
      "image/png": "[encoded data removed]",
      "text/plain": [
       "<Figure size 1000x500 with 1 Axes>"
      ]
     },
     "metadata": {},
     "output_type": "display_data"
    }
   ],
   "source": [
    "plt.subplots(1,1,figsize = [10,5])\n",
    "sns.barplot(data = df_gender, x ='Year', y = 'Assortativity_gender')\n",
    "plt.xlabel('Year')\n",
    "plt.ylabel('Attribute Assortativity-gender')\n",
    "plt.title('Gender Assortativity by Year')\n",
    "plt.xticks(rotation=45)\n",
    "plt.show()"
   ]
  },
  {
   "cell_type": "code",
   "execution_count": 363,
   "id": "64aa16c2",
   "metadata": {},
   "outputs": [
    {
     "data": {
      "image/png": "[encoded data removed]",
      "text/plain": [
       "<Figure size 1000x500 with 1 Axes>"
      ]
     },
     "metadata": {},
     "output_type": "display_data"
    }
   ],
   "source": [
    "# Create a barplot of the degree assortativity values by year using seaborn's barplot() function\n",
    "plt.subplots(1,1,figsize = [10,5])\n",
    "sns.set(style=\"whitegrid\")\n",
    "sns.barplot(x='Year', y='Assortativity', data=df)\n",
    "plt.xlabel('Year')\n",
    "plt.ylabel('Degree Assortativity')\n",
    "plt.title('Degree Assortativity by Year')\n",
    "plt.xticks(rotation=45)\n",
    "plt.show()"
   ]
  },
  {
   "cell_type": "markdown",
   "id": "7568c7c7",
   "metadata": {},
   "source": [
    "### Find and viz degree distribution of G"
   ]
  },
  {
   "cell_type": "code",
   "execution_count": 257,
   "id": "0bcce185",
   "metadata": {},
   "outputs": [
    {
     "data": {
      "image/png": "[encoded data removed]",
      "text/plain": [
       "<Figure size 640x480 with 1 Axes>"
      ]
     },
     "metadata": {},
     "output_type": "display_data"
    }
   ],
   "source": [
    "# get the degree of each node\n",
    "degrees = [G.degree(node) for node in G.nodes()]\n",
    "sns.set_theme()\n",
    "# plot the degree distribution as a histogram\n",
    "sns.histplot(degrees, bins=range(max(degrees)+2))\n",
    "plt.xlabel('Degree')\n",
    "plt.ylabel('Frequency')\n",
    "plt.title('Degree Distribution')\n",
    "plt.show()"
   ]
  },
  {
   "cell_type": "code",
   "execution_count": 376,
   "id": "581235e8",
   "metadata": {},
   "outputs": [],
   "source": [
    "movies = movies.reset_index()"
   ]
  },
  {
   "cell_type": "code",
   "execution_count": 377,
   "id": "a59b103b",
   "metadata": {},
   "outputs": [
    {
     "data": {
      "text/html": [
       "<div>\n",
       "<style scoped>\n",
       "    .dataframe tbody tr th:only-of-type {\n",
       "        vertical-align: middle;\n",
       "    }\n",
       "\n",
       "    .dataframe tbody tr th {\n",
       "        vertical-align: top;\n",
       "    }\n",
       "\n",
       "    .dataframe thead th {\n",
       "        text-align: right;\n",
       "    }\n",
       "</style>\n",
       "<table border=\"1\" class=\"dataframe\">\n",
       "  <thead>\n",
       "    <tr style=\"text-align: right;\">\n",
       "      <th></th>\n",
       "      <th>rotten_tomatoes_link</th>\n",
       "      <th>movie_title</th>\n",
       "      <th>movie_info</th>\n",
       "      <th>critics_consensus</th>\n",
       "      <th>content_rating</th>\n",
       "      <th>genres</th>\n",
       "      <th>directors</th>\n",
       "      <th>authors</th>\n",
       "      <th>actors</th>\n",
       "      <th>original_release_date</th>\n",
       "      <th>...</th>\n",
       "      <th>audience_rating</th>\n",
       "      <th>audience_count</th>\n",
       "      <th>tomatometer_top_critics_count</th>\n",
       "      <th>tomatometer_fresh_critics_count</th>\n",
       "      <th>tomatometer_rotten_critics_count</th>\n",
       "      <th>actor_genders</th>\n",
       "      <th>male_count</th>\n",
       "      <th>female_count</th>\n",
       "      <th>actors_set</th>\n",
       "      <th>dominant_gender</th>\n",
       "    </tr>\n",
       "  </thead>\n",
       "  <tbody>\n",
       "    <tr>\n",
       "      <th>0</th>\n",
       "      <td>m/0814255</td>\n",
       "      <td>Percy Jackson &amp; the Olympians: The Lightning T...</td>\n",
       "      <td>Always trouble-prone, the life of teenager Per...</td>\n",
       "      <td>Though it may seem like just another Harry Pot...</td>\n",
       "      <td>PG</td>\n",
       "      <td>Action &amp; Adventure, Comedy, Drama, Science Fic...</td>\n",
       "      <td>Chris Columbus</td>\n",
       "      <td>Craig Titley, Chris Columbus, Rick Riordan</td>\n",
       "      <td>[Logan Lerman,  Brandon T. Jackson,  Alexandra...</td>\n",
       "      <td>2010-02-12</td>\n",
       "      <td>...</td>\n",
       "      <td>53.0</td>\n",
       "      <td>254421.0</td>\n",
       "      <td>43</td>\n",
       "      <td>73</td>\n",
       "      <td>76</td>\n",
       "      <td>[mostly_male, male, female, male, male, male, ...</td>\n",
       "      <td>42</td>\n",
       "      <td>37</td>\n",
       "      <td>{ Melina Kanakaredes,  Ray Winstone,  Marielle...</td>\n",
       "      <td>male</td>\n",
       "    </tr>\n",
       "    <tr>\n",
       "      <th>1</th>\n",
       "      <td>m/0878835</td>\n",
       "      <td>Please Give</td>\n",
       "      <td>Kate (Catherine Keener) and her husband Alex (...</td>\n",
       "      <td>Nicole Holofcener's newest might seem slight i...</td>\n",
       "      <td>R</td>\n",
       "      <td>Comedy</td>\n",
       "      <td>Nicole Holofcener</td>\n",
       "      <td>Nicole Holofcener</td>\n",
       "      <td>[Catherine Keener,  Amanda Peet,  Oliver Platt...</td>\n",
       "      <td>2010-04-30</td>\n",
       "      <td>...</td>\n",
       "      <td>64.0</td>\n",
       "      <td>11574.0</td>\n",
       "      <td>44</td>\n",
       "      <td>123</td>\n",
       "      <td>19</td>\n",
       "      <td>[female, female, male, female, female, female,...</td>\n",
       "      <td>2</td>\n",
       "      <td>6</td>\n",
       "      <td>{ Rebecca Hall,  Kevin Corrigan,  Amanda Peet,...</td>\n",
       "      <td>female</td>\n",
       "    </tr>\n",
       "    <tr>\n",
       "      <th>2</th>\n",
       "      <td>m/10</td>\n",
       "      <td>10</td>\n",
       "      <td>A successful, middle-aged Hollywood songwriter...</td>\n",
       "      <td>Blake Edwards' bawdy comedy may not score a pe...</td>\n",
       "      <td>R</td>\n",
       "      <td>Comedy, Romance</td>\n",
       "      <td>Blake Edwards</td>\n",
       "      <td>Blake Edwards</td>\n",
       "      <td>[Dudley Moore,  Bo Derek,  Julie Andrews,  Rob...</td>\n",
       "      <td>1979-10-05</td>\n",
       "      <td>...</td>\n",
       "      <td>53.0</td>\n",
       "      <td>14684.0</td>\n",
       "      <td>2</td>\n",
       "      <td>16</td>\n",
       "      <td>8</td>\n",
       "      <td>[male, male, female, male, mostly_female, most...</td>\n",
       "      <td>22</td>\n",
       "      <td>19</td>\n",
       "      <td>{ Sam Jones III,  Marcy Hanson,  Denise Crosby...</td>\n",
       "      <td>male</td>\n",
       "    </tr>\n",
       "    <tr>\n",
       "      <th>3</th>\n",
       "      <td>m/1000013-12_angry_men</td>\n",
       "      <td>12 Angry Men (Twelve Angry Men)</td>\n",
       "      <td>Following the closing arguments in a murder tr...</td>\n",
       "      <td>Sidney Lumet's feature debut is a superbly wri...</td>\n",
       "      <td>NR</td>\n",
       "      <td>Classics, Drama</td>\n",
       "      <td>Sidney Lumet</td>\n",
       "      <td>Reginald Rose</td>\n",
       "      <td>[Martin Balsam,  John Fiedler,  Lee J. Cobb,  ...</td>\n",
       "      <td>1957-04-13</td>\n",
       "      <td>...</td>\n",
       "      <td>97.0</td>\n",
       "      <td>105386.0</td>\n",
       "      <td>6</td>\n",
       "      <td>54</td>\n",
       "      <td>0</td>\n",
       "      <td>[male, male, mostly_male, unknown, male, male,...</td>\n",
       "      <td>15</td>\n",
       "      <td>0</td>\n",
       "      <td>{ Jack Klugman,  Joseph Sweeney,  Rudy Bond,  ...</td>\n",
       "      <td>male</td>\n",
       "    </tr>\n",
       "    <tr>\n",
       "      <th>4</th>\n",
       "      <td>m/1000079-20000_leagues_under_the_sea</td>\n",
       "      <td>20,000 Leagues Under The Sea</td>\n",
       "      <td>In 1866, Professor Pierre M. Aronnax (Paul Luk...</td>\n",
       "      <td>One of Disney's finest live-action adventures,...</td>\n",
       "      <td>G</td>\n",
       "      <td>Action &amp; Adventure, Drama, Kids &amp; Family</td>\n",
       "      <td>Richard Fleischer</td>\n",
       "      <td>Earl Felton</td>\n",
       "      <td>[James Mason,  Kirk Douglas,  Paul Lukas,  Pet...</td>\n",
       "      <td>1954-01-01</td>\n",
       "      <td>...</td>\n",
       "      <td>74.0</td>\n",
       "      <td>68918.0</td>\n",
       "      <td>5</td>\n",
       "      <td>24</td>\n",
       "      <td>3</td>\n",
       "      <td>[male, male, male, male, male, male, male, mal...</td>\n",
       "      <td>14</td>\n",
       "      <td>1</td>\n",
       "      <td>{ Carleton Young,  Esmeralda,  Bob Wilke,  Ted...</td>\n",
       "      <td>male</td>\n",
       "    </tr>\n",
       "  </tbody>\n",
       "</table>\n",
       "<p>5 rows × 27 columns</p>\n",
       "</div>"
      ],
      "text/plain": [
       "                    rotten_tomatoes_link  \\\n",
       "0                              m/0814255   \n",
       "1                              m/0878835   \n",
       "2                                   m/10   \n",
       "3                 m/1000013-12_angry_men   \n",
       "4  m/1000079-20000_leagues_under_the_sea   \n",
       "\n",
       "                                         movie_title  \\\n",
       "0  Percy Jackson & the Olympians: The Lightning T...   \n",
       "1                                        Please Give   \n",
       "2                                                 10   \n",
       "3                    12 Angry Men (Twelve Angry Men)   \n",
       "4                       20,000 Leagues Under The Sea   \n",
       "\n",
       "                                          movie_info  \\\n",
       "0  Always trouble-prone, the life of teenager Per...   \n",
       "1  Kate (Catherine Keener) and her husband Alex (...   \n",
       "2  A successful, middle-aged Hollywood songwriter...   \n",
       "3  Following the closing arguments in a murder tr...   \n",
       "4  In 1866, Professor Pierre M. Aronnax (Paul Luk...   \n",
       "\n",
       "                                   critics_consensus content_rating  \\\n",
       "0  Though it may seem like just another Harry Pot...             PG   \n",
       "1  Nicole Holofcener's newest might seem slight i...              R   \n",
       "2  Blake Edwards' bawdy comedy may not score a pe...              R   \n",
       "3  Sidney Lumet's feature debut is a superbly wri...             NR   \n",
       "4  One of Disney's finest live-action adventures,...              G   \n",
       "\n",
       "                                              genres          directors  \\\n",
       "0  Action & Adventure, Comedy, Drama, Science Fic...     Chris Columbus   \n",
       "1                                             Comedy  Nicole Holofcener   \n",
       "2                                    Comedy, Romance      Blake Edwards   \n",
       "3                                    Classics, Drama       Sidney Lumet   \n",
       "4           Action & Adventure, Drama, Kids & Family  Richard Fleischer   \n",
       "\n",
       "                                      authors  \\\n",
       "0  Craig Titley, Chris Columbus, Rick Riordan   \n",
       "1                           Nicole Holofcener   \n",
       "2                               Blake Edwards   \n",
       "3                               Reginald Rose   \n",
       "4                                 Earl Felton   \n",
       "\n",
       "                                              actors original_release_date  \\\n",
       "0  [Logan Lerman,  Brandon T. Jackson,  Alexandra...            2010-02-12   \n",
       "1  [Catherine Keener,  Amanda Peet,  Oliver Platt...            2010-04-30   \n",
       "2  [Dudley Moore,  Bo Derek,  Julie Andrews,  Rob...            1979-10-05   \n",
       "3  [Martin Balsam,  John Fiedler,  Lee J. Cobb,  ...            1957-04-13   \n",
       "4  [James Mason,  Kirk Douglas,  Paul Lukas,  Pet...            1954-01-01   \n",
       "\n",
       "   ... audience_rating  audience_count tomatometer_top_critics_count  \\\n",
       "0  ...            53.0        254421.0                            43   \n",
       "1  ...            64.0         11574.0                            44   \n",
       "2  ...            53.0         14684.0                             2   \n",
       "3  ...            97.0        105386.0                             6   \n",
       "4  ...            74.0         68918.0                             5   \n",
       "\n",
       "  tomatometer_fresh_critics_count  tomatometer_rotten_critics_count  \\\n",
       "0                              73                                76   \n",
       "1                             123                                19   \n",
       "2                              16                                 8   \n",
       "3                              54                                 0   \n",
       "4                              24                                 3   \n",
       "\n",
       "                                       actor_genders male_count  female_count  \\\n",
       "0  [mostly_male, male, female, male, male, male, ...         42            37   \n",
       "1  [female, female, male, female, female, female,...          2             6   \n",
       "2  [male, male, female, male, mostly_female, most...         22            19   \n",
       "3  [male, male, mostly_male, unknown, male, male,...         15             0   \n",
       "4  [male, male, male, male, male, male, male, mal...         14             1   \n",
       "\n",
       "                                          actors_set  dominant_gender  \n",
       "0  { Melina Kanakaredes,  Ray Winstone,  Marielle...             male  \n",
       "1  { Rebecca Hall,  Kevin Corrigan,  Amanda Peet,...           female  \n",
       "2  { Sam Jones III,  Marcy Hanson,  Denise Crosby...             male  \n",
       "3  { Jack Klugman,  Joseph Sweeney,  Rudy Bond,  ...             male  \n",
       "4  { Carleton Young,  Esmeralda,  Bob Wilke,  Ted...             male  \n",
       "\n",
       "[5 rows x 27 columns]"
      ]
     },
     "execution_count": 377,
     "metadata": {},
     "output_type": "execute_result"
    }
   ],
   "source": [
    "movies.head()"
   ]
  },
  {
   "cell_type": "markdown",
   "id": "79315caa",
   "metadata": {},
   "source": [
    "### Inverting the problem ie. create the bi-graph \n",
    "The entire problem can be thought of in another way, where the actors appear as nodes, and where the edges are movies in which they both appeared. "
   ]
  },
  {
   "cell_type": "code",
   "execution_count": 465,
   "id": "5648d120",
   "metadata": {},
   "outputs": [],
   "source": [
    "# Create an empty graph\n",
    "G_bi = nx.Graph()\n",
    "\n",
    "# Create a dictionary to store the count of movies for each pair of actors\n",
    "actor_pairs = {}\n",
    "\n",
    "# Iterate over the rows of the DataFrame\n",
    "for _, row in movies.iterrows():\n",
    "    movie = row['rotten_tomatoes_link']\n",
    "    actors = row['actors']\n",
    "    \n",
    "    # Update the count of movies for each pair of actors\n",
    "    if str(actors) == 'nan':\n",
    "        continue\n",
    "    for i in range(len(actors)):\n",
    "        for j in range(i + 1, len(actors)):\n",
    "            actor1 = actors[i]\n",
    "            actor2 = actors[j]\n",
    "            \n",
    "            # Increase the count of movies for the actor pair\n",
    "            if (actor1, actor2) in actor_pairs:\n",
    "                actor_pairs[(actor1, actor2)] += 1\n",
    "            else:\n",
    "                actor_pairs[(actor1, actor2)] = 1\n",
    "\n",
    "# Add weighted edges between the actors based on the count of movies\n",
    "for (actor1, actor2), count in actor_pairs.items():\n",
    "    G_bi.add_edge(actor1, actor2, weight=count)"
   ]
  },
  {
   "cell_type": "code",
   "execution_count": 466,
   "id": "b411d4d3",
   "metadata": {},
   "outputs": [
    {
     "data": {
      "text/plain": [
       "(209697, 8573136)"
      ]
     },
     "execution_count": 466,
     "metadata": {},
     "output_type": "execute_result"
    }
   ],
   "source": [
    "len(G_bi),len(G_bi.edges())"
   ]
  },
  {
   "cell_type": "code",
   "execution_count": 467,
   "id": "93c33042",
   "metadata": {},
   "outputs": [],
   "source": [
    "# Add the gender as an attribute to the graph\n",
    "remove = []\n",
    "for node in G_bi.nodes():\n",
    "    n = node.split(' ')\n",
    "    if (n[0] == '' or n[0] == ' ') and len(n) > 1:\n",
    "        name = n[1]\n",
    "    elif n[0] != '' or n[0] != ' ':\n",
    "        name = n[0]\n",
    "    elif len(n) == 1:\n",
    "        remove.append(node)\n",
    "        continue\n",
    "    gender = d.get_gender(name)\n",
    "    \n",
    "    #Change the most frequent to male or female\n",
    "    if gender == 'mostly_male':\n",
    "        gender = 'male'\n",
    "    elif gender == 'mostly_female':\n",
    "        gender = 'female'\n",
    "    elif gender == 'unknown' or gender == 'andy':\n",
    "        remove.append(node)\n",
    "        continue\n",
    "    \n",
    "    if gender == 'andy':\n",
    "        print(node)\n",
    "    \n",
    "    G_bi.nodes[node]['gender'] = gender\n",
    "    \n",
    "G_bi.remove_nodes_from(remove)"
   ]
  },
  {
   "cell_type": "code",
   "execution_count": 468,
   "id": "93fde343",
   "metadata": {},
   "outputs": [
    {
     "data": {
      "text/plain": [
       "(182611, 6896652)"
      ]
     },
     "execution_count": 468,
     "metadata": {},
     "output_type": "execute_result"
    }
   ],
   "source": [
    "len(G_bi),len(G_bi.edges())"
   ]
  },
  {
   "cell_type": "code",
   "execution_count": 469,
   "id": "85ca938e",
   "metadata": {},
   "outputs": [
    {
     "name": "stdout",
     "output_type": "stream",
     "text": [
      "Attribute assortativity: 0.052\n"
     ]
    }
   ],
   "source": [
    "# calculate the attribute assortativity\n",
    "assortativity = attribute_assortativity_coefficient(G_bi, 'gender')\n",
    "print(f\"Attribute assortativity: {assortativity:.3f}\")"
   ]
  },
  {
   "cell_type": "code",
   "execution_count": 470,
   "id": "67dcb847",
   "metadata": {},
   "outputs": [
    {
     "data": {
      "text/plain": [
       "0.08273384835398773"
      ]
     },
     "execution_count": 470,
     "metadata": {},
     "output_type": "execute_result"
    }
   ],
   "source": [
    "nx.degree_assortativity_coefficient(G_bi)"
   ]
  },
  {
   "cell_type": "code",
   "execution_count": 471,
   "id": "11450338",
   "metadata": {},
   "outputs": [],
   "source": [
    "def get_top_10_actors(graph):\n",
    "    \"\"\"\n",
    "    Returns the top 10 most connected actors based on degree centrality in the graph.\n",
    "    \"\"\"\n",
    "    # Calculate the degree centrality for each actor\n",
    "    degree_centrality = nx.degree_centrality(graph)\n",
    "    \n",
    "    # Sort the actors based on degree centrality in descending order\n",
    "    sorted_actors = sorted(degree_centrality, key=degree_centrality.get, reverse=True)\n",
    "    \n",
    "    # Return the top 10 most connected actors\n",
    "    top_10_actors = sorted_actors[:10]\n",
    "    return top_10_actors"
   ]
  },
  {
   "cell_type": "code",
   "execution_count": 472,
   "id": "e7ed872d",
   "metadata": {},
   "outputs": [
    {
     "data": {
      "text/plain": [
       "[' Samuel L. Jackson',\n",
       " ' Richard Schiff',\n",
       " ' Richard Jenkins',\n",
       " ' Keith David',\n",
       " ' Steve Buscemi',\n",
       " ' John Goodman',\n",
       " ' Morgan Freeman',\n",
       " ' Christopher Walken',\n",
       " ' Stanley Tucci',\n",
       " ' Mike Starr']"
      ]
     },
     "execution_count": 472,
     "metadata": {},
     "output_type": "execute_result"
    }
   ],
   "source": [
    "get_top_10_actors(G_bi)"
   ]
  },
  {
   "cell_type": "code",
   "execution_count": 473,
   "id": "2c43e13c",
   "metadata": {},
   "outputs": [],
   "source": [
    "def get_top_10_female_actors(graph):\n",
    "    \"\"\"\n",
    "    Returns the top 10 most connected actors of the given gender based on degree centrality in the graph.\n",
    "    \"\"\"\n",
    "    # Calculate the degree centrality for each actor\n",
    "    degree_centrality = nx.degree_centrality(graph)\n",
    "    \n",
    "    # Filter actors based on gender\n",
    "    filtered_actors = [actor for actor in degree_centrality if graph.nodes[actor]['gender'] == 'female']\n",
    "    \n",
    "    # Sort the actors based on degree centrality in descending order\n",
    "    sorted_actors = sorted(filtered_actors, key=degree_centrality.get, reverse=True)\n",
    "    \n",
    "    # Return the top 10 most connected actors\n",
    "    top_10_actors = sorted_actors[:10]\n",
    "    return top_10_actors"
   ]
  },
  {
   "cell_type": "code",
   "execution_count": 475,
   "id": "36155790",
   "metadata": {},
   "outputs": [
    {
     "data": {
      "text/plain": [
       "[' Susan Sarandon',\n",
       " ' Laurence Fishburne',\n",
       " ' Tracey Walter',\n",
       " ' Joan Cusack',\n",
       " ' Lin Shaye',\n",
       " ' Marisa Tomei',\n",
       " ' Colleen Camp',\n",
       " ' Kathy Bates',\n",
       " ' Allison Janney',\n",
       " ' Elizabeth Banks']"
      ]
     },
     "execution_count": 475,
     "metadata": {},
     "output_type": "execute_result"
    }
   ],
   "source": [
    "get_top_10_female_actors(G_bi)"
   ]
  },
  {
   "cell_type": "code",
   "execution_count": 478,
   "id": "bb2dd705",
   "metadata": {},
   "outputs": [
    {
     "data": {
      "image/png": "[encoded data removed]",
      "text/plain": [
       "<Figure size 640x480 with 1 Axes>"
      ]
     },
     "metadata": {},
     "output_type": "display_data"
    }
   ],
   "source": [
    "# Compute the degree of each node\n",
    "degrees = dict(G_bi.degree())\n",
    "\n",
    "# Create a dataframe with the degree and gender information\n",
    "data = {'Degree': list(degrees.values()), 'Gender': [G_bi.nodes[node]['gender'] for node in G_bi.nodes]}\n",
    "df = pd.DataFrame(data)\n",
    "\n",
    "# Create a histogram of the degree distribution, hued by gender\n",
    "sns.histplot(data=df, x='Degree', hue='Gender', bins=50,kde = True)\n",
    "\n",
    "# Set plot labels and title\n",
    "plt.xlabel('Degree')\n",
    "plt.ylabel('Count')\n",
    "plt.title('Degree Distribution of Nodes')\n",
    "\n",
    "# Show the plot\n",
    "plt.show()"
   ]
  },
  {
   "cell_type": "code",
   "execution_count": null,
   "id": "1f457a6a",
   "metadata": {},
   "outputs": [],
   "source": []
  }
 ],
 "metadata": {
  "kernelspec": {
   "display_name": "Python 3 (ipykernel)",
   "language": "python",
   "name": "python3"
  },
  "language_info": {
   "codemirror_mode": {
    "name": "ipython",
    "version": 3
   },
   "file_extension": ".py",
   "mimetype": "text/x-python",
   "name": "python",
   "nbconvert_exporter": "python",
   "pygments_lexer": "ipython3",
   "version": "3.10.9"
  }
 },
 "nbformat": 4,
 "nbformat_minor": 5
}
