{
 "cells": [
  {
   "cell_type": "code",
   "execution_count": 2,
   "id": "48f8cabd",
   "metadata": {},
   "outputs": [],
   "source": [
    "import pandas as pd\n",
    "import  numpy as np \n",
    "import networkx as nx \n",
    "import seaborn as sns\n",
    "from tqdm.notebook import tqdm\n",
    "import netwulf\n",
    "from networkx.readwrite import json_graph\n",
    "import json"
   ]
  },
  {
   "cell_type": "code",
   "execution_count": 3,
   "id": "575c0652",
   "metadata": {},
   "outputs": [
    {
     "ename": "FileNotFoundError",
     "evalue": "[Errno 2] No such file or directory: 'rotten_tomatoes_critic_reviews.csv'",
     "output_type": "error",
     "traceback": [
      "\u001b[0;31m---------------------------------------------------------------------------\u001b[0m",
      "\u001b[0;31mFileNotFoundError\u001b[0m                         Traceback (most recent call last)",
      "Cell \u001b[0;32mIn[3], line 1\u001b[0m\n\u001b[0;32m----> 1\u001b[0m reviews \u001b[38;5;241m=\u001b[39m \u001b[43mpd\u001b[49m\u001b[38;5;241;43m.\u001b[39;49m\u001b[43mread_csv\u001b[49m\u001b[43m(\u001b[49m\u001b[38;5;124;43m'\u001b[39;49m\u001b[38;5;124;43mrotten_tomatoes_critic_reviews.csv\u001b[39;49m\u001b[38;5;124;43m'\u001b[39;49m\u001b[43m)\u001b[49m\n\u001b[1;32m      2\u001b[0m movies \u001b[38;5;241m=\u001b[39m pd\u001b[38;5;241m.\u001b[39mread_csv(\u001b[38;5;124m'\u001b[39m\u001b[38;5;124mrotten_tomatoes_movies.csv\u001b[39m\u001b[38;5;124m'\u001b[39m)\n",
      "File \u001b[0;32m/Library/Frameworks/Python.framework/Versions/3.10/lib/python3.10/site-packages/pandas/util/_decorators.py:211\u001b[0m, in \u001b[0;36mdeprecate_kwarg.<locals>._deprecate_kwarg.<locals>.wrapper\u001b[0;34m(*args, **kwargs)\u001b[0m\n\u001b[1;32m    209\u001b[0m     \u001b[38;5;28;01melse\u001b[39;00m:\n\u001b[1;32m    210\u001b[0m         kwargs[new_arg_name] \u001b[38;5;241m=\u001b[39m new_arg_value\n\u001b[0;32m--> 211\u001b[0m \u001b[38;5;28;01mreturn\u001b[39;00m \u001b[43mfunc\u001b[49m\u001b[43m(\u001b[49m\u001b[38;5;241;43m*\u001b[39;49m\u001b[43margs\u001b[49m\u001b[43m,\u001b[49m\u001b[43m \u001b[49m\u001b[38;5;241;43m*\u001b[39;49m\u001b[38;5;241;43m*\u001b[39;49m\u001b[43mkwargs\u001b[49m\u001b[43m)\u001b[49m\n",
      "File \u001b[0;32m/Library/Frameworks/Python.framework/Versions/3.10/lib/python3.10/site-packages/pandas/util/_decorators.py:331\u001b[0m, in \u001b[0;36mdeprecate_nonkeyword_arguments.<locals>.decorate.<locals>.wrapper\u001b[0;34m(*args, **kwargs)\u001b[0m\n\u001b[1;32m    325\u001b[0m \u001b[38;5;28;01mif\u001b[39;00m \u001b[38;5;28mlen\u001b[39m(args) \u001b[38;5;241m>\u001b[39m num_allow_args:\n\u001b[1;32m    326\u001b[0m     warnings\u001b[38;5;241m.\u001b[39mwarn(\n\u001b[1;32m    327\u001b[0m         msg\u001b[38;5;241m.\u001b[39mformat(arguments\u001b[38;5;241m=\u001b[39m_format_argument_list(allow_args)),\n\u001b[1;32m    328\u001b[0m         \u001b[38;5;167;01mFutureWarning\u001b[39;00m,\n\u001b[1;32m    329\u001b[0m         stacklevel\u001b[38;5;241m=\u001b[39mfind_stack_level(),\n\u001b[1;32m    330\u001b[0m     )\n\u001b[0;32m--> 331\u001b[0m \u001b[38;5;28;01mreturn\u001b[39;00m \u001b[43mfunc\u001b[49m\u001b[43m(\u001b[49m\u001b[38;5;241;43m*\u001b[39;49m\u001b[43margs\u001b[49m\u001b[43m,\u001b[49m\u001b[43m \u001b[49m\u001b[38;5;241;43m*\u001b[39;49m\u001b[38;5;241;43m*\u001b[39;49m\u001b[43mkwargs\u001b[49m\u001b[43m)\u001b[49m\n",
      "File \u001b[0;32m/Library/Frameworks/Python.framework/Versions/3.10/lib/python3.10/site-packages/pandas/io/parsers/readers.py:950\u001b[0m, in \u001b[0;36mread_csv\u001b[0;34m(filepath_or_buffer, sep, delimiter, header, names, index_col, usecols, squeeze, prefix, mangle_dupe_cols, dtype, engine, converters, true_values, false_values, skipinitialspace, skiprows, skipfooter, nrows, na_values, keep_default_na, na_filter, verbose, skip_blank_lines, parse_dates, infer_datetime_format, keep_date_col, date_parser, dayfirst, cache_dates, iterator, chunksize, compression, thousands, decimal, lineterminator, quotechar, quoting, doublequote, escapechar, comment, encoding, encoding_errors, dialect, error_bad_lines, warn_bad_lines, on_bad_lines, delim_whitespace, low_memory, memory_map, float_precision, storage_options)\u001b[0m\n\u001b[1;32m    935\u001b[0m kwds_defaults \u001b[38;5;241m=\u001b[39m _refine_defaults_read(\n\u001b[1;32m    936\u001b[0m     dialect,\n\u001b[1;32m    937\u001b[0m     delimiter,\n\u001b[0;32m   (...)\u001b[0m\n\u001b[1;32m    946\u001b[0m     defaults\u001b[38;5;241m=\u001b[39m{\u001b[38;5;124m\"\u001b[39m\u001b[38;5;124mdelimiter\u001b[39m\u001b[38;5;124m\"\u001b[39m: \u001b[38;5;124m\"\u001b[39m\u001b[38;5;124m,\u001b[39m\u001b[38;5;124m\"\u001b[39m},\n\u001b[1;32m    947\u001b[0m )\n\u001b[1;32m    948\u001b[0m kwds\u001b[38;5;241m.\u001b[39mupdate(kwds_defaults)\n\u001b[0;32m--> 950\u001b[0m \u001b[38;5;28;01mreturn\u001b[39;00m \u001b[43m_read\u001b[49m\u001b[43m(\u001b[49m\u001b[43mfilepath_or_buffer\u001b[49m\u001b[43m,\u001b[49m\u001b[43m \u001b[49m\u001b[43mkwds\u001b[49m\u001b[43m)\u001b[49m\n",
      "File \u001b[0;32m/Library/Frameworks/Python.framework/Versions/3.10/lib/python3.10/site-packages/pandas/io/parsers/readers.py:605\u001b[0m, in \u001b[0;36m_read\u001b[0;34m(filepath_or_buffer, kwds)\u001b[0m\n\u001b[1;32m    602\u001b[0m _validate_names(kwds\u001b[38;5;241m.\u001b[39mget(\u001b[38;5;124m\"\u001b[39m\u001b[38;5;124mnames\u001b[39m\u001b[38;5;124m\"\u001b[39m, \u001b[38;5;28;01mNone\u001b[39;00m))\n\u001b[1;32m    604\u001b[0m \u001b[38;5;66;03m# Create the parser.\u001b[39;00m\n\u001b[0;32m--> 605\u001b[0m parser \u001b[38;5;241m=\u001b[39m \u001b[43mTextFileReader\u001b[49m\u001b[43m(\u001b[49m\u001b[43mfilepath_or_buffer\u001b[49m\u001b[43m,\u001b[49m\u001b[43m \u001b[49m\u001b[38;5;241;43m*\u001b[39;49m\u001b[38;5;241;43m*\u001b[39;49m\u001b[43mkwds\u001b[49m\u001b[43m)\u001b[49m\n\u001b[1;32m    607\u001b[0m \u001b[38;5;28;01mif\u001b[39;00m chunksize \u001b[38;5;129;01mor\u001b[39;00m iterator:\n\u001b[1;32m    608\u001b[0m     \u001b[38;5;28;01mreturn\u001b[39;00m parser\n",
      "File \u001b[0;32m/Library/Frameworks/Python.framework/Versions/3.10/lib/python3.10/site-packages/pandas/io/parsers/readers.py:1442\u001b[0m, in \u001b[0;36mTextFileReader.__init__\u001b[0;34m(self, f, engine, **kwds)\u001b[0m\n\u001b[1;32m   1439\u001b[0m     \u001b[38;5;28mself\u001b[39m\u001b[38;5;241m.\u001b[39moptions[\u001b[38;5;124m\"\u001b[39m\u001b[38;5;124mhas_index_names\u001b[39m\u001b[38;5;124m\"\u001b[39m] \u001b[38;5;241m=\u001b[39m kwds[\u001b[38;5;124m\"\u001b[39m\u001b[38;5;124mhas_index_names\u001b[39m\u001b[38;5;124m\"\u001b[39m]\n\u001b[1;32m   1441\u001b[0m \u001b[38;5;28mself\u001b[39m\u001b[38;5;241m.\u001b[39mhandles: IOHandles \u001b[38;5;241m|\u001b[39m \u001b[38;5;28;01mNone\u001b[39;00m \u001b[38;5;241m=\u001b[39m \u001b[38;5;28;01mNone\u001b[39;00m\n\u001b[0;32m-> 1442\u001b[0m \u001b[38;5;28mself\u001b[39m\u001b[38;5;241m.\u001b[39m_engine \u001b[38;5;241m=\u001b[39m \u001b[38;5;28;43mself\u001b[39;49m\u001b[38;5;241;43m.\u001b[39;49m\u001b[43m_make_engine\u001b[49m\u001b[43m(\u001b[49m\u001b[43mf\u001b[49m\u001b[43m,\u001b[49m\u001b[43m \u001b[49m\u001b[38;5;28;43mself\u001b[39;49m\u001b[38;5;241;43m.\u001b[39;49m\u001b[43mengine\u001b[49m\u001b[43m)\u001b[49m\n",
      "File \u001b[0;32m/Library/Frameworks/Python.framework/Versions/3.10/lib/python3.10/site-packages/pandas/io/parsers/readers.py:1735\u001b[0m, in \u001b[0;36mTextFileReader._make_engine\u001b[0;34m(self, f, engine)\u001b[0m\n\u001b[1;32m   1733\u001b[0m     \u001b[38;5;28;01mif\u001b[39;00m \u001b[38;5;124m\"\u001b[39m\u001b[38;5;124mb\u001b[39m\u001b[38;5;124m\"\u001b[39m \u001b[38;5;129;01mnot\u001b[39;00m \u001b[38;5;129;01min\u001b[39;00m mode:\n\u001b[1;32m   1734\u001b[0m         mode \u001b[38;5;241m+\u001b[39m\u001b[38;5;241m=\u001b[39m \u001b[38;5;124m\"\u001b[39m\u001b[38;5;124mb\u001b[39m\u001b[38;5;124m\"\u001b[39m\n\u001b[0;32m-> 1735\u001b[0m \u001b[38;5;28mself\u001b[39m\u001b[38;5;241m.\u001b[39mhandles \u001b[38;5;241m=\u001b[39m \u001b[43mget_handle\u001b[49m\u001b[43m(\u001b[49m\n\u001b[1;32m   1736\u001b[0m \u001b[43m    \u001b[49m\u001b[43mf\u001b[49m\u001b[43m,\u001b[49m\n\u001b[1;32m   1737\u001b[0m \u001b[43m    \u001b[49m\u001b[43mmode\u001b[49m\u001b[43m,\u001b[49m\n\u001b[1;32m   1738\u001b[0m \u001b[43m    \u001b[49m\u001b[43mencoding\u001b[49m\u001b[38;5;241;43m=\u001b[39;49m\u001b[38;5;28;43mself\u001b[39;49m\u001b[38;5;241;43m.\u001b[39;49m\u001b[43moptions\u001b[49m\u001b[38;5;241;43m.\u001b[39;49m\u001b[43mget\u001b[49m\u001b[43m(\u001b[49m\u001b[38;5;124;43m\"\u001b[39;49m\u001b[38;5;124;43mencoding\u001b[39;49m\u001b[38;5;124;43m\"\u001b[39;49m\u001b[43m,\u001b[49m\u001b[43m \u001b[49m\u001b[38;5;28;43;01mNone\u001b[39;49;00m\u001b[43m)\u001b[49m\u001b[43m,\u001b[49m\n\u001b[1;32m   1739\u001b[0m \u001b[43m    \u001b[49m\u001b[43mcompression\u001b[49m\u001b[38;5;241;43m=\u001b[39;49m\u001b[38;5;28;43mself\u001b[39;49m\u001b[38;5;241;43m.\u001b[39;49m\u001b[43moptions\u001b[49m\u001b[38;5;241;43m.\u001b[39;49m\u001b[43mget\u001b[49m\u001b[43m(\u001b[49m\u001b[38;5;124;43m\"\u001b[39;49m\u001b[38;5;124;43mcompression\u001b[39;49m\u001b[38;5;124;43m\"\u001b[39;49m\u001b[43m,\u001b[49m\u001b[43m \u001b[49m\u001b[38;5;28;43;01mNone\u001b[39;49;00m\u001b[43m)\u001b[49m\u001b[43m,\u001b[49m\n\u001b[1;32m   1740\u001b[0m \u001b[43m    \u001b[49m\u001b[43mmemory_map\u001b[49m\u001b[38;5;241;43m=\u001b[39;49m\u001b[38;5;28;43mself\u001b[39;49m\u001b[38;5;241;43m.\u001b[39;49m\u001b[43moptions\u001b[49m\u001b[38;5;241;43m.\u001b[39;49m\u001b[43mget\u001b[49m\u001b[43m(\u001b[49m\u001b[38;5;124;43m\"\u001b[39;49m\u001b[38;5;124;43mmemory_map\u001b[39;49m\u001b[38;5;124;43m\"\u001b[39;49m\u001b[43m,\u001b[49m\u001b[43m \u001b[49m\u001b[38;5;28;43;01mFalse\u001b[39;49;00m\u001b[43m)\u001b[49m\u001b[43m,\u001b[49m\n\u001b[1;32m   1741\u001b[0m \u001b[43m    \u001b[49m\u001b[43mis_text\u001b[49m\u001b[38;5;241;43m=\u001b[39;49m\u001b[43mis_text\u001b[49m\u001b[43m,\u001b[49m\n\u001b[1;32m   1742\u001b[0m \u001b[43m    \u001b[49m\u001b[43merrors\u001b[49m\u001b[38;5;241;43m=\u001b[39;49m\u001b[38;5;28;43mself\u001b[39;49m\u001b[38;5;241;43m.\u001b[39;49m\u001b[43moptions\u001b[49m\u001b[38;5;241;43m.\u001b[39;49m\u001b[43mget\u001b[49m\u001b[43m(\u001b[49m\u001b[38;5;124;43m\"\u001b[39;49m\u001b[38;5;124;43mencoding_errors\u001b[39;49m\u001b[38;5;124;43m\"\u001b[39;49m\u001b[43m,\u001b[49m\u001b[43m \u001b[49m\u001b[38;5;124;43m\"\u001b[39;49m\u001b[38;5;124;43mstrict\u001b[39;49m\u001b[38;5;124;43m\"\u001b[39;49m\u001b[43m)\u001b[49m\u001b[43m,\u001b[49m\n\u001b[1;32m   1743\u001b[0m \u001b[43m    \u001b[49m\u001b[43mstorage_options\u001b[49m\u001b[38;5;241;43m=\u001b[39;49m\u001b[38;5;28;43mself\u001b[39;49m\u001b[38;5;241;43m.\u001b[39;49m\u001b[43moptions\u001b[49m\u001b[38;5;241;43m.\u001b[39;49m\u001b[43mget\u001b[49m\u001b[43m(\u001b[49m\u001b[38;5;124;43m\"\u001b[39;49m\u001b[38;5;124;43mstorage_options\u001b[39;49m\u001b[38;5;124;43m\"\u001b[39;49m\u001b[43m,\u001b[49m\u001b[43m \u001b[49m\u001b[38;5;28;43;01mNone\u001b[39;49;00m\u001b[43m)\u001b[49m\u001b[43m,\u001b[49m\n\u001b[1;32m   1744\u001b[0m \u001b[43m\u001b[49m\u001b[43m)\u001b[49m\n\u001b[1;32m   1745\u001b[0m \u001b[38;5;28;01massert\u001b[39;00m \u001b[38;5;28mself\u001b[39m\u001b[38;5;241m.\u001b[39mhandles \u001b[38;5;129;01mis\u001b[39;00m \u001b[38;5;129;01mnot\u001b[39;00m \u001b[38;5;28;01mNone\u001b[39;00m\n\u001b[1;32m   1746\u001b[0m f \u001b[38;5;241m=\u001b[39m \u001b[38;5;28mself\u001b[39m\u001b[38;5;241m.\u001b[39mhandles\u001b[38;5;241m.\u001b[39mhandle\n",
      "File \u001b[0;32m/Library/Frameworks/Python.framework/Versions/3.10/lib/python3.10/site-packages/pandas/io/common.py:856\u001b[0m, in \u001b[0;36mget_handle\u001b[0;34m(path_or_buf, mode, encoding, compression, memory_map, is_text, errors, storage_options)\u001b[0m\n\u001b[1;32m    851\u001b[0m \u001b[38;5;28;01melif\u001b[39;00m \u001b[38;5;28misinstance\u001b[39m(handle, \u001b[38;5;28mstr\u001b[39m):\n\u001b[1;32m    852\u001b[0m     \u001b[38;5;66;03m# Check whether the filename is to be opened in binary mode.\u001b[39;00m\n\u001b[1;32m    853\u001b[0m     \u001b[38;5;66;03m# Binary mode does not support 'encoding' and 'newline'.\u001b[39;00m\n\u001b[1;32m    854\u001b[0m     \u001b[38;5;28;01mif\u001b[39;00m ioargs\u001b[38;5;241m.\u001b[39mencoding \u001b[38;5;129;01mand\u001b[39;00m \u001b[38;5;124m\"\u001b[39m\u001b[38;5;124mb\u001b[39m\u001b[38;5;124m\"\u001b[39m \u001b[38;5;129;01mnot\u001b[39;00m \u001b[38;5;129;01min\u001b[39;00m ioargs\u001b[38;5;241m.\u001b[39mmode:\n\u001b[1;32m    855\u001b[0m         \u001b[38;5;66;03m# Encoding\u001b[39;00m\n\u001b[0;32m--> 856\u001b[0m         handle \u001b[38;5;241m=\u001b[39m \u001b[38;5;28;43mopen\u001b[39;49m\u001b[43m(\u001b[49m\n\u001b[1;32m    857\u001b[0m \u001b[43m            \u001b[49m\u001b[43mhandle\u001b[49m\u001b[43m,\u001b[49m\n\u001b[1;32m    858\u001b[0m \u001b[43m            \u001b[49m\u001b[43mioargs\u001b[49m\u001b[38;5;241;43m.\u001b[39;49m\u001b[43mmode\u001b[49m\u001b[43m,\u001b[49m\n\u001b[1;32m    859\u001b[0m \u001b[43m            \u001b[49m\u001b[43mencoding\u001b[49m\u001b[38;5;241;43m=\u001b[39;49m\u001b[43mioargs\u001b[49m\u001b[38;5;241;43m.\u001b[39;49m\u001b[43mencoding\u001b[49m\u001b[43m,\u001b[49m\n\u001b[1;32m    860\u001b[0m \u001b[43m            \u001b[49m\u001b[43merrors\u001b[49m\u001b[38;5;241;43m=\u001b[39;49m\u001b[43merrors\u001b[49m\u001b[43m,\u001b[49m\n\u001b[1;32m    861\u001b[0m \u001b[43m            \u001b[49m\u001b[43mnewline\u001b[49m\u001b[38;5;241;43m=\u001b[39;49m\u001b[38;5;124;43m\"\u001b[39;49m\u001b[38;5;124;43m\"\u001b[39;49m\u001b[43m,\u001b[49m\n\u001b[1;32m    862\u001b[0m \u001b[43m        \u001b[49m\u001b[43m)\u001b[49m\n\u001b[1;32m    863\u001b[0m     \u001b[38;5;28;01melse\u001b[39;00m:\n\u001b[1;32m    864\u001b[0m         \u001b[38;5;66;03m# Binary mode\u001b[39;00m\n\u001b[1;32m    865\u001b[0m         handle \u001b[38;5;241m=\u001b[39m \u001b[38;5;28mopen\u001b[39m(handle, ioargs\u001b[38;5;241m.\u001b[39mmode)\n",
      "\u001b[0;31mFileNotFoundError\u001b[0m: [Errno 2] No such file or directory: 'rotten_tomatoes_critic_reviews.csv'"
     ]
    }
   ],
   "source": [
    "reviews = pd.read_csv('rotten_tomatoes_critic_reviews.csv')\n",
    "movies = pd.read_csv('rotten_tomatoes_movies.csv')"
   ]
  },
  {
   "cell_type": "code",
   "execution_count": 8,
   "id": "2ca579f4",
   "metadata": {},
   "outputs": [
    {
     "data": {
      "text/plain": [
       "Index(['rotten_tomatoes_link', 'movie_title', 'movie_info',\n",
       "       'critics_consensus', 'content_rating', 'genres', 'directors', 'authors',\n",
       "       'actors', 'original_release_date', 'streaming_release_date', 'runtime',\n",
       "       'production_company', 'tomatometer_status', 'tomatometer_rating',\n",
       "       'tomatometer_count', 'audience_status', 'audience_rating',\n",
       "       'audience_count', 'tomatometer_top_critics_count',\n",
       "       'tomatometer_fresh_critics_count', 'tomatometer_rotten_critics_count'],\n",
       "      dtype='object')"
      ]
     },
     "execution_count": 8,
     "metadata": {},
     "output_type": "execute_result"
    }
   ],
   "source": [
    "movies.columns"
   ]
  },
  {
   "cell_type": "code",
   "execution_count": 33,
   "id": "91883832",
   "metadata": {},
   "outputs": [
    {
     "data": {
      "text/html": [
       "<div>\n",
       "<style scoped>\n",
       "    .dataframe tbody tr th:only-of-type {\n",
       "        vertical-align: middle;\n",
       "    }\n",
       "\n",
       "    .dataframe tbody tr th {\n",
       "        vertical-align: top;\n",
       "    }\n",
       "\n",
       "    .dataframe thead th {\n",
       "        text-align: right;\n",
       "    }\n",
       "</style>\n",
       "<table border=\"1\" class=\"dataframe\">\n",
       "  <thead>\n",
       "    <tr style=\"text-align: right;\">\n",
       "      <th></th>\n",
       "      <th>rotten_tomatoes_link</th>\n",
       "      <th>movie_title</th>\n",
       "      <th>movie_info</th>\n",
       "      <th>critics_consensus</th>\n",
       "      <th>content_rating</th>\n",
       "      <th>genres</th>\n",
       "      <th>directors</th>\n",
       "      <th>authors</th>\n",
       "      <th>actors</th>\n",
       "      <th>original_release_date</th>\n",
       "      <th>...</th>\n",
       "      <th>production_company</th>\n",
       "      <th>tomatometer_status</th>\n",
       "      <th>tomatometer_rating</th>\n",
       "      <th>tomatometer_count</th>\n",
       "      <th>audience_status</th>\n",
       "      <th>audience_rating</th>\n",
       "      <th>audience_count</th>\n",
       "      <th>tomatometer_top_critics_count</th>\n",
       "      <th>tomatometer_fresh_critics_count</th>\n",
       "      <th>tomatometer_rotten_critics_count</th>\n",
       "    </tr>\n",
       "  </thead>\n",
       "  <tbody>\n",
       "    <tr>\n",
       "      <th>0</th>\n",
       "      <td>m/0814255</td>\n",
       "      <td>Percy Jackson &amp; the Olympians: The Lightning T...</td>\n",
       "      <td>Always trouble-prone, the life of teenager Per...</td>\n",
       "      <td>Though it may seem like just another Harry Pot...</td>\n",
       "      <td>PG</td>\n",
       "      <td>Action &amp; Adventure, Comedy, Drama, Science Fic...</td>\n",
       "      <td>Chris Columbus</td>\n",
       "      <td>Craig Titley, Chris Columbus, Rick Riordan</td>\n",
       "      <td>Logan Lerman, Brandon T. Jackson, Alexandra Da...</td>\n",
       "      <td>2010-02-12</td>\n",
       "      <td>...</td>\n",
       "      <td>20th Century Fox</td>\n",
       "      <td>Rotten</td>\n",
       "      <td>49.0</td>\n",
       "      <td>149.0</td>\n",
       "      <td>Spilled</td>\n",
       "      <td>53.0</td>\n",
       "      <td>254421.0</td>\n",
       "      <td>43</td>\n",
       "      <td>73</td>\n",
       "      <td>76</td>\n",
       "    </tr>\n",
       "    <tr>\n",
       "      <th>1</th>\n",
       "      <td>m/0878835</td>\n",
       "      <td>Please Give</td>\n",
       "      <td>Kate (Catherine Keener) and her husband Alex (...</td>\n",
       "      <td>Nicole Holofcener's newest might seem slight i...</td>\n",
       "      <td>R</td>\n",
       "      <td>Comedy</td>\n",
       "      <td>Nicole Holofcener</td>\n",
       "      <td>Nicole Holofcener</td>\n",
       "      <td>Catherine Keener, Amanda Peet, Oliver Platt, R...</td>\n",
       "      <td>2010-04-30</td>\n",
       "      <td>...</td>\n",
       "      <td>Sony Pictures Classics</td>\n",
       "      <td>Certified-Fresh</td>\n",
       "      <td>87.0</td>\n",
       "      <td>142.0</td>\n",
       "      <td>Upright</td>\n",
       "      <td>64.0</td>\n",
       "      <td>11574.0</td>\n",
       "      <td>44</td>\n",
       "      <td>123</td>\n",
       "      <td>19</td>\n",
       "    </tr>\n",
       "    <tr>\n",
       "      <th>2</th>\n",
       "      <td>m/10</td>\n",
       "      <td>10</td>\n",
       "      <td>A successful, middle-aged Hollywood songwriter...</td>\n",
       "      <td>Blake Edwards' bawdy comedy may not score a pe...</td>\n",
       "      <td>R</td>\n",
       "      <td>Comedy, Romance</td>\n",
       "      <td>Blake Edwards</td>\n",
       "      <td>Blake Edwards</td>\n",
       "      <td>Dudley Moore, Bo Derek, Julie Andrews, Robert ...</td>\n",
       "      <td>1979-10-05</td>\n",
       "      <td>...</td>\n",
       "      <td>Waner Bros.</td>\n",
       "      <td>Fresh</td>\n",
       "      <td>67.0</td>\n",
       "      <td>24.0</td>\n",
       "      <td>Spilled</td>\n",
       "      <td>53.0</td>\n",
       "      <td>14684.0</td>\n",
       "      <td>2</td>\n",
       "      <td>16</td>\n",
       "      <td>8</td>\n",
       "    </tr>\n",
       "    <tr>\n",
       "      <th>3</th>\n",
       "      <td>m/1000013-12_angry_men</td>\n",
       "      <td>12 Angry Men (Twelve Angry Men)</td>\n",
       "      <td>Following the closing arguments in a murder tr...</td>\n",
       "      <td>Sidney Lumet's feature debut is a superbly wri...</td>\n",
       "      <td>NR</td>\n",
       "      <td>Classics, Drama</td>\n",
       "      <td>Sidney Lumet</td>\n",
       "      <td>Reginald Rose</td>\n",
       "      <td>Martin Balsam, John Fiedler, Lee J. Cobb, E.G....</td>\n",
       "      <td>1957-04-13</td>\n",
       "      <td>...</td>\n",
       "      <td>Criterion Collection</td>\n",
       "      <td>Certified-Fresh</td>\n",
       "      <td>100.0</td>\n",
       "      <td>54.0</td>\n",
       "      <td>Upright</td>\n",
       "      <td>97.0</td>\n",
       "      <td>105386.0</td>\n",
       "      <td>6</td>\n",
       "      <td>54</td>\n",
       "      <td>0</td>\n",
       "    </tr>\n",
       "    <tr>\n",
       "      <th>4</th>\n",
       "      <td>m/1000079-20000_leagues_under_the_sea</td>\n",
       "      <td>20,000 Leagues Under The Sea</td>\n",
       "      <td>In 1866, Professor Pierre M. Aronnax (Paul Luk...</td>\n",
       "      <td>One of Disney's finest live-action adventures,...</td>\n",
       "      <td>G</td>\n",
       "      <td>Action &amp; Adventure, Drama, Kids &amp; Family</td>\n",
       "      <td>Richard Fleischer</td>\n",
       "      <td>Earl Felton</td>\n",
       "      <td>James Mason, Kirk Douglas, Paul Lukas, Peter L...</td>\n",
       "      <td>1954-01-01</td>\n",
       "      <td>...</td>\n",
       "      <td>Disney</td>\n",
       "      <td>Fresh</td>\n",
       "      <td>89.0</td>\n",
       "      <td>27.0</td>\n",
       "      <td>Upright</td>\n",
       "      <td>74.0</td>\n",
       "      <td>68918.0</td>\n",
       "      <td>5</td>\n",
       "      <td>24</td>\n",
       "      <td>3</td>\n",
       "    </tr>\n",
       "  </tbody>\n",
       "</table>\n",
       "<p>5 rows × 22 columns</p>\n",
       "</div>"
      ],
      "text/plain": [
       "                    rotten_tomatoes_link  \\\n",
       "0                              m/0814255   \n",
       "1                              m/0878835   \n",
       "2                                   m/10   \n",
       "3                 m/1000013-12_angry_men   \n",
       "4  m/1000079-20000_leagues_under_the_sea   \n",
       "\n",
       "                                         movie_title  \\\n",
       "0  Percy Jackson & the Olympians: The Lightning T...   \n",
       "1                                        Please Give   \n",
       "2                                                 10   \n",
       "3                    12 Angry Men (Twelve Angry Men)   \n",
       "4                       20,000 Leagues Under The Sea   \n",
       "\n",
       "                                          movie_info  \\\n",
       "0  Always trouble-prone, the life of teenager Per...   \n",
       "1  Kate (Catherine Keener) and her husband Alex (...   \n",
       "2  A successful, middle-aged Hollywood songwriter...   \n",
       "3  Following the closing arguments in a murder tr...   \n",
       "4  In 1866, Professor Pierre M. Aronnax (Paul Luk...   \n",
       "\n",
       "                                   critics_consensus content_rating  \\\n",
       "0  Though it may seem like just another Harry Pot...             PG   \n",
       "1  Nicole Holofcener's newest might seem slight i...              R   \n",
       "2  Blake Edwards' bawdy comedy may not score a pe...              R   \n",
       "3  Sidney Lumet's feature debut is a superbly wri...             NR   \n",
       "4  One of Disney's finest live-action adventures,...              G   \n",
       "\n",
       "                                              genres          directors  \\\n",
       "0  Action & Adventure, Comedy, Drama, Science Fic...     Chris Columbus   \n",
       "1                                             Comedy  Nicole Holofcener   \n",
       "2                                    Comedy, Romance      Blake Edwards   \n",
       "3                                    Classics, Drama       Sidney Lumet   \n",
       "4           Action & Adventure, Drama, Kids & Family  Richard Fleischer   \n",
       "\n",
       "                                      authors  \\\n",
       "0  Craig Titley, Chris Columbus, Rick Riordan   \n",
       "1                           Nicole Holofcener   \n",
       "2                               Blake Edwards   \n",
       "3                               Reginald Rose   \n",
       "4                                 Earl Felton   \n",
       "\n",
       "                                              actors original_release_date  \\\n",
       "0  Logan Lerman, Brandon T. Jackson, Alexandra Da...            2010-02-12   \n",
       "1  Catherine Keener, Amanda Peet, Oliver Platt, R...            2010-04-30   \n",
       "2  Dudley Moore, Bo Derek, Julie Andrews, Robert ...            1979-10-05   \n",
       "3  Martin Balsam, John Fiedler, Lee J. Cobb, E.G....            1957-04-13   \n",
       "4  James Mason, Kirk Douglas, Paul Lukas, Peter L...            1954-01-01   \n",
       "\n",
       "   ...      production_company  tomatometer_status tomatometer_rating  \\\n",
       "0  ...        20th Century Fox              Rotten               49.0   \n",
       "1  ...  Sony Pictures Classics     Certified-Fresh               87.0   \n",
       "2  ...             Waner Bros.               Fresh               67.0   \n",
       "3  ...    Criterion Collection     Certified-Fresh              100.0   \n",
       "4  ...                  Disney               Fresh               89.0   \n",
       "\n",
       "  tomatometer_count  audience_status  audience_rating audience_count  \\\n",
       "0             149.0          Spilled             53.0       254421.0   \n",
       "1             142.0          Upright             64.0        11574.0   \n",
       "2              24.0          Spilled             53.0        14684.0   \n",
       "3              54.0          Upright             97.0       105386.0   \n",
       "4              27.0          Upright             74.0        68918.0   \n",
       "\n",
       "   tomatometer_top_critics_count  tomatometer_fresh_critics_count  \\\n",
       "0                             43                               73   \n",
       "1                             44                              123   \n",
       "2                              2                               16   \n",
       "3                              6                               54   \n",
       "4                              5                               24   \n",
       "\n",
       "   tomatometer_rotten_critics_count  \n",
       "0                                76  \n",
       "1                                19  \n",
       "2                                 8  \n",
       "3                                 0  \n",
       "4                                 3  \n",
       "\n",
       "[5 rows x 22 columns]"
      ]
     },
     "execution_count": 33,
     "metadata": {},
     "output_type": "execute_result"
    }
   ],
   "source": [
    "movies.head()"
   ]
  },
  {
   "cell_type": "code",
   "execution_count": 16,
   "id": "3f40b8b3",
   "metadata": {},
   "outputs": [
    {
     "name": "stdout",
     "output_type": "stream",
     "text": [
      "Total number of movies: 17712\n",
      "Total number of reviews: 1130017\n"
     ]
    }
   ],
   "source": [
    "ds = f'Total number of movies: {len(movies)}\\nTotal number of reviews: {len(reviews)}'\n",
    "print(ds)"
   ]
  },
  {
   "cell_type": "code",
   "execution_count": 59,
   "id": "b397d45c",
   "metadata": {},
   "outputs": [],
   "source": [
    "movies['actors'] = movies['actors'].apply(lambda x: str(x).split(','))"
   ]
  },
  {
   "cell_type": "code",
   "execution_count": 67,
   "id": "829856b2",
   "metadata": {
    "scrolled": true
   },
   "outputs": [
    {
     "data": {
      "text/plain": [
       "Index(['rotten_tomatoes_link', 'movie_title', 'movie_info',\n",
       "       'critics_consensus', 'content_rating', 'genres', 'directors', 'authors',\n",
       "       'actors', 'original_release_date', 'streaming_release_date', 'runtime',\n",
       "       'production_company', 'tomatometer_status', 'tomatometer_rating',\n",
       "       'tomatometer_count', 'audience_status', 'audience_rating',\n",
       "       'audience_count', 'tomatometer_top_critics_count',\n",
       "       'tomatometer_fresh_critics_count', 'tomatometer_rotten_critics_count',\n",
       "       'actors_set'],\n",
       "      dtype='object')"
      ]
     },
     "execution_count": 67,
     "metadata": {},
     "output_type": "execute_result"
    }
   ],
   "source": [
    "movies.columns"
   ]
  },
  {
   "cell_type": "markdown",
   "id": "54ab897f",
   "metadata": {},
   "source": [
    "### Constructing the graph\n",
    "Here we will construct the graph, with each node being a movie connected by the actors"
   ]
  },
  {
   "cell_type": "code",
   "execution_count": 121,
   "id": "9318a634",
   "metadata": {},
   "outputs": [],
   "source": [
    "def get_weighted_edge_list(movies_df):\n",
    "    '''\n",
    "    movies: A pandas dataframe containing the movie data-set from rotten tomatoes\n",
    "    return: returns a weighted edgelist to which can be read by networkx, each edge is\n",
    "    represented as: (Movie1,Movie2,weight) where the weight indicates how many actors appear\n",
    "    in both movies. \n",
    "    '''\n",
    "    # convert the list of actors for each movie into a set\n",
    "    movies_df['actors_set'] = movies_df['actors'].apply(set)\n",
    "    \n",
    "    # create an empty DataFrame to store the edge list\n",
    "    edge_list = []#pd.DataFrame(columns=['movie1', 'movie2', 'weight'])\n",
    "    actors = {}\n",
    "    # compare each pair of movies in the DataFrame\n",
    "    for i in tqdm(range(len(movies_df))):\n",
    "        for j in range(i + 1, len(movies_df)):\n",
    "            # find the actors that are shared between the two movies\n",
    "            shared_actors = movies_df.loc[i, 'actors_set'].intersection(movies_df.loc[j, 'actors_set'])\n",
    "            if shared_actors:\n",
    "                # create an edge between the two movies and set the weight to the number of shared actors\n",
    "                #edge_list.append()\n",
    "                edge_list.append((\n",
    "                    movies_df.loc[i, 'movie_title'],\n",
    "                    movies_df.loc[j, 'movie_title'],\n",
    "                    len(shared_actors)\n",
    "                ))\n",
    "                actors[(movies_df.loc[i, 'movie_title'],movies_df.loc[j, 'movie_title'])] = shared_actors\n",
    "    return edge_list,actors"
   ]
  },
  {
   "cell_type": "code",
   "execution_count": 131,
   "id": "e3159510",
   "metadata": {},
   "outputs": [
    {
     "data": {
      "application/vnd.jupyter.widget-view+json": {
       "model_id": "f4ee7f2df26f4cb399814741e2a6a2c7",
       "version_major": 2,
       "version_minor": 0
      },
      "text/plain": [
       "  0%|          | 0/17712 [00:00<?, ?it/s]"
      ]
     },
     "metadata": {},
     "output_type": "display_data"
    }
   ],
   "source": [
    "weighted_edge_list,actors = get_weighted_edge_list(movies)"
   ]
  },
  {
   "cell_type": "code",
   "execution_count": 132,
   "id": "fa980f1f",
   "metadata": {},
   "outputs": [],
   "source": [
    "G = nx.Graph()\n",
    "G.add_weighted_edges_from(weighted_edge_list)"
   ]
  },
  {
   "cell_type": "code",
   "execution_count": 125,
   "id": "6b5dd78f",
   "metadata": {
    "collapsed": true
   },
   "outputs": [
    {
     "data": {
      "text/plain": [
       "NodeView(('Percy Jackson & the Olympians: The Lightning Thief', 'Going the Distance', 'Married Life', 'Tron Legacy', 'The Hole', 'Lottery Ticket', 'The Ghost Writer', 'High School', 'Dangerous Liaisons', 'Risky Business', 'Running Scared', 'The Squeeze', 'Where the Heart Is', 'Switch', 'The Field', 'Deceived', 'Calendar Girl', 'The Fugitive', 'Please Give', 'Bandwagon', 'Delirious', 'The Ten', 'Black Widow', 'East of Eden', 'Fatal Attraction', 'Reckless', 'GoodFellas', 'Beethoven', 'The Three Musketeers', '10', '12 Angry Men (Twelve Angry Men)', 'Slipstream', 'The Visitor', 'The Box', 'Ripple Effect', 'Arthur', 'Big Business', 'Blind Date', 'Bus Stop', 'Crossroads', 'Dragnet', 'Footloose', 'Fun with Dick and Jane', 'Heat', 'The Hills Have Eyes', 'Lovesick', 'Meteor', 'The Music Man', 'Poltergeist', 'The Postman Always Rings Twice', 'Prophecy', \"Rock 'n' Roll High School\", 'Skin Deep', 'Sparkle', 'When a Stranger Calls', 'My Blue Heaven', 'Toy Soldiers', 'Gladiator', 'The Man Who Loved Women', 'When Do We Eat?', 'The Aviator', 'The Boston Strangler', \"Brian's Song\", 'The Champ', 'The Chase', 'Days of Wine and Roses', 'Exodus', 'From Here to Eternity', 'Heaven Can Wait', 'The Odd Couple', 'Power', 'A Raisin in the Sun', 'Robin Hood', 'A Streetcar Named Desire', 'Sweet Bird of Youth', 'Yours, Mine and Ours', 'Sorry, Wrong Number', 'Consenting Adults', '20,000 Leagues Under The Sea', 'The Narrow Margin', 'The Alamo', 'The Midnight Meat Train', 'Around the World in 80 Days', 'Casablanca', \"Charlotte's Web\", 'The Day the Earth Stood Still', 'Dodge City', 'The Enforcer', 'The Informer', 'King of Kings', 'The Lady Vanishes', 'Little Women', 'Lolita', 'The Lost Patrol', 'The Magnificent Seven', 'The Maltese Falcon', 'Metropolis', 'Odd Man Out', 'Pollyanna', 'Rear Window', 'Samson and Delilah', 'The Sea Hawk', 'Shall We Dance', 'Sinbad the Sailor', 'Spartacus', 'A Star Is Born', 'Tales of Terror', 'The Thing from Another World', 'Treasure Island', 'Where the Boys Are', 'White Christmas', 'Oscar', 'Kid Galahad', 'The Naked City', 'High Noon', 'Angels in the Outfield', '10,000 B.C.', 'Push', 'The Eagle Has Landed', 'Top Secret!', 'The 39 Steps', 'The Four Feathers', 'Goodbye, Mr. Chips', 'Hamlet', 'The Hound of the Baskervilles', 'The Human Factor', 'The Importance of Being Earnest', 'Jamaica Inn', 'Murder!', 'A Night to Remember', 'The Prisoner of Zenda', 'The Red Shoes', 'Scrooge', 'Stage Fright', 'The Sundowners', 'The Skin Game', '3:10 to Yuma', 'The Bad Seed', 'Battleground', 'The Big Heat', \"Brewster's Millions\", 'Butch Cassidy and the Sundance Kid', 'Grizzly', 'The Group', 'The Gunfighter', \"It's Alive\", 'Dick Tracy', 'Possessed', 'Abraham Lincoln', 'Anna Karenina', 'Bluebeard', 'Captain Blood', 'Cimarron', 'Cover Girl', 'Devil Doll', 'The Hunchback of Notre Dame', 'Intolerance', 'King Kong', 'Les Miserables', 'Morning Glory', 'The Parent Trap', 'The Picture of Dorian Gray', 'The Public Enemy', 'Stagecoach', 'Swing Time', 'A Tale of Two Cities', 'The Ten Commandments', \"A Woman's Face\", 'Conquest', 'State Fair', 'Bombshell (Blonde Bombshell)', 'Jane Eyre', 'Night Nurse', 'Fury', 'Born to Kill', 'Romeo and Juliet', 'Impact', 'Snow White and the Seven Dwarfs', 'The Accused', \"April Fool's Day\", 'The Best of Times', 'Betrayed', 'Cat People', 'Distant Thunder', 'Flashback', 'The Out-of-Towners', 'The Poseidon Adventure', 'Runaway', 'Stakeout', 'Tempest', \"We're No Angels\", 'Witness', 'Narrow Margin', 'The Hitman', 'The Babe', 'The Crush', 'Alive', 'Born Yesterday', 'The Lost City', 'Rise: Blood Hunter', 'Little Shop of Horrors', 'The Main Event', 'Red Dawn', 'Revenge', 'The Shooting', 'Thief', 'Three Amigos!', 'Uncommon Valor', 'Valley Girl', 'Blue Steel', 'The Rookie', 'The Doctor', 'JFK', 'Deep Cover', 'Live Wire', 'Forever Young', 'Scent of a Woman', 'The Breaking Point', 'All Quiet on the Western Front', \"All the King's Men\", 'Broken Arrow', 'Cleopatra', 'Dead Reckoning', 'Hud', 'Invasion of the Body Snatchers', 'Julius Caesar', 'The Letter', 'Night and Day', 'On the Beach', 'The Pink Panther', \"The Razor's Edge\", 'Shadow of a Doubt', 'Them!', \"Winchester '73\", \"Adam's Rib\", 'The Prowler (Cost of Living )', 'Camille', 'Cape Fear', 'Cutting Class', 'Easy Money', 'Father of the Bride', 'Freaky Friday', 'The Great Gatsby', 'The Great Race', 'Inherit the Wind', 'Lust for Life', 'The Nutty Professor', 'On the Town', 'Pride and Prejudice', 'The Prince and the Pauper', 'The Shaggy Dog', 'Show Boat', 'Suspicion', 'The Women', 'The Wrong Man', 'The Sea Wolf', 'The Bridge of San Luis Rey', 'Arthur and the Invisibles (Arthur and the Minimoys)', 'The Oxford Murders', 'Angel Heart', 'Bang The Drum Slowly', 'The Border', 'Doctor Zhivago', 'Frantic', 'The Mission', 'The Sunshine Boys', 'Edward II', 'Point of No Return (The Assassin)', 'The Secret Garden', 'The Apartment', 'Captains Courageous', 'Gun Crazy (Deadly Is the Female)', 'The Star', 'Criminal', 'The Eye', 'Rails & Ties', 'Man in the Chair', 'G-Force', 'Fade to Black', 'Red Heat', 'The Warriors', 'Cool Runnings', 'The Adventures of Mark Twain', 'Deep Blue', 'The Matador', 'Amazing Grace', 'The Adventures of Robin Hood', 'Man Hunt', 'A Christmas Carol', 'Christmas in Connecticut', 'Dr. Jekyll and Mr. Hyde', 'The Invisible Man', 'Johnny Belinda', 'Little Lord Fauntleroy', 'The Little Princess', \"A Midsummer Night's Dream\", 'The Mummy', 'Mutiny on the Bounty', 'My Man Godfrey', 'They Drive by Night', 'Houdini', 'Mata Hari', 'The Prize', 'Platinum Blonde', 'The Uninvited', 'All About Eve', 'The Black Hole', 'Blood and Sand', 'Bye Bye Birdie', 'Fright Night', 'Heidi', 'Ivanhoe', 'Planet of the Apes', 'Sahara', 'A Shot in the Dark', \"The St. Valentine's Day Massacre\", '101 Dalmatians', 'This Gun for Hire', 'Unfaithfully Yours', 'Wuthering Heights', 'The Jungle Book', \"Teacher's Pet\", 'Love on the Run', 'Dead End', \"Disney's A Christmas Carol\", 'Tristan & Isolde', 'Oliver Twist', \"The Tiger's Tail\", 'Run Fatboy Run', 'Good', 'Body of Lies', 'Endgame', 'The Bounty', 'The Elephant Man', 'Revolution', 'The Commitments', 'A Tale of Two Pizzas', 'Happy Tears', 'Ultraviolet', 'Neverwas', 'Quid Pro Quo', 'Public Enemies', 'Surrogates', 'Orphan', 'Stolen', 'Commando', 'Impulse', 'Nighthawks', 'No Mercy', 'Raw Deal', 'Nowhere to Run', 'The Freshman', 'Felon', 'Malcolm X', 'Bad Girls', 'What Happens in Vegas', 'Second Sight', 'Husbands and Wives', 'Dangerous Game', 'Eternal', 'Whiteout', 'A Farewell To Arms', 'Alexander the Great', 'Casino Royale', 'Farewell, My Lovely', 'Sabotage', 'Touch of Evil', 'Willard', 'Conquest of Space', 'The Last Man on Earth', 'The Birds', 'Cat on a Hot Tin Roof', 'Coma', 'Dangerous', 'The Desperate Hours', 'The Hindenburg', 'Imitation of Life', 'In Cold Blood', 'The Little Shop of Horrors', 'The Magnificent Ambersons', 'Monkey Business', 'Borderland', 'The Stone Angel', 'Wonderful World', 'The Last Song', 'The Long Walk Home', 'The Last of the Mohicans', 'Smile', 'Park', 'Alvin and the Chipmunks: The Squeakquel', 'Forever Strong', 'Children of the Corn', 'Memphis Belle', 'All I Want for Christmas', 'Indian Summer', 'Saint Ralph', 'Singles', 'Made in America', 'The Getaway', 'The Baxter', 'Meet Bill', 'The Guitar', 'The Fan', 'Funny Farm', 'Day of the Dead', 'The Duchess', 'A Man for All Seasons', 'Mr. & Mrs. Smith', 'Something to Sing About', 'Venom', 'The Italian Job', 'Much Ado About Nothing', 'Angel and the Badman', 'The Big Sleep', 'Brainstorm', 'Darling', 'Dillinger', 'Flying Tigers', 'The Green Berets', 'Hot Pursuit', 'Hustle', 'Jungle Book', 'The Longest Yard', 'The Manchurian Candidate', 'Mister Roberts', 'Point Blank', 'The Undefeated', 'Walking Tall', 'The Yearling', 'Kiss of Death', 'True Colors', 'G', 'The Happening', 'The Good Heart', 'Posse', 'Billy Budd', 'Flash Gordon', 'Flesh & Blood (Flesh+Blood) (The Rose and the Sword)', 'The Haunting', 'Islands in the Stream', 'Jason and the Argonauts', 'The Killer Elite', 'Look Back in Anger', 'Moby Dick', 'Moulin Rouge', 'Nicholas and Alexandra', 'Sorcerer', 'Swiss Family Robinson', 'The Taming of the Shrew', 'Alfie', 'The Boys from Brazil', 'Dracula', 'Dressed to Kill', 'The Hand', 'The Island', 'Moonraker', 'Water', 'The Entertainer', 'Alice in Wonderland', 'Alice', 'Aliens', 'Appaloosa', 'Repo Men', 'Legend', 'Near Dark', 'Next of Kin', 'Weird Science', 'Navy Seals', 'Rush', 'Stay Alive', 'The Informers', 'The Unborn', 'The Big Brawl (Battle Creek Brawl)', 'Checking Out', 'The Gambler', 'Shakedown', 'The Fly', 'A Hole in the Head', 'Mysterious Island', 'Sabrina', \"Twelve O'Clock High\", 'The Proposal', 'Burglar', 'The Mostly Unfabulous Social Life of Ethan Green', 'Fireflies in the Garden', 'Red', 'Black Rain', 'Glory', 'Of Mice and Men', 'Hero', 'Fearless', 'Dirty', 'Dreamland', 'Road House', 'The Thing', 'All of Me', 'Lost Horizon', \"House (Ding Dong, You're Dead)\", 'Made in Heaven', 'No Way Out', 'Pennies From Heaven', 'Popeye', 'The Sting', 'Awakenings', 'Leap of Faith', 'Equinox', 'Convoy', 'Escape from New York', 'The Flight of the Phoenix', 'Henry V', 'House of Wax', 'The Incubus', 'Street Fight', 'Outrage', 'The Lottery', 'Charade', 'Far From the Madding Crowd', 'The Island of Dr. Moreau', 'A Little Romance', 'Madame X', 'Wide Sargasso Sea', 'The Motel', 'Undoing', 'Harold', 'Once in a Lifetime: The Extraordinary Story of the New York Cosmos', 'Old Dogs', 'Kansas', 'Target', 'Victory', 'Leaves of Grass', 'Hairspray', 'The Other Man', 'Season of the Witch', 'The Bad News Bears', 'The Silence', 'Gone', 'The Situation', 'The Canyon', 'The Escapist', 'Mammoth (Mammut)', 'Four Sheets to the Wind', 'RoboCop', 'Flawless', 'Mannequin', 'Masquerade', 'The Miracle', 'Into the West', \"It's a Boy Girl Thing\", 'Frozen', 'The Dream Team', 'Mrs. Soffel', 'The Silent Partner', 'Twins', 'Igor', 'The Hangover', 'Gung Ho', 'Piranha', \"101 Dalmatians II: Patch's London Adventure\", 'Matinee', 'Interview', 'The Messenger', 'Mystery Train', 'American Anthem', 'Vice Versa', 'The Rocker', 'The Promotion', 'An American Affair', 'The Caller', 'Gigantic', 'Carrie', 'The King of Comedy', 'Straightheads (Closure)', 'The Hit', 'Beverly Hills Chihuahua', 'Spiral', 'The Cool School', 'Dune', \"Long Day's Journey Into Night\", 'The Trip', 'Boiling Point', 'Pathology', 'Untraceable', 'Hot Shots!', 'Shattered', 'Deep Water', 'Julia', 'Halloween', 'After Hours', 'My Girl', 'Class Act', 'Fatal Instinct', 'Fuel', '102 Dalmatians', 'Passengers', 'Scar', 'Bitch Slap', 'Darfur Now', 'The Objective', 'That Championship Season', \"My Best Friend's Girl\", 'Black Irish', 'Powder Blue', 'The Burrowers', 'Shuttle', 'Fame', 'The Lucky Ones', '21', 'Gettysburg', 'The Young Americans', 'Closing Escrow', 'Miss March', 'Randy and the Mob', 'Body Parts', 'Cool World', 'Dream Lover', 'Wild Child', 'Avalon', 'A Star is Born', 'Colors', 'The Long Goodbye', 'Laaga Chunari Mein Daag - Journey of a Woman', 'Saawariya', 'Aaja Nachle', 'Dostana', 'Canvas', 'Avenging Angel', 'The Firm', 'House', 'The Killing Jar', 'White Fang', 'Rab Ne Bana Di Jodi (A Couple Made by God) (A Match Made in Heaven)', 'Blood: The Last Vampire', 'Frankenstein', 'The Perfect Holiday', 'Land of the Lost', 'The Grand', 'Life as We Know It', 'Dead Heat', 'Manhunter', 'Tough Guys', 'Cliffhanger', 'The Road', 'I, the Jury', 'Scanners', 'Badland', 'Paradise', 'Thumbelina', 'The Auteur', 'The Stepfather', 'A Beautiful Life', 'Peter Pan', 'Faust', 'Das Haus der Schlafenden Schönen (House of the Sleeping Beauties)', 'Armed and Dangerous', 'The Chosen', 'Death of a Salesman', 'The Goodbye Girl', 'The Men', 'The Odessa File', 'Suspect', 'A Midnight Clear', 'Unforgiven', 'Guta-yubalja-deul (A Bloody Aria)', 'Bakjwi (Thirst)', 'The Missing Person', 'Look', 'And God Created Woman', 'Ghost', 'Desperate Hours', 'Wind', 'Hard Times', 'Hardcore', 'The Hunter', 'Missing in Action', \"No Man's Land\", 'Out of the Dark', 'Predators', 'Manson, My Name Is Evil', 'The Hammer', 'Shutter', 'Priest', 'Eyewitness', 'Hidden Agenda', \"Trauma (Dario Argento's Trauma)\", 'The Broken', 'Un Conte de Noël (A Christmas Tale)', 'The Manhattan Project', 'The Red Baron (Der rote Baron)', 'Sugar', 'Eaten Alive', 'Galaxy of Terror (Mindwarp: An Infinity of Terror) (Planet of Horrors) (Quest)', 'Lock Up', \"Winter's Bone\", 'Breakout', 'Countdown', 'The Phantom of the Opera', 'Chloe', 'The Pirates of Penzance', 'The Rebound', 'The Kids Are All Right', 'Hawaii', 'Rich and Famous', 'Project X', 'Dogfight', 'Scared Stiff', 'Obsession', 'Year of the Dragon', 'Soul Men', 'Tommy', 'Airborne', 'Notorious', 'Chatham (The Golden Boys)', 'Fandango', '1,000 Times Good Night', 'Silver Streak', 'Rapid Fire', 'Shrink', 'Frankie & Johnny', 'Invaders From Mars', 'The Garden', 'The Fury', 'Splash', 'Gypsy', 'Dinner at Eight', 'A Night at the Opera', \"My Sister's Keeper\", 'The Good Soldier', 'Lucky', 'The Train', 'Skin', 'Damn Yankees', 'Bad Company', 'The Ape', 'How the Grinch Stole Christmas', 'The Long, Hot Summer', 'Mighty Joe Young', 'The Jazz Singer', 'Summer School', 'Last Ride', '100 Bloody Acres', 'The Vanishing', 'The Wild Hunt', 'Broken Hill', 'Suck', 'Assault on Precinct 13', 'Carny', 'Rocky', 'Black Sunday', \"The Belles of St. Trinian's\", 'Calamity Jane', 'The General', 'The King and I', 'Quo Vadis?', 'Scarface', 'Separate Tables', 'Three Blind Mice', 'Strictly Ballroom', 'Pulse', 'Scarecrow', 'La MISSION', 'The Producers', 'The Prowler', 'Sugar Hill', 'Fire and Ice', 'Attack of the 50 Foot Woman', 'M', 'Only When I Laugh', 'Silent Night, Deadly Night', 'The Awakening', 'Babes in Toyland', 'The Miracle Worker', 'The Protector', 'Shaft', 'Der Blaue Engel (The Blue Angel)', 'Brief Encounter', 'Broken Blossoms', 'Gone in 60 Seconds', 'The Omen', 'Marty', 'The Little Drummer Boy', 'The Brotherhood', 'The Love Bug', 'Tre Fratelli (Three Brothers)', 'Suddenly', 'Caught', 'The Harder They Fall', 'House On Haunted Hill', 'Laura', 'The Pit and the Pendulum', 'Savage Messiah', 'The Prisoner', 'Village of the Damned', 'Blackmail', 'Sleeping Beauty', 'The Time Machine', 'The Lodger: A Story of the London Fog', 'Black Christmas', 'A Christmas Story', 'The Unforgiven', 'Le Procès (The Trial)', 'The Black Pirate', 'The Mark of Zorro', 'Svengali', 'Red Dust', 'Return to Oz', 'Simon', 'The Cutting Edge', 'Boomerang', 'Go West', 'Bug', 'The Country Girl', 'Jack and the Beanstalk', 'Duel', 'Gallipoli', 'The Lion in Winter', 'Short Circuit', 'The Mechanic', 'Champion', 'Flipper', 'Gloria', 'The Party', 'Camelot', 'Thirst', 'The Toolbox Murders', 'Girls! Girls! Girls!', 'Our Town', 'Carnival of Souls', 'The Cat and the Canary', 'Indiscreet', \"King Solomon's Mines\", 'The Ladykillers', 'Phantom Of The Opera', 'Rudolph the Red-Nosed Reindeer', 'Shivers (They Came from Within) (The Parasite Murders)', 'Anastasia', 'Deadfall', 'Jack Frost', 'Invaders from Mars', 'College', 'Red Sonja', 'The Dark Mirror', 'Creature from the Black Lagoon', 'It', 'The Stranger', 'Fahrenheit 451', 'Night of the Living Dead', 'Death in Venice', 'Edipo re (Oedipus Rex)', 'Game of Death', 'Dolls', 'Kickboxer', 'Frosty the Snowman', 'Medicine Man', 'Gunmen', 'Spring Break', 'Blind Terror (See No Evil)', 'The Roman Spring of Mrs. Stone', 'A Home of Our Own', 'Ned Kelly (Ned Kelly, Outlaw)', 'Tarzan, the Ape Man', 'The Browning Version', 'The Man in the Moon', 'Promised Land', \"Gulliver's Travels\", 'Heaven & Earth', 'The Guardian', 'Pit and the Pendulum (The Pit and the Pendulum)', 'Homo Faber (Voyager)', 'Sniper', 'The Connection', 'The Black Scorpion', 'Lilies of the Field', 'Neighbors', 'I corpi presentano tracce di violenza carnale (Torso) (Bodies Bear Traces of Carnal Violence)', 'Prom Night', 'Boy Meets Girl (1984)', 'Diabolique (Les Diaboliques)', 'Poison'))"
      ]
     },
     "execution_count": 125,
     "metadata": {},
     "output_type": "execute_result"
    }
   ],
   "source": [
    "G.nodes"
   ]
  },
  {
   "cell_type": "code",
   "execution_count": 136,
   "id": "f16a40ed",
   "metadata": {},
   "outputs": [
    {
     "data": {
      "text/plain": [
       "{'Wanda Sykes'}"
      ]
     },
     "execution_count": 136,
     "metadata": {},
     "output_type": "execute_result"
    }
   ],
   "source": [
    "actors[(mov1,mov2)]"
   ]
  },
  {
   "cell_type": "markdown",
   "id": "ca489299",
   "metadata": {},
   "source": [
    "#### Add the actors set as attributes to each edge"
   ]
  },
  {
   "cell_type": "code",
   "execution_count": 137,
   "id": "f5ab371a",
   "metadata": {},
   "outputs": [],
   "source": [
    "for mov1,mov2 in G.edges:\n",
    "    try:\n",
    "        G[mov1][mov2]['Actors'] = list(actors[(mov1,mov2)])\n",
    "    except:\n",
    "        G[mov1][mov2]['Actors'] = list(actors[(mov2,mov1)])"
   ]
  },
  {
   "cell_type": "code",
   "execution_count": 138,
   "id": "2a1efdbe",
   "metadata": {},
   "outputs": [],
   "source": [
    "data = json_graph.node_link_data(G)\n",
    "# save the data to a JSON file\n",
    "with open('graph.json', 'w') as f:\n",
    "    json.dump(data, f)"
   ]
  },
  {
   "cell_type": "code",
   "execution_count": 139,
   "id": "608ff680",
   "metadata": {},
   "outputs": [],
   "source": [
    "with open('graph.json', 'r') as f:\n",
    "    data = json.load(f)"
   ]
  },
  {
   "cell_type": "code",
   "execution_count": 140,
   "id": "3d5988c7",
   "metadata": {},
   "outputs": [],
   "source": [
    "test = json_graph.node_link_graph(data)"
   ]
  },
  {
   "cell_type": "code",
   "execution_count": 147,
   "id": "f1dc3679",
   "metadata": {},
   "outputs": [
    {
     "data": {
      "text/plain": [
       "16429"
      ]
     },
     "execution_count": 147,
     "metadata": {},
     "output_type": "execute_result"
    }
   ],
   "source": []
  },
  {
   "cell_type": "markdown",
   "id": "c3307e03",
   "metadata": {},
   "source": [
    "### Vizualise with netwulf"
   ]
  },
  {
   "cell_type": "code",
   "execution_count": 146,
   "id": "8f87412d",
   "metadata": {},
   "outputs": [
    {
     "data": {
      "text/plain": [
       "(None, None)"
      ]
     },
     "execution_count": 146,
     "metadata": {},
     "output_type": "execute_result"
    }
   ],
   "source": [
    "# visualize the graph using netwulf\n",
    "netwulf.visualize(G)"
   ]
  },
  {
   "cell_type": "code",
   "execution_count": 114,
   "id": "4ba1a3bd",
   "metadata": {},
   "outputs": [],
   "source": [
    "G = nx.Graph()\n",
    "edge_attrs = {('A', 'B'): {'weight': 2, 'color': 'red'},\n",
    "              ('A', 'C'): {'weight': 1},\n",
    "              ('B', 'C'): {'weight': 3}}\n",
    "G.add_edges_from(edge_attrs)"
   ]
  },
  {
   "cell_type": "code",
   "execution_count": 115,
   "id": "d41364e7",
   "metadata": {},
   "outputs": [
    {
     "data": {
      "text/plain": [
       "<networkx.classes.graph.Graph at 0x7fa2dda18f70>"
      ]
     },
     "execution_count": 115,
     "metadata": {},
     "output_type": "execute_result"
    }
   ],
   "source": [
    "G"
   ]
  },
  {
   "cell_type": "code",
   "execution_count": null,
   "id": "e221e8ef",
   "metadata": {},
   "outputs": [],
   "source": []
  }
 ],
 "metadata": {
  "kernelspec": {
   "display_name": "Python 3 (ipykernel)",
   "language": "python",
   "name": "python3"
  },
  "language_info": {
   "codemirror_mode": {
    "name": "ipython",
    "version": 3
   },
   "file_extension": ".py",
   "mimetype": "text/x-python",
   "name": "python",
   "nbconvert_exporter": "python",
   "pygments_lexer": "ipython3",
   "version": "3.10.9"
  }
 },
 "nbformat": 4,
 "nbformat_minor": 5
}
